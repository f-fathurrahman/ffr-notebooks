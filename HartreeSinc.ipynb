{
 "cells": [
  {
   "cell_type": "markdown",
   "metadata": {},
   "source": [
    "Efficient solution of Poisson's equation using discrete variable representation basis sets for Car-Parrinello *ab initio* molecular dynamics simulations with cluster boundary conditions"
   ]
  },
  {
   "cell_type": "markdown",
   "metadata": {},
   "source": [
    "Normalized sinc-DVR function ${u_{\\alpha}(x)}$\n",
    "$$\n",
    "\\begin{equation}\n",
    "u_{\\alpha}(x) = \\frac{\\sqrt{d}}{\\pi}\n",
    "\\frac{\\sin\\left[\\pi(x-x_{\\alpha})\\right]}{x-x_{\\alpha}}\n",
    "\\end{equation}\n",
    "$$\n",
    "Grid spacing: $d = \\pi\\hbar/p_{0}$"
   ]
  },
  {
   "cell_type": "markdown",
   "metadata": {},
   "source": [
    "Hartree potential:\n",
    "$$\n",
    "\\begin{equation}\n",
    "V_{\\mathrm{H}}(\\mathbf{r}) = \\int \\mathrm{d}\\mathbf{r}\n",
    "\\frac{\\rho(\\mathbf{r}')}{\\left|\\mathbf{r}'-\\mathbf{r}\\right|}\n",
    "\\end{equation}\n",
    "$$"
   ]
  },
  {
   "cell_type": "markdown",
   "metadata": {},
   "source": [
    "The term $1/r$ is rewritten using the following integral expression for $r^{-\\alpha}$:\n",
    "$$\n",
    "\\begin{equation}\n",
    "r^{-\\alpha} = \\frac{2}{\\Gamma(\\alpha/2)}\n",
    "\\int_{-\\infty}^{\\infty} e^{-r^2\\,e^{2y}+ay}\\,\\mathrm{d}y\n",
    "\\end{equation}\n",
    "$$\n",
    "Using change of variable to $t = e^{y}$, the identity become:\n",
    "$$\n",
    "\\begin{equation}\n",
    "r^{-\\alpha} = \\frac{2}{\\Gamma(\\alpha/2)}\n",
    "\\int_{-\\infty}^{\\infty} e^{-r^2 t^{2}}t^{\\alpha-1}\\,\\mathrm{d}y\n",
    "\\end{equation}\n",
    "$$"
   ]
  },
  {
   "cell_type": "markdown",
   "metadata": {},
   "source": [
    "Using the identity above, the equation for Hartree potential can be written as:\n",
    "$$\n",
    "\\begin{equation}\n",
    "V_{\\mathrm{H}}(\\mathbf{r}) =\n",
    "\\frac{2}{\\sqrt{\\pi}}\\int_{0}^{\\infty}\\int\\,\\mathrm{d}\\mathbf{r}'\n",
    "e^{-t^2\\left(\\left| \\mathbf{r}-\\mathbf{r}' \\right|^2\\right)}\n",
    "\\rho(\\mathbf{r}')\n",
    "\\end{equation}\n",
    "$$"
   ]
  },
  {
   "cell_type": "markdown",
   "metadata": {},
   "source": [
    "Using direct product of one-dimensional sinc-DVR functions as\n",
    "$$\n",
    "\\begin{equation}\n",
    "\\rho(\\mathbf{r}) = \\sum_{\\alpha\\beta\\gamma}\n",
    "d_{\\alpha\\beta\\gamma} u_{\\alpha}(x) u_{\\beta}(y) u_{\\gamma}(z)\n",
    "\\end{equation}\n",
    "$$\n",
    "where $d_{\\alpha\\beta\\gamma}$ is a set of expansion coefficients for $\\mathrm{\\rho}(\\mathbf{r})$"
   ]
  },
  {
   "cell_type": "markdown",
   "metadata": {},
   "source": []
  },
  {
   "cell_type": "markdown",
   "metadata": {},
   "source": []
  }
 ],
 "metadata": {
  "kernelspec": {
   "display_name": "Python 3",
   "language": "python",
   "name": "python3"
  },
  "language_info": {
   "codemirror_mode": {
    "name": "ipython",
    "version": 3
   },
   "file_extension": ".py",
   "mimetype": "text/x-python",
   "name": "python",
   "nbconvert_exporter": "python",
   "pygments_lexer": "ipython3",
   "version": "3.6.1"
  }
 },
 "nbformat": 4,
 "nbformat_minor": 2
}
