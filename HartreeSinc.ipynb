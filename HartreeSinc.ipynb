{
 "cells": [
  {
   "cell_type": "markdown",
   "metadata": {},
   "source": [
    "Efficient solution of Poisson's equation using discrete variable representation basis sets for Car-Parrinello *ab initio* molecular dynamics simulations with cluster boundary conditions"
   ]
  },
  {
   "cell_type": "markdown",
   "metadata": {},
   "source": [
    "Normalized sinc-DVR function ${u_{\\alpha}(x)}$\n",
    "$$\n",
    "\\begin{equation}\n",
    "u_{\\alpha}(x) = \\frac{\\sqrt{d}}{\\pi}\n",
    "\\frac{\\sin\\left[\\pi(x-x_{\\alpha})\\right]}{x-x_{\\alpha}}\n",
    "\\end{equation}\n",
    "$$\n",
    "Grid spacing: $d = \\pi\\hbar/p_{0}$"
   ]
  },
  {
   "cell_type": "markdown",
   "metadata": {},
   "source": [
    "Hartree potential:\n",
    "$$\n",
    "\\begin{equation}\n",
    "V_{\\mathrm{H}}(\\mathbf{r}) = \\int \\mathrm{d}\\mathbf{r}\n",
    "\\frac{\\rho(\\mathbf{r}')}{\\left|\\mathbf{r}'-\\mathbf{r}\\right|}\n",
    "\\end{equation}\n",
    "$$"
   ]
  },
  {
   "cell_type": "markdown",
   "metadata": {},
   "source": [
    "The term $1/r$ is rewritten using the following integral expression for $r^{-\\alpha}$:\n",
    "$$\n",
    "\\begin{equation}\n",
    "r^{-\\alpha} = \\frac{2}{\\Gamma(\\alpha/2)}\n",
    "\\int_{-\\infty}^{\\infty} e^{-r^2\\,e^{2y}+ay}\\,\\mathrm{d}y\n",
    "\\end{equation}\n",
    "$$\n",
    "Using change of variable to $t = e^{y}$, the identity become:\n",
    "$$\n",
    "\\begin{equation}\n",
    "r^{-\\alpha} = \\frac{2}{\\Gamma(\\alpha/2)}\n",
    "\\int_{0}^{\\infty} e^{-r^2 t^{2}}t^{\\alpha-1}\\,\\mathrm{d}y\n",
    "\\end{equation}\n",
    "$$\n",
    "For $\\alpha = 1$:\n",
    "$$\n",
    "\\begin{equation}\n",
    "\\frac{1}{r} = \\frac{2}{\\sqrt{\\pi}}\n",
    "\\int_{0}^{\\infty} e^{-r^2 t^{2}}\\,\\mathrm{d}y\n",
    "\\end{equation}\n",
    "$$"
   ]
  },
  {
   "cell_type": "markdown",
   "metadata": {},
   "source": [
    "Using the identity above, the equation for Hartree potential can be written as:\n",
    "$$\n",
    "\\begin{equation}\n",
    "V_{\\mathrm{H}}(\\mathbf{r}) =\n",
    "\\frac{2}{\\sqrt{\\pi}}\\int_{0}^{\\infty}\\int\\,\\mathrm{d}\\mathbf{r}'\n",
    "e^{-t^2\\left(\\left| \\mathbf{r}-\\mathbf{r}' \\right|^2\\right)}\n",
    "\\rho(\\mathbf{r}')\n",
    "\\end{equation}\n",
    "$$"
   ]
  },
  {
   "cell_type": "markdown",
   "metadata": {},
   "source": [
    "Using direct product of one-dimensional sinc-DVR functions as\n",
    "$$\n",
    "\\begin{equation}\n",
    "\\rho(\\mathbf{r}) = \\sum_{\\alpha\\beta\\gamma}\n",
    "d_{\\alpha\\beta\\gamma} u_{\\alpha}(x) u_{\\beta}(y) u_{\\gamma}(z)\n",
    "\\end{equation}\n",
    "$$\n",
    "where $d_{\\alpha\\beta\\gamma}$ is a set of expansion coefficients for $\\mathrm{\\rho}(\\mathbf{r})$"
   ]
  },
  {
   "cell_type": "markdown",
   "metadata": {},
   "source": [
    "# Testing identity"
   ]
  },
  {
   "cell_type": "markdown",
   "metadata": {},
   "source": [
    "Test the identity:\n",
    "$$\n",
    "\\begin{equation}\n",
    "\\frac{1}{r} = \\frac{2}{\\sqrt{\\pi}}\n",
    "\\int_{0}^{\\infty} e^{-r^2 t^{2}}\\,\\mathrm{d}y\n",
    "\\end{equation}\n",
    "$$"
   ]
  },
  {
   "cell_type": "code",
   "execution_count": 1,
   "metadata": {},
   "outputs": [
    {
     "data": {
      "text/plain": [
       "([-0.973907, -0.865063, -0.67941, -0.433395, -0.148874, 0.148874, 0.433395, 0.67941, 0.865063, 0.973907], [0.0666713, 0.149451, 0.219086, 0.269267, 0.295524, 0.295524, 0.269267, 0.219086, 0.149451, 0.0666713])"
      ]
     },
     "execution_count": 1,
     "metadata": {},
     "output_type": "execute_result"
    }
   ],
   "source": [
    "using FastGaussQuadrature\n",
    "x, w = gausslegendre(10)"
   ]
  },
  {
   "cell_type": "code",
   "execution_count": 9,
   "metadata": {},
   "outputs": [
    {
     "data": {
      "text/plain": [
       "t_sampling (generic function with 1 method)"
      ]
     },
     "execution_count": 9,
     "metadata": {},
     "output_type": "execute_result"
    }
   ],
   "source": [
    "# Given the lower and upper limits of integration x1 and x2, and given n, this routine returns\n",
    "# arrays x[1..n] and w[1..n] of length n, containing the abscissas and weights of the Gauss-\n",
    "# Legendre n-point quadrature formula.\n",
    "function gauleg( x1::Float64, x2::Float64, n::Int64)\n",
    "    EPS = 3.0E-11 # Relative precision\n",
    "    # int m, j, i;\n",
    "    # double z1, z, xm, xl, pp, p3, p2, p1; // High precision is a good idea for this routine.\n",
    "    # Output\n",
    "    x = Array{Float64}(n)\n",
    "    w = Array{Float64}(n)\n",
    "    m = round( Int64, (n + 1)/2 )      # The roots are symmetric in the interval, so\n",
    "    xm = 0.5*(x2 + x1) # we only have to find half of them.\n",
    "    xl = 0.5*(x2 - x1)\n",
    "    z1 = 100.0  # some initial number to get the while loop enter the first time\n",
    "    pp = 0.0    # make pp visible outside for loop\n",
    "    for i = 1:m # Loop over the desired roots.\n",
    "        z = cos( pi*(i-0.25)/(n+0.5) )\n",
    "        # Starting with the above approximation to the ith root, we enter the main loop of\n",
    "        # refinement by Newton’s method.\n",
    "        while abs(z-z1) > EPS\n",
    "            p1 = 1.0;\n",
    "            p2 = 0.0;\n",
    "            for j=1:n # Loop up the recurrence relation to get the\n",
    "                p3 = p2       # Legendre polynomial evaluated at z.\n",
    "                p2 = p1\n",
    "                p1 = ( (2.0*j-1.0)*z*p2-(j-1.0)*p3)/j\n",
    "            end\n",
    "            # p1 is now the desired Legendre polynomial. We next compute pp, its derivative,\n",
    "            # by a standard relation involving also p2, the polynomial of one lower order.\n",
    "            pp = n*(z*p1-p2)/(z*z-1.0)\n",
    "            z1 = z\n",
    "            z  = z1 - p1/pp # Newton’s method.\n",
    "        end # while\n",
    "        #\n",
    "        x[i] = xm - xl*z;                  # Scale the root to the desired interval,\n",
    "        x[n-i+1] = xm + xl*z;              # and put in its symmetric counterpart.\n",
    "        w[i] = 2.0*xl/((1.0-z*z)*pp*pp) # Compute the weight\n",
    "        w[n-i+1] = w[i]                 # and its symmetric counterpart.\n",
    "    end\n",
    "  return x, w\n",
    "end\n",
    "function t_sampling( num_points1::Int64, num_points2::Int64,\n",
    "                     t_i::Float64, t_l::Float64, t_f::Float64 )\n",
    "    # New method by Sundholm (JCP 132, 024102, 2010).\n",
    "    # Within two-divided regions ([t_i,t_l], [t_l,t_f]),\n",
    "    # num_points1, num_points2 quadrature points are made, respectively.\n",
    "    t_values = Array{Float64}(num_points1 + num_points2)\n",
    "    w_t = Array{Float64}(num_points1 + num_points2)\n",
    "    # Linear coord region:  [t_i, t_l]\n",
    "    x_leg, w_leg = gauleg(t_i, t_l, num_points1);\n",
    "    for j=1:num_points1\n",
    "        t_values[j] = x_leg[j]\n",
    "        w_t[j]      = w_leg[j]*2.0/sqrt(pi)\n",
    "    end\n",
    "    # Logarithmic coord region: [t_l, t_f]\n",
    "    x_leg, w_leg = gauleg( log(t_l), log(t_f), num_points2)\n",
    "    # Return the log-coord-partitioned points back to linear t-space.\n",
    "    s_p = 0.0\n",
    "    w_p = 0.0\n",
    "    for j=1:num_points2\n",
    "        s_p = x_leg[j]\n",
    "        w_p = w_leg[j]\n",
    "        x_leg[j] = exp(s_p)\n",
    "        w_leg[j] = w_p * exp(s_p)\n",
    "    end\n",
    "    for j=1:num_points2\n",
    "        t_values[num_points1+j] = x_leg[j]\n",
    "        w_t[num_points1+j] = w_leg[j]*2.0/sqrt(pi)\n",
    "    end\n",
    "    return t_values, w_t\n",
    "end\n"
   ]
  },
  {
   "cell_type": "code",
   "execution_count": 3,
   "metadata": {},
   "outputs": [
    {
     "data": {
      "text/plain": [
       "integrand (generic function with 1 method)"
      ]
     },
     "execution_count": 3,
     "metadata": {},
     "output_type": "execute_result"
    }
   ],
   "source": [
    "function integrand(t, r)\n",
    "    return exp(-t^2 * r^2)\n",
    "end"
   ]
  },
  {
   "cell_type": "markdown",
   "metadata": {},
   "source": [
    "Using the approach given in `HeterogeneousHartree` by SungHwan Choi"
   ]
  },
  {
   "cell_type": "code",
   "execution_count": 38,
   "metadata": {},
   "outputs": [
    {
     "name": "stdout",
     "output_type": "stream",
     "text": [
      "integral =       0.1000000000"
     ]
    }
   ],
   "source": [
    "num_points1 = 50\n",
    "num_points2 = 100\n",
    "NptsInteg = num_points1 + num_points2\n",
    "t_i = 0.0\n",
    "t_l = 1.0\n",
    "t_f = 10000.0\n",
    "t, w = t_sampling( num_points1, num_points2, t_i, t_l, t_f)\n",
    "ss = 0.0\n",
    "r = 10.0\n",
    "for i = 1:NptsInteg\n",
    "    ss = ss + w[i]*integrand(t[i], r)\n",
    "end\n",
    "@printf(\"integral = %18.10f\", ss)"
   ]
  },
  {
   "cell_type": "markdown",
   "metadata": {},
   "source": [
    "Using the usual Gaussian integration (without using logaritmic grid)"
   ]
  },
  {
   "cell_type": "code",
   "execution_count": 36,
   "metadata": {},
   "outputs": [
    {
     "name": "stdout",
     "output_type": "stream",
     "text": [
      "integral =       0.1198197804"
     ]
    }
   ],
   "source": [
    "NptsInteg = 500\n",
    "t_i = 0.0\n",
    "t_f = 10000.0\n",
    "t, w = gauleg( t_i, t_f, NptsInteg )\n",
    "ss = 0.0\n",
    "r = 10.0\n",
    "for i = 1:NptsInteg\n",
    "    ss = ss + w[i]*integrand(t[i], r)\n",
    "end\n",
    "@printf(\"integral = %18.10f\", ss*2.0/sqrt(pi))"
   ]
  },
  {
   "cell_type": "markdown",
   "metadata": {},
   "source": []
  },
  {
   "cell_type": "markdown",
   "metadata": {},
   "source": []
  },
  {
   "cell_type": "markdown",
   "metadata": {},
   "source": []
  }
 ],
 "metadata": {
  "kernelspec": {
   "display_name": "Julia 0.6.0",
   "language": "julia",
   "name": "julia-0.6"
  },
  "language_info": {
   "file_extension": ".jl",
   "mimetype": "application/julia",
   "name": "julia",
   "version": "0.6.0"
  }
 },
 "nbformat": 4,
 "nbformat_minor": 2
}
