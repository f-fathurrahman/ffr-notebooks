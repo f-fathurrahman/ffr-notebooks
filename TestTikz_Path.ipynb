{
 "cells": [
  {
   "cell_type": "markdown",
   "metadata": {},
   "source": [
    "<h1 style=\"text-align: center;\">Tikz Path</h1>"
   ]
  },
  {
   "cell_type": "markdown",
   "metadata": {},
   "source": [
    "# Load tikzmagic extension"
   ]
  },
  {
   "cell_type": "code",
   "execution_count": 1,
   "metadata": {},
   "outputs": [],
   "source": [
    "%load_ext tikzmagic"
   ]
  },
  {
   "cell_type": "markdown",
   "metadata": {},
   "source": [
    "A path is a series of straight and curved line segments. It is specified following a `\\path` command and the\n",
    "specification must follow a special syntax."
   ]
  },
  {
   "cell_type": "markdown",
   "metadata": {
    "heading_collapsed": true
   },
   "source": [
    "# Example spec"
   ]
  },
  {
   "cell_type": "code",
   "execution_count": 3,
   "metadata": {
    "hidden": true
   },
   "outputs": [
    {
     "data": {
      "image/svg+xml": [
       "<svg height=\"240px\" version=\"1.1\" viewBox=\"0 0 85.438 28.745\" width=\"400px\" xmlns=\"http://www.w3.org/2000/svg\" xmlns:xlink=\"http://www.w3.org/1999/xlink\">\n",
       "<defs>\n",
       "<clipPath id=\"clip1\">\n",
       "  <path d=\"M 0 0 L 85.4375 0 L 85.4375 28.746094 L 0 28.746094 Z M 0 0 \"/>\n",
       "</clipPath>\n",
       "</defs>\n",
       "<g id=\"surface1\">\n",
       "<g clip-path=\"url(#clip1)\" clip-rule=\"nonzero\">\n",
       "<path d=\"M 0.00021875 -0.000875 L 28.347875 28.346781 L 53.875219 2.819437 C 55.433813 1.260844 57.953344 1.260844 59.511938 2.819437 L 82.222875 25.530375 C 83.777563 27.085062 85.039281 26.561625 85.039281 24.362406 L 85.039281 -0.000875 L 56.695531 28.346781 \" style=\"fill:none;stroke-width:0.3985;stroke-linecap:butt;stroke-linejoin:miter;stroke:rgb(0%,0%,0%);stroke-opacity:1;stroke-miterlimit:10;\" transform=\"matrix(1,0,0,-1,0.199,28.546)\"/>\n",
       "</g>\n",
       "</g>\n",
       "</svg>"
      ]
     },
     "metadata": {
      "isolated": "true"
     },
     "output_type": "display_data"
    }
   ],
   "source": [
    "%%tikz -f svg\n",
    "\n",
    "\\draw (0,0) -- (1,1)\n",
    "[rounded corners] -- (2,0) -- (3,1)\n",
    "[sharp corners] -- (3,0) -- (2,1);"
   ]
  },
  {
   "cell_type": "markdown",
   "metadata": {
    "hidden": true
   },
   "source": [
    "Using scoping by using curly braces."
   ]
  },
  {
   "cell_type": "code",
   "execution_count": 4,
   "metadata": {
    "hidden": true
   },
   "outputs": [
    {
     "data": {
      "image/svg+xml": [
       "<svg height=\"240px\" version=\"1.1\" viewBox=\"0 0 85.438 28.745\" width=\"400px\" xmlns=\"http://www.w3.org/2000/svg\" xmlns:xlink=\"http://www.w3.org/1999/xlink\">\n",
       "<defs>\n",
       "<clipPath id=\"clip1\">\n",
       "  <path d=\"M 0 0 L 85.4375 0 L 85.4375 28.746094 L 0 28.746094 Z M 0 0 \"/>\n",
       "</clipPath>\n",
       "</defs>\n",
       "<g id=\"surface1\">\n",
       "<g clip-path=\"url(#clip1)\" clip-rule=\"nonzero\">\n",
       "<path d=\"M 0.00021875 -0.000875 L 28.347875 28.346781 L 53.875219 2.819437 C 55.433813 1.260844 57.953344 1.260844 59.511938 2.819437 L 82.222875 25.530375 C 83.777563 27.085062 85.039281 26.561625 85.039281 24.362406 L 85.039281 -0.000875 L 56.695531 28.346781 \" style=\"fill:none;stroke-width:0.3985;stroke-linecap:butt;stroke-linejoin:miter;stroke:rgb(0%,0%,0%);stroke-opacity:1;stroke-miterlimit:10;\" transform=\"matrix(1,0,0,-1,0.199,28.546)\"/>\n",
       "</g>\n",
       "</g>\n",
       "</svg>"
      ]
     },
     "metadata": {
      "isolated": "true"
     },
     "output_type": "display_data"
    }
   ],
   "source": [
    "%%tikz -f svg\n",
    "\n",
    "\\draw (0,0) -- (1,1)\n",
    "{[rounded corners] -- (2,0) -- (3,1)}\n",
    "[sharp corners] -- (3,0) -- (2,1);"
   ]
  },
  {
   "cell_type": "markdown",
   "metadata": {
    "hidden": true
   },
   "source": [
    "Some options only apply to the path as a whole. For example, the `color=` option for determining the color used for, say, drawing the path always applies to all parts of the path. If several different colors are given for different parts of the path, only the last one (on the outermost scope) \"wins\":"
   ]
  },
  {
   "cell_type": "code",
   "execution_count": 5,
   "metadata": {
    "hidden": true
   },
   "outputs": [
    {
     "data": {
      "image/svg+xml": [
       "<svg height=\"240px\" version=\"1.1\" viewBox=\"0 0 85.438 28.745\" width=\"400px\" xmlns=\"http://www.w3.org/2000/svg\" xmlns:xlink=\"http://www.w3.org/1999/xlink\">\n",
       "<defs>\n",
       "<clipPath id=\"clip1\">\n",
       "  <path d=\"M 0 0 L 85.4375 0 L 85.4375 28.746094 L 0 28.746094 Z M 0 0 \"/>\n",
       "</clipPath>\n",
       "</defs>\n",
       "<g id=\"surface1\">\n",
       "<g clip-path=\"url(#clip1)\" clip-rule=\"nonzero\">\n",
       "<path d=\"M 0.00021875 -0.000875 L 28.347875 28.346781 L 56.695531 -0.000875 L 85.039281 28.346781 L 85.039281 -0.000875 L 56.695531 28.346781 \" style=\"fill:none;stroke-width:0.3985;stroke-linecap:butt;stroke-linejoin:miter;stroke:rgb(0%,0%,100%);stroke-opacity:1;stroke-miterlimit:10;\" transform=\"matrix(1,0,0,-1,0.199,28.546)\"/>\n",
       "</g>\n",
       "</g>\n",
       "</svg>"
      ]
     },
     "metadata": {
      "isolated": "true"
     },
     "output_type": "display_data"
    }
   ],
   "source": [
    "%%tikz -f svg\n",
    "\n",
    "\\draw (0,0) -- (1,1)\n",
    "[color=red] -- (2,0) -- (3,1)\n",
    "[color=blue] -- (3,0) -- (2,1);"
   ]
  },
  {
   "cell_type": "markdown",
   "metadata": {
    "hidden": true
   },
   "source": [
    "Most options are of this type. In the above example, we would have had to \"split up\" the path into\n",
    "several `\\path` commands:"
   ]
  },
  {
   "cell_type": "code",
   "execution_count": 6,
   "metadata": {
    "hidden": true
   },
   "outputs": [
    {
     "data": {
      "image/svg+xml": [
       "<svg height=\"240px\" version=\"1.1\" viewBox=\"0 0 85.438 28.745\" width=\"400px\" xmlns=\"http://www.w3.org/2000/svg\" xmlns:xlink=\"http://www.w3.org/1999/xlink\">\n",
       "<defs>\n",
       "<clipPath id=\"clip1\">\n",
       "  <path d=\"M 0 0 L 35 0 L 35 28.746094 L 0 28.746094 Z M 0 0 \"/>\n",
       "</clipPath>\n",
       "<clipPath id=\"clip2\">\n",
       "  <path d=\"M 51 0 L 85.4375 0 L 85.4375 28.746094 L 51 28.746094 Z M 51 0 \"/>\n",
       "</clipPath>\n",
       "</defs>\n",
       "<g id=\"surface1\">\n",
       "<g clip-path=\"url(#clip1)\" clip-rule=\"nonzero\">\n",
       "<path d=\"M 0.00021875 -0.000875 L 28.347875 28.346781 \" style=\"fill:none;stroke-width:0.3985;stroke-linecap:butt;stroke-linejoin:miter;stroke:rgb(0%,0%,0%);stroke-opacity:1;stroke-miterlimit:10;\" transform=\"matrix(1,0,0,-1,0.199,28.546)\"/>\n",
       "</g>\n",
       "<g clip-path=\"url(#clip2)\" clip-rule=\"nonzero\">\n",
       "<path d=\"M 56.695531 -0.000875 L 85.039281 28.346781 \" style=\"fill:none;stroke-width:0.3985;stroke-linecap:butt;stroke-linejoin:miter;stroke:rgb(100%,0%,0%);stroke-opacity:1;stroke-miterlimit:10;\" transform=\"matrix(1,0,0,-1,0.199,28.546)\"/>\n",
       "<path d=\"M 85.039281 -0.000875 L 56.695531 28.346781 \" style=\"fill:none;stroke-width:0.3985;stroke-linecap:butt;stroke-linejoin:miter;stroke:rgb(0%,0%,100%);stroke-opacity:1;stroke-miterlimit:10;\" transform=\"matrix(1,0,0,-1,0.199,28.546)\"/>\n",
       "</g>\n",
       "</g>\n",
       "</svg>"
      ]
     },
     "metadata": {
      "isolated": "true"
     },
     "output_type": "display_data"
    }
   ],
   "source": [
    "%%tikz -f svg\n",
    "\\draw (0,0) -- (1,1);\n",
    "\\draw [color=red] (2,0) -- (3,1);\n",
    "\\draw [color=blue] (3,0) -- (2,1);"
   ]
  },
  {
   "cell_type": "markdown",
   "metadata": {
    "hidden": true
   },
   "source": [
    "- By default, the \\path command does \"nothing\" with the path, it just \"throws it away.\"\n",
    "\n",
    "- Thus, if you write `\\path(0,0)--(1,1);`, nothing is drawn in your picture.\n",
    "  The only effect is that the area occupied by the picture is (possibly) enlarged so\n",
    "  that the path fits inside the area.\n",
    "\n",
    "- To actually \"do\" something with the path, an option like draw or fill must be given somewhere on the path.\n",
    "  Commands like `\\draw` do this implicitly."
   ]
  },
  {
   "cell_type": "markdown",
   "metadata": {
    "hidden": true
   },
   "source": [
    "Finally, it is also possible to give node specifications on a path. Such specifications can come at different\n",
    "locations, but they are always allowed when a normal path operation could follow. A node specification\n",
    "starts with node. Basically, the effect is to typeset the node's text as normal TEX text and to place it\n",
    "at the \"current location\" on the path."
   ]
  },
  {
   "cell_type": "markdown",
   "metadata": {
    "hidden": true
   },
   "source": [
    "Note, however, that the nodes are not part of the path in any way. Rather, after everything has been\n",
    "done with the path what is specified by the path options (like filling and drawing the path due to a fill\n",
    "and a draw option somewhere in the `<specification>`), the nodes are added in a post-processing step."
   ]
  },
  {
   "cell_type": "markdown",
   "metadata": {
    "heading_collapsed": true
   },
   "source": [
    "# Every path"
   ]
  },
  {
   "cell_type": "code",
   "execution_count": 7,
   "metadata": {
    "hidden": true
   },
   "outputs": [
    {
     "data": {
      "image/svg+xml": [
       "<svg height=\"240px\" version=\"1.1\" viewBox=\"0 0 85.438 28.745\" width=\"400px\" xmlns=\"http://www.w3.org/2000/svg\" xmlns:xlink=\"http://www.w3.org/1999/xlink\">\n",
       "<defs>\n",
       "<clipPath id=\"clip1\">\n",
       "  <path d=\"M 0 0 L 29 0 L 29 28.746094 L 0 28.746094 Z M 0 0 \"/>\n",
       "</clipPath>\n",
       "<clipPath id=\"clip2\">\n",
       "  <path d=\"M 57.089844 0 L 85.4375 0 L 85.4375 28 L 57.089844 28 Z M 57.089844 0 \"/>\n",
       "</clipPath>\n",
       "<linearGradient gradientTransform=\"matrix(0.567,0,0,-0.567,42.915,42.52261)\" gradientUnits=\"userSpaceOnUse\" id=\"linear0\" x1=\"0\" x2=\"0\" y1=\"25.00284\" y2=\"74.995785\">\n",
       "<stop offset=\"0\" style=\"stop-color:rgb(99.996948%,99.996948%,99.996948%);stop-opacity:1;\"/>\n",
       "<stop offset=\"0.0078125\" style=\"stop-color:rgb(99.801636%,99.801636%,99.801636%);stop-opacity:1;\"/>\n",
       "<stop offset=\"0.015625\" style=\"stop-color:rgb(99.411011%,99.411011%,99.411011%);stop-opacity:1;\"/>\n",
       "<stop offset=\"0.0234375\" style=\"stop-color:rgb(99.020386%,99.020386%,99.020386%);stop-opacity:1;\"/>\n",
       "<stop offset=\"0.03125\" style=\"stop-color:rgb(98.629761%,98.629761%,98.629761%);stop-opacity:1;\"/>\n",
       "<stop offset=\"0.0390625\" style=\"stop-color:rgb(98.239136%,98.239136%,98.239136%);stop-opacity:1;\"/>\n",
       "<stop offset=\"0.046875\" style=\"stop-color:rgb(97.848511%,97.848511%,97.848511%);stop-opacity:1;\"/>\n",
       "<stop offset=\"0.0546875\" style=\"stop-color:rgb(97.457886%,97.457886%,97.457886%);stop-opacity:1;\"/>\n",
       "<stop offset=\"0.0625\" style=\"stop-color:rgb(97.067261%,97.067261%,97.067261%);stop-opacity:1;\"/>\n",
       "<stop offset=\"0.0703125\" style=\"stop-color:rgb(96.676636%,96.676636%,96.676636%);stop-opacity:1;\"/>\n",
       "<stop offset=\"0.078125\" style=\"stop-color:rgb(96.286011%,96.286011%,96.286011%);stop-opacity:1;\"/>\n",
       "<stop offset=\"0.0859375\" style=\"stop-color:rgb(95.895386%,95.895386%,95.895386%);stop-opacity:1;\"/>\n",
       "<stop offset=\"0.09375\" style=\"stop-color:rgb(95.504761%,95.504761%,95.504761%);stop-opacity:1;\"/>\n",
       "<stop offset=\"0.101562\" style=\"stop-color:rgb(95.114136%,95.114136%,95.114136%);stop-opacity:1;\"/>\n",
       "<stop offset=\"0.109375\" style=\"stop-color:rgb(94.723511%,94.723511%,94.723511%);stop-opacity:1;\"/>\n",
       "<stop offset=\"0.117188\" style=\"stop-color:rgb(94.332886%,94.332886%,94.332886%);stop-opacity:1;\"/>\n",
       "<stop offset=\"0.125\" style=\"stop-color:rgb(93.942261%,93.942261%,93.942261%);stop-opacity:1;\"/>\n",
       "<stop offset=\"0.132812\" style=\"stop-color:rgb(93.551636%,93.551636%,93.551636%);stop-opacity:1;\"/>\n",
       "<stop offset=\"0.140625\" style=\"stop-color:rgb(93.162537%,93.162537%,93.162537%);stop-opacity:1;\"/>\n",
       "<stop offset=\"0.148438\" style=\"stop-color:rgb(92.771912%,92.771912%,92.771912%);stop-opacity:1;\"/>\n",
       "<stop offset=\"0.15625\" style=\"stop-color:rgb(92.381287%,92.381287%,92.381287%);stop-opacity:1;\"/>\n",
       "<stop offset=\"0.164062\" style=\"stop-color:rgb(91.990662%,91.990662%,91.990662%);stop-opacity:1;\"/>\n",
       "<stop offset=\"0.171875\" style=\"stop-color:rgb(91.600037%,91.600037%,91.600037%);stop-opacity:1;\"/>\n",
       "<stop offset=\"0.179688\" style=\"stop-color:rgb(91.209412%,91.209412%,91.209412%);stop-opacity:1;\"/>\n",
       "<stop offset=\"0.1875\" style=\"stop-color:rgb(90.818787%,90.818787%,90.818787%);stop-opacity:1;\"/>\n",
       "<stop offset=\"0.195313\" style=\"stop-color:rgb(90.428162%,90.428162%,90.428162%);stop-opacity:1;\"/>\n",
       "<stop offset=\"0.203125\" style=\"stop-color:rgb(90.037537%,90.037537%,90.037537%);stop-opacity:1;\"/>\n",
       "<stop offset=\"0.210938\" style=\"stop-color:rgb(89.646912%,89.646912%,89.646912%);stop-opacity:1;\"/>\n",
       "<stop offset=\"0.21875\" style=\"stop-color:rgb(89.256287%,89.256287%,89.256287%);stop-opacity:1;\"/>\n",
       "<stop offset=\"0.226563\" style=\"stop-color:rgb(88.865662%,88.865662%,88.865662%);stop-opacity:1;\"/>\n",
       "<stop offset=\"0.234375\" style=\"stop-color:rgb(88.475037%,88.475037%,88.475037%);stop-opacity:1;\"/>\n",
       "<stop offset=\"0.242188\" style=\"stop-color:rgb(88.084412%,88.084412%,88.084412%);stop-opacity:1;\"/>\n",
       "<stop offset=\"0.25\" style=\"stop-color:rgb(87.693787%,87.693787%,87.693787%);stop-opacity:1;\"/>\n",
       "<stop offset=\"0.257812\" style=\"stop-color:rgb(87.303162%,87.303162%,87.303162%);stop-opacity:1;\"/>\n",
       "<stop offset=\"0.265625\" style=\"stop-color:rgb(86.912537%,86.912537%,86.912537%);stop-opacity:1;\"/>\n",
       "<stop offset=\"0.273438\" style=\"stop-color:rgb(86.521912%,86.521912%,86.521912%);stop-opacity:1;\"/>\n",
       "<stop offset=\"0.28125\" style=\"stop-color:rgb(86.131287%,86.131287%,86.131287%);stop-opacity:1;\"/>\n",
       "<stop offset=\"0.289062\" style=\"stop-color:rgb(85.740662%,85.740662%,85.740662%);stop-opacity:1;\"/>\n",
       "<stop offset=\"0.296875\" style=\"stop-color:rgb(85.350037%,85.350037%,85.350037%);stop-opacity:1;\"/>\n",
       "<stop offset=\"0.304688\" style=\"stop-color:rgb(84.959412%,84.959412%,84.959412%);stop-opacity:1;\"/>\n",
       "<stop offset=\"0.3125\" style=\"stop-color:rgb(84.568787%,84.568787%,84.568787%);stop-opacity:1;\"/>\n",
       "<stop offset=\"0.320312\" style=\"stop-color:rgb(84.178162%,84.178162%,84.178162%);stop-opacity:1;\"/>\n",
       "<stop offset=\"0.328125\" style=\"stop-color:rgb(83.787537%,83.787537%,83.787537%);stop-opacity:1;\"/>\n",
       "<stop offset=\"0.335938\" style=\"stop-color:rgb(83.398438%,83.398438%,83.398438%);stop-opacity:1;\"/>\n",
       "<stop offset=\"0.34375\" style=\"stop-color:rgb(83.007812%,83.007812%,83.007812%);stop-opacity:1;\"/>\n",
       "<stop offset=\"0.351563\" style=\"stop-color:rgb(82.617188%,82.617188%,82.617188%);stop-opacity:1;\"/>\n",
       "<stop offset=\"0.359375\" style=\"stop-color:rgb(82.226562%,82.226562%,82.226562%);stop-opacity:1;\"/>\n",
       "<stop offset=\"0.367188\" style=\"stop-color:rgb(81.835938%,81.835938%,81.835938%);stop-opacity:1;\"/>\n",
       "<stop offset=\"0.375\" style=\"stop-color:rgb(81.445312%,81.445312%,81.445312%);stop-opacity:1;\"/>\n",
       "<stop offset=\"0.382813\" style=\"stop-color:rgb(81.054688%,81.054688%,81.054688%);stop-opacity:1;\"/>\n",
       "<stop offset=\"0.390625\" style=\"stop-color:rgb(80.664062%,80.664062%,80.664062%);stop-opacity:1;\"/>\n",
       "<stop offset=\"0.398438\" style=\"stop-color:rgb(80.273438%,80.273438%,80.273438%);stop-opacity:1;\"/>\n",
       "<stop offset=\"0.40625\" style=\"stop-color:rgb(79.882812%,79.882812%,79.882812%);stop-opacity:1;\"/>\n",
       "<stop offset=\"0.414063\" style=\"stop-color:rgb(79.492188%,79.492188%,79.492188%);stop-opacity:1;\"/>\n",
       "<stop offset=\"0.421875\" style=\"stop-color:rgb(79.101562%,79.101562%,79.101562%);stop-opacity:1;\"/>\n",
       "<stop offset=\"0.429688\" style=\"stop-color:rgb(78.710938%,78.710938%,78.710938%);stop-opacity:1;\"/>\n",
       "<stop offset=\"0.4375\" style=\"stop-color:rgb(78.320312%,78.320312%,78.320312%);stop-opacity:1;\"/>\n",
       "<stop offset=\"0.445313\" style=\"stop-color:rgb(77.929688%,77.929688%,77.929688%);stop-opacity:1;\"/>\n",
       "<stop offset=\"0.453125\" style=\"stop-color:rgb(77.539062%,77.539062%,77.539062%);stop-opacity:1;\"/>\n",
       "<stop offset=\"0.460938\" style=\"stop-color:rgb(77.148438%,77.148438%,77.148438%);stop-opacity:1;\"/>\n",
       "<stop offset=\"0.46875\" style=\"stop-color:rgb(76.757812%,76.757812%,76.757812%);stop-opacity:1;\"/>\n",
       "<stop offset=\"0.476562\" style=\"stop-color:rgb(76.367188%,76.367188%,76.367188%);stop-opacity:1;\"/>\n",
       "<stop offset=\"0.484375\" style=\"stop-color:rgb(75.976562%,75.976562%,75.976562%);stop-opacity:1;\"/>\n",
       "<stop offset=\"0.492188\" style=\"stop-color:rgb(75.585938%,75.585938%,75.585938%);stop-opacity:1;\"/>\n",
       "<stop offset=\"0.5\" style=\"stop-color:rgb(75.195312%,75.195312%,75.195312%);stop-opacity:1;\"/>\n",
       "<stop offset=\"0.507813\" style=\"stop-color:rgb(74.804688%,74.804688%,74.804688%);stop-opacity:1;\"/>\n",
       "<stop offset=\"0.515625\" style=\"stop-color:rgb(74.414062%,74.414062%,74.414062%);stop-opacity:1;\"/>\n",
       "<stop offset=\"0.523438\" style=\"stop-color:rgb(74.023438%,74.023438%,74.023438%);stop-opacity:1;\"/>\n",
       "<stop offset=\"0.53125\" style=\"stop-color:rgb(73.632812%,73.632812%,73.632812%);stop-opacity:1;\"/>\n",
       "<stop offset=\"0.539062\" style=\"stop-color:rgb(73.243713%,73.243713%,73.243713%);stop-opacity:1;\"/>\n",
       "<stop offset=\"0.546875\" style=\"stop-color:rgb(72.853088%,72.853088%,72.853088%);stop-opacity:1;\"/>\n",
       "<stop offset=\"0.554688\" style=\"stop-color:rgb(72.462463%,72.462463%,72.462463%);stop-opacity:1;\"/>\n",
       "<stop offset=\"0.5625\" style=\"stop-color:rgb(72.071838%,72.071838%,72.071838%);stop-opacity:1;\"/>\n",
       "<stop offset=\"0.570313\" style=\"stop-color:rgb(71.681213%,71.681213%,71.681213%);stop-opacity:1;\"/>\n",
       "<stop offset=\"0.578125\" style=\"stop-color:rgb(71.290588%,71.290588%,71.290588%);stop-opacity:1;\"/>\n",
       "<stop offset=\"0.585938\" style=\"stop-color:rgb(70.899963%,70.899963%,70.899963%);stop-opacity:1;\"/>\n",
       "<stop offset=\"0.59375\" style=\"stop-color:rgb(70.509338%,70.509338%,70.509338%);stop-opacity:1;\"/>\n",
       "<stop offset=\"0.601563\" style=\"stop-color:rgb(70.118713%,70.118713%,70.118713%);stop-opacity:1;\"/>\n",
       "<stop offset=\"0.609375\" style=\"stop-color:rgb(69.728088%,69.728088%,69.728088%);stop-opacity:1;\"/>\n",
       "<stop offset=\"0.617188\" style=\"stop-color:rgb(69.337463%,69.337463%,69.337463%);stop-opacity:1;\"/>\n",
       "<stop offset=\"0.625\" style=\"stop-color:rgb(68.946838%,68.946838%,68.946838%);stop-opacity:1;\"/>\n",
       "<stop offset=\"0.632813\" style=\"stop-color:rgb(68.556213%,68.556213%,68.556213%);stop-opacity:1;\"/>\n",
       "<stop offset=\"0.640625\" style=\"stop-color:rgb(68.165588%,68.165588%,68.165588%);stop-opacity:1;\"/>\n",
       "<stop offset=\"0.648438\" style=\"stop-color:rgb(67.774963%,67.774963%,67.774963%);stop-opacity:1;\"/>\n",
       "<stop offset=\"0.65625\" style=\"stop-color:rgb(67.384338%,67.384338%,67.384338%);stop-opacity:1;\"/>\n",
       "<stop offset=\"0.664063\" style=\"stop-color:rgb(66.993713%,66.993713%,66.993713%);stop-opacity:1;\"/>\n",
       "<stop offset=\"0.671875\" style=\"stop-color:rgb(66.603088%,66.603088%,66.603088%);stop-opacity:1;\"/>\n",
       "<stop offset=\"0.679688\" style=\"stop-color:rgb(66.212463%,66.212463%,66.212463%);stop-opacity:1;\"/>\n",
       "<stop offset=\"0.6875\" style=\"stop-color:rgb(65.821838%,65.821838%,65.821838%);stop-opacity:1;\"/>\n",
       "<stop offset=\"0.695312\" style=\"stop-color:rgb(65.431213%,65.431213%,65.431213%);stop-opacity:1;\"/>\n",
       "<stop offset=\"0.703125\" style=\"stop-color:rgb(65.040588%,65.040588%,65.040588%);stop-opacity:1;\"/>\n",
       "<stop offset=\"0.710937\" style=\"stop-color:rgb(64.649963%,64.649963%,64.649963%);stop-opacity:1;\"/>\n",
       "<stop offset=\"0.71875\" style=\"stop-color:rgb(64.259338%,64.259338%,64.259338%);stop-opacity:1;\"/>\n",
       "<stop offset=\"0.726563\" style=\"stop-color:rgb(63.868713%,63.868713%,63.868713%);stop-opacity:1;\"/>\n",
       "<stop offset=\"0.734375\" style=\"stop-color:rgb(63.479614%,63.479614%,63.479614%);stop-opacity:1;\"/>\n",
       "<stop offset=\"0.742188\" style=\"stop-color:rgb(63.088989%,63.088989%,63.088989%);stop-opacity:1;\"/>\n",
       "<stop offset=\"0.75\" style=\"stop-color:rgb(62.698364%,62.698364%,62.698364%);stop-opacity:1;\"/>\n",
       "<stop offset=\"0.757812\" style=\"stop-color:rgb(62.307739%,62.307739%,62.307739%);stop-opacity:1;\"/>\n",
       "<stop offset=\"0.765625\" style=\"stop-color:rgb(61.917114%,61.917114%,61.917114%);stop-opacity:1;\"/>\n",
       "<stop offset=\"0.773437\" style=\"stop-color:rgb(61.526489%,61.526489%,61.526489%);stop-opacity:1;\"/>\n",
       "<stop offset=\"0.78125\" style=\"stop-color:rgb(61.135864%,61.135864%,61.135864%);stop-opacity:1;\"/>\n",
       "<stop offset=\"0.789063\" style=\"stop-color:rgb(60.745239%,60.745239%,60.745239%);stop-opacity:1;\"/>\n",
       "<stop offset=\"0.796875\" style=\"stop-color:rgb(60.354614%,60.354614%,60.354614%);stop-opacity:1;\"/>\n",
       "<stop offset=\"0.804688\" style=\"stop-color:rgb(59.963989%,59.963989%,59.963989%);stop-opacity:1;\"/>\n",
       "<stop offset=\"0.8125\" style=\"stop-color:rgb(59.573364%,59.573364%,59.573364%);stop-opacity:1;\"/>\n",
       "<stop offset=\"0.820312\" style=\"stop-color:rgb(59.182739%,59.182739%,59.182739%);stop-opacity:1;\"/>\n",
       "<stop offset=\"0.828125\" style=\"stop-color:rgb(58.792114%,58.792114%,58.792114%);stop-opacity:1;\"/>\n",
       "<stop offset=\"0.835937\" style=\"stop-color:rgb(58.401489%,58.401489%,58.401489%);stop-opacity:1;\"/>\n",
       "<stop offset=\"0.84375\" style=\"stop-color:rgb(58.010864%,58.010864%,58.010864%);stop-opacity:1;\"/>\n",
       "<stop offset=\"0.851563\" style=\"stop-color:rgb(57.620239%,57.620239%,57.620239%);stop-opacity:1;\"/>\n",
       "<stop offset=\"0.859375\" style=\"stop-color:rgb(57.229614%,57.229614%,57.229614%);stop-opacity:1;\"/>\n",
       "<stop offset=\"0.867188\" style=\"stop-color:rgb(56.838989%,56.838989%,56.838989%);stop-opacity:1;\"/>\n",
       "<stop offset=\"0.875\" style=\"stop-color:rgb(56.448364%,56.448364%,56.448364%);stop-opacity:1;\"/>\n",
       "<stop offset=\"0.882812\" style=\"stop-color:rgb(56.057739%,56.057739%,56.057739%);stop-opacity:1;\"/>\n",
       "<stop offset=\"0.890625\" style=\"stop-color:rgb(55.667114%,55.667114%,55.667114%);stop-opacity:1;\"/>\n",
       "<stop offset=\"0.898437\" style=\"stop-color:rgb(55.276489%,55.276489%,55.276489%);stop-opacity:1;\"/>\n",
       "<stop offset=\"0.90625\" style=\"stop-color:rgb(54.885864%,54.885864%,54.885864%);stop-opacity:1;\"/>\n",
       "<stop offset=\"0.914062\" style=\"stop-color:rgb(54.495239%,54.495239%,54.495239%);stop-opacity:1;\"/>\n",
       "<stop offset=\"0.921875\" style=\"stop-color:rgb(54.104614%,54.104614%,54.104614%);stop-opacity:1;\"/>\n",
       "<stop offset=\"0.929687\" style=\"stop-color:rgb(53.713989%,53.713989%,53.713989%);stop-opacity:1;\"/>\n",
       "<stop offset=\"0.9375\" style=\"stop-color:rgb(53.32489%,53.32489%,53.32489%);stop-opacity:1;\"/>\n",
       "<stop offset=\"0.945312\" style=\"stop-color:rgb(52.934265%,52.934265%,52.934265%);stop-opacity:1;\"/>\n",
       "<stop offset=\"0.953125\" style=\"stop-color:rgb(52.54364%,52.54364%,52.54364%);stop-opacity:1;\"/>\n",
       "<stop offset=\"0.960938\" style=\"stop-color:rgb(52.153015%,52.153015%,52.153015%);stop-opacity:1;\"/>\n",
       "<stop offset=\"0.96875\" style=\"stop-color:rgb(51.76239%,51.76239%,51.76239%);stop-opacity:1;\"/>\n",
       "<stop offset=\"0.976562\" style=\"stop-color:rgb(51.371765%,51.371765%,51.371765%);stop-opacity:1;\"/>\n",
       "<stop offset=\"0.984375\" style=\"stop-color:rgb(50.98114%,50.98114%,50.98114%);stop-opacity:1;\"/>\n",
       "<stop offset=\"0.992187\" style=\"stop-color:rgb(50.590515%,50.590515%,50.590515%);stop-opacity:1;\"/>\n",
       "<stop offset=\"1\" style=\"stop-color:rgb(50.19989%,50.19989%,50.19989%);stop-opacity:1;\"/>\n",
       "</linearGradient>\n",
       "<clipPath id=\"clip3\">\n",
       "  <path d=\"M 56 0 L 85.4375 0 L 85.4375 28.746094 L 56 28.746094 Z M 56 0 \"/>\n",
       "</clipPath>\n",
       "</defs>\n",
       "<g id=\"surface1\">\n",
       "<g clip-path=\"url(#clip1)\" clip-rule=\"nonzero\">\n",
       "<path d=\"M 0.0004375 -0.00165625 L 0.0004375 28.346 L 28.348094 28.346 L 28.348094 -0.00165625 Z M 0.0004375 -0.00165625 \" style=\"fill-rule:nonzero;fill:rgb(82.305908%,78.85437%,16.50238%);fill-opacity:1;stroke-width:0.3985;stroke-linecap:butt;stroke-linejoin:miter;stroke:rgb(0%,0%,0%);stroke-opacity:1;stroke-miterlimit:10;\" transform=\"matrix(1,0,0,-1,0.398,28.346)\"/>\n",
       "</g>\n",
       "<g clip-path=\"url(#clip2)\" clip-rule=\"nonzero\">\n",
       "<path d=\"M 57.089844 28.347656 L 57.089844 0 L 85.4375 0 L 85.4375 28.347656 Z M 57.089844 28.347656 \" style=\" stroke:none;fill-rule:nonzero;fill:url(#linear0);\"/>\n",
       "</g>\n",
       "<g clip-path=\"url(#clip3)\" clip-rule=\"nonzero\">\n",
       "<path d=\"M 56.691844 -0.00165625 L 56.691844 28.346 L 85.0395 28.346 L 85.0395 -0.00165625 Z M 56.691844 -0.00165625 \" style=\"fill:none;stroke-width:0.3985;stroke-linecap:butt;stroke-linejoin:miter;stroke:rgb(0%,0%,0%);stroke-opacity:1;stroke-miterlimit:10;\" transform=\"matrix(1,0,0,-1,0.398,28.346)\"/>\n",
       "</g>\n",
       "</g>\n",
       "</svg>"
      ]
     },
     "metadata": {
      "isolated": "true"
     },
     "output_type": "display_data"
    }
   ],
   "source": [
    "%%tikz -f svg\n",
    "\n",
    "\\begin{tikzpicture}[fill=yellow!80!black, every path/.style={draw}]\n",
    "\n",
    "\\fill (0,0) rectangle +(1,1);\n",
    "\\shade (2,0) rectangle +(1,1);\n",
    "\n",
    "\\end{tikzpicture}"
   ]
  },
  {
   "cell_type": "code",
   "execution_count": 8,
   "metadata": {
    "hidden": true
   },
   "outputs": [
    {
     "data": {
      "image/svg+xml": [
       "<svg height=\"240px\" version=\"1.1\" viewBox=\"0 0 85.039 28.346\" width=\"400px\" xmlns=\"http://www.w3.org/2000/svg\" xmlns:xlink=\"http://www.w3.org/1999/xlink\">\n",
       "<defs>\n",
       "<clipPath id=\"clip1\">\n",
       "  <path d=\"M 0 0 L 29 0 L 29 28.347656 L 0 28.347656 Z M 0 0 \"/>\n",
       "</clipPath>\n",
       "<clipPath id=\"clip2\">\n",
       "  <path d=\"M 56.695312 0 L 85.039062 0 L 85.039062 28 L 56.695312 28 Z M 56.695312 0 \"/>\n",
       "</clipPath>\n",
       "<linearGradient gradientTransform=\"matrix(0.567,0,0,-0.567,42.517,42.52261)\" gradientUnits=\"userSpaceOnUse\" id=\"linear0\" x1=\"0\" x2=\"0\" y1=\"25.00284\" y2=\"74.995785\">\n",
       "<stop offset=\"0\" style=\"stop-color:rgb(99.996948%,99.996948%,99.996948%);stop-opacity:1;\"/>\n",
       "<stop offset=\"0.0078125\" style=\"stop-color:rgb(99.801636%,99.801636%,99.801636%);stop-opacity:1;\"/>\n",
       "<stop offset=\"0.015625\" style=\"stop-color:rgb(99.411011%,99.411011%,99.411011%);stop-opacity:1;\"/>\n",
       "<stop offset=\"0.0234375\" style=\"stop-color:rgb(99.020386%,99.020386%,99.020386%);stop-opacity:1;\"/>\n",
       "<stop offset=\"0.03125\" style=\"stop-color:rgb(98.629761%,98.629761%,98.629761%);stop-opacity:1;\"/>\n",
       "<stop offset=\"0.0390625\" style=\"stop-color:rgb(98.239136%,98.239136%,98.239136%);stop-opacity:1;\"/>\n",
       "<stop offset=\"0.046875\" style=\"stop-color:rgb(97.848511%,97.848511%,97.848511%);stop-opacity:1;\"/>\n",
       "<stop offset=\"0.0546875\" style=\"stop-color:rgb(97.457886%,97.457886%,97.457886%);stop-opacity:1;\"/>\n",
       "<stop offset=\"0.0625\" style=\"stop-color:rgb(97.067261%,97.067261%,97.067261%);stop-opacity:1;\"/>\n",
       "<stop offset=\"0.0703125\" style=\"stop-color:rgb(96.676636%,96.676636%,96.676636%);stop-opacity:1;\"/>\n",
       "<stop offset=\"0.078125\" style=\"stop-color:rgb(96.286011%,96.286011%,96.286011%);stop-opacity:1;\"/>\n",
       "<stop offset=\"0.0859375\" style=\"stop-color:rgb(95.895386%,95.895386%,95.895386%);stop-opacity:1;\"/>\n",
       "<stop offset=\"0.09375\" style=\"stop-color:rgb(95.504761%,95.504761%,95.504761%);stop-opacity:1;\"/>\n",
       "<stop offset=\"0.101562\" style=\"stop-color:rgb(95.114136%,95.114136%,95.114136%);stop-opacity:1;\"/>\n",
       "<stop offset=\"0.109375\" style=\"stop-color:rgb(94.723511%,94.723511%,94.723511%);stop-opacity:1;\"/>\n",
       "<stop offset=\"0.117187\" style=\"stop-color:rgb(94.332886%,94.332886%,94.332886%);stop-opacity:1;\"/>\n",
       "<stop offset=\"0.125\" style=\"stop-color:rgb(93.942261%,93.942261%,93.942261%);stop-opacity:1;\"/>\n",
       "<stop offset=\"0.132813\" style=\"stop-color:rgb(93.551636%,93.551636%,93.551636%);stop-opacity:1;\"/>\n",
       "<stop offset=\"0.140625\" style=\"stop-color:rgb(93.162537%,93.162537%,93.162537%);stop-opacity:1;\"/>\n",
       "<stop offset=\"0.148438\" style=\"stop-color:rgb(92.771912%,92.771912%,92.771912%);stop-opacity:1;\"/>\n",
       "<stop offset=\"0.15625\" style=\"stop-color:rgb(92.381287%,92.381287%,92.381287%);stop-opacity:1;\"/>\n",
       "<stop offset=\"0.164062\" style=\"stop-color:rgb(91.990662%,91.990662%,91.990662%);stop-opacity:1;\"/>\n",
       "<stop offset=\"0.171875\" style=\"stop-color:rgb(91.600037%,91.600037%,91.600037%);stop-opacity:1;\"/>\n",
       "<stop offset=\"0.179688\" style=\"stop-color:rgb(91.209412%,91.209412%,91.209412%);stop-opacity:1;\"/>\n",
       "<stop offset=\"0.1875\" style=\"stop-color:rgb(90.818787%,90.818787%,90.818787%);stop-opacity:1;\"/>\n",
       "<stop offset=\"0.195312\" style=\"stop-color:rgb(90.428162%,90.428162%,90.428162%);stop-opacity:1;\"/>\n",
       "<stop offset=\"0.203125\" style=\"stop-color:rgb(90.037537%,90.037537%,90.037537%);stop-opacity:1;\"/>\n",
       "<stop offset=\"0.210938\" style=\"stop-color:rgb(89.646912%,89.646912%,89.646912%);stop-opacity:1;\"/>\n",
       "<stop offset=\"0.21875\" style=\"stop-color:rgb(89.256287%,89.256287%,89.256287%);stop-opacity:1;\"/>\n",
       "<stop offset=\"0.226562\" style=\"stop-color:rgb(88.865662%,88.865662%,88.865662%);stop-opacity:1;\"/>\n",
       "<stop offset=\"0.234375\" style=\"stop-color:rgb(88.475037%,88.475037%,88.475037%);stop-opacity:1;\"/>\n",
       "<stop offset=\"0.242188\" style=\"stop-color:rgb(88.084412%,88.084412%,88.084412%);stop-opacity:1;\"/>\n",
       "<stop offset=\"0.25\" style=\"stop-color:rgb(87.693787%,87.693787%,87.693787%);stop-opacity:1;\"/>\n",
       "<stop offset=\"0.257812\" style=\"stop-color:rgb(87.303162%,87.303162%,87.303162%);stop-opacity:1;\"/>\n",
       "<stop offset=\"0.265625\" style=\"stop-color:rgb(86.912537%,86.912537%,86.912537%);stop-opacity:1;\"/>\n",
       "<stop offset=\"0.273438\" style=\"stop-color:rgb(86.521912%,86.521912%,86.521912%);stop-opacity:1;\"/>\n",
       "<stop offset=\"0.28125\" style=\"stop-color:rgb(86.131287%,86.131287%,86.131287%);stop-opacity:1;\"/>\n",
       "<stop offset=\"0.289062\" style=\"stop-color:rgb(85.740662%,85.740662%,85.740662%);stop-opacity:1;\"/>\n",
       "<stop offset=\"0.296875\" style=\"stop-color:rgb(85.350037%,85.350037%,85.350037%);stop-opacity:1;\"/>\n",
       "<stop offset=\"0.304687\" style=\"stop-color:rgb(84.959412%,84.959412%,84.959412%);stop-opacity:1;\"/>\n",
       "<stop offset=\"0.3125\" style=\"stop-color:rgb(84.568787%,84.568787%,84.568787%);stop-opacity:1;\"/>\n",
       "<stop offset=\"0.320313\" style=\"stop-color:rgb(84.178162%,84.178162%,84.178162%);stop-opacity:1;\"/>\n",
       "<stop offset=\"0.328125\" style=\"stop-color:rgb(83.787537%,83.787537%,83.787537%);stop-opacity:1;\"/>\n",
       "<stop offset=\"0.335938\" style=\"stop-color:rgb(83.398438%,83.398438%,83.398438%);stop-opacity:1;\"/>\n",
       "<stop offset=\"0.34375\" style=\"stop-color:rgb(83.007812%,83.007812%,83.007812%);stop-opacity:1;\"/>\n",
       "<stop offset=\"0.351562\" style=\"stop-color:rgb(82.617188%,82.617188%,82.617188%);stop-opacity:1;\"/>\n",
       "<stop offset=\"0.359375\" style=\"stop-color:rgb(82.226562%,82.226562%,82.226562%);stop-opacity:1;\"/>\n",
       "<stop offset=\"0.367188\" style=\"stop-color:rgb(81.835938%,81.835938%,81.835938%);stop-opacity:1;\"/>\n",
       "<stop offset=\"0.375\" style=\"stop-color:rgb(81.445312%,81.445312%,81.445312%);stop-opacity:1;\"/>\n",
       "<stop offset=\"0.382812\" style=\"stop-color:rgb(81.054688%,81.054688%,81.054688%);stop-opacity:1;\"/>\n",
       "<stop offset=\"0.390625\" style=\"stop-color:rgb(80.664062%,80.664062%,80.664062%);stop-opacity:1;\"/>\n",
       "<stop offset=\"0.398438\" style=\"stop-color:rgb(80.273438%,80.273438%,80.273438%);stop-opacity:1;\"/>\n",
       "<stop offset=\"0.40625\" style=\"stop-color:rgb(79.882812%,79.882812%,79.882812%);stop-opacity:1;\"/>\n",
       "<stop offset=\"0.414062\" style=\"stop-color:rgb(79.492188%,79.492188%,79.492188%);stop-opacity:1;\"/>\n",
       "<stop offset=\"0.421875\" style=\"stop-color:rgb(79.101562%,79.101562%,79.101562%);stop-opacity:1;\"/>\n",
       "<stop offset=\"0.429688\" style=\"stop-color:rgb(78.710938%,78.710938%,78.710938%);stop-opacity:1;\"/>\n",
       "<stop offset=\"0.4375\" style=\"stop-color:rgb(78.320312%,78.320312%,78.320312%);stop-opacity:1;\"/>\n",
       "<stop offset=\"0.445312\" style=\"stop-color:rgb(77.929688%,77.929688%,77.929688%);stop-opacity:1;\"/>\n",
       "<stop offset=\"0.453125\" style=\"stop-color:rgb(77.539062%,77.539062%,77.539062%);stop-opacity:1;\"/>\n",
       "<stop offset=\"0.460938\" style=\"stop-color:rgb(77.148438%,77.148438%,77.148438%);stop-opacity:1;\"/>\n",
       "<stop offset=\"0.46875\" style=\"stop-color:rgb(76.757812%,76.757812%,76.757812%);stop-opacity:1;\"/>\n",
       "<stop offset=\"0.476562\" style=\"stop-color:rgb(76.367188%,76.367188%,76.367188%);stop-opacity:1;\"/>\n",
       "<stop offset=\"0.484375\" style=\"stop-color:rgb(75.976562%,75.976562%,75.976562%);stop-opacity:1;\"/>\n",
       "<stop offset=\"0.492187\" style=\"stop-color:rgb(75.585938%,75.585938%,75.585938%);stop-opacity:1;\"/>\n",
       "<stop offset=\"0.5\" style=\"stop-color:rgb(75.195312%,75.195312%,75.195312%);stop-opacity:1;\"/>\n",
       "<stop offset=\"0.507812\" style=\"stop-color:rgb(74.804688%,74.804688%,74.804688%);stop-opacity:1;\"/>\n",
       "<stop offset=\"0.515625\" style=\"stop-color:rgb(74.414062%,74.414062%,74.414062%);stop-opacity:1;\"/>\n",
       "<stop offset=\"0.523438\" style=\"stop-color:rgb(74.023438%,74.023438%,74.023438%);stop-opacity:1;\"/>\n",
       "<stop offset=\"0.53125\" style=\"stop-color:rgb(73.632812%,73.632812%,73.632812%);stop-opacity:1;\"/>\n",
       "<stop offset=\"0.539062\" style=\"stop-color:rgb(73.243713%,73.243713%,73.243713%);stop-opacity:1;\"/>\n",
       "<stop offset=\"0.546875\" style=\"stop-color:rgb(72.853088%,72.853088%,72.853088%);stop-opacity:1;\"/>\n",
       "<stop offset=\"0.554687\" style=\"stop-color:rgb(72.462463%,72.462463%,72.462463%);stop-opacity:1;\"/>\n",
       "<stop offset=\"0.5625\" style=\"stop-color:rgb(72.071838%,72.071838%,72.071838%);stop-opacity:1;\"/>\n",
       "<stop offset=\"0.570313\" style=\"stop-color:rgb(71.681213%,71.681213%,71.681213%);stop-opacity:1;\"/>\n",
       "<stop offset=\"0.578125\" style=\"stop-color:rgb(71.290588%,71.290588%,71.290588%);stop-opacity:1;\"/>\n",
       "<stop offset=\"0.585938\" style=\"stop-color:rgb(70.899963%,70.899963%,70.899963%);stop-opacity:1;\"/>\n",
       "<stop offset=\"0.59375\" style=\"stop-color:rgb(70.509338%,70.509338%,70.509338%);stop-opacity:1;\"/>\n",
       "<stop offset=\"0.601562\" style=\"stop-color:rgb(70.118713%,70.118713%,70.118713%);stop-opacity:1;\"/>\n",
       "<stop offset=\"0.609375\" style=\"stop-color:rgb(69.728088%,69.728088%,69.728088%);stop-opacity:1;\"/>\n",
       "<stop offset=\"0.617187\" style=\"stop-color:rgb(69.337463%,69.337463%,69.337463%);stop-opacity:1;\"/>\n",
       "<stop offset=\"0.625\" style=\"stop-color:rgb(68.946838%,68.946838%,68.946838%);stop-opacity:1;\"/>\n",
       "<stop offset=\"0.632813\" style=\"stop-color:rgb(68.556213%,68.556213%,68.556213%);stop-opacity:1;\"/>\n",
       "<stop offset=\"0.640625\" style=\"stop-color:rgb(68.165588%,68.165588%,68.165588%);stop-opacity:1;\"/>\n",
       "<stop offset=\"0.648438\" style=\"stop-color:rgb(67.774963%,67.774963%,67.774963%);stop-opacity:1;\"/>\n",
       "<stop offset=\"0.65625\" style=\"stop-color:rgb(67.384338%,67.384338%,67.384338%);stop-opacity:1;\"/>\n",
       "<stop offset=\"0.664062\" style=\"stop-color:rgb(66.993713%,66.993713%,66.993713%);stop-opacity:1;\"/>\n",
       "<stop offset=\"0.671875\" style=\"stop-color:rgb(66.603088%,66.603088%,66.603088%);stop-opacity:1;\"/>\n",
       "<stop offset=\"0.679688\" style=\"stop-color:rgb(66.212463%,66.212463%,66.212463%);stop-opacity:1;\"/>\n",
       "<stop offset=\"0.6875\" style=\"stop-color:rgb(65.821838%,65.821838%,65.821838%);stop-opacity:1;\"/>\n",
       "<stop offset=\"0.695313\" style=\"stop-color:rgb(65.431213%,65.431213%,65.431213%);stop-opacity:1;\"/>\n",
       "<stop offset=\"0.703125\" style=\"stop-color:rgb(65.040588%,65.040588%,65.040588%);stop-opacity:1;\"/>\n",
       "<stop offset=\"0.710937\" style=\"stop-color:rgb(64.649963%,64.649963%,64.649963%);stop-opacity:1;\"/>\n",
       "<stop offset=\"0.71875\" style=\"stop-color:rgb(64.259338%,64.259338%,64.259338%);stop-opacity:1;\"/>\n",
       "<stop offset=\"0.726563\" style=\"stop-color:rgb(63.868713%,63.868713%,63.868713%);stop-opacity:1;\"/>\n",
       "<stop offset=\"0.734375\" style=\"stop-color:rgb(63.479614%,63.479614%,63.479614%);stop-opacity:1;\"/>\n",
       "<stop offset=\"0.742188\" style=\"stop-color:rgb(63.088989%,63.088989%,63.088989%);stop-opacity:1;\"/>\n",
       "<stop offset=\"0.75\" style=\"stop-color:rgb(62.698364%,62.698364%,62.698364%);stop-opacity:1;\"/>\n",
       "<stop offset=\"0.757812\" style=\"stop-color:rgb(62.307739%,62.307739%,62.307739%);stop-opacity:1;\"/>\n",
       "<stop offset=\"0.765625\" style=\"stop-color:rgb(61.917114%,61.917114%,61.917114%);stop-opacity:1;\"/>\n",
       "<stop offset=\"0.773437\" style=\"stop-color:rgb(61.526489%,61.526489%,61.526489%);stop-opacity:1;\"/>\n",
       "<stop offset=\"0.78125\" style=\"stop-color:rgb(61.135864%,61.135864%,61.135864%);stop-opacity:1;\"/>\n",
       "<stop offset=\"0.789063\" style=\"stop-color:rgb(60.745239%,60.745239%,60.745239%);stop-opacity:1;\"/>\n",
       "<stop offset=\"0.796875\" style=\"stop-color:rgb(60.354614%,60.354614%,60.354614%);stop-opacity:1;\"/>\n",
       "<stop offset=\"0.804688\" style=\"stop-color:rgb(59.963989%,59.963989%,59.963989%);stop-opacity:1;\"/>\n",
       "<stop offset=\"0.8125\" style=\"stop-color:rgb(59.573364%,59.573364%,59.573364%);stop-opacity:1;\"/>\n",
       "<stop offset=\"0.820312\" style=\"stop-color:rgb(59.182739%,59.182739%,59.182739%);stop-opacity:1;\"/>\n",
       "<stop offset=\"0.828125\" style=\"stop-color:rgb(58.792114%,58.792114%,58.792114%);stop-opacity:1;\"/>\n",
       "<stop offset=\"0.835937\" style=\"stop-color:rgb(58.401489%,58.401489%,58.401489%);stop-opacity:1;\"/>\n",
       "<stop offset=\"0.84375\" style=\"stop-color:rgb(58.010864%,58.010864%,58.010864%);stop-opacity:1;\"/>\n",
       "<stop offset=\"0.851563\" style=\"stop-color:rgb(57.620239%,57.620239%,57.620239%);stop-opacity:1;\"/>\n",
       "<stop offset=\"0.859375\" style=\"stop-color:rgb(57.229614%,57.229614%,57.229614%);stop-opacity:1;\"/>\n",
       "<stop offset=\"0.867188\" style=\"stop-color:rgb(56.838989%,56.838989%,56.838989%);stop-opacity:1;\"/>\n",
       "<stop offset=\"0.875\" style=\"stop-color:rgb(56.448364%,56.448364%,56.448364%);stop-opacity:1;\"/>\n",
       "<stop offset=\"0.882812\" style=\"stop-color:rgb(56.057739%,56.057739%,56.057739%);stop-opacity:1;\"/>\n",
       "<stop offset=\"0.890625\" style=\"stop-color:rgb(55.667114%,55.667114%,55.667114%);stop-opacity:1;\"/>\n",
       "<stop offset=\"0.898437\" style=\"stop-color:rgb(55.276489%,55.276489%,55.276489%);stop-opacity:1;\"/>\n",
       "<stop offset=\"0.90625\" style=\"stop-color:rgb(54.885864%,54.885864%,54.885864%);stop-opacity:1;\"/>\n",
       "<stop offset=\"0.914062\" style=\"stop-color:rgb(54.495239%,54.495239%,54.495239%);stop-opacity:1;\"/>\n",
       "<stop offset=\"0.921875\" style=\"stop-color:rgb(54.104614%,54.104614%,54.104614%);stop-opacity:1;\"/>\n",
       "<stop offset=\"0.929687\" style=\"stop-color:rgb(53.713989%,53.713989%,53.713989%);stop-opacity:1;\"/>\n",
       "<stop offset=\"0.9375\" style=\"stop-color:rgb(53.32489%,53.32489%,53.32489%);stop-opacity:1;\"/>\n",
       "<stop offset=\"0.945312\" style=\"stop-color:rgb(52.934265%,52.934265%,52.934265%);stop-opacity:1;\"/>\n",
       "<stop offset=\"0.953125\" style=\"stop-color:rgb(52.54364%,52.54364%,52.54364%);stop-opacity:1;\"/>\n",
       "<stop offset=\"0.960938\" style=\"stop-color:rgb(52.153015%,52.153015%,52.153015%);stop-opacity:1;\"/>\n",
       "<stop offset=\"0.96875\" style=\"stop-color:rgb(51.76239%,51.76239%,51.76239%);stop-opacity:1;\"/>\n",
       "<stop offset=\"0.976562\" style=\"stop-color:rgb(51.371765%,51.371765%,51.371765%);stop-opacity:1;\"/>\n",
       "<stop offset=\"0.984375\" style=\"stop-color:rgb(50.98114%,50.98114%,50.98114%);stop-opacity:1;\"/>\n",
       "<stop offset=\"0.992187\" style=\"stop-color:rgb(50.590515%,50.590515%,50.590515%);stop-opacity:1;\"/>\n",
       "<stop offset=\"1\" style=\"stop-color:rgb(50.19989%,50.19989%,50.19989%);stop-opacity:1;\"/>\n",
       "</linearGradient>\n",
       "</defs>\n",
       "<g id=\"surface1\">\n",
       "<g clip-path=\"url(#clip1)\" clip-rule=\"nonzero\">\n",
       "<path d=\"M 0 28.347656 L 0 0 L 28.347656 0 L 28.347656 28.347656 Z M 0 28.347656 \" style=\" stroke:none;fill-rule:nonzero;fill:rgb(0%,0%,0%);fill-opacity:1;\"/>\n",
       "</g>\n",
       "<g clip-path=\"url(#clip2)\" clip-rule=\"nonzero\">\n",
       "<path d=\"M 56.695312 28.347656 L 56.695312 0 L 85.039062 0 L 85.039062 28.347656 Z M 56.695312 28.347656 \" style=\" stroke:none;fill-rule:nonzero;fill:url(#linear0);\"/>\n",
       "</g>\n",
       "</g>\n",
       "</svg>"
      ]
     },
     "metadata": {
      "isolated": "true"
     },
     "output_type": "display_data"
    }
   ],
   "source": [
    "%%tikz -f svg\n",
    "\n",
    "\\fill (0,0) rectangle +(1,1);\n",
    "\\shade (2,0) rectangle +(1,1);"
   ]
  },
  {
   "cell_type": "markdown",
   "metadata": {
    "heading_collapsed": true
   },
   "source": [
    "# Insert path"
   ]
  },
  {
   "cell_type": "code",
   "execution_count": 9,
   "metadata": {
    "hidden": true
   },
   "outputs": [
    {
     "data": {
      "image/svg+xml": [
       "<svg height=\"240px\" version=\"1.1\" viewBox=\"0 0 87.43 59.084\" width=\"400px\" xmlns=\"http://www.w3.org/2000/svg\" xmlns:xlink=\"http://www.w3.org/1999/xlink\">\n",
       "<defs>\n",
       "<clipPath id=\"clip1\">\n",
       "  <path d=\"M 0 0 L 87.429688 0 L 87.429688 59.085938 L 0 59.085938 Z M 0 0 \"/>\n",
       "</clipPath>\n",
       "</defs>\n",
       "<g id=\"surface1\">\n",
       "<g clip-path=\"url(#clip1)\" clip-rule=\"nonzero\">\n",
       "<path d=\"M 0.0004375 0.00140625 L 28.348094 28.345156 M 30.340281 28.345156 C 30.340281 29.446719 29.44575 30.34125 28.348094 30.34125 C 27.246531 30.34125 26.355906 29.446719 26.355906 28.345156 C 26.355906 27.2475 27.246531 26.352969 28.348094 26.352969 C 29.44575 26.352969 30.340281 27.2475 30.340281 28.345156 Z M 28.348094 28.345156 L 85.0395 56.692812 M 87.031688 56.692812 C 87.031688 57.794375 86.141063 58.685 85.0395 58.685 C 83.941844 58.685 83.047313 57.794375 83.047313 56.692812 C 83.047313 55.59125 83.941844 54.700625 85.0395 54.700625 C 86.141063 54.700625 87.031688 55.59125 87.031688 56.692812 Z M 87.031688 56.692812 \" style=\"fill:none;stroke-width:0.3985;stroke-linecap:butt;stroke-linejoin:miter;stroke:rgb(0%,0%,0%);stroke-opacity:1;stroke-miterlimit:10;\" transform=\"matrix(1,0,0,-1,0.398,58.685)\"/>\n",
       "</g>\n",
       "</g>\n",
       "</svg>"
      ]
     },
     "metadata": {
      "isolated": "true"
     },
     "output_type": "display_data"
    }
   ],
   "source": [
    "%%tikz -f svg\n",
    "\\tikz [c/.style={insert path={circle[radius=2pt]}}]\n",
    "\\draw (0,0) -- (1,1) [c] -- (3,2) [c];"
   ]
  },
  {
   "cell_type": "markdown",
   "metadata": {
    "hidden": true
   },
   "source": [
    "Rectangle ???"
   ]
  },
  {
   "cell_type": "code",
   "execution_count": 10,
   "metadata": {
    "hidden": true
   },
   "outputs": [
    {
     "data": {
      "image/svg+xml": [
       "<svg height=\"240px\" version=\"1.1\" viewBox=\"0 0 87.43 59.084\" width=\"400px\" xmlns=\"http://www.w3.org/2000/svg\" xmlns:xlink=\"http://www.w3.org/1999/xlink\">\n",
       "<defs>\n",
       "<clipPath id=\"clip1\">\n",
       "  <path d=\"M 0 0 L 87.429688 0 L 87.429688 59.085938 L 0 59.085938 Z M 0 0 \"/>\n",
       "</clipPath>\n",
       "</defs>\n",
       "<g id=\"surface1\">\n",
       "<g clip-path=\"url(#clip1)\" clip-rule=\"nonzero\">\n",
       "<path d=\"M 0.00021875 -0.00171875 L 28.347875 28.345937 M 30.340062 28.345937 C 30.340062 29.4475 29.445531 30.338125 28.347875 30.338125 C 27.246312 30.338125 26.355687 29.4475 26.355687 28.345937 C 26.355687 27.248281 27.246312 26.35375 28.347875 26.35375 C 29.445531 26.35375 30.340062 27.248281 30.340062 28.345937 Z M 28.347875 28.345937 L 85.039281 56.693594 M 87.031469 56.693594 C 87.031469 57.795156 86.140844 58.685781 85.039281 58.685781 C 83.941625 58.685781 83.047094 57.795156 83.047094 56.693594 C 83.047094 55.592031 83.941625 54.701406 85.039281 54.701406 C 86.140844 54.701406 87.031469 55.592031 87.031469 56.693594 Z M 87.031469 56.693594 \" style=\"fill:none;stroke-width:0.3985;stroke-linecap:butt;stroke-linejoin:miter;stroke:rgb(0%,0%,0%);stroke-opacity:1;stroke-miterlimit:10;\" transform=\"matrix(1,0,0,-1,0.199,58.885)\"/>\n",
       "</g>\n",
       "</g>\n",
       "</svg>"
      ]
     },
     "metadata": {
      "isolated": "true"
     },
     "output_type": "display_data"
    }
   ],
   "source": [
    "%%tikz -f svg\n",
    "\n",
    "\\draw (0,0) -- (1,1) circle[radius=2pt] -- (3,2) circle[radius=2pt];"
   ]
  },
  {
   "cell_type": "code",
   "execution_count": 11,
   "metadata": {
    "hidden": true
   },
   "outputs": [
    {
     "data": {
      "image/svg+xml": [
       "<svg height=\"240px\" version=\"1.1\" viewBox=\"0 0 87.43 59.084\" width=\"400px\" xmlns=\"http://www.w3.org/2000/svg\" xmlns:xlink=\"http://www.w3.org/1999/xlink\">\n",
       "<defs>\n",
       "<clipPath id=\"clip1\">\n",
       "  <path d=\"M 0 0 L 87.429688 0 L 87.429688 59.085938 L 0 59.085938 Z M 0 0 \"/>\n",
       "</clipPath>\n",
       "</defs>\n",
       "<g id=\"surface1\">\n",
       "<g clip-path=\"url(#clip1)\" clip-rule=\"nonzero\">\n",
       "<path d=\"M 0.0004375 0.00140625 L 28.348094 28.345156 M 30.340281 28.345156 C 30.340281 29.446719 29.44575 30.34125 28.348094 30.34125 C 27.246531 30.34125 26.355906 29.446719 26.355906 28.345156 C 26.355906 27.2475 27.246531 26.352969 28.348094 26.352969 C 29.44575 26.352969 30.340281 27.2475 30.340281 28.345156 Z M 28.348094 28.345156 L 85.0395 56.692812 M 87.031688 56.692812 C 87.031688 57.794375 86.141063 58.685 85.0395 58.685 C 83.941844 58.685 83.047313 57.794375 83.047313 56.692812 C 83.047313 55.59125 83.941844 54.700625 85.0395 54.700625 C 86.141063 54.700625 87.031688 55.59125 87.031688 56.692812 Z M 87.031688 56.692812 \" style=\"fill:none;stroke-width:0.3985;stroke-linecap:butt;stroke-linejoin:miter;stroke:rgb(0%,0%,0%);stroke-opacity:1;stroke-miterlimit:10;\" transform=\"matrix(1,0,0,-1,0.398,58.685)\"/>\n",
       "</g>\n",
       "</g>\n",
       "</svg>"
      ]
     },
     "metadata": {
      "isolated": "true"
     },
     "output_type": "display_data"
    }
   ],
   "source": [
    "%%tikz -f svg\n",
    "\\tikz [c/.style={insert path={circle[radius=2pt,fill]}}]\n",
    "\\draw (0,0) -- (1,1) [c] -- (3,2) [c];"
   ]
  },
  {
   "cell_type": "markdown",
   "metadata": {
    "heading_collapsed": true
   },
   "source": [
    "# Move-to operation"
   ]
  },
  {
   "cell_type": "code",
   "execution_count": 12,
   "metadata": {
    "hidden": true
   },
   "outputs": [
    {
     "data": {
      "image/svg+xml": [
       "<svg height=\"240px\" version=\"1.1\" viewBox=\"0 0 57.091 28.745\" width=\"400px\" xmlns=\"http://www.w3.org/2000/svg\" xmlns:xlink=\"http://www.w3.org/1999/xlink\">\n",
       "<defs>\n",
       "<clipPath id=\"clip1\">\n",
       "  <path d=\"M 0 0 L 57.089844 0 L 57.089844 28.746094 L 0 28.746094 Z M 0 0 \"/>\n",
       "</clipPath>\n",
       "</defs>\n",
       "<g id=\"surface1\">\n",
       "<g clip-path=\"url(#clip1)\" clip-rule=\"nonzero\">\n",
       "<path d=\"M 0.00021875 -0.000875 L 56.695531 -0.000875 M 0.00021875 28.346781 L 56.695531 28.346781 \" style=\"fill:none;stroke-width:0.3985;stroke-linecap:butt;stroke-linejoin:miter;stroke:rgb(0%,0%,0%);stroke-opacity:1;stroke-miterlimit:10;\" transform=\"matrix(1,0,0,-1,0.199,28.546)\"/>\n",
       "</g>\n",
       "</g>\n",
       "</svg>"
      ]
     },
     "metadata": {
      "isolated": "true"
     },
     "output_type": "display_data"
    }
   ],
   "source": [
    "%%tikz -f svg\n",
    "\\draw (0,0) -- (2,0) (0,1) -- (2,1);"
   ]
  },
  {
   "cell_type": "markdown",
   "metadata": {
    "hidden": true
   },
   "source": [
    "There is special coordinate called current subpath start that is always at the position of the last\n",
    "move-to operation on the current path"
   ]
  },
  {
   "cell_type": "code",
   "execution_count": 13,
   "metadata": {
    "hidden": true
   },
   "outputs": [
    {
     "data": {
      "image/svg+xml": [
       "<svg height=\"240px\" version=\"1.1\" viewBox=\"0 0 34.016 34.016\" width=\"400px\" xmlns=\"http://www.w3.org/2000/svg\" xmlns:xlink=\"http://www.w3.org/1999/xlink\">\n",
       "<defs>\n",
       "<clipPath id=\"clip1\">\n",
       "  <path d=\"M 2 0 L 34.015625 0 L 34.015625 32 L 2 32 Z M 2 0 \"/>\n",
       "</clipPath>\n",
       "</defs>\n",
       "<g id=\"surface1\">\n",
       "<g clip-path=\"url(#clip1)\" clip-rule=\"nonzero\">\n",
       "<path d=\"M -0.00103125 -0.00065625 L 28.346625 -0.00065625 L 28.346625 28.347 L -0.00103125 28.347 L -0.00103125 -0.00065625 \" style=\"fill:none;stroke-width:5.66934;stroke-linecap:butt;stroke-linejoin:miter;stroke:rgb(0%,0%,0%);stroke-opacity:1;stroke-miterlimit:10;\" transform=\"matrix(1,0,0,-1,5.669,28.347)\"/>\n",
       "</g>\n",
       "</g>\n",
       "</svg>"
      ]
     },
     "metadata": {
      "isolated": "true"
     },
     "output_type": "display_data"
    }
   ],
   "source": [
    "%%tikz -f svg\n",
    "\\tikz[line width=2mm]\n",
    "\\draw (0,0) -- (1,0) -- (1,1) -- (0,1) -- (current subpath start);"
   ]
  },
  {
   "cell_type": "markdown",
   "metadata": {
    "hidden": true
   },
   "source": [
    "Note how in the above example the path is not closed (as --cycle would do). Rather, the line just starts\n",
    "and ends at the origin without being a closed path"
   ]
  },
  {
   "cell_type": "markdown",
   "metadata": {
    "heading_collapsed": true
   },
   "source": [
    "# Line to line operation"
   ]
  },
  {
   "cell_type": "markdown",
   "metadata": {
    "hidden": true
   },
   "source": [
    "NOTE: not clear about how to use `\\useasboundingbox` for the x coord"
   ]
  },
  {
   "cell_type": "code",
   "execution_count": 14,
   "metadata": {
    "hidden": true
   },
   "outputs": [
    {
     "data": {
      "image/svg+xml": [
       "<svg height=\"240px\" version=\"1.1\" viewBox=\"0 0 151.695 47.501\" width=\"400px\" xmlns=\"http://www.w3.org/2000/svg\" xmlns:xlink=\"http://www.w3.org/1999/xlink\">\n",
       "<defs>\n",
       "<clipPath id=\"clip1\">\n",
       "  <path d=\"M 0 0 L 151.695312 0 L 151.695312 47.5 L 0 47.5 Z M 0 0 \"/>\n",
       "</clipPath>\n",
       "</defs>\n",
       "<g id=\"surface1\">\n",
       "<g clip-path=\"url(#clip1)\" clip-rule=\"nonzero\">\n",
       "<path d=\"M 0.00184375 -0.0010625 L 28.345594 28.346594 M 28.345594 28.346594 L 56.69325 -0.0010625 \" style=\"fill:none;stroke-width:9.96277;stroke-linecap:butt;stroke-linejoin:miter;stroke:rgb(0%,0%,0%);stroke-opacity:1;stroke-miterlimit:10;\" transform=\"matrix(1,0,0,-1,9.963,37.538)\"/>\n",
       "<path d=\"M 85.040906 -0.0010625 L 113.388563 28.346594 L 141.732313 -0.0010625 \" style=\"fill:none;stroke-width:9.96277;stroke-linecap:butt;stroke-linejoin:miter;stroke:rgb(0%,0%,0%);stroke-opacity:1;stroke-miterlimit:10;\" transform=\"matrix(1,0,0,-1,9.963,37.538)\"/>\n",
       "</g>\n",
       "</g>\n",
       "</svg>"
      ]
     },
     "metadata": {
      "isolated": "true"
     },
     "output_type": "display_data"
    }
   ],
   "source": [
    "%%tikz -f svg\n",
    "\\begin{tikzpicture}[line width=10pt]\n",
    "\\draw (0,0) -- (1,1) (1,1) -- (2,0);\n",
    "\\draw (3,0) -- (4,1) -- (5,0);\n",
    "\\useasboundingbox (0.0,1.5);\n",
    "\\end{tikzpicture}"
   ]
  },
  {
   "cell_type": "code",
   "execution_count": 15,
   "metadata": {
    "hidden": true,
    "scrolled": true
   },
   "outputs": [
    {
     "data": {
      "image/svg+xml": [
       "<svg height=\"240px\" version=\"1.1\" viewBox=\"0 0 236.734 47.501\" width=\"400px\" xmlns=\"http://www.w3.org/2000/svg\" xmlns:xlink=\"http://www.w3.org/1999/xlink\">\n",
       "<defs>\n",
       "<clipPath id=\"clip1\">\n",
       "  <path d=\"M 0 0 L 236 0 L 236 47.5 L 0 47.5 Z M 0 0 \"/>\n",
       "</clipPath>\n",
       "<clipPath id=\"clip2\">\n",
       "  <path d=\"M 10 0 L 236.734375 0 L 236.734375 47.5 L 10 47.5 Z M 10 0 \"/>\n",
       "</clipPath>\n",
       "</defs>\n",
       "<g id=\"surface1\">\n",
       "<g clip-path=\"url(#clip1)\" clip-rule=\"nonzero\">\n",
       "<path d=\"M 0.00184375 -0.0010625 L 28.345594 28.346594 L 28.345594 -0.0010625 L 0.00184375 -0.0010625 M 56.69325 -0.0010625 L 85.040906 28.346594 L 85.040906 -0.0010625 L 56.69325 -0.0010625 \" style=\"fill:none;stroke-width:9.96277;stroke-linecap:butt;stroke-linejoin:miter;stroke:rgb(0%,0%,0%);stroke-opacity:1;stroke-miterlimit:10;\" transform=\"matrix(1,0,0,-1,9.963,37.538)\"/>\n",
       "</g>\n",
       "<g clip-path=\"url(#clip2)\" clip-rule=\"nonzero\">\n",
       "<path d=\"M 141.732313 -0.0010625 L 170.079969 28.346594 L 170.079969 -0.0010625 Z M 198.427625 -0.0010625 L 226.775281 28.346594 L 226.775281 -0.0010625 Z M 198.427625 -0.0010625 \" style=\"fill:none;stroke-width:9.96277;stroke-linecap:butt;stroke-linejoin:miter;stroke:rgb(0%,0%,0%);stroke-opacity:1;stroke-miterlimit:10;\" transform=\"matrix(1,0,0,-1,9.963,37.538)\"/>\n",
       "</g>\n",
       "</g>\n",
       "</svg>"
      ]
     },
     "metadata": {
      "isolated": "true"
     },
     "output_type": "display_data"
    }
   ],
   "source": [
    "%%tikz -f svg\n",
    "\n",
    "\\begin{tikzpicture}[line width=10pt]\n",
    "\\draw (0,0) -- (1,1) -- (1,0) -- (0,0) (2,0) -- (3,1) -- (3,0) -- (2,0);\n",
    "\\draw (5,0) -- (6,1) -- (6,0) -- cycle (7,0) -- (8,1) -- (8,0) -- cycle;\n",
    "\\useasboundingbox (0,1.5); % make bounding box higher\n",
    "\\end{tikzpicture}"
   ]
  },
  {
   "cell_type": "markdown",
   "metadata": {
    "heading_collapsed": true
   },
   "source": [
    "# Horizontal and vertical lines"
   ]
  },
  {
   "cell_type": "code",
   "execution_count": 23,
   "metadata": {
    "hidden": true
   },
   "outputs": [
    {
     "data": {
      "image/svg+xml": [
       "<svg height=\"240px\" version=\"1.1\" viewBox=\"0 0 64.148 49.643\" width=\"400px\" xmlns=\"http://www.w3.org/2000/svg\" xmlns:xlink=\"http://www.w3.org/1999/xlink\">\n",
       "<defs>\n",
       "<g>\n",
       "<symbol id=\"glyph0-0\" overflow=\"visible\">\n",
       "<path d=\"\" style=\"stroke:none;\"/>\n",
       "</symbol>\n",
       "<symbol id=\"glyph0-1\" overflow=\"visible\">\n",
       "<path d=\"M 3.96875 -6.9375 C 3.921875 -7.0625 3.890625 -7.140625 3.734375 -7.140625 C 3.578125 -7.140625 3.546875 -7.078125 3.5 -6.9375 L 1.4375 -0.984375 C 1.25 -0.46875 0.859375 -0.3125 0.3125 -0.3125 L 0.3125 0 C 0.546875 -0.015625 0.984375 -0.03125 1.328125 -0.03125 C 1.640625 -0.03125 2.15625 -0.015625 2.484375 0 L 2.484375 -0.3125 C 1.984375 -0.3125 1.734375 -0.5625 1.734375 -0.8125 C 1.734375 -0.84375 1.75 -0.953125 1.75 -0.96875 L 2.21875 -2.265625 L 4.671875 -2.265625 L 5.203125 -0.75 C 5.21875 -0.703125 5.234375 -0.640625 5.234375 -0.609375 C 5.234375 -0.3125 4.671875 -0.3125 4.40625 -0.3125 L 4.40625 0 C 4.765625 -0.03125 5.46875 -0.03125 5.84375 -0.03125 C 6.265625 -0.03125 6.734375 -0.015625 7.140625 0 L 7.140625 -0.3125 L 6.96875 -0.3125 C 6.375 -0.3125 6.234375 -0.375 6.125 -0.703125 Z M 3.4375 -5.828125 L 4.5625 -2.578125 L 2.328125 -2.578125 Z M 3.4375 -5.828125 \" style=\"stroke:none;\"/>\n",
       "</symbol>\n",
       "<symbol id=\"glyph0-2\" overflow=\"visible\">\n",
       "<path d=\"M 2.21875 -3.65625 L 2.21875 -6.09375 C 2.21875 -6.4375 2.234375 -6.5 2.703125 -6.5 L 3.9375 -6.5 C 4.90625 -6.5 5.25 -5.65625 5.25 -5.125 C 5.25 -4.484375 4.765625 -3.65625 3.65625 -3.65625 Z M 4.5625 -3.5625 C 5.53125 -3.75 6.21875 -4.390625 6.21875 -5.125 C 6.21875 -5.984375 5.296875 -6.8125 4 -6.8125 L 0.359375 -6.8125 L 0.359375 -6.5 L 0.59375 -6.5 C 1.359375 -6.5 1.390625 -6.390625 1.390625 -6.03125 L 1.390625 -0.78125 C 1.390625 -0.421875 1.359375 -0.3125 0.59375 -0.3125 L 0.359375 -0.3125 L 0.359375 0 L 4.265625 0 C 5.59375 0 6.484375 -0.890625 6.484375 -1.828125 C 6.484375 -2.6875 5.671875 -3.4375 4.5625 -3.5625 Z M 3.953125 -0.3125 L 2.703125 -0.3125 C 2.234375 -0.3125 2.21875 -0.375 2.21875 -0.703125 L 2.21875 -3.421875 L 4.09375 -3.421875 C 5.078125 -3.421875 5.5 -2.5 5.5 -1.828125 C 5.5 -1.125 4.96875 -0.3125 3.953125 -0.3125 Z M 3.953125 -0.3125 \" style=\"stroke:none;\"/>\n",
       "</symbol>\n",
       "</g>\n",
       "<clipPath id=\"clip1\">\n",
       "  <path d=\"M 0 35 L 15 35 L 15 49.644531 L 0 49.644531 Z M 0 35 \"/>\n",
       "</clipPath>\n",
       "<clipPath id=\"clip2\">\n",
       "  <path d=\"M 14 0 L 64.148438 0 L 64.148438 43 L 14 43 Z M 14 0 \"/>\n",
       "</clipPath>\n",
       "</defs>\n",
       "<g id=\"surface1\">\n",
       "<g clip-path=\"url(#clip1)\" clip-rule=\"nonzero\">\n",
       "<path d=\"M -7.056781 -6.726312 L 7.0565 -6.726312 L 7.0565 6.722906 L -7.056781 6.722906 Z M -7.056781 -6.726312 \" style=\"fill:none;stroke-width:0.3985;stroke-linecap:butt;stroke-linejoin:miter;stroke:rgb(0%,0%,0%);stroke-opacity:1;stroke-miterlimit:10;\" transform=\"matrix(1,0,0,-1,7.256,42.719)\"/>\n",
       "</g>\n",
       "<g style=\"fill:rgb(0%,0%,0%);fill-opacity:1;\">\n",
       "  <use x=\"3.52\" xlink:href=\"#glyph0-1\" y=\"46.123\"/>\n",
       "</g>\n",
       "<path d=\"M 21.497906 21.621344 L 35.197125 21.621344 L 35.197125 35.070563 L 21.497906 35.070563 Z M 21.497906 21.621344 \" style=\"fill:none;stroke-width:0.3985;stroke-linecap:butt;stroke-linejoin:miter;stroke:rgb(0%,0%,0%);stroke-opacity:1;stroke-miterlimit:10;\" transform=\"matrix(1,0,0,-1,7.256,42.719)\"/>\n",
       "<g style=\"fill:rgb(0%,0%,0%);fill-opacity:1;\">\n",
       "  <use x=\"32.074\" xlink:href=\"#glyph0-2\" y=\"17.777\"/>\n",
       "</g>\n",
       "<path d=\"M 0.0018125 6.922125 L 0.0018125 28.347906 L 21.298687 28.347906 \" style=\"fill:none;stroke-width:0.3985;stroke-linecap:butt;stroke-linejoin:miter;stroke:rgb(0%,0%,0%);stroke-opacity:1;stroke-miterlimit:10;\" transform=\"matrix(1,0,0,-1,7.256,42.719)\"/>\n",
       "<g clip-path=\"url(#clip2)\" clip-rule=\"nonzero\">\n",
       "<path d=\"M 7.255719 0.00025 L 56.693219 0.00025 L 56.693219 42.519781 L 28.345562 42.519781 L 28.345562 35.269781 \" style=\"fill:none;stroke-width:0.3985;stroke-linecap:butt;stroke-linejoin:miter;stroke:rgb(100%,0%,0%);stroke-opacity:1;stroke-miterlimit:10;\" transform=\"matrix(1,0,0,-1,7.256,42.719)\"/>\n",
       "</g>\n",
       "</g>\n",
       "</svg>"
      ]
     },
     "metadata": {
      "isolated": "true"
     },
     "output_type": "display_data"
    }
   ],
   "source": [
    "%%tikz -f svg\n",
    "\n",
    "\\draw (0,0) node (a) [draw] {A};\n",
    "\\draw (1,1) node (b) [draw] {B};\n",
    "\n",
    "\\draw (a.north) |- (b.west);\n",
    "\\draw [color=red] (a.east) -| (2,1.5) -| (b.north);"
   ]
  },
  {
   "cell_type": "markdown",
   "metadata": {
    "hidden": true
   },
   "source": [
    "Instead of a coordinate you can also write cycle to close the path:"
   ]
  },
  {
   "cell_type": "code",
   "execution_count": 17,
   "metadata": {
    "hidden": true
   },
   "outputs": [
    {
     "data": {
      "image/svg+xml": [
       "<svg height=\"240px\" version=\"1.1\" viewBox=\"0 0 29.94 29.94\" width=\"400px\" xmlns=\"http://www.w3.org/2000/svg\" xmlns:xlink=\"http://www.w3.org/1999/xlink\">\n",
       "<g id=\"surface1\">\n",
       "<path d=\"M -0.00025 -0.00165625 L 28.347406 28.346 L -0.00025 28.346 Z M -0.00025 -0.00165625 \" style=\"fill:none;stroke-width:1.59404;stroke-linecap:butt;stroke-linejoin:miter;stroke:rgb(0%,0%,0%);stroke-opacity:1;stroke-miterlimit:10;\" transform=\"matrix(1,0,0,-1,1.594,28.346)\"/>\n",
       "</g>\n",
       "</svg>"
      ]
     },
     "metadata": {
      "isolated": "true"
     },
     "output_type": "display_data"
    }
   ],
   "source": [
    "%%tikz -f svg\n",
    "\n",
    "\\begin{tikzpicture}[ultra thick]\n",
    "\\draw (0,0) -- (1,1) -| cycle;\n",
    "\\end{tikzpicture}"
   ]
  },
  {
   "cell_type": "markdown",
   "metadata": {
    "heading_collapsed": true
   },
   "source": [
    "# Curve to"
   ]
  },
  {
   "cell_type": "code",
   "execution_count": 18,
   "metadata": {
    "hidden": true
   },
   "outputs": [
    {
     "data": {
      "image/svg+xml": [
       "<svg height=\"240px\" version=\"1.1\" viewBox=\"0 0 151.695 38.309\" width=\"400px\" xmlns=\"http://www.w3.org/2000/svg\" xmlns:xlink=\"http://www.w3.org/1999/xlink\">\n",
       "<defs>\n",
       "<clipPath id=\"clip1\">\n",
       "  <path d=\"M 0 0 L 151.695312 0 L 151.695312 38.308594 L 0 38.308594 Z M 0 0 \"/>\n",
       "</clipPath>\n",
       "</defs>\n",
       "<g id=\"surface1\">\n",
       "<g clip-path=\"url(#clip1)\" clip-rule=\"nonzero\">\n",
       "<path d=\"M -0.00053125 -0.000125 C 28.347125 28.347531 28.347125 28.347531 113.386188 -0.000125 C 141.733844 -0.000125 141.733844 28.347531 113.386188 28.347531 \" style=\"fill:none;stroke-width:9.96277;stroke-linecap:butt;stroke-linejoin:miter;stroke:rgb(0%,0%,0%);stroke-opacity:1;stroke-miterlimit:10;\" transform=\"matrix(1,0,0,-1,4.981,33.328)\"/>\n",
       "<path d=\"M -0.00053125 -0.000125 L 28.347125 28.347531 L 113.386188 -0.000125 L 141.733844 -0.000125 L 141.733844 28.347531 L 113.386188 28.347531 \" style=\"fill:none;stroke-width:0.3985;stroke-linecap:butt;stroke-linejoin:miter;stroke:rgb(50%,50%,50%);stroke-opacity:1;stroke-miterlimit:10;\" transform=\"matrix(1,0,0,-1,4.981,33.328)\"/>\n",
       "</g>\n",
       "<path d=\"M 6.972656 33.328125 C 6.972656 32.226562 6.082031 31.335938 4.980469 31.335938 C 3.878906 31.335938 2.988281 32.226562 2.988281 33.328125 C 2.988281 34.429688 3.878906 35.320312 4.980469 35.320312 C 6.082031 35.320312 6.972656 34.429688 6.972656 33.328125 Z M 4.980469 33.328125 L 33.328125 4.980469 M 35.320312 4.980469 C 35.320312 3.878906 34.429688 2.988281 33.328125 2.988281 C 32.226562 2.988281 31.335938 3.878906 31.335938 4.980469 C 31.335938 6.082031 32.226562 6.972656 33.328125 6.972656 C 34.429688 6.972656 35.320312 6.082031 35.320312 4.980469 Z M 35.320312 4.980469 \" style=\" stroke:none;fill-rule:nonzero;fill:rgb(100%,0%,0%);fill-opacity:1;\"/>\n",
       "<path d=\"M 120.359375 33.328125 C 120.359375 32.226562 119.46875 31.335938 118.367188 31.335938 C 117.269531 31.335938 116.375 32.226562 116.375 33.328125 C 116.375 34.429688 117.269531 35.320312 118.367188 35.320312 C 119.46875 35.320312 120.359375 34.429688 120.359375 33.328125 Z M 118.367188 33.328125 L 146.714844 33.328125 M 148.707031 33.328125 C 148.707031 32.226562 147.816406 31.335938 146.714844 31.335938 C 145.613281 31.335938 144.722656 32.226562 144.722656 33.328125 C 144.722656 34.429688 145.613281 35.320312 146.714844 35.320312 C 147.816406 35.320312 148.707031 34.429688 148.707031 33.328125 Z M 148.707031 33.328125 \" style=\" stroke:none;fill-rule:nonzero;fill:rgb(100%,0%,0%);fill-opacity:1;\"/>\n",
       "<path d=\"M 148.707031 4.980469 C 148.707031 3.878906 147.816406 2.988281 146.714844 2.988281 C 145.613281 2.988281 144.722656 3.878906 144.722656 4.980469 C 144.722656 6.082031 145.613281 6.972656 146.714844 6.972656 C 147.816406 6.972656 148.707031 6.082031 148.707031 4.980469 Z M 146.714844 4.980469 L 118.367188 4.980469 M 120.359375 4.980469 C 120.359375 3.878906 119.46875 2.988281 118.367188 2.988281 C 117.269531 2.988281 116.375 3.878906 116.375 4.980469 C 116.375 6.082031 117.269531 6.972656 118.367188 6.972656 C 119.46875 6.972656 120.359375 6.082031 120.359375 4.980469 Z M 120.359375 4.980469 \" style=\" stroke:none;fill-rule:nonzero;fill:rgb(100%,0%,0%);fill-opacity:1;\"/>\n",
       "</g>\n",
       "</svg>"
      ]
     },
     "metadata": {
      "isolated": "true"
     },
     "output_type": "display_data"
    }
   ],
   "source": [
    "%%tikz -f svg\n",
    "\n",
    "\\draw [line width=10pt] (0,0) .. controls (1,1) .. (4,0)\n",
    "                              .. controls (5,0) and (5,1) .. (4,1);\n",
    "\n",
    "\\draw [color=gray] (0,0) -- (1,1) -- (4,0) -- (5,0) -- (5,1) -- (4,1);\n",
    "\\fill [color=red] (0,0) circle[radius=2pt] -- (1,1) circle[radius=2pt];\n",
    "\\fill [color=red] (4,0) circle[radius=2pt] -- (5,0) circle[radius=2pt];\n",
    "\\fill [color=red] (5,1) circle[radius=2pt] -- (4,1) circle[radius=2pt];"
   ]
  },
  {
   "cell_type": "code",
   "execution_count": 19,
   "metadata": {
    "hidden": true
   },
   "outputs": [
    {
     "data": {
      "image/svg+xml": [
       "<svg height=\"240px\" version=\"1.1\" viewBox=\"0 0 61.674 33.328\" width=\"400px\" xmlns=\"http://www.w3.org/2000/svg\" xmlns:xlink=\"http://www.w3.org/1999/xlink\">\n",
       "<g id=\"surface1\">\n",
       "<path d=\"M 0.0011875 0.0010625 L 56.692594 0.0010625 C 28.344938 28.348719 28.344938 28.348719 0.0011875 0.0010625 Z M 0.0011875 0.0010625 \" style=\"fill:none;stroke-width:4.98138;stroke-linecap:butt;stroke-linejoin:miter;stroke:rgb(0%,0%,0%);stroke-opacity:1;stroke-miterlimit:10;\" transform=\"matrix(1,0,0,-1,2.491,30.837)\"/>\n",
       "</g>\n",
       "</svg>"
      ]
     },
     "metadata": {
      "isolated": "true"
     },
     "output_type": "display_data"
    }
   ],
   "source": [
    "%%tikz -f svg\n",
    "\n",
    "\\draw [line width=5pt] (0,0) -- (2,0) .. controls (1,1) .. cycle;"
   ]
  },
  {
   "cell_type": "markdown",
   "metadata": {
    "heading_collapsed": true
   },
   "source": [
    "# Rectangle operation"
   ]
  },
  {
   "cell_type": "code",
   "execution_count": 20,
   "metadata": {
    "hidden": true
   },
   "outputs": [
    {
     "data": {
      "image/svg+xml": [
       "<svg height=\"240px\" version=\"1.1\" viewBox=\"0 0 99.611 42.918\" width=\"400px\" xmlns=\"http://www.w3.org/2000/svg\" xmlns:xlink=\"http://www.w3.org/1999/xlink\">\n",
       "<defs>\n",
       "<clipPath id=\"clip1\">\n",
       "  <path d=\"M 0 14 L 29 14 L 29 42.917969 L 0 42.917969 Z M 0 14 \"/>\n",
       "</clipPath>\n",
       "<clipPath id=\"clip2\">\n",
       "  <path d=\"M 51 0 L 99.609375 0 L 99.609375 42.917969 L 51 42.917969 Z M 51 0 \"/>\n",
       "</clipPath>\n",
       "</defs>\n",
       "<g id=\"surface1\">\n",
       "<g clip-path=\"url(#clip1)\" clip-rule=\"nonzero\">\n",
       "<path d=\"M 0.00021875 0.00025 L 0.00021875 28.347906 L 28.347875 28.347906 L 28.347875 0.00025 Z M 0.00021875 0.00025 \" style=\"fill:none;stroke-width:0.3985;stroke-linecap:butt;stroke-linejoin:miter;stroke:rgb(0%,0%,0%);stroke-opacity:1;stroke-miterlimit:10;\" transform=\"matrix(1,0,0,-1,0.199,42.719)\"/>\n",
       "</g>\n",
       "<path d=\"M 14.172094 28.347906 L 14.172094 14.172125 L 56.695531 14.172125 L 56.695531 28.347906 Z M 14.172094 28.347906 \" style=\"fill:none;stroke-width:0.3985;stroke-linecap:butt;stroke-linejoin:miter;stroke:rgb(0%,0%,0%);stroke-opacity:1;stroke-miterlimit:10;\" transform=\"matrix(1,0,0,-1,0.199,42.719)\"/>\n",
       "<g clip-path=\"url(#clip2)\" clip-rule=\"nonzero\">\n",
       "<path d=\"M 85.039281 0.00025 L 85.039281 42.519781 L 99.215063 42.519781 L 99.215063 0.00025 Z M 99.215063 42.519781 L 56.695531 0.00025 \" style=\"fill:none;stroke-width:0.3985;stroke-linecap:butt;stroke-linejoin:miter;stroke:rgb(0%,0%,0%);stroke-opacity:1;stroke-miterlimit:10;\" transform=\"matrix(1,0,0,-1,0.199,42.719)\"/>\n",
       "</g>\n",
       "</g>\n",
       "</svg>"
      ]
     },
     "metadata": {
      "isolated": "true"
     },
     "output_type": "display_data"
    }
   ],
   "source": [
    "%%tikz -f svg\n",
    "\n",
    "\\draw (0,0) rectangle (1,1);\n",
    "\\draw (0.5,1) rectangle (2,0.5);\n",
    "\\draw (3,0) rectangle (3.5,1.5) -- (2,0);"
   ]
  },
  {
   "cell_type": "markdown",
   "metadata": {
    "heading_collapsed": true
   },
   "source": [
    "# Rounding corners"
   ]
  },
  {
   "cell_type": "code",
   "execution_count": 25,
   "metadata": {
    "hidden": true
   },
   "outputs": [
    {
     "data": {
      "image/svg+xml": [
       "<svg height=\"240px\" version=\"1.1\" viewBox=\"0 0 113.784 28.745\" width=\"400px\" xmlns=\"http://www.w3.org/2000/svg\" xmlns:xlink=\"http://www.w3.org/1999/xlink\">\n",
       "<g id=\"surface1\">\n",
       "<path d=\"M 0.00021875 -0.000875 L 25.527562 25.530375 C 27.086156 27.085062 29.609594 27.085062 31.164281 25.530375 L 53.875219 2.819437 C 55.433813 1.260844 57.953344 1.260844 59.511938 2.819437 C 85.039281 28.346781 85.039281 28.346781 113.386938 -0.000875 \" style=\"fill:none;stroke-width:0.3985;stroke-linecap:butt;stroke-linejoin:miter;stroke:rgb(0%,0%,0%);stroke-opacity:1;stroke-miterlimit:10;\" transform=\"matrix(1,0,0,-1,0.199,28.546)\"/>\n",
       "</g>\n",
       "</svg>"
      ]
     },
     "metadata": {
      "isolated": "true"
     },
     "output_type": "display_data"
    }
   ],
   "source": [
    "%%tikz -f svg\n",
    "\n",
    "\\draw [rounded corners] (0,0) -- (1,1) -- (2,0) .. controls (3,1) .. (4,0);"
   ]
  },
  {
   "cell_type": "code",
   "execution_count": 26,
   "metadata": {
    "hidden": true
   },
   "outputs": [
    {
     "data": {
      "image/svg+xml": [
       "<svg height=\"240px\" version=\"1.1\" viewBox=\"0 0 113.784 28.745\" width=\"400px\" xmlns=\"http://www.w3.org/2000/svg\" xmlns:xlink=\"http://www.w3.org/1999/xlink\">\n",
       "<g id=\"surface1\">\n",
       "<path d=\"M 0.00021875 -0.000875 L 28.347875 28.346781 L 56.695531 -0.000875 C 85.039281 28.346781 85.039281 28.346781 113.386938 -0.000875 \" style=\"fill:none;stroke-width:0.3985;stroke-linecap:butt;stroke-linejoin:miter;stroke:rgb(0%,0%,0%);stroke-opacity:1;stroke-miterlimit:10;\" transform=\"matrix(1,0,0,-1,0.199,28.546)\"/>\n",
       "</g>\n",
       "</svg>"
      ]
     },
     "metadata": {
      "isolated": "true"
     },
     "output_type": "display_data"
    }
   ],
   "source": [
    "%%tikz -f svg\n",
    "\n",
    "\\draw (0,0) -- (1,1) -- (2,0) .. controls (3,1) .. (4,0);"
   ]
  },
  {
   "cell_type": "markdown",
   "metadata": {
    "hidden": true
   },
   "source": [
    "The hinseti describes how big the corner is. Note that the hinseti is not scaled along if you use a scaling\n",
    "option like scale=2."
   ]
  },
  {
   "cell_type": "code",
   "execution_count": 28,
   "metadata": {
    "hidden": true
   },
   "outputs": [
    {
     "data": {
      "image/svg+xml": [
       "<svg height=\"240px\" version=\"1.1\" viewBox=\"0 0 40.249 25.305\" width=\"400px\" xmlns=\"http://www.w3.org/2000/svg\" xmlns:xlink=\"http://www.w3.org/1999/xlink\">\n",
       "<defs>\n",
       "<clipPath id=\"clip1\">\n",
       "  <path d=\"M 0 0 L 40.25 0 L 40.25 25.304688 L 0 25.304688 Z M 0 0 \"/>\n",
       "</clipPath>\n",
       "</defs>\n",
       "<g id=\"surface1\">\n",
       "<path d=\"M 19.926 14.945844 C 19.926 20.445844 15.465063 24.906781 9.961156 24.906781 C 4.461156 24.906781 0.00021875 20.445844 0.00021875 14.945844 C 0.00021875 9.441937 4.461156 4.981 9.961156 4.981 C 15.465063 4.981 19.926 9.441937 19.926 14.945844 Z M 19.926 14.945844 \" style=\"fill:none;stroke-width:0.19925;stroke-linecap:butt;stroke-linejoin:miter;stroke:rgb(50%,50%,50%);stroke-opacity:1;stroke-miterlimit:10;\" transform=\"matrix(1,0,0,-1,0.199,25.106)\"/>\n",
       "<g clip-path=\"url(#clip1)\" clip-rule=\"nonzero\">\n",
       "<path d=\"M 0.00021875 0.00053125 L 0.00021875 14.945844 C 0.00021875 20.445844 4.461156 24.906781 9.961156 24.906781 L 39.851781 24.906781 \" style=\"fill:none;stroke-width:0.3985;stroke-linecap:butt;stroke-linejoin:miter;stroke:rgb(0%,0%,0%);stroke-opacity:1;stroke-miterlimit:10;\" transform=\"matrix(1,0,0,-1,0.199,25.106)\"/>\n",
       "</g>\n",
       "</g>\n",
       "</svg>"
      ]
     },
     "metadata": {
      "isolated": "true"
     },
     "output_type": "display_data"
    }
   ],
   "source": [
    "%%tikz -f svg\n",
    "\n",
    "\\draw[color=gray, very thin] (10pt,15pt) circle[radius=10pt];\n",
    "\\draw[rounded corners=10pt] (0,0) -- (0pt,25pt) -- (40pt,25pt);"
   ]
  },
  {
   "cell_type": "code",
   "execution_count": 32,
   "metadata": {
    "hidden": true
   },
   "outputs": [
    {
     "data": {
      "image/svg+xml": [
       "<svg height=\"240px\" version=\"1.1\" viewBox=\"0 0 40.249 25.305\" width=\"400px\" xmlns=\"http://www.w3.org/2000/svg\" xmlns:xlink=\"http://www.w3.org/1999/xlink\">\n",
       "<defs>\n",
       "<clipPath id=\"clip1\">\n",
       "  <path d=\"M 0 0 L 40.25 0 L 40.25 25.304688 L 0 25.304688 Z M 0 0 \"/>\n",
       "</clipPath>\n",
       "</defs>\n",
       "<g id=\"surface1\">\n",
       "<path d=\"M 9.961156 19.926312 C 9.961156 22.676312 7.730688 24.906781 4.980688 24.906781 C 2.230688 24.906781 0.00021875 22.676312 0.00021875 19.926312 C 0.00021875 17.172406 2.230688 14.945844 4.980688 14.945844 C 7.730688 14.945844 9.961156 17.172406 9.961156 19.926312 Z M 9.961156 19.926312 \" style=\"fill:none;stroke-width:0.19925;stroke-linecap:butt;stroke-linejoin:miter;stroke:rgb(50%,50%,50%);stroke-opacity:1;stroke-miterlimit:10;\" transform=\"matrix(1,0,0,-1,0.199,25.106)\"/>\n",
       "<g clip-path=\"url(#clip1)\" clip-rule=\"nonzero\">\n",
       "<path d=\"M 0.00021875 0.00053125 L 0.00021875 19.926312 C 0.00021875 22.676312 2.230688 24.906781 4.980688 24.906781 L 39.851781 24.906781 \" style=\"fill:none;stroke-width:0.3985;stroke-linecap:butt;stroke-linejoin:miter;stroke:rgb(0%,0%,0%);stroke-opacity:1;stroke-miterlimit:10;\" transform=\"matrix(1,0,0,-1,0.199,25.106)\"/>\n",
       "</g>\n",
       "</g>\n",
       "</svg>"
      ]
     },
     "metadata": {
      "isolated": "true"
     },
     "output_type": "display_data"
    }
   ],
   "source": [
    "%%tikz -f svg\n",
    "\n",
    "\\draw[color=gray, very thin] (5pt,20pt) circle[radius=5pt];\n",
    "\\draw[rounded corners=5pt] (0,0) -- (0pt,25pt) -- (40pt,25pt);"
   ]
  },
  {
   "cell_type": "markdown",
   "metadata": {
    "hidden": true
   },
   "source": [
    "You can switch the rounded corners on and off “in the middle of path” and different corners in the same\n",
    "path can have different corner radii:"
   ]
  },
  {
   "cell_type": "code",
   "execution_count": 35,
   "metadata": {
    "hidden": true
   },
   "outputs": [
    {
     "data": {
      "image/svg+xml": [
       "<svg height=\"240px\" version=\"1.1\" viewBox=\"0 0 57.091 28.745\" width=\"400px\" xmlns=\"http://www.w3.org/2000/svg\" xmlns:xlink=\"http://www.w3.org/1999/xlink\">\n",
       "<defs>\n",
       "<clipPath id=\"clip1\">\n",
       "  <path d=\"M 0 0 L 57.089844 0 L 57.089844 28.746094 L 0 28.746094 Z M 0 0 \"/>\n",
       "</clipPath>\n",
       "</defs>\n",
       "<g id=\"surface1\">\n",
       "<g clip-path=\"url(#clip1)\" clip-rule=\"nonzero\">\n",
       "<path d=\"M 3.523656 3.522562 L 21.301 21.303812 C 25.191625 25.194437 32.808813 28.346781 38.308813 28.346781 L 46.730688 28.346781 C 52.234594 28.346781 56.695531 23.885844 56.695531 18.385844 L 56.695531 -0.000875 L 4.980688 -0.000875 C 2.230688 -0.000875 1.578344 1.57725 3.523656 3.522562 Z M 3.523656 3.522562 \" style=\"fill:none;stroke-width:0.3985;stroke-linecap:butt;stroke-linejoin:miter;stroke:rgb(0%,0%,0%);stroke-opacity:1;stroke-miterlimit:10;\" transform=\"matrix(1,0,0,-1,0.199,28.546)\"/>\n",
       "</g>\n",
       "</g>\n",
       "</svg>"
      ]
     },
     "metadata": {
      "isolated": "true"
     },
     "output_type": "display_data"
    }
   ],
   "source": [
    "%%tikz -f svg\n",
    "\\draw (0,0) [rounded corners=10pt] -- (1,1) -- (2,1)\n",
    "[sharp corners] -- (2,0)\n",
    "[rounded corners=5pt] -- cycle;"
   ]
  },
  {
   "cell_type": "markdown",
   "metadata": {
    "hidden": true
   },
   "source": [
    "You should be aware, that there are several pitfalls when using this option. First, the rounded corner\n",
    "will only be an arc (part of a circle) if the angle is 90 ◦ . In other cases, the rounded corner will still be\n",
    "round, but “not as nice.”"
   ]
  },
  {
   "cell_type": "markdown",
   "metadata": {
    "heading_collapsed": true
   },
   "source": [
    "# Circle and ellipse"
   ]
  },
  {
   "cell_type": "code",
   "execution_count": 38,
   "metadata": {
    "hidden": true
   },
   "outputs": [
    {
     "data": {
      "image/svg+xml": [
       "<svg height=\"240px\" version=\"1.1\" viewBox=\"0 0 85.438 85.438\" width=\"400px\" xmlns=\"http://www.w3.org/2000/svg\" xmlns:xlink=\"http://www.w3.org/1999/xlink\">\n",
       "<defs>\n",
       "<clipPath id=\"clip1\">\n",
       "  <path d=\"M 0 0 L 85.4375 0 L 85.4375 85.4375 L 0 85.4375 Z M 0 0 \"/>\n",
       "</clipPath>\n",
       "</defs>\n",
       "<g id=\"surface1\">\n",
       "<g clip-path=\"url(#clip1)\" clip-rule=\"nonzero\">\n",
       "<path d=\"M 70.866281 0.00025 C 70.866281 23.484625 51.831125 42.519781 28.34675 42.519781 C 4.862375 42.519781 -14.172781 23.484625 -14.172781 0.00025 C -14.172781 -23.484125 4.862375 -42.519281 28.34675 -42.519281 C 51.831125 -42.519281 70.866281 -23.484125 70.866281 0.00025 Z M 70.866281 0.00025 \" style=\"fill:none;stroke-width:0.3985;stroke-linecap:butt;stroke-linejoin:miter;stroke:rgb(0%,0%,0%);stroke-opacity:1;stroke-miterlimit:10;\" transform=\"matrix(1,0,0,-1,14.372,42.719)\"/>\n",
       "</g>\n",
       "<path d=\"M 67.269531 28.546875 C 63.355469 21.765625 49.191406 22.617188 35.632812 30.445312 C 22.074219 38.273438 14.253906 50.113281 18.167969 56.890625 C 22.082031 63.671875 36.246094 62.820312 49.804688 54.992188 C 63.363281 47.164062 71.183594 35.324219 67.269531 28.546875 Z M 67.269531 28.546875 \" style=\" stroke:none;fill-rule:nonzero;fill:rgb(0%,0%,100%);fill-opacity:1;\"/>\n",
       "</g>\n",
       "</svg>"
      ]
     },
     "metadata": {
      "isolated": "true"
     },
     "output_type": "display_data"
    }
   ],
   "source": [
    "%%tikz -f svg\n",
    "\n",
    "\\draw (1,0) circle [radius=1.5];\n",
    "\\fill[color=blue] (1,0) circle [x radius=1cm, y radius=5mm, rotate=30];"
   ]
  },
  {
   "cell_type": "markdown",
   "metadata": {
    "hidden": true
   },
   "source": [
    "It is possible to set the radius also in some enclosing scope, in this case the options can be left out (but\n",
    "see the note below on what may follow):"
   ]
  },
  {
   "cell_type": "code",
   "execution_count": 40,
   "metadata": {
    "hidden": true
   },
   "outputs": [
    {
     "data": {
      "image/svg+xml": [
       "<svg height=\"240px\" version=\"1.1\" viewBox=\"0 0 61.076 89.423\" width=\"400px\" xmlns=\"http://www.w3.org/2000/svg\" xmlns:xlink=\"http://www.w3.org/1999/xlink\">\n",
       "<defs>\n",
       "<clipPath id=\"clip1\">\n",
       "  <path d=\"M 0 0 L 61.074219 0 L 61.074219 89.421875 L 0 89.421875 Z M 0 0 \"/>\n",
       "</clipPath>\n",
       "</defs>\n",
       "<g id=\"surface1\">\n",
       "<g clip-path=\"url(#clip1)\" clip-rule=\"nonzero\">\n",
       "<path d=\"M 1.991 -0.0000625 C 1.991 1.1015 1.100375 1.992125 -0.0011875 1.992125 C -1.098844 1.992125 -1.993375 1.1015 -1.993375 -0.0000625 C -1.993375 -1.101625 -1.098844 -1.99225 -0.0011875 -1.99225 C 1.100375 -1.99225 1.991 -1.101625 1.991 -0.0000625 Z M -0.0011875 -0.0000625 L 28.346469 28.347594 M 30.338656 28.347594 C 30.338656 29.449156 29.448031 30.339781 28.346469 30.339781 C 27.244906 30.339781 26.354281 29.449156 26.354281 28.347594 C 26.354281 27.246031 27.244906 26.355406 28.346469 26.355406 C 29.448031 26.355406 30.338656 27.246031 30.338656 28.347594 Z M 30.338656 28.347594 C 30.338656 29.449156 29.448031 30.339781 28.346469 30.339781 C 27.244906 30.339781 26.354281 29.449156 26.354281 28.347594 C 26.354281 27.246031 27.244906 26.355406 28.346469 26.355406 C 29.448031 26.355406 30.338656 27.246031 30.338656 28.347594 Z M 28.346469 28.347594 L 28.346469 56.69525 M 30.338656 56.69525 C 30.338656 57.792906 29.448031 58.687438 28.346469 58.687438 C 27.244906 58.687438 26.354281 57.792906 26.354281 56.69525 C 26.354281 55.593688 27.244906 54.699156 28.346469 54.699156 C 29.448031 54.699156 30.338656 55.593688 30.338656 56.69525 Z M 28.346469 56.69525 L 56.694125 85.039 M 58.686312 85.039 C 58.686312 86.140563 57.795687 87.031188 56.694125 87.031188 C 55.592562 87.031188 54.701937 86.140563 54.701937 85.039 C 54.701937 83.941344 55.592562 83.046813 56.694125 83.046813 C 57.795687 83.046813 58.686312 83.941344 58.686312 85.039 Z M 58.686312 85.039 \" style=\"fill:none;stroke-width:0.3985;stroke-linecap:butt;stroke-linejoin:miter;stroke:rgb(0%,0%,0%);stroke-opacity:1;stroke-miterlimit:10;\" transform=\"matrix(1,0,0,-1,4.384,85.039)\"/>\n",
       "</g>\n",
       "</g>\n",
       "</svg>"
      ]
     },
     "metadata": {
      "isolated": "true"
     },
     "output_type": "display_data"
    }
   ],
   "source": [
    "%%tikz -f svg\n",
    "\n",
    "\\begin{tikzpicture}[radius=2pt]\n",
    "\\draw (0,0) circle -- (1,1) circle circle -- ++(0,1) circle -- ++(1,1) circle;\n",
    "\\end{tikzpicture}"
   ]
  },
  {
   "cell_type": "markdown",
   "metadata": {},
   "source": [
    "# Arc operation"
   ]
  },
  {
   "cell_type": "markdown",
   "metadata": {},
   "source": [
    "The arc operation adds a part of an ellipse to the current path. The radii of the ellipse are given by\n",
    "the values of x radius and y radius, which should be set in the hoptionsi. The arc will start at the\n",
    "current point and will end at the end of the arc. The arc will start and end at angles computed from the\n",
    "three keys start angle, end angle, and delta angle."
   ]
  },
  {
   "cell_type": "code",
   "execution_count": 54,
   "metadata": {},
   "outputs": [
    {
     "data": {
      "image/svg+xml": [
       "<svg height=\"400px\" version=\"1.1\" viewBox=\"0 0 227.17 57.091\" width=\"500px\" xmlns=\"http://www.w3.org/2000/svg\" xmlns:xlink=\"http://www.w3.org/1999/xlink\">\n",
       "<defs>\n",
       "<clipPath id=\"clip1\">\n",
       "  <path d=\"M 164 0 L 227.171875 0 L 227.171875 20 L 164 20 Z M 164 0 \"/>\n",
       "</clipPath>\n",
       "</defs>\n",
       "<g id=\"surface1\">\n",
       "<path d=\"M 0.0004375 0.000000000000003553 C 0.0004375 15.65625 12.691844 28.347656 28.348094 28.347656 \" style=\"fill:none;stroke-width:0.3985;stroke-linecap:butt;stroke-linejoin:miter;stroke:rgb(0%,0%,0%);stroke-opacity:1;stroke-miterlimit:10;\" transform=\"matrix(1,0,0,-1,0.398,0.000000000000003553)\"/>\n",
       "<path d=\"M 56.691844 14.171875 C 72.348094 14.171875 85.0395 1.480469 85.0395 -14.171875 \" style=\"fill:none;stroke-width:0.3985;stroke-linecap:butt;stroke-linejoin:miter;stroke:rgb(0%,0%,0%);stroke-opacity:1;stroke-miterlimit:10;\" transform=\"matrix(1,0,0,-1,0.398,0.000000000000003553)\"/>\n",
       "<path d=\"M 113.387156 -28.347656 L 137.937938 -14.171875 C 135.449656 -9.867187 131.867625 -6.285156 127.559031 -3.796875 Z M 113.387156 -28.347656 \" style=\"fill:none;stroke-width:0.3985;stroke-linecap:butt;stroke-linejoin:miter;stroke:rgb(0%,0%,0%);stroke-opacity:1;stroke-miterlimit:10;\" transform=\"matrix(1,0,0,-1,0.398,0.000000000000003553)\"/>\n",
       "<g clip-path=\"url(#clip1)\" clip-rule=\"nonzero\">\n",
       "<path d=\"M 226.773875 0.000000000000003553 C 226.773875 7.828125 214.082469 14.171875 198.426219 14.171875 C 182.773875 14.171875 170.082469 7.828125 170.082469 0.000000000000003553 C 170.082469 -7.828125 182.773875 -14.171875 198.426219 -14.171875 Z M 226.773875 0.000000000000003553 \" style=\"fill:none;stroke-width:0.3985;stroke-linecap:butt;stroke-linejoin:miter;stroke:rgb(0%,0%,0%);stroke-opacity:1;stroke-miterlimit:10;\" transform=\"matrix(1,0,0,-1,0.398,0.000000000000003553)\"/>\n",
       "</g>\n",
       "</g>\n",
       "</svg>"
      ]
     },
     "metadata": {
      "isolated": "true"
     },
     "output_type": "display_data"
    }
   ],
   "source": [
    "%%tikz -f svg --size 500,400\n",
    "\n",
    "\\begin{tikzpicture}[radius=1cm]\n",
    "\n",
    "\\draw (0,0) arc[start angle=180, end angle=90];\n",
    "\\draw (2,0.5) arc[start angle=90, delta angle=-90];\n",
    "\\draw (4,-1) -- +(30:1cm) arc [start angle=30, delta angle=30] -- cycle;\n",
    "\n",
    "\\draw (8,0) arc [start angle=0, end angle=270, x radius=1cm, y radius=5mm] -- cycle;\n",
    "\n",
    "\\end{tikzpicture}"
   ]
  },
  {
   "cell_type": "code",
   "execution_count": null,
   "metadata": {},
   "outputs": [],
   "source": []
  },
  {
   "cell_type": "code",
   "execution_count": null,
   "metadata": {},
   "outputs": [],
   "source": []
  },
  {
   "cell_type": "code",
   "execution_count": null,
   "metadata": {},
   "outputs": [],
   "source": []
  },
  {
   "cell_type": "code",
   "execution_count": null,
   "metadata": {},
   "outputs": [],
   "source": []
  },
  {
   "cell_type": "code",
   "execution_count": null,
   "metadata": {},
   "outputs": [],
   "source": []
  }
 ],
 "metadata": {
  "kernelspec": {
   "display_name": "Python 3",
   "language": "python",
   "name": "python3"
  },
  "language_info": {
   "codemirror_mode": {
    "name": "ipython",
    "version": 3
   },
   "file_extension": ".py",
   "mimetype": "text/x-python",
   "name": "python",
   "nbconvert_exporter": "python",
   "pygments_lexer": "ipython3",
   "version": "3.7.3"
  }
 },
 "nbformat": 4,
 "nbformat_minor": 2
}
