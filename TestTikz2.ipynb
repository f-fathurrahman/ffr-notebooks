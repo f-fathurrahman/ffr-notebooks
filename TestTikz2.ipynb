{
 "cells": [
  {
   "cell_type": "markdown",
   "metadata": {},
   "source": [
    "Test TikZ (again)"
   ]
  },
  {
   "cell_type": "code",
   "execution_count": 2,
   "metadata": {},
   "outputs": [],
   "source": [
    "%load_ext tikzmagic"
   ]
  },
  {
   "cell_type": "code",
   "execution_count": 2,
   "metadata": {},
   "outputs": [
    {
     "data": {
      "image/svg+xml": [
       "<svg height=\"240px\" version=\"1.1\" viewBox=\"0 0 28.745 28.745\" width=\"400px\" xmlns=\"http://www.w3.org/2000/svg\" xmlns:xlink=\"http://www.w3.org/1999/xlink\">\n",
       "<g id=\"surface1\">\n",
       "<path d=\"M 0.00021875 -0.000875 L 0.00021875 28.346781 L 28.347875 28.346781 L 28.347875 -0.000875 Z M 0.00021875 -0.000875 \" style=\"fill:none;stroke-width:0.3985;stroke-linecap:butt;stroke-linejoin:miter;stroke:rgb(0%,0%,0%);stroke-opacity:1;stroke-miterlimit:10;\" transform=\"matrix(1,0,0,-1,0.199,28.546)\"/>\n",
       "<path d=\"M 17.008031 14.174906 C 17.008031 15.737406 15.7385 17.006937 14.172094 17.006937 C 12.609594 17.006937 11.340063 15.737406 11.340063 14.174906 C 11.340063 12.6085 12.609594 11.338969 14.172094 11.338969 C 15.7385 11.338969 17.008031 12.6085 17.008031 14.174906 Z M 17.008031 14.174906 \" style=\"fill-rule:nonzero;fill:rgb(0%,0%,0%);fill-opacity:1;stroke-width:0.3985;stroke-linecap:butt;stroke-linejoin:miter;stroke:rgb(0%,0%,0%);stroke-opacity:1;stroke-miterlimit:10;\" transform=\"matrix(1,0,0,-1,0.199,28.546)\"/>\n",
       "</g>\n",
       "</svg>"
      ]
     },
     "metadata": {
      "isolated": "true"
     },
     "output_type": "display_data"
    }
   ],
   "source": [
    "%%tikz -f svg\n",
    "\\draw (0,0) rectangle (1,1);\n",
    "\\filldraw (0.5,0.5) circle (.1);"
   ]
  },
  {
   "cell_type": "code",
   "execution_count": 9,
   "metadata": {},
   "outputs": [
    {
     "data": {
      "image/svg+xml": [
       "<svg height=\"100px\" version=\"1.1\" viewBox=\"0 0 25.305 25.305\" width=\"100px\" xmlns=\"http://www.w3.org/2000/svg\" xmlns:xlink=\"http://www.w3.org/1999/xlink\">\n",
       "<defs>\n",
       "<clipPath id=\"clip1\">\n",
       "  <path d=\"M 0 0 L 25.304688 0 L 25.304688 25.304688 L 0 25.304688 Z M 0 0 \"/>\n",
       "</clipPath>\n",
       "</defs>\n",
       "<g id=\"surface1\">\n",
       "<g clip-path=\"url(#clip1)\" clip-rule=\"nonzero\">\n",
       "<path d=\"M 24.906469 0.00053125 L 0.00021875 0.00053125 L 0.00021875 24.906781 Z M 24.906469 0.00053125 \" style=\"fill:none;stroke-width:0.3985;stroke-linecap:butt;stroke-linejoin:miter;stroke:rgb(0%,0%,0%);stroke-opacity:1;stroke-miterlimit:10;\" transform=\"matrix(1,0,0,-1,0.199,25.106)\"/>\n",
       "</g>\n",
       "</g>\n",
       "</svg>"
      ]
     },
     "metadata": {
      "isolated": "true"
     },
     "output_type": "display_data"
    }
   ],
   "source": [
    "%%tikz -f svg -sc 5.0 --size 100,100\n",
    "\n",
    "\\draw (5pt,0pt) -- (0pt,0pt) --( 0pt,5pt) -- cycle;"
   ]
  },
  {
   "cell_type": "code",
   "execution_count": 4,
   "metadata": {},
   "outputs": [
    {
     "data": {
      "image/svg+xml": [
       "<svg height=\"240px\" version=\"1.1\" viewBox=\"0 0 51.806 51.806\" width=\"400px\" xmlns=\"http://www.w3.org/2000/svg\" xmlns:xlink=\"http://www.w3.org/1999/xlink\">\n",
       "<defs>\n",
       "<clipPath id=\"clip1\">\n",
       "  <path d=\"M 0 0 L 51.804688 0 L 51.804688 51.804688 L 0 51.804688 Z M 0 0 \"/>\n",
       "</clipPath>\n",
       "</defs>\n",
       "<g id=\"surface1\">\n",
       "<g clip-path=\"url(#clip1)\" clip-rule=\"nonzero\">\n",
       "<path d=\"M 49.812594 0.00140625 L 0.00009375 0.00140625 L 0.00009375 49.813906 Z M 49.812594 0.00140625 \" style=\"fill:none;stroke-width:1.99255;stroke-linecap:butt;stroke-linejoin:miter;stroke:rgb(100%,0%,0%);stroke-opacity:1;stroke-miterlimit:10;\" transform=\"matrix(1,0,0,-1,0.996,50.81)\"/>\n",
       "</g>\n",
       "</g>\n",
       "</svg>"
      ]
     },
     "metadata": {
      "isolated": "true"
     },
     "output_type": "display_data"
    }
   ],
   "source": [
    "%%tikz -f svg -sc 10.0\n",
    "\n",
    "\\draw[line width=2pt,color=red] (5pt,0pt) -- (0pt,0pt) -- (0pt,5pt) -- cycle;"
   ]
  },
  {
   "cell_type": "code",
   "execution_count": 5,
   "metadata": {},
   "outputs": [
    {
     "data": {
      "image/svg+xml": [
       "<svg height=\"240px\" version=\"1.1\" viewBox=\"0 0 143.725 143.725\" width=\"400px\" xmlns=\"http://www.w3.org/2000/svg\" xmlns:xlink=\"http://www.w3.org/1999/xlink\">\n",
       "<g id=\"surface1\">\n",
       "<path d=\"M 141.734469 -0.00146875 L 0.00009375 -0.00146875 L 0.00009375 141.732906 Z M 141.734469 -0.00146875 \" style=\"fill:none;stroke-width:1.99255;stroke-linecap:butt;stroke-linejoin:miter;stroke:rgb(100%,0%,0%);stroke-opacity:1;stroke-miterlimit:10;\" transform=\"matrix(1,0,0,-1,0.996,142.729)\"/>\n",
       "</g>\n",
       "</svg>"
      ]
     },
     "metadata": {
      "isolated": "true"
     },
     "output_type": "display_data"
    }
   ],
   "source": [
    "%%tikz -f svg -sc 1.0\n",
    "\n",
    "\\draw[line width=2pt,color=red] (5,0) -- (0,0) -- (0,5) -- cycle;"
   ]
  },
  {
   "cell_type": "code",
   "execution_count": 16,
   "metadata": {},
   "outputs": [
    {
     "data": {
      "image/svg+xml": [
       "<svg height=\"240px\" version=\"1.1\" viewBox=\"0 0 29.343 29.343\" width=\"400px\" xmlns=\"http://www.w3.org/2000/svg\" xmlns:xlink=\"http://www.w3.org/1999/xlink\">\n",
       "<g id=\"surface1\">\n",
       "<path d=\"M 28.34575 0.00125 L -0.00190625 0.00125 L -0.00190625 28.345 Z M 28.34575 0.00125 \" style=\"fill:none;stroke-width:0.99628;stroke-linecap:butt;stroke-linejoin:miter;stroke:rgb(0%,0%,100%);stroke-opacity:1;stroke-miterlimit:10;\" transform=\"matrix(1,0,0,-1,0.498,28.845)\"/>\n",
       "</g>\n",
       "</svg>"
      ]
     },
     "metadata": {
      "isolated": "true"
     },
     "output_type": "display_data"
    }
   ],
   "source": [
    "%%tikz -f svg -sc 1.0\n",
    "\n",
    "\\draw[line width=1,color=blue] (1,0) -- (0,0) -- (0,1) -- cycle;"
   ]
  },
  {
   "cell_type": "code",
   "execution_count": 20,
   "metadata": {},
   "outputs": [
    {
     "data": {
      "image/svg+xml": [
       "<svg height=\"240px\" version=\"1.1\" viewBox=\"0 0 82.314 63.243\" width=\"400px\" xmlns=\"http://www.w3.org/2000/svg\" xmlns:xlink=\"http://www.w3.org/1999/xlink\">\n",
       "<defs>\n",
       "<g>\n",
       "<symbol id=\"glyph0-0\" overflow=\"visible\">\n",
       "<path d=\"\" style=\"stroke:none;\"/>\n",
       "</symbol>\n",
       "<symbol id=\"glyph0-1\" overflow=\"visible\">\n",
       "<path d=\"M 3.734375 -6.125 C 3.796875 -6.359375 3.828125 -6.453125 4.015625 -6.484375 C 4.109375 -6.5 4.421875 -6.5 4.625 -6.5 C 5.328125 -6.5 6.4375 -6.5 6.4375 -5.515625 C 6.4375 -5.171875 6.28125 -4.484375 5.890625 -4.09375 C 5.625 -3.84375 5.109375 -3.515625 4.203125 -3.515625 L 3.09375 -3.515625 Z M 5.171875 -3.390625 C 6.1875 -3.609375 7.359375 -4.3125 7.359375 -5.3125 C 7.359375 -6.171875 6.46875 -6.8125 5.15625 -6.8125 L 2.328125 -6.8125 C 2.125 -6.8125 2.03125 -6.8125 2.03125 -6.609375 C 2.03125 -6.5 2.125 -6.5 2.3125 -6.5 C 2.328125 -6.5 2.515625 -6.5 2.6875 -6.484375 C 2.875 -6.453125 2.953125 -6.453125 2.953125 -6.3125 C 2.953125 -6.28125 2.953125 -6.25 2.921875 -6.125 L 1.578125 -0.78125 C 1.484375 -0.390625 1.46875 -0.3125 0.671875 -0.3125 C 0.5 -0.3125 0.40625 -0.3125 0.40625 -0.109375 C 0.40625 0 0.53125 0 0.546875 0 C 0.828125 0 1.53125 -0.03125 1.796875 -0.03125 C 2.078125 -0.03125 2.796875 0 3.078125 0 C 3.15625 0 3.265625 0 3.265625 -0.203125 C 3.265625 -0.3125 3.1875 -0.3125 2.984375 -0.3125 C 2.625 -0.3125 2.34375 -0.3125 2.34375 -0.484375 C 2.34375 -0.546875 2.359375 -0.59375 2.375 -0.65625 L 3.03125 -3.296875 L 4.21875 -3.296875 C 5.125 -3.296875 5.296875 -2.734375 5.296875 -2.390625 C 5.296875 -2.25 5.21875 -1.9375 5.15625 -1.703125 C 5.09375 -1.421875 5 -1.0625 5 -0.859375 C 5 0.21875 6.203125 0.21875 6.328125 0.21875 C 7.171875 0.21875 7.53125 -0.78125 7.53125 -0.921875 C 7.53125 -1.046875 7.421875 -1.046875 7.40625 -1.046875 C 7.3125 -1.046875 7.296875 -0.984375 7.28125 -0.90625 C 7.03125 -0.171875 6.59375 0 6.375 0 C 6.046875 0 5.96875 -0.21875 5.96875 -0.609375 C 5.96875 -0.921875 6.03125 -1.421875 6.078125 -1.75 C 6.09375 -1.890625 6.109375 -2.078125 6.109375 -2.21875 C 6.109375 -2.984375 5.4375 -3.296875 5.171875 -3.390625 Z M 5.171875 -3.390625 \" style=\"stroke:none;\"/>\n",
       "</symbol>\n",
       "<symbol id=\"glyph1-0\" overflow=\"visible\">\n",
       "<path d=\"\" style=\"stroke:none;\"/>\n",
       "</symbol>\n",
       "<symbol id=\"glyph1-1\" overflow=\"visible\">\n",
       "<path d=\"M 2.328125 -4.4375 C 2.328125 -4.625 2.328125 -4.625 2.125 -4.625 C 1.671875 -4.1875 1.046875 -4.1875 0.765625 -4.1875 L 0.765625 -3.9375 C 0.921875 -3.9375 1.390625 -3.9375 1.765625 -4.125 L 1.765625 -0.578125 C 1.765625 -0.34375 1.765625 -0.25 1.078125 -0.25 L 0.8125 -0.25 L 0.8125 0 C 0.9375 0 1.796875 -0.03125 2.046875 -0.03125 C 2.265625 -0.03125 3.140625 0 3.296875 0 L 3.296875 -0.25 L 3.03125 -0.25 C 2.328125 -0.25 2.328125 -0.34375 2.328125 -0.578125 Z M 2.328125 -4.4375 \" style=\"stroke:none;\"/>\n",
       "</symbol>\n",
       "<symbol id=\"glyph1-2\" overflow=\"visible\">\n",
       "<path d=\"M 3.515625 -1.265625 L 3.28125 -1.265625 C 3.265625 -1.109375 3.1875 -0.703125 3.09375 -0.640625 C 3.046875 -0.59375 2.515625 -0.59375 2.40625 -0.59375 L 1.125 -0.59375 C 1.859375 -1.234375 2.109375 -1.4375 2.515625 -1.765625 C 3.03125 -2.171875 3.515625 -2.609375 3.515625 -3.265625 C 3.515625 -4.109375 2.78125 -4.625 1.890625 -4.625 C 1.03125 -4.625 0.4375 -4.015625 0.4375 -3.375 C 0.4375 -3.03125 0.734375 -2.984375 0.8125 -2.984375 C 0.96875 -2.984375 1.171875 -3.109375 1.171875 -3.359375 C 1.171875 -3.484375 1.125 -3.734375 0.765625 -3.734375 C 0.984375 -4.21875 1.453125 -4.375 1.78125 -4.375 C 2.484375 -4.375 2.84375 -3.828125 2.84375 -3.265625 C 2.84375 -2.65625 2.40625 -2.1875 2.1875 -1.9375 L 0.515625 -0.265625 C 0.4375 -0.203125 0.4375 -0.1875 0.4375 0 L 3.3125 0 Z M 3.515625 -1.265625 \" style=\"stroke:none;\"/>\n",
       "</symbol>\n",
       "</g>\n",
       "<clipPath id=\"clip1\">\n",
       "  <path d=\"M 25 56 L 82.3125 56 L 82.3125 58 L 25 58 Z M 25 56 \"/>\n",
       "</clipPath>\n",
       "<clipPath id=\"clip2\">\n",
       "  <path d=\"M 37 50 L 71 50 L 71 63.242188 L 37 63.242188 Z M 37 50 \"/>\n",
       "</clipPath>\n",
       "</defs>\n",
       "<g id=\"surface1\">\n",
       "<g clip-path=\"url(#clip1)\" clip-rule=\"nonzero\">\n",
       "<path d=\"M -0.000125 0.001375 L 0.199094 0.001375 M -0.000125 0.001375 L 12.472531 0.001375 M 44.222531 0.001375 L 56.695188 0.001375 M 56.495969 0.001375 L 56.695188 0.001375 \" style=\"fill:none;stroke-width:0.3985;stroke-linecap:butt;stroke-linejoin:miter;stroke:rgb(0%,0%,0%);stroke-opacity:1;stroke-miterlimit:10;\" transform=\"matrix(1,0,0,-1,25.422,56.892)\"/>\n",
       "</g>\n",
       "<g clip-path=\"url(#clip2)\" clip-rule=\"nonzero\">\n",
       "<path d=\"M 12.074094 0.001375 L 15.152219 5.9545 L 20.507688 -5.95175 L 25.867063 5.9545 L 31.226438 -5.95175 L 36.581906 5.9545 L 41.941281 -5.95175 L 44.620969 0.001375 \" style=\"fill:none;stroke-width:0.797;stroke-linecap:butt;stroke-linejoin:bevel;stroke:rgb(0%,0%,0%);stroke-opacity:1;stroke-miterlimit:10;\" transform=\"matrix(1,0,0,-1,25.422,56.892)\"/>\n",
       "</g>\n",
       "<g style=\"fill:rgb(0%,0%,0%);fill-opacity:1;\">\n",
       "  <use x=\"47.752\" xlink:href=\"#glyph0-1\" y=\"46.054\"/>\n",
       "</g>\n",
       "<g style=\"fill:rgb(0%,0%,0%);fill-opacity:1;\">\n",
       "  <use x=\"55.316\" xlink:href=\"#glyph1-1\" y=\"47.549\"/>\n",
       "</g>\n",
       "<path d=\"M -0.000125 0.001375 L -0.000125 0.200594 M -0.000125 0.001375 L -0.000125 12.474031 M -0.000125 44.220125 L -0.000125 56.692781 M -0.000125 56.493563 L -0.000125 56.692781 \" style=\"fill:none;stroke-width:0.3985;stroke-linecap:butt;stroke-linejoin:miter;stroke:rgb(0%,0%,0%);stroke-opacity:1;stroke-miterlimit:10;\" transform=\"matrix(1,0,0,-1,25.422,56.892)\"/>\n",
       "<path d=\"M -0.000125 12.075594 L -5.95325 15.149813 L 5.953 20.509188 L -5.95325 25.868563 L 5.953 31.224031 L -5.95325 36.583406 L 5.953 41.938875 L -0.000125 44.618563 \" style=\"fill:none;stroke-width:0.797;stroke-linecap:butt;stroke-linejoin:bevel;stroke:rgb(0%,0%,0%);stroke-opacity:1;stroke-miterlimit:10;\" transform=\"matrix(1,0,0,-1,25.422,56.892)\"/>\n",
       "<g style=\"fill:rgb(0%,0%,0%);fill-opacity:1;\">\n",
       "  <use x=\"3.321\" xlink:href=\"#glyph0-1\" y=\"30.69\"/>\n",
       "</g>\n",
       "<g style=\"fill:rgb(0%,0%,0%);fill-opacity:1;\">\n",
       "  <use x=\"10.885\" xlink:href=\"#glyph1-2\" y=\"32.184\"/>\n",
       "</g>\n",
       "</g>\n",
       "</svg>"
      ]
     },
     "metadata": {
      "isolated": "true"
     },
     "output_type": "display_data"
    }
   ],
   "source": [
    "%%tikz -p circuitikz -f svg -sc 1.0\n",
    "\\draw (0,0) to[R=$R_1$] (2,0);\n",
    "\\draw (0,0) to[R=$R_2$] (0,2);"
   ]
  },
  {
   "cell_type": "markdown",
   "metadata": {},
   "source": [
    "# Using preamble"
   ]
  },
  {
   "cell_type": "code",
   "execution_count": 25,
   "metadata": {},
   "outputs": [],
   "source": [
    "preamble = \"\"\"\n",
    "    \\definecolor{myblue}{RGB}{66,164,233}\n",
    "\"\"\""
   ]
  },
  {
   "cell_type": "code",
   "execution_count": 26,
   "metadata": {},
   "outputs": [
    {
     "data": {
      "image/png": "[encoded data removed]"
     },
     "metadata": {},
     "output_type": "display_data"
    }
   ],
   "source": [
    "%%tikz -x $preamble\n",
    "\\draw[fill=myblue] (0,0) rectangle (1,2);"
   ]
  },
  {
   "cell_type": "code",
   "execution_count": 39,
   "metadata": {},
   "outputs": [],
   "source": [
    "preamble = r\"\"\"\n",
    "\\definecolor{myblue}{RGB}{66,164,233}\n",
    "\"\"\""
   ]
  },
  {
   "cell_type": "code",
   "execution_count": 45,
   "metadata": {},
   "outputs": [
    {
     "data": {
      "image/svg+xml": [
       "<svg height=\"240px\" version=\"1.1\" viewBox=\"0 0 40.403 44.397\" width=\"400px\" xmlns=\"http://www.w3.org/2000/svg\" xmlns:xlink=\"http://www.w3.org/1999/xlink\">\n",
       "<defs>\n",
       "<g>\n",
       "<symbol id=\"glyph0-0\" overflow=\"visible\">\n",
       "<path d=\"\" style=\"stroke:none;\"/>\n",
       "</symbol>\n",
       "<symbol id=\"glyph0-1\" overflow=\"visible\">\n",
       "<path d=\"M 1.578125 -7.125 C 1.578125 -7.296875 1.578125 -7.484375 1.390625 -7.484375 C 1.1875 -7.484375 1.1875 -7.296875 1.1875 -7.125 L 1.1875 2.140625 C 1.1875 2.3125 1.1875 2.5 1.390625 2.5 C 1.578125 2.5 1.578125 2.3125 1.578125 2.140625 Z M 1.578125 -7.125 \" style=\"stroke:none;\"/>\n",
       "</symbol>\n",
       "<symbol id=\"glyph0-2\" overflow=\"visible\">\n",
       "<path d=\"M 2.71875 -2.328125 C 2.765625 -2.4375 2.765625 -2.46875 2.765625 -2.5 C 2.765625 -2.515625 2.765625 -2.546875 2.71875 -2.65625 L 0.984375 -7.25 C 0.921875 -7.421875 0.859375 -7.484375 0.75 -7.484375 C 0.640625 -7.484375 0.546875 -7.390625 0.546875 -7.28125 C 0.546875 -7.25 0.546875 -7.234375 0.59375 -7.125 L 2.359375 -2.5 L 0.59375 2.109375 C 0.546875 2.21875 0.546875 2.25 0.546875 2.296875 C 0.546875 2.40625 0.640625 2.5 0.75 2.5 C 0.875 2.5 0.921875 2.390625 0.953125 2.296875 Z M 2.71875 -2.328125 \" style=\"stroke:none;\"/>\n",
       "</symbol>\n",
       "<symbol id=\"glyph1-0\" overflow=\"visible\">\n",
       "<path d=\"\" style=\"stroke:none;\"/>\n",
       "</symbol>\n",
       "<symbol id=\"glyph1-1\" overflow=\"visible\">\n",
       "<path d=\"M 4.25 -6.015625 C 4.25 -6.359375 4.25 -6.5 5.203125 -6.5 L 5.53125 -6.5 L 5.53125 -6.8125 C 5.171875 -6.78125 4.25 -6.78125 3.84375 -6.78125 C 3.4375 -6.78125 2.515625 -6.78125 2.15625 -6.8125 L 2.15625 -6.5 L 2.484375 -6.5 C 3.421875 -6.5 3.421875 -6.375 3.421875 -6.015625 L 3.421875 -1.59375 C 2.125 -1.9375 2.078125 -3.484375 2.078125 -4.125 C 2.0625 -5.328125 1.625 -5.515625 1.1875 -5.515625 L 0.8125 -5.515625 C 0.671875 -5.515625 0.5625 -5.515625 0.5625 -5.40625 C 0.5625 -5.359375 0.59375 -5.3125 0.65625 -5.296875 C 0.984375 -5.265625 1.234375 -5.125 1.25 -3.953125 C 1.25 -3.71875 1.28125 -2.9375 1.75 -2.265625 C 2.140625 -1.71875 2.75 -1.4375 3.421875 -1.34375 L 3.421875 -0.78125 C 3.421875 -0.453125 3.421875 -0.3125 2.484375 -0.3125 L 2.15625 -0.3125 L 2.15625 0 C 2.515625 -0.03125 3.421875 -0.03125 3.84375 -0.03125 C 4.25 -0.03125 5.171875 -0.03125 5.53125 0 L 5.53125 -0.3125 L 5.203125 -0.3125 C 4.25 -0.3125 4.25 -0.4375 4.25 -0.78125 L 4.25 -1.34375 C 4.96875 -1.4375 5.578125 -1.734375 5.96875 -2.25 C 6.484375 -2.953125 6.5 -3.75 6.5 -4.1875 C 6.5 -4.34375 6.515625 -5.234375 7.046875 -5.296875 C 7.109375 -5.3125 7.171875 -5.328125 7.171875 -5.40625 C 7.171875 -5.515625 7.09375 -5.515625 6.9375 -5.515625 L 6.5625 -5.515625 C 6.171875 -5.515625 5.6875 -5.453125 5.671875 -4 C 5.65625 -2.90625 5.328125 -1.859375 4.25 -1.59375 Z M 4.25 -6.015625 \" style=\"stroke:none;\"/>\n",
       "</symbol>\n",
       "<symbol id=\"glyph1-2\" overflow=\"visible\">\n",
       "<path d=\"M 4.078125 -2.296875 L 6.859375 -2.296875 C 7 -2.296875 7.1875 -2.296875 7.1875 -2.5 C 7.1875 -2.6875 7 -2.6875 6.859375 -2.6875 L 4.078125 -2.6875 L 4.078125 -5.484375 C 4.078125 -5.625 4.078125 -5.8125 3.875 -5.8125 C 3.671875 -5.8125 3.671875 -5.625 3.671875 -5.484375 L 3.671875 -2.6875 L 0.890625 -2.6875 C 0.75 -2.6875 0.5625 -2.6875 0.5625 -2.5 C 0.5625 -2.296875 0.75 -2.296875 0.890625 -2.296875 L 3.671875 -2.296875 L 3.671875 0.5 C 3.671875 0.640625 3.671875 0.828125 3.875 0.828125 C 4.078125 0.828125 4.078125 0.640625 4.078125 0.5 Z M 4.078125 -2.296875 \" style=\"stroke:none;\"/>\n",
       "</symbol>\n",
       "<symbol id=\"glyph1-3\" overflow=\"visible\">\n",
       "<path d=\"M 3.984375 -1.34375 C 5.515625 -1.46875 6.625 -2.390625 6.625 -3.40625 C 6.625 -4.4375 5.5 -5.34375 3.984375 -5.46875 L 3.984375 -6.015625 C 3.984375 -6.359375 3.984375 -6.5 4.921875 -6.5 L 5.25 -6.5 L 5.25 -6.8125 C 4.890625 -6.78125 3.984375 -6.78125 3.5625 -6.78125 C 3.15625 -6.78125 2.234375 -6.78125 1.875 -6.8125 L 1.875 -6.5 L 2.203125 -6.5 C 3.15625 -6.5 3.15625 -6.375 3.15625 -6.015625 L 3.15625 -5.46875 C 1.625 -5.3125 0.5625 -4.390625 0.5625 -3.40625 C 0.5625 -2.375 1.671875 -1.5 3.15625 -1.34375 L 3.15625 -0.78125 C 3.15625 -0.453125 3.15625 -0.3125 2.203125 -0.3125 L 1.875 -0.3125 L 1.875 0 C 2.234375 -0.03125 3.15625 -0.03125 3.5625 -0.03125 C 3.96875 -0.03125 4.890625 -0.03125 5.25 0 L 5.25 -0.3125 L 4.921875 -0.3125 C 3.984375 -0.3125 3.984375 -0.4375 3.984375 -0.78125 Z M 3.15625 -1.578125 C 1.734375 -1.765625 1.5625 -2.78125 1.5625 -3.40625 C 1.5625 -3.921875 1.65625 -5.03125 3.15625 -5.234375 Z M 3.984375 -5.25 C 5.359375 -5.078125 5.625 -4.171875 5.625 -3.40625 C 5.625 -2.8125 5.484375 -1.75 3.984375 -1.5625 Z M 3.984375 -5.25 \" style=\"stroke:none;\"/>\n",
       "</symbol>\n",
       "<symbol id=\"glyph2-0\" overflow=\"visible\">\n",
       "<path d=\"\" style=\"stroke:none;\"/>\n",
       "</symbol>\n",
       "<symbol id=\"glyph2-1\" overflow=\"visible\">\n",
       "<path d=\"M 3.234375 -5.765625 C 3.40625 -5.59375 3.640625 -5.59375 3.84375 -5.59375 C 4.09375 -5.59375 4.71875 -5.59375 4.71875 -5.90625 C 4.71875 -6.15625 4.328125 -6.171875 3.921875 -6.171875 C 3.8125 -6.171875 3.546875 -6.171875 3.296875 -6.078125 C 3.234375 -6.1875 3.21875 -6.234375 3.21875 -6.453125 C 3.21875 -6.59375 3.265625 -6.796875 3.265625 -6.8125 C 3.265625 -6.890625 3.21875 -6.953125 3.15625 -6.953125 C 2.96875 -6.953125 2.96875 -6.484375 2.96875 -6.453125 C 2.96875 -6.296875 3 -6.109375 3.078125 -5.96875 C 2.03125 -5.4375 0.453125 -3.59375 0.453125 -1.671875 C 0.453125 -0.265625 1.359375 0.046875 2.078125 0.28125 C 2.375 0.390625 2.40625 0.390625 2.6875 0.484375 C 2.90625 0.5625 3.3125 0.703125 3.3125 1.171875 C 3.3125 1.4375 3.125 1.828125 2.75 1.828125 C 2.5 1.828125 2.21875 1.703125 2.015625 1.53125 C 1.9375 1.46875 1.9375 1.453125 1.890625 1.453125 C 1.84375 1.453125 1.796875 1.5 1.796875 1.5625 C 1.796875 1.671875 2.21875 2.046875 2.75 2.046875 C 3.375 2.046875 3.84375 1.40625 3.84375 0.84375 C 3.84375 0.453125 3.65625 0.25 3.5625 0.171875 C 3.40625 -0.015625 3.203125 -0.078125 2.625 -0.28125 C 1.828125 -0.546875 1.671875 -0.59375 1.421875 -0.8125 C 1 -1.1875 1 -1.75 1 -1.9375 C 1 -3.484375 2.21875 -5.234375 3.234375 -5.765625 Z M 3.453125 -5.875 C 3.609375 -5.953125 3.78125 -5.953125 3.921875 -5.953125 C 4.25 -5.953125 4.28125 -5.9375 4.46875 -5.890625 C 4.390625 -5.859375 4.28125 -5.8125 3.84375 -5.8125 C 3.640625 -5.8125 3.5625 -5.8125 3.453125 -5.875 Z M 3.453125 -5.875 \" style=\"stroke:none;\"/>\n",
       "</symbol>\n",
       "<symbol id=\"glyph2-2\" overflow=\"visible\">\n",
       "<path d=\"M 1.53125 -3.046875 C 0.453125 -2.328125 0.234375 -1.390625 0.234375 -1.03125 C 0.234375 -0.5625 0.5 -0.28125 0.515625 -0.25 C 0.84375 0.078125 0.921875 0.125 1.671875 0.40625 L 2.875 0.875 C 3.03125 0.9375 3.234375 1 3.234375 1.296875 C 3.234375 1.53125 3.046875 1.828125 2.734375 1.828125 C 2.296875 1.828125 1.96875 1.578125 1.859375 1.5 C 1.796875 1.46875 1.796875 1.453125 1.75 1.453125 C 1.671875 1.453125 1.65625 1.53125 1.65625 1.5625 C 1.65625 1.6875 2.1875 2.046875 2.734375 2.046875 C 3.359375 2.046875 3.78125 1.46875 3.78125 0.984375 C 3.78125 0.5 3.40625 0.3125 3.296875 0.265625 C 3.15625 0.21875 2.828125 0.09375 2.6875 0.046875 C 2.5 -0.046875 2.296875 -0.125 2.078125 -0.1875 L 1.484375 -0.421875 C 1.03125 -0.609375 0.734375 -0.890625 0.734375 -1.3125 C 0.734375 -1.71875 1.125 -2.59375 1.96875 -3.015625 C 2.328125 -2.875 2.625 -2.875 2.84375 -2.875 C 3.140625 -2.875 3.765625 -2.875 3.765625 -3.1875 C 3.765625 -3.4375 3.34375 -3.453125 2.953125 -3.453125 C 2.765625 -3.453125 2.484375 -3.453125 2.109375 -3.34375 C 1.859375 -3.59375 1.8125 -3.921875 1.8125 -4.109375 C 1.8125 -4.671875 2.171875 -5.4375 2.921875 -5.8125 C 3.09375 -5.59375 3.328125 -5.59375 3.5625 -5.59375 C 3.8125 -5.59375 4.453125 -5.59375 4.453125 -5.90625 C 4.453125 -6.15625 4 -6.171875 3.625 -6.171875 C 3.484375 -6.171875 3.25 -6.171875 2.984375 -6.125 C 2.953125 -6.203125 2.9375 -6.28125 2.9375 -6.453125 C 2.9375 -6.59375 2.984375 -6.796875 2.984375 -6.8125 C 2.984375 -6.890625 2.9375 -6.953125 2.875 -6.953125 C 2.6875 -6.953125 2.6875 -6.484375 2.6875 -6.453125 C 2.6875 -6.265625 2.75 -6.109375 2.765625 -6.078125 C 1.6875 -5.765625 1.015625 -4.96875 1.015625 -4.203125 C 1.015625 -3.84375 1.203125 -3.421875 1.671875 -3.15625 Z M 3.15625 -5.90625 C 3.3125 -5.953125 3.515625 -5.953125 3.625 -5.953125 C 3.96875 -5.953125 4 -5.9375 4.1875 -5.890625 C 4.109375 -5.859375 4 -5.8125 3.5625 -5.8125 C 3.375 -5.8125 3.265625 -5.8125 3.15625 -5.90625 Z M 2.375 -3.1875 C 2.609375 -3.234375 2.828125 -3.234375 2.9375 -3.234375 C 3.296875 -3.234375 3.328125 -3.234375 3.515625 -3.1875 C 3.421875 -3.140625 3.328125 -3.09375 2.875 -3.09375 C 2.640625 -3.09375 2.546875 -3.09375 2.375 -3.1875 Z M 2.375 -3.1875 \" style=\"stroke:none;\"/>\n",
       "</symbol>\n",
       "</g>\n",
       "<clipPath id=\"clip1\">\n",
       "  <path d=\"M 0 27 L 40.402344 27 L 40.402344 44.398438 L 0 44.398438 Z M 0 27 \"/>\n",
       "</clipPath>\n",
       "</defs>\n",
       "<g id=\"surface1\">\n",
       "<g clip-path=\"url(#clip1)\" clip-rule=\"nonzero\">\n",
       "<path d=\"M 0 44.398438 L 40.402344 44.398438 L 40.402344 27.792969 L 0 27.792969 Z M 0 44.398438 \" style=\" stroke:none;fill-rule:nonzero;fill:rgb(25.881958%,64.312744%,91.372681%);fill-opacity:1;\"/>\n",
       "</g>\n",
       "<g style=\"fill:rgb(0%,0%,0%);fill-opacity:1;\">\n",
       "  <use x=\"3.321\" xlink:href=\"#glyph0-1\" y=\"38.586\"/>\n",
       "</g>\n",
       "<g style=\"fill:rgb(0%,0%,0%);fill-opacity:1;\">\n",
       "  <use x=\"6.088\" xlink:href=\"#glyph1-1\" y=\"38.586\"/>\n",
       "</g>\n",
       "<g style=\"fill:rgb(0%,0%,0%);fill-opacity:1;\">\n",
       "  <use x=\"13.837\" xlink:href=\"#glyph0-2\" y=\"38.586\"/>\n",
       "</g>\n",
       "<g style=\"fill:rgb(0%,0%,0%);fill-opacity:1;\">\n",
       "  <use x=\"19.925\" xlink:href=\"#glyph1-2\" y=\"38.586\"/>\n",
       "</g>\n",
       "<g style=\"fill:rgb(0%,0%,0%);fill-opacity:1;\">\n",
       "  <use x=\"29.885607\" xlink:href=\"#glyph1-3\" y=\"38.586\"/>\n",
       "</g>\n",
       "<path d=\"M 5.835938 15.496094 L 34.566406 15.496094 L 34.566406 0 L 5.835938 0 Z M 5.835938 15.496094 \" style=\" stroke:none;fill-rule:nonzero;fill:rgb(0%,67.83905%,93.728638%);fill-opacity:1;\"/>\n",
       "<g style=\"fill:rgb(0%,0%,0%);fill-opacity:1;\">\n",
       "  <use x=\"9.158\" xlink:href=\"#glyph2-1\" y=\"10.239\"/>\n",
       "</g>\n",
       "<g style=\"fill:rgb(0%,0%,0%);fill-opacity:1;\">\n",
       "  <use x=\"16.466\" xlink:href=\"#glyph1-2\" y=\"10.239\"/>\n",
       "</g>\n",
       "<g style=\"fill:rgb(0%,0%,0%);fill-opacity:1;\">\n",
       "  <use x=\"26.428\" xlink:href=\"#glyph2-2\" y=\"10.239\"/>\n",
       "</g>\n",
       "</g>\n",
       "</svg>"
      ]
     },
     "metadata": {
      "isolated": "true"
     },
     "output_type": "display_data"
    }
   ],
   "source": [
    "%%tikz -f svg -x $preamble -p braket\n",
    "\\draw node[fill=myblue] at (0,0) {$\\ket{\\Psi} + \\Phi$}\n",
    "      node[fill=cyan] at (0,1) {$\\zeta + \\xi$};"
   ]
  },
  {
   "cell_type": "code",
   "execution_count": null,
   "metadata": {},
   "outputs": [],
   "source": []
  },
  {
   "cell_type": "code",
   "execution_count": null,
   "metadata": {},
   "outputs": [],
   "source": []
  }
 ],
 "metadata": {
  "kernelspec": {
   "display_name": "Python 3",
   "language": "python",
   "name": "python3"
  },
  "language_info": {
   "codemirror_mode": {
    "name": "ipython",
    "version": 3
   },
   "file_extension": ".py",
   "mimetype": "text/x-python",
   "name": "python",
   "nbconvert_exporter": "python",
   "pygments_lexer": "ipython3",
   "version": "3.7.3"
  }
 },
 "nbformat": 4,
 "nbformat_minor": 2
}
