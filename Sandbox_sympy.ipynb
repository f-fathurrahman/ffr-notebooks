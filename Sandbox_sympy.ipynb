{
 "cells": [
  {
   "cell_type": "markdown",
   "metadata": {},
   "source": [
    "I was quite disappointed when using SymPy through Julia. The documentation is less clear and several things don't work. Most noticeably is the LaTeX output."
   ]
  },
  {
   "cell_type": "code",
   "execution_count": 1,
   "metadata": {
    "collapsed": true
   },
   "outputs": [],
   "source": [
    "from sympy import *"
   ]
  },
  {
   "cell_type": "code",
   "execution_count": 15,
   "metadata": {},
   "outputs": [
    {
     "name": "stdout",
     "output_type": "stream",
     "text": [
      "Help on function init_printing in module sympy.interactive.printing:\n",
      "\n",
      "init_printing(pretty_print=True, order=None, use_unicode=None, use_latex=None, wrap_line=None, num_columns=None, no_global=False, ip=None, euler=False, forecolor='Black', backcolor='Transparent', fontsize='10pt', latex_mode='equation*', print_builtin=True, str_printer=None, pretty_printer=None, latex_printer=None)\n",
      "    Initializes pretty-printer depending on the environment.\n",
      "    \n",
      "    Parameters\n",
      "    ==========\n",
      "    \n",
      "    pretty_print: boolean\n",
      "        If True, use pretty_print to stringify or the provided pretty\n",
      "        printer; if False, use sstrrepr to stringify or the provided string\n",
      "        printer.\n",
      "    order: string or None\n",
      "        There are a few different settings for this parameter:\n",
      "        lex (default), which is lexographic order;\n",
      "        grlex, which is graded lexographic order;\n",
      "        grevlex, which is reversed graded lexographic order;\n",
      "        old, which is used for compatibility reasons and for long expressions;\n",
      "        None, which sets it to lex.\n",
      "    use_unicode: boolean or None\n",
      "        If True, use unicode characters;\n",
      "        if False, do not use unicode characters.\n",
      "    use_latex: string, boolean, or None\n",
      "        If True, use default latex rendering in GUI interfaces (png and\n",
      "        mathjax);\n",
      "        if False, do not use latex rendering;\n",
      "        if 'png', enable latex rendering with an external latex compiler,\n",
      "        falling back to matplotlib if external compilation fails;\n",
      "        if 'matplotlib', enable latex rendering with matplotlib;\n",
      "        if 'mathjax', enable latex text generation, for example MathJax\n",
      "        rendering in IPython notebook or text rendering in LaTeX documents\n",
      "    wrap_line: boolean\n",
      "        If True, lines will wrap at the end; if False, they will not wrap\n",
      "        but continue as one line. This is only relevant if `pretty_print` is\n",
      "        True.\n",
      "    num_columns: int or None\n",
      "        If int, number of columns before wrapping is set to num_columns; if\n",
      "        None, number of columns before wrapping is set to terminal width.\n",
      "        This is only relevant if `pretty_print` is True.\n",
      "    no_global: boolean\n",
      "        If True, the settings become system wide;\n",
      "        if False, use just for this console/session.\n",
      "    ip: An interactive console\n",
      "        This can either be an instance of IPython,\n",
      "        or a class that derives from code.InteractiveConsole.\n",
      "    euler: boolean, optional, default=False\n",
      "        Loads the euler package in the LaTeX preamble for handwritten style\n",
      "        fonts (http://www.ctan.org/pkg/euler).\n",
      "    forecolor: string, optional, default='Black'\n",
      "        DVI setting for foreground color.\n",
      "    backcolor: string, optional, default='Transparent'\n",
      "        DVI setting for background color.\n",
      "    fontsize: string, optional, default='10pt'\n",
      "        A font size to pass to the LaTeX documentclass function in the\n",
      "        preamble.\n",
      "    latex_mode: string, optional, default='equation*'\n",
      "        The mode used in the LaTeX printer. Can be one of:\n",
      "        {'inline'|'plain'|'equation'|'equation*'}.\n",
      "    print_builtin: boolean, optional, default=True\n",
      "        If true then floats and integers will be printed. If false the\n",
      "        printer will only print SymPy types.\n",
      "    str_printer: function, optional, default=None\n",
      "        A custom string printer function. This should mimic\n",
      "        sympy.printing.sstrrepr().\n",
      "    pretty_printer: function, optional, default=None\n",
      "        A custom pretty printer. This should mimic sympy.printing.pretty().\n",
      "    latex_printer: function, optional, default=None\n",
      "        A custom LaTeX printer. This should mimic sympy.printing.latex()\n",
      "        This should mimic sympy.printing.latex().\n",
      "    \n",
      "    Examples\n",
      "    ========\n",
      "    \n",
      "    >>> from sympy.interactive import init_printing\n",
      "    >>> from sympy import Symbol, sqrt\n",
      "    >>> from sympy.abc import x, y\n",
      "    >>> sqrt(5)\n",
      "    sqrt(5)\n",
      "    >>> init_printing(pretty_print=True) # doctest: +SKIP\n",
      "    >>> sqrt(5) # doctest: +SKIP\n",
      "      ___\n",
      "    \\/ 5\n",
      "    >>> theta = Symbol('theta') # doctest: +SKIP\n",
      "    >>> init_printing(use_unicode=True) # doctest: +SKIP\n",
      "    >>> theta # doctest: +SKIP\n",
      "    θ\n",
      "    >>> init_printing(use_unicode=False) # doctest: +SKIP\n",
      "    >>> theta # doctest: +SKIP\n",
      "    theta\n",
      "    >>> init_printing(order='lex') # doctest: +SKIP\n",
      "    >>> str(y + x + y**2 + x**2) # doctest: +SKIP\n",
      "    x**2 + x + y**2 + y\n",
      "    >>> init_printing(order='grlex') # doctest: +SKIP\n",
      "    >>> str(y + x + y**2 + x**2) # doctest: +SKIP\n",
      "    x**2 + x + y**2 + y\n",
      "    >>> init_printing(order='grevlex') # doctest: +SKIP\n",
      "    >>> str(y * x**2 + x * y**2) # doctest: +SKIP\n",
      "    x**2*y + x*y**2\n",
      "    >>> init_printing(order='old') # doctest: +SKIP\n",
      "    >>> str(x**2 + y**2 + x + y) # doctest: +SKIP\n",
      "    x**2 + x + y**2 + y\n",
      "    >>> init_printing(num_columns=10) # doctest: +SKIP\n",
      "    >>> x**2 + x + y**2 + y # doctest: +SKIP\n",
      "    x + y +\n",
      "    x**2 + y**2\n",
      "\n"
     ]
    }
   ],
   "source": [
    "help(init_printing)"
   ]
  },
  {
   "cell_type": "code",
   "execution_count": 18,
   "metadata": {},
   "outputs": [],
   "source": [
    "init_printing(fontsize='16pt', use_latex=True, euler=True, latex_mode='equation')"
   ]
  },
  {
   "cell_type": "code",
   "execution_count": 19,
   "metadata": {},
   "outputs": [
    {
     "data": {
      "image/png": "[encoded data removed]",
      "text/latex": [
       "$$\\frac{x^{2}}{3} + \\frac{2 x}{3}$$"
      ],
      "text/plain": [
       " 2      \n",
       "x    2⋅x\n",
       "── + ───\n",
       "3     3 "
      ]
     },
     "execution_count": 19,
     "metadata": {},
     "output_type": "execute_result"
    }
   ],
   "source": [
    "x, y, z = symbols('x y z')\n",
    "F = (2*x + x**2)/3\n",
    "F"
   ]
  },
  {
   "cell_type": "code",
   "execution_count": 22,
   "metadata": {},
   "outputs": [
    {
     "name": "stdout",
     "output_type": "stream",
     "text": [
      "Help on function collect in module sympy.simplify.radsimp:\n",
      "\n",
      "collect(expr, syms, func=None, evaluate=None, exact=False, distribute_order_term=True)\n",
      "    Collect additive terms of an expression.\n",
      "    \n",
      "    This function collects additive terms of an expression with respect\n",
      "    to a list of expression up to powers with rational exponents. By the\n",
      "    term symbol here are meant arbitrary expressions, which can contain\n",
      "    powers, products, sums etc. In other words symbol is a pattern which\n",
      "    will be searched for in the expression's terms.\n",
      "    \n",
      "    The input expression is not expanded by :func:`collect`, so user is\n",
      "    expected to provide an expression is an appropriate form. This makes\n",
      "    :func:`collect` more predictable as there is no magic happening behind the\n",
      "    scenes. However, it is important to note, that powers of products are\n",
      "    converted to products of powers using the :func:`expand_power_base`\n",
      "    function.\n",
      "    \n",
      "    There are two possible types of output. First, if ``evaluate`` flag is\n",
      "    set, this function will return an expression with collected terms or\n",
      "    else it will return a dictionary with expressions up to rational powers\n",
      "    as keys and collected coefficients as values.\n",
      "    \n",
      "    Examples\n",
      "    ========\n",
      "    \n",
      "    >>> from sympy import S, collect, expand, factor, Wild\n",
      "    >>> from sympy.abc import a, b, c, x, y, z\n",
      "    \n",
      "    This function can collect symbolic coefficients in polynomials or\n",
      "    rational expressions. It will manage to find all integer or rational\n",
      "    powers of collection variable::\n",
      "    \n",
      "        >>> collect(a*x**2 + b*x**2 + a*x - b*x + c, x)\n",
      "        c + x**2*(a + b) + x*(a - b)\n",
      "    \n",
      "    The same result can be achieved in dictionary form::\n",
      "    \n",
      "        >>> d = collect(a*x**2 + b*x**2 + a*x - b*x + c, x, evaluate=False)\n",
      "        >>> d[x**2]\n",
      "        a + b\n",
      "        >>> d[x]\n",
      "        a - b\n",
      "        >>> d[S.One]\n",
      "        c\n",
      "    \n",
      "    You can also work with multivariate polynomials. However, remember that\n",
      "    this function is greedy so it will care only about a single symbol at time,\n",
      "    in specification order::\n",
      "    \n",
      "        >>> collect(x**2 + y*x**2 + x*y + y + a*y, [x, y])\n",
      "        x**2*(y + 1) + x*y + y*(a + 1)\n",
      "    \n",
      "    Also more complicated expressions can be used as patterns::\n",
      "    \n",
      "        >>> from sympy import sin, log\n",
      "        >>> collect(a*sin(2*x) + b*sin(2*x), sin(2*x))\n",
      "        (a + b)*sin(2*x)\n",
      "    \n",
      "        >>> collect(a*x*log(x) + b*(x*log(x)), x*log(x))\n",
      "        x*(a + b)*log(x)\n",
      "    \n",
      "    You can use wildcards in the pattern::\n",
      "    \n",
      "        >>> w = Wild('w1')\n",
      "        >>> collect(a*x**y - b*x**y, w**y)\n",
      "        x**y*(a - b)\n",
      "    \n",
      "    It is also possible to work with symbolic powers, although it has more\n",
      "    complicated behavior, because in this case power's base and symbolic part\n",
      "    of the exponent are treated as a single symbol::\n",
      "    \n",
      "        >>> collect(a*x**c + b*x**c, x)\n",
      "        a*x**c + b*x**c\n",
      "        >>> collect(a*x**c + b*x**c, x**c)\n",
      "        x**c*(a + b)\n",
      "    \n",
      "    However if you incorporate rationals to the exponents, then you will get\n",
      "    well known behavior::\n",
      "    \n",
      "        >>> collect(a*x**(2*c) + b*x**(2*c), x**c)\n",
      "        x**(2*c)*(a + b)\n",
      "    \n",
      "    Note also that all previously stated facts about :func:`collect` function\n",
      "    apply to the exponential function, so you can get::\n",
      "    \n",
      "        >>> from sympy import exp\n",
      "        >>> collect(a*exp(2*x) + b*exp(2*x), exp(x))\n",
      "        (a + b)*exp(2*x)\n",
      "    \n",
      "    If you are interested only in collecting specific powers of some symbols\n",
      "    then set ``exact`` flag in arguments::\n",
      "    \n",
      "        >>> collect(a*x**7 + b*x**7, x, exact=True)\n",
      "        a*x**7 + b*x**7\n",
      "        >>> collect(a*x**7 + b*x**7, x**7, exact=True)\n",
      "        x**7*(a + b)\n",
      "    \n",
      "    You can also apply this function to differential equations, where\n",
      "    derivatives of arbitrary order can be collected. Note that if you\n",
      "    collect with respect to a function or a derivative of a function, all\n",
      "    derivatives of that function will also be collected. Use\n",
      "    ``exact=True`` to prevent this from happening::\n",
      "    \n",
      "        >>> from sympy import Derivative as D, collect, Function\n",
      "        >>> f = Function('f') (x)\n",
      "    \n",
      "        >>> collect(a*D(f,x) + b*D(f,x), D(f,x))\n",
      "        (a + b)*Derivative(f(x), x)\n",
      "    \n",
      "        >>> collect(a*D(D(f,x),x) + b*D(D(f,x),x), f)\n",
      "        (a + b)*Derivative(f(x), x, x)\n",
      "    \n",
      "        >>> collect(a*D(D(f,x),x) + b*D(D(f,x),x), D(f,x), exact=True)\n",
      "        a*Derivative(f(x), x, x) + b*Derivative(f(x), x, x)\n",
      "    \n",
      "        >>> collect(a*D(f,x) + b*D(f,x) + a*f + b*f, f)\n",
      "        (a + b)*f(x) + (a + b)*Derivative(f(x), x)\n",
      "    \n",
      "    Or you can even match both derivative order and exponent at the same time::\n",
      "    \n",
      "        >>> collect(a*D(D(f,x),x)**2 + b*D(D(f,x),x)**2, D(f,x))\n",
      "        (a + b)*Derivative(f(x), x, x)**2\n",
      "    \n",
      "    Finally, you can apply a function to each of the collected coefficients.\n",
      "    For example you can factorize symbolic coefficients of polynomial::\n",
      "    \n",
      "        >>> f = expand((x + a + 1)**3)\n",
      "    \n",
      "        >>> collect(f, x, factor)\n",
      "        x**3 + 3*x**2*(a + 1) + 3*x*(a + 1)**2 + (a + 1)**3\n",
      "    \n",
      "    .. note:: Arguments are expected to be in expanded form, so you might have\n",
      "              to call :func:`expand` prior to calling this function.\n",
      "    \n",
      "    See Also\n",
      "    ========\n",
      "    collect_const, collect_sqrt, rcollect\n",
      "\n"
     ]
    }
   ],
   "source": [
    "help(collect)"
   ]
  },
  {
   "cell_type": "code",
   "execution_count": 20,
   "metadata": {},
   "outputs": [
    {
     "data": {
      "image/png": "[encoded data removed]",
      "text/latex": [
       "$$\\left(x - 5\\right) \\left(x - 4\\right) \\left(x - 3\\right) \\left(x - 2\\right) \\left(x - 1\\right)$$"
      ],
      "text/plain": [
       "(x - 5)⋅(x - 4)⋅(x - 3)⋅(x - 2)⋅(x - 1)"
      ]
     },
     "execution_count": 20,
     "metadata": {},
     "output_type": "execute_result"
    }
   ],
   "source": [
    "mypol = (x-1)*(x-2)*(x-3)*(x-4)*(x-5)\n",
    "mypol"
   ]
  },
  {
   "cell_type": "code",
   "execution_count": 18,
   "metadata": {},
   "outputs": [
    {
     "name": "stdout",
     "output_type": "stream",
     "text": [
      "search: \u001b[1mc\u001b[22m\u001b[1mo\u001b[22m\u001b[1me\u001b[22m\u001b[1mf\u001b[22m\u001b[1mf\u001b[22m \u001b[1mc\u001b[22m\u001b[1mo\u001b[22m\u001b[1me\u001b[22m\u001b[1mf\u001b[22m\u001b[1mf\u001b[22ms as_\u001b[1mc\u001b[22m\u001b[1mo\u001b[22m\u001b[1me\u001b[22m\u001b[1mf\u001b[22m\u001b[1mf\u001b[22m_mul as_\u001b[1mc\u001b[22m\u001b[1mo\u001b[22m\u001b[1me\u001b[22m\u001b[1mf\u001b[22m\u001b[1mf\u001b[22m_add as_\u001b[1mc\u001b[22m\u001b[1mo\u001b[22m\u001b[1me\u001b[22m\u001b[1mf\u001b[22m\u001b[1mf\u001b[22m_Mul as_\u001b[1mc\u001b[22m\u001b[1mo\u001b[22m\u001b[1me\u001b[22m\u001b[1mf\u001b[22m\u001b[1mf\u001b[22m_Add\n",
      "\n"
     ]
    },
    {
     "data": {
      "text/markdown": [
       "`coeff`: a SymPy function. The SymPy documentation can be found through: http://docs.sympy.org/latest/search.html?q=coeff\n"
      ],
      "text/plain": [
       "`coeff`: a SymPy function. The SymPy documentation can be found through: http://docs.sympy.org/latest/search.html?q=coeff\n"
      ]
     },
     "execution_count": 18,
     "metadata": {},
     "output_type": "execute_result"
    }
   ],
   "source": [
    "?coeff"
   ]
  },
  {
   "cell_type": "code",
   "execution_count": 17,
   "metadata": {},
   "outputs": [
    {
     "data": {
      "text/plain": [
       "x^5 - 15*x^4 + 85*x^3 - 225*x^2 + 274*x - 120"
      ]
     },
     "execution_count": 17,
     "metadata": {},
     "output_type": "execute_result"
    }
   ],
   "source": [
    "expand( (x-1)*(x-2)*(x-3)*(x-4)*(x-5) )"
   ]
  },
  {
   "cell_type": "code",
   "execution_count": 15,
   "metadata": {},
   "outputs": [
    {
     "data": {
      "text/plain": [
       "(x + 1)^2"
      ]
     },
     "execution_count": 15,
     "metadata": {},
     "output_type": "execute_result"
    }
   ],
   "source": [
    "factor( x^2 + 2x + 1 )"
   ]
  },
  {
   "cell_type": "code",
   "execution_count": 13,
   "metadata": {},
   "outputs": [
    {
     "data": {
      "text/plain": [
       "x^3 - 9*x^2 + 26*x - 24"
      ]
     },
     "execution_count": 13,
     "metadata": {},
     "output_type": "execute_result"
    }
   ],
   "source": [
    "expand( (x-2)*(x-3)*(x-4) )"
   ]
  },
  {
   "cell_type": "code",
   "execution_count": 10,
   "metadata": {},
   "outputs": [
    {
     "data": {
      "text/markdown": [
       "call SymPy's pretty print\n"
      ],
      "text/plain": [
       "call SymPy's pretty print\n"
      ]
     },
     "execution_count": 10,
     "metadata": {},
     "output_type": "execute_result"
    }
   ],
   "source": [
    "?SymPy.pprint"
   ]
  },
  {
   "cell_type": "code",
   "execution_count": null,
   "metadata": {
    "collapsed": true
   },
   "outputs": [],
   "source": []
  },
  {
   "cell_type": "code",
   "execution_count": 8,
   "metadata": {},
   "outputs": [
    {
     "name": "stdout",
     "output_type": "stream",
     "text": [
      " 2\n",
      "x \n",
      "--\n",
      "2 \n"
     ]
    }
   ],
   "source": [
    "pprint(x^2/2)"
   ]
  },
  {
   "cell_type": "code",
   "execution_count": null,
   "metadata": {
    "collapsed": true
   },
   "outputs": [],
   "source": []
  },
  {
   "cell_type": "code",
   "execution_count": null,
   "metadata": {
    "collapsed": true
   },
   "outputs": [],
   "source": []
  },
  {
   "cell_type": "code",
   "execution_count": 7,
   "metadata": {},
   "outputs": [
    {
     "name": "stderr",
     "output_type": "stream",
     "text": [
      "WARNING: Method definition f(Any) in module Main at In[6]:1 overwritten at In[7]:1.\n"
     ]
    },
    {
     "data": {
      "text/plain": [
       "exp(-50*x^2)"
      ]
     },
     "execution_count": 7,
     "metadata": {},
     "output_type": "execute_result"
    }
   ],
   "source": [
    "f(x) = exp(-x^2/2)\n",
    "f(2*y)"
   ]
  },
  {
   "cell_type": "code",
   "execution_count": 2,
   "metadata": {},
   "outputs": [
    {
     "data": {
      "text/plain": [
       "5*x"
      ]
     },
     "execution_count": 2,
     "metadata": {},
     "output_type": "execute_result"
    }
   ],
   "source": [
    "x = symbols(\"x\")\n",
    "y = 2*x + 3*x"
   ]
  },
  {
   "cell_type": "code",
   "execution_count": 3,
   "metadata": {},
   "outputs": [
    {
     "data": {
      "text/plain": [
       "z"
      ]
     },
     "execution_count": 3,
     "metadata": {},
     "output_type": "execute_result"
    }
   ],
   "source": [
    "z = Sym(\"z\")"
   ]
  },
  {
   "cell_type": "code",
   "execution_count": 4,
   "metadata": {},
   "outputs": [
    {
     "name": "stdout",
     "output_type": "stream",
     "text": [
      "5*x\n"
     ]
    }
   ],
   "source": [
    "pprint(y)"
   ]
  },
  {
   "cell_type": "code",
   "execution_count": null,
   "metadata": {
    "collapsed": true
   },
   "outputs": [],
   "source": []
  }
 ],
 "metadata": {
  "kernelspec": {
   "display_name": "Python 3",
   "language": "python",
   "name": "python3"
  },
  "language_info": {
   "codemirror_mode": {
    "name": "ipython",
    "version": 3
   },
   "file_extension": ".py",
   "mimetype": "text/x-python",
   "name": "python",
   "nbconvert_exporter": "python",
   "pygments_lexer": "ipython3",
   "version": "3.6.1"
  }
 },
 "nbformat": 4,
 "nbformat_minor": 2
}
