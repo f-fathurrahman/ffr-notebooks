{
 "cells": [
  {
   "cell_type": "markdown",
   "metadata": {},
   "source": [
    "<h1 style=\"text-align: center;\">Learning Tikz Coordinates</h1>"
   ]
  },
  {
   "cell_type": "markdown",
   "metadata": {
    "heading_collapsed": true
   },
   "source": [
    "# Load tikzmagic extension"
   ]
  },
  {
   "cell_type": "code",
   "execution_count": 1,
   "metadata": {
    "hidden": true
   },
   "outputs": [],
   "source": [
    "%load_ext tikzmagic"
   ]
  },
  {
   "cell_type": "markdown",
   "metadata": {
    "hidden": true
   },
   "source": [
    "No special TeX commands for adding a node to a picture."
   ]
  },
  {
   "cell_type": "markdown",
   "metadata": {},
   "source": [
    "# Overview"
   ]
  },
  {
   "cell_type": "markdown",
   "metadata": {},
   "source": [
    "A coordinate is a position on the canvas on which your picture is drawn.\n",
    "\n",
    "Coordinates are always put in round bracket.\n",
    "\n",
    "The general syntax is:\n",
    "\n",
    "```\n",
    "( [<options>] <coordinate specification> )\n",
    "```"
   ]
  },
  {
   "cell_type": "markdown",
   "metadata": {},
   "source": [
    "# First example: line"
   ]
  },
  {
   "cell_type": "markdown",
   "metadata": {},
   "source": [
    "## Specifying coordinate system explicitly"
   ]
  },
  {
   "cell_type": "code",
   "execution_count": 6,
   "metadata": {},
   "outputs": [
    {
     "data": {
      "image/svg+xml": [
       "<svg height=\"240px\" version=\"1.1\" viewBox=\"0 0 85.338 56.892\" width=\"400px\" xmlns=\"http://www.w3.org/2000/svg\" xmlns:xlink=\"http://www.w3.org/1999/xlink\">\n",
       "<defs>\n",
       "<clipPath id=\"clip1\">\n",
       "  <path d=\"M 0 0 L 85.339844 0 L 85.339844 56.890625 L 0 56.890625 Z M 0 0 \"/>\n",
       "</clipPath>\n",
       "<clipPath id=\"clip2\">\n",
       "  <path d=\"M 0 22 L 55 22 L 55 56.890625 L 0 56.890625 Z M 0 22 \"/>\n",
       "</clipPath>\n",
       "</defs>\n",
       "<g id=\"surface1\">\n",
       "<g clip-path=\"url(#clip1)\" clip-rule=\"nonzero\">\n",
       "<path d=\"M 0.00021875 -0.00096875 L 85.039281 -0.00096875 M 0.00021875 28.346688 L 85.039281 28.346688 M 0.00021875 56.694344 L 85.039281 56.694344 M 0.00021875 -0.00096875 L 0.00021875 56.694344 M 28.347875 -0.00096875 L 28.347875 56.694344 M 56.695531 -0.00096875 L 56.695531 56.694344 M 85.039281 -0.00096875 L 85.039281 56.694344 \" style=\"fill:none;stroke-width:0.19925;stroke-linecap:butt;stroke-linejoin:miter;stroke:rgb(50%,50%,50%);stroke-opacity:1;stroke-miterlimit:10;\" transform=\"matrix(1,0,0,-1,0.199,56.792)\"/>\n",
       "</g>\n",
       "<g clip-path=\"url(#clip2)\" clip-rule=\"nonzero\">\n",
       "<path d=\"M 0.00021875 5.670906 L 49.097875 28.346688 \" style=\"fill:none;stroke-width:0.3985;stroke-linecap:butt;stroke-linejoin:miter;stroke:rgb(0%,0%,100%);stroke-opacity:1;stroke-miterlimit:10;\" transform=\"matrix(1,0,0,-1,0.199,56.792)\"/>\n",
       "</g>\n",
       "</g>\n",
       "</svg>"
      ]
     },
     "metadata": {
      "isolated": "true"
     },
     "output_type": "display_data"
    }
   ],
   "source": [
    "%%tikz -f svg\n",
    "\\draw[help lines] (0cm,0cm) grid (3cm,2cm);\n",
    "\\draw[blue] (canvas cs:x=0cm,y=2mm) -- (canvas polar cs:radius=2cm,angle=30);\n"
   ]
  },
  {
   "cell_type": "markdown",
   "metadata": {},
   "source": [
    "## Implicit coordinate system"
   ]
  },
  {
   "cell_type": "code",
   "execution_count": 17,
   "metadata": {},
   "outputs": [
    {
     "data": {
      "image/svg+xml": [
       "<svg height=\"240px\" version=\"1.1\" viewBox=\"0 0 85.338 56.892\" width=\"400px\" xmlns=\"http://www.w3.org/2000/svg\" xmlns:xlink=\"http://www.w3.org/1999/xlink\">\n",
       "<defs>\n",
       "<clipPath id=\"clip1\">\n",
       "  <path d=\"M 0 0 L 85.339844 0 L 85.339844 56.890625 L 0 56.890625 Z M 0 0 \"/>\n",
       "</clipPath>\n",
       "<clipPath id=\"clip2\">\n",
       "  <path d=\"M 0 22 L 55 22 L 55 56.890625 L 0 56.890625 Z M 0 22 \"/>\n",
       "</clipPath>\n",
       "<clipPath id=\"clip3\">\n",
       "  <path d=\"M 0 1 L 56 1 L 56 56.890625 L 0 56.890625 Z M 0 1 \"/>\n",
       "</clipPath>\n",
       "</defs>\n",
       "<g id=\"surface1\">\n",
       "<g clip-path=\"url(#clip1)\" clip-rule=\"nonzero\">\n",
       "<path d=\"M 0.00021875 -0.00096875 L 85.039281 -0.00096875 M 0.00021875 28.346688 L 85.039281 28.346688 M 0.00021875 56.682625 L 85.039281 56.682625 M 0.00021875 -0.00096875 L 0.00021875 56.694344 M 28.347875 -0.00096875 L 28.347875 56.694344 M 56.695531 -0.00096875 L 56.695531 56.694344 M 85.031469 -0.00096875 L 85.031469 56.694344 \" style=\"fill:none;stroke-width:0.19925;stroke-linecap:butt;stroke-linejoin:miter;stroke:rgb(50%,50%,50%);stroke-opacity:1;stroke-miterlimit:10;\" transform=\"matrix(1,0,0,-1,0.199,56.792)\"/>\n",
       "</g>\n",
       "<g clip-path=\"url(#clip2)\" clip-rule=\"nonzero\">\n",
       "<path d=\"M 0.00021875 5.670906 L 49.097875 28.346688 \" style=\"fill:none;stroke-width:0.3985;stroke-linecap:butt;stroke-linejoin:miter;stroke:rgb(0%,0%,0%);stroke-opacity:1;stroke-miterlimit:10;\" transform=\"matrix(1,0,0,-1,0.199,56.792)\"/>\n",
       "</g>\n",
       "<g clip-path=\"url(#clip3)\" clip-rule=\"nonzero\">\n",
       "<path d=\"M 0.00021875 5.670906 L 50.109594 50.112313 \" style=\"fill:none;stroke-width:0.3985;stroke-linecap:butt;stroke-linejoin:miter;stroke:rgb(0%,0%,100%);stroke-opacity:1;stroke-miterlimit:10;\" transform=\"matrix(1,0,0,-1,0.199,56.792)\"/>\n",
       "</g>\n",
       "</g>\n",
       "</svg>"
      ]
     },
     "metadata": {
      "isolated": "true"
     },
     "output_type": "display_data"
    }
   ],
   "source": [
    "%%tikz -f svg\n",
    "\n",
    "\\draw[help lines] (0,0) grid (3,2);\n",
    "\\draw (0cm,2mm) -- (30:2cm);  % polar coord\n",
    "\\draw[blue] (0cm,2mm) -- (45:2.5cm);"
   ]
  },
  {
   "cell_type": "markdown",
   "metadata": {},
   "source": [
    "# Transformation options"
   ]
  },
  {
   "cell_type": "code",
   "execution_count": 24,
   "metadata": {},
   "outputs": [
    {
     "data": {
      "image/svg+xml": [
       "<svg height=\"240px\" version=\"1.1\" viewBox=\"0 0 85.338 56.992\" width=\"400px\" xmlns=\"http://www.w3.org/2000/svg\" xmlns:xlink=\"http://www.w3.org/1999/xlink\">\n",
       "<defs>\n",
       "<clipPath id=\"clip1\">\n",
       "  <path d=\"M 0 22 L 35 22 L 35 56.992188 L 0 56.992188 Z M 0 22 \"/>\n",
       "</clipPath>\n",
       "<clipPath id=\"clip2\">\n",
       "  <path d=\"M 0 22 L 39 22 L 39 56.992188 L 0 56.992188 Z M 0 22 \"/>\n",
       "</clipPath>\n",
       "<clipPath id=\"clip3\">\n",
       "  <path d=\"M 22 21 L 65 21 L 65 56.992188 L 22 56.992188 Z M 22 21 \"/>\n",
       "</clipPath>\n",
       "<clipPath id=\"clip4\">\n",
       "  <path d=\"M 22 20 L 51 20 L 51 56.992188 L 22 56.992188 Z M 22 20 \"/>\n",
       "</clipPath>\n",
       "</defs>\n",
       "<g id=\"surface1\">\n",
       "<path d=\"M 0.00021875 0.00003125 L 85.039281 0.00003125 M 0.00021875 28.347688 L 85.039281 28.347688 M 0.00021875 56.683625 L 85.039281 56.683625 M 0.00021875 0.00003125 L 0.00021875 56.695344 M 28.347875 0.00003125 L 28.347875 56.695344 M 56.695531 0.00003125 L 56.695531 56.695344 M 85.031469 0.00003125 L 85.031469 56.695344 \" style=\"fill:none;stroke-width:0.19925;stroke-linecap:butt;stroke-linejoin:miter;stroke:rgb(50%,50%,50%);stroke-opacity:1;stroke-miterlimit:10;\" transform=\"matrix(1,0,0,-1,0.199,56.793)\"/>\n",
       "<g clip-path=\"url(#clip1)\" clip-rule=\"nonzero\">\n",
       "<path d=\"M 0.00021875 0.00003125 L 28.347875 28.347688 \" style=\"fill:none;stroke-width:0.3985;stroke-linecap:butt;stroke-linejoin:miter;stroke:rgb(0%,0%,0%);stroke-opacity:1;stroke-miterlimit:10;\" transform=\"matrix(1,0,0,-1,0.199,56.793)\"/>\n",
       "</g>\n",
       "<g clip-path=\"url(#clip2)\" clip-rule=\"nonzero\">\n",
       "<path d=\"M 0.00021875 0.00003125 L 32.33225 28.347688 \" style=\"fill:none;stroke-width:0.3985;stroke-linecap:butt;stroke-linejoin:miter;stroke:rgb(100%,0%,0%);stroke-opacity:1;stroke-miterlimit:10;\" transform=\"matrix(1,0,0,-1,0.199,56.793)\"/>\n",
       "</g>\n",
       "<g clip-path=\"url(#clip3)\" clip-rule=\"nonzero\">\n",
       "<path d=\"M 28.347875 0.00003125 L 58.414281 30.066438 \" style=\"fill:none;stroke-width:0.3985;stroke-linecap:butt;stroke-linejoin:miter;stroke:rgb(0%,0%,0%);stroke-opacity:1;stroke-miterlimit:10;\" transform=\"matrix(1,0,0,-1,0.199,56.793)\"/>\n",
       "</g>\n",
       "<g clip-path=\"url(#clip4)\" clip-rule=\"nonzero\">\n",
       "<path d=\"M 28.347875 0.00003125 L 44.785375 30.835969 \" style=\"fill:none;stroke-width:0.3985;stroke-linecap:butt;stroke-linejoin:miter;stroke:rgb(0%,0%,100%);stroke-opacity:1;stroke-miterlimit:10;\" transform=\"matrix(1,0,0,-1,0.199,56.793)\"/>\n",
       "</g>\n",
       "</g>\n",
       "</svg>"
      ]
     },
     "metadata": {
      "isolated": "true"
     },
     "output_type": "display_data"
    }
   ],
   "source": [
    "%%tikz -f svg\n",
    "\\draw[help lines] (0,0) grid (3,2);\n",
    "\\draw (0,0) -- (1,1);\n",
    "\\draw[red] (0,0) -- ([xshift=4pt] 1,1); % xshift operate on xcoord\n",
    "\\draw (1,0) -- +(45:1.5cm); % the origin is (1,0)\n",
    "\\draw[blue] (1,0) -- ([shift=(150:5pt)] 30:2cm);"
   ]
  },
  {
   "cell_type": "markdown",
   "metadata": {},
   "source": [
    "# Adding coordinates"
   ]
  },
  {
   "cell_type": "markdown",
   "metadata": {},
   "source": [
    "Explicitly"
   ]
  },
  {
   "cell_type": "code",
   "execution_count": 29,
   "metadata": {},
   "outputs": [
    {
     "data": {
      "image/svg+xml": [
       "<svg height=\"240px\" version=\"1.1\" viewBox=\"0 0 85.239 67.977\" width=\"400px\" xmlns=\"http://www.w3.org/2000/svg\" xmlns:xlink=\"http://www.w3.org/1999/xlink\">\n",
       "<defs>\n",
       "<clipPath id=\"clip1\">\n",
       "  <path d=\"M 0 0 L 85.238281 0 L 85.238281 57 L 0 57 Z M 0 0 \"/>\n",
       "</clipPath>\n",
       "<clipPath id=\"clip2\">\n",
       "  <path d=\"M 54 63 L 59 63 L 59 67.976562 L 54 67.976562 Z M 54 63 \"/>\n",
       "</clipPath>\n",
       "</defs>\n",
       "<g id=\"surface1\">\n",
       "<g clip-path=\"url(#clip1)\" clip-rule=\"nonzero\">\n",
       "<path d=\"M 0.0015625 0.00003125 L 85.040625 0.00003125 M 0.0015625 28.347688 L 85.040625 28.347688 M 0.0015625 56.683625 L 85.040625 56.683625 M 0.0015625 0.00003125 L 0.0015625 56.695344 M 28.345312 0.00003125 L 28.345312 56.695344 M 56.692969 0.00003125 L 56.692969 56.695344 M 85.028906 0.00003125 L 85.028906 56.695344 \" style=\"fill:none;stroke-width:0.19925;stroke-linecap:butt;stroke-linejoin:miter;stroke:rgb(50%,50%,50%);stroke-opacity:1;stroke-miterlimit:10;\" transform=\"matrix(1,0,0,-1,0.1,56.793)\"/>\n",
       "</g>\n",
       "<path d=\"M 30.4375 14.273438 C 30.4375 13.171875 29.546875 12.28125 28.445312 12.28125 C 27.347656 12.28125 26.453125 13.171875 26.453125 14.273438 C 26.453125 15.375 27.347656 16.265625 28.445312 16.265625 C 29.546875 16.265625 30.4375 15.375 30.4375 14.273438 Z M 30.4375 14.273438 \" style=\" stroke:none;fill-rule:nonzero;fill:rgb(0%,0%,0%);fill-opacity:1;\"/>\n",
       "<g clip-path=\"url(#clip2)\" clip-rule=\"nonzero\">\n",
       "<path d=\"M 58.785156 65.984375 C 58.785156 64.882812 57.894531 63.992188 56.792969 63.992188 C 55.691406 63.992188 54.800781 64.882812 54.800781 65.984375 C 54.800781 67.085938 55.691406 67.976562 56.792969 67.976562 C 57.894531 67.976562 58.785156 67.085938 58.785156 65.984375 Z M 58.785156 65.984375 \" style=\" stroke:none;fill-rule:nonzero;fill:rgb(0%,0%,0%);fill-opacity:1;\"/>\n",
       "</g>\n",
       "</g>\n",
       "</svg>"
      ]
     },
     "metadata": {
      "isolated": "true"
     },
     "output_type": "display_data"
    }
   ],
   "source": [
    "%%tikz -f svg\n",
    "\\draw[help lines] (0,0) grid (3,2);\n",
    "\\fill (canvas cs:x=1cm, y=1.5cm) circle (2pt);\n",
    "\\fill (canvas cs:x=2cm, y=-5mm+5pt) circle (2pt);"
   ]
  },
  {
   "cell_type": "markdown",
   "metadata": {},
   "source": [
    "Implicitly"
   ]
  },
  {
   "cell_type": "code",
   "execution_count": 31,
   "metadata": {},
   "outputs": [
    {
     "data": {
      "image/svg+xml": [
       "<svg height=\"240px\" version=\"1.1\" viewBox=\"0 0 85.239 67.977\" width=\"400px\" xmlns=\"http://www.w3.org/2000/svg\" xmlns:xlink=\"http://www.w3.org/1999/xlink\">\n",
       "<defs>\n",
       "<clipPath id=\"clip1\">\n",
       "  <path d=\"M 0 0 L 85.238281 0 L 85.238281 57 L 0 57 Z M 0 0 \"/>\n",
       "</clipPath>\n",
       "<clipPath id=\"clip2\">\n",
       "  <path d=\"M 54 63 L 59 63 L 59 67.976562 L 54 67.976562 Z M 54 63 \"/>\n",
       "</clipPath>\n",
       "</defs>\n",
       "<g id=\"surface1\">\n",
       "<g clip-path=\"url(#clip1)\" clip-rule=\"nonzero\">\n",
       "<path d=\"M 0.0015625 0.00003125 L 85.040625 0.00003125 M 0.0015625 28.347688 L 85.040625 28.347688 M 0.0015625 56.683625 L 85.040625 56.683625 M 0.0015625 0.00003125 L 0.0015625 56.695344 M 28.345312 0.00003125 L 28.345312 56.695344 M 56.692969 0.00003125 L 56.692969 56.695344 M 85.028906 0.00003125 L 85.028906 56.695344 \" style=\"fill:none;stroke-width:0.19925;stroke-linecap:butt;stroke-linejoin:miter;stroke:rgb(50%,50%,50%);stroke-opacity:1;stroke-miterlimit:10;\" transform=\"matrix(1,0,0,-1,0.1,56.793)\"/>\n",
       "</g>\n",
       "<path d=\"M 30.4375 14.273438 C 30.4375 13.171875 29.546875 12.28125 28.445312 12.28125 C 27.347656 12.28125 26.453125 13.171875 26.453125 14.273438 C 26.453125 15.375 27.347656 16.265625 28.445312 16.265625 C 29.546875 16.265625 30.4375 15.375 30.4375 14.273438 Z M 30.4375 14.273438 \" style=\" stroke:none;fill-rule:nonzero;fill:rgb(100%,0%,0%);fill-opacity:1;\"/>\n",
       "<g clip-path=\"url(#clip2)\" clip-rule=\"nonzero\">\n",
       "<path d=\"M 58.785156 65.984375 C 58.785156 64.882812 57.894531 63.992188 56.792969 63.992188 C 55.691406 63.992188 54.800781 64.882812 54.800781 65.984375 C 54.800781 67.085938 55.691406 67.976562 56.792969 67.976562 C 57.894531 67.976562 58.785156 67.085938 58.785156 65.984375 Z M 58.785156 65.984375 \" style=\" stroke:none;fill-rule:nonzero;fill:rgb(0%,0%,100%);fill-opacity:1;\"/>\n",
       "</g>\n",
       "</g>\n",
       "</svg>"
      ]
     },
     "metadata": {
      "isolated": "true"
     },
     "output_type": "display_data"
    }
   ],
   "source": [
    "%%tikz -f svg\n",
    "\\draw[help lines] (0,0) grid (3,2);\n",
    "\\fill[red] (canvas cs:x=1cm, y=1.5cm) circle (2pt);\n",
    "\\fill[blue] (canvas cs:x=2cm, y=-5mm+5pt) circle (2pt);"
   ]
  },
  {
   "cell_type": "markdown",
   "metadata": {
    "heading_collapsed": true
   },
   "source": [
    "# Coord xyz"
   ]
  },
  {
   "cell_type": "markdown",
   "metadata": {
    "hidden": true
   },
   "source": [
    "The xyz coordinate system allows you to specify a point as a multiple of three vectors called the x-, y-, and z-vectors. By default, the x-vector points 1cm to the right, the y-vector points 1cm upwards, but this can be changed arbitrarily as explained in Section 25.2. The default z-vector points to -3.85mm, -3.85mm"
   ]
  },
  {
   "cell_type": "code",
   "execution_count": 35,
   "metadata": {
    "hidden": true
   },
   "outputs": [
    {
     "data": {
      "image/svg+xml": [
       "<svg height=\"240px\" version=\"1.1\" viewBox=\"0 0 39.658 39.658\" width=\"400px\" xmlns=\"http://www.w3.org/2000/svg\" xmlns:xlink=\"http://www.w3.org/1999/xlink\">\n",
       "<defs>\n",
       "<clipPath id=\"clip1\">\n",
       "  <path d=\"M 10 28 L 39.65625 28 L 39.65625 29 L 10 29 Z M 10 28 \"/>\n",
       "</clipPath>\n",
       "<clipPath id=\"clip2\">\n",
       "  <path d=\"M 37 26 L 39.65625 26 L 39.65625 31 L 37 31 Z M 37 26 \"/>\n",
       "</clipPath>\n",
       "<clipPath id=\"clip3\">\n",
       "  <path d=\"M 0 22 L 17 22 L 17 39.65625 L 0 39.65625 Z M 0 22 \"/>\n",
       "</clipPath>\n",
       "<clipPath id=\"clip4\">\n",
       "  <path d=\"M 0 37 L 3 37 L 3 39.65625 L 0 39.65625 Z M 0 37 \"/>\n",
       "</clipPath>\n",
       "</defs>\n",
       "<g id=\"surface1\">\n",
       "<g clip-path=\"url(#clip1)\" clip-rule=\"nonzero\">\n",
       "<path d=\"M 0.00128125 -0.000875 L 27.888 -0.000875 \" style=\"fill:none;stroke-width:0.3985;stroke-linecap:butt;stroke-linejoin:miter;stroke:rgb(0%,0%,0%);stroke-opacity:1;stroke-miterlimit:10;\" transform=\"matrix(1,0,0,-1,11.112,28.546)\"/>\n",
       "</g>\n",
       "<g clip-path=\"url(#clip2)\" clip-rule=\"nonzero\">\n",
       "<path d=\"M -1.195832 1.592875 C -1.09427 0.995219 -0.00052 0.100687 0.300261 -0.000875 C -0.00052 -0.0985313 -1.09427 -0.996969 -1.195832 -1.594625 \" style=\"fill:none;stroke-width:0.31879;stroke-linecap:round;stroke-linejoin:round;stroke:rgb(0%,0%,0%);stroke-opacity:1;stroke-miterlimit:10;\" transform=\"matrix(1,0,0,-1,39.00052,28.546)\"/>\n",
       "</g>\n",
       "<path d=\"M 0.00128125 -0.000875 L 0.00128125 27.88975 \" style=\"fill:none;stroke-width:0.3985;stroke-linecap:butt;stroke-linejoin:miter;stroke:rgb(0%,0%,0%);stroke-opacity:1;stroke-miterlimit:10;\" transform=\"matrix(1,0,0,-1,11.112,28.546)\"/>\n",
       "<path d=\"M -1.194082 1.592469 C -1.096426 0.994813 0.00123 0.100281 0.298105 -0.00128125 C 0.00123 -0.0989375 -1.096426 -0.997375 -1.194082 -1.595031 \" style=\"fill:none;stroke-width:0.31879;stroke-linecap:round;stroke-linejoin:round;stroke:rgb(0%,0%,0%);stroke-opacity:1;stroke-miterlimit:10;\" transform=\"matrix(0,-1,-1,0,11.112,0.65748)\"/>\n",
       "<g clip-path=\"url(#clip3)\" clip-rule=\"nonzero\">\n",
       "<path d=\"M 0.00128125 -0.000875 L -10.588563 -10.590719 \" style=\"fill:none;stroke-width:0.3985;stroke-linecap:butt;stroke-linejoin:miter;stroke:rgb(0%,0%,0%);stroke-opacity:1;stroke-miterlimit:10;\" transform=\"matrix(1,0,0,-1,11.112,28.546)\"/>\n",
       "</g>\n",
       "<g clip-path=\"url(#clip4)\" clip-rule=\"nonzero\">\n",
       "<path d=\"M -1.195539 1.595192 C -1.096087 0.998585 0.000485924 0.100939 0.298794 0.00151191 C 0.000491548 -0.0979316 -1.096031 -0.99564 -1.195449 -1.592253 \" style=\"fill:none;stroke-width:0.31879;stroke-linecap:round;stroke-linejoin:round;stroke:rgb(0%,0%,0%);stroke-opacity:1;stroke-miterlimit:10;\" transform=\"matrix(-0.70714,0.7071,0.7071,0.70714,0.52272,39.13531)\"/>\n",
       "</g>\n",
       "</g>\n",
       "</svg>"
      ]
     },
     "metadata": {
      "isolated": "true"
     },
     "output_type": "display_data"
    }
   ],
   "source": [
    "%%tikz -f svg\n",
    "\\draw[->] (0,0) -- (xyz cs:x=1);\n",
    "\\draw[->] (0,0) -- (xyz cs:y=1);\n",
    "\\draw[->] (0,0) -- (xyz cs:z=1);"
   ]
  },
  {
   "cell_type": "markdown",
   "metadata": {
    "hidden": true
   },
   "source": [
    "This coordinate system can also be selected implicitly. To do so, you just provide two or three comma-separated factors (not dimensions)."
   ]
  },
  {
   "cell_type": "code",
   "execution_count": 42,
   "metadata": {
    "hidden": true
   },
   "outputs": [
    {
     "data": {
      "image/svg+xml": [
       "<svg height=\"240px\" version=\"1.1\" viewBox=\"0 0 68.005 39.658\" width=\"400px\" xmlns=\"http://www.w3.org/2000/svg\" xmlns:xlink=\"http://www.w3.org/1999/xlink\">\n",
       "<defs>\n",
       "<clipPath id=\"clip1\">\n",
       "  <path d=\"M 0 22 L 17 22 L 17 39.65625 L 0 39.65625 Z M 0 22 \"/>\n",
       "</clipPath>\n",
       "<clipPath id=\"clip2\">\n",
       "  <path d=\"M 0 37 L 3 37 L 3 39.65625 L 0 39.65625 Z M 0 37 \"/>\n",
       "</clipPath>\n",
       "</defs>\n",
       "<g id=\"surface1\">\n",
       "<path d=\"M 0.00128125 -0.000875 L 56.235656 -0.000875 \" style=\"fill:none;stroke-width:0.3985;stroke-linecap:butt;stroke-linejoin:miter;stroke:rgb(0%,0%,0%);stroke-opacity:1;stroke-miterlimit:10;\" transform=\"matrix(1,0,0,-1,11.112,28.546)\"/>\n",
       "<path d=\"M -1.194996 1.592875 C -1.09734 0.995219 0.00031625 0.100687 0.297191 -0.000875 C 0.00031625 -0.0985313 -1.09734 -0.996969 -1.194996 -1.594625 \" style=\"fill:none;stroke-width:0.31879;stroke-linecap:round;stroke-linejoin:round;stroke:rgb(0%,0%,0%);stroke-opacity:1;stroke-miterlimit:10;\" transform=\"matrix(1,0,0,-1,67.34734,28.546)\"/>\n",
       "<path d=\"M 0.00128125 -0.000875 L 0.00128125 27.88975 \" style=\"fill:none;stroke-width:0.3985;stroke-linecap:butt;stroke-linejoin:miter;stroke:rgb(0%,0%,0%);stroke-opacity:1;stroke-miterlimit:10;\" transform=\"matrix(1,0,0,-1,11.112,28.546)\"/>\n",
       "<path d=\"M -1.194082 1.592469 C -1.096426 0.994813 0.00123 0.100281 0.298105 -0.00128125 C 0.00123 -0.0989375 -1.096426 -0.997375 -1.194082 -1.595031 \" style=\"fill:none;stroke-width:0.31879;stroke-linecap:round;stroke-linejoin:round;stroke:rgb(0%,0%,0%);stroke-opacity:1;stroke-miterlimit:10;\" transform=\"matrix(0,-1,-1,0,11.112,0.65748)\"/>\n",
       "<g clip-path=\"url(#clip1)\" clip-rule=\"nonzero\">\n",
       "<path d=\"M 0.00128125 -0.000875 L -10.588563 -10.590719 \" style=\"fill:none;stroke-width:0.3985;stroke-linecap:butt;stroke-linejoin:miter;stroke:rgb(0%,0%,0%);stroke-opacity:1;stroke-miterlimit:10;\" transform=\"matrix(1,0,0,-1,11.112,28.546)\"/>\n",
       "</g>\n",
       "<g clip-path=\"url(#clip2)\" clip-rule=\"nonzero\">\n",
       "<path d=\"M -1.195539 1.595192 C -1.096087 0.998585 0.000485924 0.100939 0.298794 0.00151191 C 0.000491548 -0.0979316 -1.096031 -0.99564 -1.195449 -1.592253 \" style=\"fill:none;stroke-width:0.31879;stroke-linecap:round;stroke-linejoin:round;stroke:rgb(0%,0%,0%);stroke-opacity:1;stroke-miterlimit:10;\" transform=\"matrix(-0.70714,0.7071,0.7071,0.70714,0.52272,39.13531)\"/>\n",
       "</g>\n",
       "</g>\n",
       "</svg>"
      ]
     },
     "metadata": {
      "isolated": "true"
     },
     "output_type": "display_data"
    }
   ],
   "source": [
    "%%tikz -f svg\n",
    "\\draw[->] (0,0) -- (2,0,0);\n",
    "\\draw[->] (0,0) -- (0,1,0);\n",
    "\\draw[->] (0,0) -- (0,0,1);"
   ]
  },
  {
   "cell_type": "markdown",
   "metadata": {
    "heading_collapsed": true
   },
   "source": [
    "# Canvas polar"
   ]
  },
  {
   "cell_type": "markdown",
   "metadata": {
    "hidden": true
   },
   "source": [
    "The canvas polar coordinate system allows you to specify polar coordinates. You provide an angle using the angle= option and a radius using the radius= option. This yields the point on the canvas that is at the given radius distance from the origin at the given degree. An angle of zero degrees to the right, a degree of 90 upward"
   ]
  },
  {
   "cell_type": "code",
   "execution_count": 46,
   "metadata": {
    "hidden": true
   },
   "outputs": [
    {
     "data": {
      "image/svg+xml": [
       "<svg height=\"240px\" version=\"1.1\" viewBox=\"0 0 34.643 54.952\" width=\"400px\" xmlns=\"http://www.w3.org/2000/svg\" xmlns:xlink=\"http://www.w3.org/1999/xlink\">\n",
       "<defs>\n",
       "<clipPath id=\"clip1\">\n",
       "  <path d=\"M 4 8 L 34.644531 8 L 34.644531 34 L 4 34 Z M 4 8 \"/>\n",
       "</clipPath>\n",
       "<clipPath id=\"clip2\">\n",
       "  <path d=\"M 32 13 L 34.644531 13 L 34.644531 17 L 32 17 Z M 32 13 \"/>\n",
       "</clipPath>\n",
       "<clipPath id=\"clip3\">\n",
       "  <path d=\"M 0 22 L 16 22 L 16 54.953125 L 0 54.953125 Z M 0 22 \"/>\n",
       "</clipPath>\n",
       "<clipPath id=\"clip4\">\n",
       "  <path d=\"M 0 52 L 3 52 L 3 54.953125 L 0 54.953125 Z M 0 52 \"/>\n",
       "</clipPath>\n",
       "</defs>\n",
       "<g id=\"surface1\">\n",
       "<g clip-path=\"url(#clip1)\" clip-rule=\"nonzero\">\n",
       "<path d=\"M 0.00053125 -0.0011875 L 24.152875 13.944125 \" style=\"fill:none;stroke-width:0.3985;stroke-linecap:butt;stroke-linejoin:miter;stroke:rgb(0%,0%,0%);stroke-opacity:1;stroke-miterlimit:10;\" transform=\"matrix(1,0,0,-1,9.894,28.116)\"/>\n",
       "</g>\n",
       "<g clip-path=\"url(#clip2)\" clip-rule=\"nonzero\">\n",
       "<path d=\"M -1.194998 1.594418 C -1.094791 0.997006 0.000946491 0.09908 0.2985 -0.000777013 C -0.000416515 -0.0979702 -1.094029 -0.995295 -1.196192 -1.592769 \" style=\"fill:none;stroke-width:0.31879;stroke-linecap:round;stroke-linejoin:round;stroke:rgb(0%,0%,0%);stroke-opacity:1;stroke-miterlimit:10;\" transform=\"matrix(0.86877,-0.5016,-0.5016,-0.86877,34.04497,14.17249)\"/>\n",
       "</g>\n",
       "<path d=\"M 0.00053125 -0.0011875 L -4.843219 27.463656 \" style=\"fill:none;stroke-width:0.3985;stroke-linecap:butt;stroke-linejoin:miter;stroke:rgb(0%,0%,0%);stroke-opacity:1;stroke-miterlimit:10;\" transform=\"matrix(1,0,0,-1,9.894,28.116)\"/>\n",
       "<path d=\"M -1.193935 1.593956 C -1.096866 0.998351 0.00071561 0.0995584 0.300012 -0.000755783 C 0.00142597 -0.0986807 -1.095638 -0.994891 -1.197486 -1.59505 \" style=\"fill:none;stroke-width:0.31879;stroke-linecap:round;stroke-linejoin:round;stroke:rgb(0%,0%,0%);stroke-opacity:1;stroke-miterlimit:10;\" transform=\"matrix(-0.17381,-0.98586,-0.98586,0.17381,5.0514,0.65137)\"/>\n",
       "<g clip-path=\"url(#clip3)\" clip-rule=\"nonzero\">\n",
       "<path d=\"M 0.00053125 -0.0011875 L -9.538531 -26.204313 \" style=\"fill:none;stroke-width:0.3985;stroke-linecap:butt;stroke-linejoin:miter;stroke:rgb(0%,0%,0%);stroke-opacity:1;stroke-miterlimit:10;\" transform=\"matrix(1,0,0,-1,9.894,28.116)\"/>\n",
       "</g>\n",
       "<g clip-path=\"url(#clip4)\" clip-rule=\"nonzero\">\n",
       "<path d=\"M -1.196755 1.594446 C -1.095261 0.996182 -0.000751239 0.0992162 0.296923 -0.0000270781 C 0.000970912 -0.0994365 -1.09637 -0.997016 -1.194863 -1.593336 \" style=\"fill:none;stroke-width:0.31879;stroke-linecap:round;stroke-linejoin:round;stroke:rgb(0%,0%,0%);stroke-opacity:1;stroke-miterlimit:10;\" transform=\"matrix(-0.34244,0.94089,0.94089,0.34244,0.35561,54.3222)\"/>\n",
       "</g>\n",
       "</g>\n",
       "</svg>"
      ]
     },
     "metadata": {
      "isolated": "true"
     },
     "output_type": "display_data"
    }
   ],
   "source": [
    "%%tikz -f svg\n",
    "\\draw[->] (0,0) -- (canvas polar cs:angle=30,radius=1cm);\n",
    "\\draw[->] (0,0) -- (canvas polar cs:angle=100,radius=1cm);\n",
    "\\draw[->] (0,0) -- (canvas polar cs:angle=250,radius=1cm);"
   ]
  },
  {
   "cell_type": "markdown",
   "metadata": {
    "hidden": true
   },
   "source": [
    "The implicit form for canvas polar coordinates is the following: you specify the angle and the distance, separated by a colon as in (30:1cm)."
   ]
  },
  {
   "cell_type": "code",
   "execution_count": 48,
   "metadata": {
    "hidden": true
   },
   "outputs": [
    {
     "data": {
      "image/svg+xml": [
       "<svg height=\"240px\" version=\"1.1\" viewBox=\"0 0 49.496 28.745\" width=\"400px\" xmlns=\"http://www.w3.org/2000/svg\" xmlns:xlink=\"http://www.w3.org/1999/xlink\">\n",
       "<g id=\"surface1\">\n",
       "<path d=\"M -0.00190625 -0.000875 L 24.548875 14.174906 L 14.173875 24.549906 L -0.00190625 28.346781 L -14.173781 24.549906 L -24.548781 14.174906 \" style=\"fill:none;stroke-width:0.3985;stroke-linecap:butt;stroke-linejoin:miter;stroke:rgb(0%,0%,0%);stroke-opacity:1;stroke-miterlimit:10;\" transform=\"matrix(1,0,0,-1,24.748,28.546)\"/>\n",
       "</g>\n",
       "</svg>"
      ]
     },
     "metadata": {
      "isolated": "true"
     },
     "output_type": "display_data"
    }
   ],
   "source": [
    "%%tikz -f svg\n",
    "\\draw (0cm,0cm) -- (30:1cm) -- (60:1cm) -- (90:1cm) -- (120:1cm) -- (150:1cm);"
   ]
  },
  {
   "cell_type": "markdown",
   "metadata": {
    "heading_collapsed": true
   },
   "source": [
    "# xyz polar"
   ]
  },
  {
   "cell_type": "code",
   "execution_count": 54,
   "metadata": {
    "hidden": true
   },
   "outputs": [
    {
     "data": {
      "image/svg+xml": [
       "<svg height=\"240px\" version=\"1.1\" viewBox=\"0 0 85.338 56.992\" width=\"400px\" xmlns=\"http://www.w3.org/2000/svg\" xmlns:xlink=\"http://www.w3.org/1999/xlink\">\n",
       "<defs>\n",
       "<clipPath id=\"clip1\">\n",
       "  <path d=\"M 0 56 L 44 56 L 44 56.992188 L 0 56.992188 Z M 0 56 \"/>\n",
       "</clipPath>\n",
       "<clipPath id=\"clip2\">\n",
       "  <path d=\"M 0 36 L 43 36 L 43 56.992188 L 0 56.992188 Z M 0 36 \"/>\n",
       "</clipPath>\n",
       "<clipPath id=\"clip3\">\n",
       "  <path d=\"M 0 26 L 28 26 L 28 56.992188 L 0 56.992188 Z M 0 26 \"/>\n",
       "</clipPath>\n",
       "<clipPath id=\"clip4\">\n",
       "  <path d=\"M 0 28 L 1 28 L 1 56.992188 L 0 56.992188 Z M 0 28 \"/>\n",
       "</clipPath>\n",
       "</defs>\n",
       "<g id=\"surface1\">\n",
       "<path d=\"M 0.0004375 -0.00075 L 85.0395 -0.00075 M 0.0004375 28.346906 L 85.0395 28.346906 M 0.0004375 56.694563 L 85.0395 56.694563 M 0.0004375 -0.00075 L 0.0004375 56.694563 M 28.348094 -0.00075 L 28.348094 56.694563 M 56.691844 -0.00075 L 56.691844 56.694563 M 85.0395 -0.00075 L 85.0395 56.694563 \" style=\"fill:none;stroke-width:0.19925;stroke-linecap:butt;stroke-linejoin:miter;stroke:rgb(50%,50%,50%);stroke-opacity:1;stroke-miterlimit:10;\" transform=\"matrix(1,0,0,-1,0.398,56.593)\"/>\n",
       "<g clip-path=\"url(#clip1)\" clip-rule=\"nonzero\">\n",
       "<path d=\"M 0.0004375 -0.00075 L 42.519969 -0.00075 \" style=\"fill:none;stroke-width:0.3985;stroke-linecap:butt;stroke-linejoin:miter;stroke:rgb(0%,0%,0%);stroke-opacity:1;stroke-miterlimit:10;\" transform=\"matrix(1,0,0,-1,0.398,56.593)\"/>\n",
       "</g>\n",
       "<g clip-path=\"url(#clip2)\" clip-rule=\"nonzero\">\n",
       "<path d=\"M 0.0004375 -0.00075 L 36.824656 14.175031 \" style=\"fill:none;stroke-width:0.3985;stroke-linecap:butt;stroke-linejoin:miter;stroke:rgb(0%,0%,0%);stroke-opacity:1;stroke-miterlimit:10;\" transform=\"matrix(1,0,0,-1,0.398,56.593)\"/>\n",
       "</g>\n",
       "<g clip-path=\"url(#clip3)\" clip-rule=\"nonzero\">\n",
       "<path d=\"M 0.0004375 -0.00075 L 21.25825 24.550031 \" style=\"fill:none;stroke-width:0.3985;stroke-linecap:butt;stroke-linejoin:miter;stroke:rgb(0%,0%,0%);stroke-opacity:1;stroke-miterlimit:10;\" transform=\"matrix(1,0,0,-1,0.398,56.593)\"/>\n",
       "</g>\n",
       "<g clip-path=\"url(#clip4)\" clip-rule=\"nonzero\">\n",
       "<path d=\"M 0.0004375 -0.00075 L 0.0004375 28.346906 \" style=\"fill:none;stroke-width:0.3985;stroke-linecap:butt;stroke-linejoin:miter;stroke:rgb(0%,0%,0%);stroke-opacity:1;stroke-miterlimit:10;\" transform=\"matrix(1,0,0,-1,0.398,56.593)\"/>\n",
       "</g>\n",
       "</g>\n",
       "</svg>"
      ]
     },
     "metadata": {
      "isolated": "true"
     },
     "output_type": "display_data"
    }
   ],
   "source": [
    "%%tikz -f svg\n",
    "\\begin{tikzpicture}[x=1.5cm,y=1cm] % scale factor\n",
    "\\draw[help lines] (0cm,0cm) grid (3cm,2cm);\n",
    "\\draw (0,0) -- (xyz polar cs:angle=0,radius=1);\n",
    "\\draw (0,0) -- (xyz polar cs:angle=30,radius=1);\n",
    "\\draw (0,0) -- (xyz polar cs:angle=60,radius=1);\n",
    "\\draw (0,0) -- (xyz polar cs:angle=90,radius=1);\n",
    "\\end{tikzpicture}"
   ]
  },
  {
   "cell_type": "markdown",
   "metadata": {
    "hidden": true
   },
   "source": [
    "Compare with this:"
   ]
  },
  {
   "cell_type": "code",
   "execution_count": 57,
   "metadata": {
    "hidden": true
   },
   "outputs": [
    {
     "data": {
      "image/svg+xml": [
       "<svg height=\"240px\" version=\"1.1\" viewBox=\"0 0 85.338 56.992\" width=\"400px\" xmlns=\"http://www.w3.org/2000/svg\" xmlns:xlink=\"http://www.w3.org/1999/xlink\">\n",
       "<defs>\n",
       "<clipPath id=\"clip1\">\n",
       "  <path d=\"M 0 56 L 29 56 L 29 56.992188 L 0 56.992188 Z M 0 56 \"/>\n",
       "</clipPath>\n",
       "<clipPath id=\"clip2\">\n",
       "  <path d=\"M 0 36 L 31 36 L 31 56.992188 L 0 56.992188 Z M 0 36 \"/>\n",
       "</clipPath>\n",
       "<clipPath id=\"clip3\">\n",
       "  <path d=\"M 0 26 L 21 26 L 21 56.992188 L 0 56.992188 Z M 0 26 \"/>\n",
       "</clipPath>\n",
       "<clipPath id=\"clip4\">\n",
       "  <path d=\"M 0 28 L 1 28 L 1 56.992188 L 0 56.992188 Z M 0 28 \"/>\n",
       "</clipPath>\n",
       "</defs>\n",
       "<g id=\"surface1\">\n",
       "<path d=\"M 0.00021875 0.00003125 L 85.039281 0.00003125 M 0.00021875 28.347688 L 85.039281 28.347688 M 0.00021875 56.695344 L 85.039281 56.695344 M 0.00021875 0.00003125 L 0.00021875 56.695344 M 28.347875 0.00003125 L 28.347875 56.695344 M 56.695531 0.00003125 L 56.695531 56.695344 M 85.039281 0.00003125 L 85.039281 56.695344 \" style=\"fill:none;stroke-width:0.19925;stroke-linecap:butt;stroke-linejoin:miter;stroke:rgb(50%,50%,50%);stroke-opacity:1;stroke-miterlimit:10;\" transform=\"matrix(1,0,0,-1,0.199,56.793)\"/>\n",
       "<g clip-path=\"url(#clip1)\" clip-rule=\"nonzero\">\n",
       "<path d=\"M 0.00021875 0.00003125 L 28.347875 0.00003125 \" style=\"fill:none;stroke-width:0.3985;stroke-linecap:butt;stroke-linejoin:miter;stroke:rgb(0%,0%,0%);stroke-opacity:1;stroke-miterlimit:10;\" transform=\"matrix(1,0,0,-1,0.199,56.793)\"/>\n",
       "</g>\n",
       "<g clip-path=\"url(#clip2)\" clip-rule=\"nonzero\">\n",
       "<path d=\"M 0.00021875 0.00003125 L 24.551 14.171906 \" style=\"fill:none;stroke-width:0.3985;stroke-linecap:butt;stroke-linejoin:miter;stroke:rgb(0%,0%,0%);stroke-opacity:1;stroke-miterlimit:10;\" transform=\"matrix(1,0,0,-1,0.199,56.793)\"/>\n",
       "</g>\n",
       "<g clip-path=\"url(#clip3)\" clip-rule=\"nonzero\">\n",
       "<path d=\"M 0.00021875 0.00003125 L 14.172094 24.550813 \" style=\"fill:none;stroke-width:0.3985;stroke-linecap:butt;stroke-linejoin:miter;stroke:rgb(0%,0%,0%);stroke-opacity:1;stroke-miterlimit:10;\" transform=\"matrix(1,0,0,-1,0.199,56.793)\"/>\n",
       "</g>\n",
       "<g clip-path=\"url(#clip4)\" clip-rule=\"nonzero\">\n",
       "<path d=\"M 0.00021875 0.00003125 L 0.00021875 28.347688 \" style=\"fill:none;stroke-width:0.3985;stroke-linecap:butt;stroke-linejoin:miter;stroke:rgb(0%,0%,0%);stroke-opacity:1;stroke-miterlimit:10;\" transform=\"matrix(1,0,0,-1,0.199,56.793)\"/>\n",
       "</g>\n",
       "</g>\n",
       "</svg>"
      ]
     },
     "metadata": {
      "isolated": "true"
     },
     "output_type": "display_data"
    }
   ],
   "source": [
    "%%tikz -f svg\n",
    "\\draw[help lines] (0cm,0cm) grid (3cm,2cm);\n",
    "\\draw (0,0) -- (xyz polar cs:angle=0,radius=1);\n",
    "\\draw (0,0) -- (xyz polar cs:angle=30,radius=1);\n",
    "\\draw (0,0) -- (xyz polar cs:angle=60,radius=1);\n",
    "\\draw (0,0) -- (xyz polar cs:angle=90,radius=1);"
   ]
  },
  {
   "cell_type": "markdown",
   "metadata": {
    "heading_collapsed": true
   },
   "source": [
    "# Barycentric (TODO)"
   ]
  },
  {
   "cell_type": "code",
   "execution_count": null,
   "metadata": {
    "hidden": true
   },
   "outputs": [],
   "source": []
  },
  {
   "cell_type": "code",
   "execution_count": null,
   "metadata": {
    "hidden": true
   },
   "outputs": [],
   "source": []
  },
  {
   "cell_type": "markdown",
   "metadata": {},
   "source": [
    "# Node coordinate system"
   ]
  },
  {
   "cell_type": "markdown",
   "metadata": {},
   "source": [
    "## Using anchor"
   ]
  },
  {
   "cell_type": "markdown",
   "metadata": {},
   "source": [
    "NOTE: Arrow triangle is not yet working?"
   ]
  },
  {
   "cell_type": "code",
   "execution_count": 86,
   "metadata": {},
   "outputs": [
    {
     "data": {
      "image/svg+xml": [
       "<svg height=\"300px\" version=\"1.1\" viewBox=\"0 0 307.036 72.035\" width=\"600px\" xmlns=\"http://www.w3.org/2000/svg\" xmlns:xlink=\"http://www.w3.org/1999/xlink\">\n",
       "<defs>\n",
       "<g>\n",
       "<symbol id=\"glyph0-0\" overflow=\"visible\">\n",
       "<path d=\"\" style=\"stroke:none;\"/>\n",
       "</symbol>\n",
       "<symbol id=\"glyph0-1\" overflow=\"visible\">\n",
       "<path d=\"M 4.640625 -1.09375 C 4.640625 -1.359375 4.359375 -1.359375 4.296875 -1.359375 C 4.140625 -1.359375 4.03125 -1.34375 3.96875 -1.140625 C 3.90625 -1.015625 3.71875 -0.546875 2.984375 -0.546875 C 2.140625 -0.546875 1.421875 -1.25 1.421875 -2.15625 C 1.421875 -2.625 1.6875 -3.78125 3.046875 -3.78125 C 3.25 -3.78125 3.640625 -3.78125 3.640625 -3.6875 C 3.65625 -3.34375 3.84375 -3.203125 4.078125 -3.203125 C 4.3125 -3.203125 4.53125 -3.375 4.53125 -3.65625 C 4.53125 -4.390625 3.484375 -4.390625 3.046875 -4.390625 C 1.328125 -4.390625 0.734375 -3.03125 0.734375 -2.15625 C 0.734375 -0.953125 1.671875 0.0625 2.921875 0.0625 C 4.3125 0.0625 4.640625 -0.921875 4.640625 -1.09375 Z M 4.640625 -1.09375 \" style=\"stroke:none;\"/>\n",
       "</symbol>\n",
       "<symbol id=\"glyph0-2\" overflow=\"visible\">\n",
       "<path d=\"M 2.953125 -5.6875 C 2.953125 -5.984375 2.90625 -6.09375 2.5625 -6.09375 L 0.984375 -6.09375 C 0.828125 -6.09375 0.578125 -6.09375 0.578125 -5.78125 C 0.578125 -5.484375 0.84375 -5.484375 0.984375 -5.484375 L 2.265625 -5.484375 L 2.265625 -0.609375 L 0.984375 -0.609375 C 0.828125 -0.609375 0.578125 -0.609375 0.578125 -0.296875 C 0.578125 0 0.84375 0 0.984375 0 L 4.25 0 C 4.40625 0 4.65625 0 4.65625 -0.296875 C 4.65625 -0.609375 4.421875 -0.609375 4.25 -0.609375 L 2.953125 -0.609375 Z M 2.953125 -5.6875 \" style=\"stroke:none;\"/>\n",
       "</symbol>\n",
       "<symbol id=\"glyph0-3\" overflow=\"visible\">\n",
       "<path d=\"M 3.65625 -0.3125 C 3.875 -0.015625 4.34375 0 4.71875 0 C 5 0 5.21875 0 5.21875 -0.3125 C 5.21875 -0.609375 4.96875 -0.609375 4.828125 -0.609375 C 4.40625 -0.609375 4.3125 -0.65625 4.234375 -0.6875 L 4.234375 -2.84375 C 4.234375 -3.546875 3.6875 -4.390625 2.25 -4.390625 C 1.828125 -4.390625 0.8125 -4.390625 0.8125 -3.65625 C 0.8125 -3.359375 1.015625 -3.203125 1.25 -3.203125 C 1.40625 -3.203125 1.6875 -3.296875 1.6875 -3.65625 C 1.6875 -3.734375 1.703125 -3.75 1.90625 -3.765625 C 2.046875 -3.78125 2.171875 -3.78125 2.265625 -3.78125 C 3.015625 -3.78125 3.53125 -3.46875 3.53125 -2.765625 C 1.78125 -2.734375 0.546875 -2.234375 0.546875 -1.28125 C 0.546875 -0.59375 1.171875 0.0625 2.1875 0.0625 C 2.5625 0.0625 3.1875 -0.015625 3.65625 -0.3125 Z M 3.53125 -2.171875 L 3.53125 -1.328125 C 3.53125 -1.109375 3.53125 -0.890625 3.15625 -0.71875 C 2.796875 -0.546875 2.34375 -0.546875 2.265625 -0.546875 C 1.640625 -0.546875 1.234375 -0.890625 1.234375 -1.28125 C 1.234375 -1.765625 2.09375 -2.140625 3.53125 -2.171875 Z M 3.53125 -2.171875 \" style=\"stroke:none;\"/>\n",
       "</symbol>\n",
       "<symbol id=\"glyph0-4\" overflow=\"visible\">\n",
       "<path d=\"M 2.96875 -2.546875 C 2.734375 -2.578125 2.546875 -2.609375 2.296875 -2.65625 C 2 -2.703125 1.328125 -2.828125 1.328125 -3.203125 C 1.328125 -3.46875 1.640625 -3.78125 2.59375 -3.78125 C 3.421875 -3.78125 3.5625 -3.484375 3.59375 -3.21875 C 3.59375 -3.046875 3.625 -2.875 3.921875 -2.875 C 4.28125 -2.875 4.28125 -3.09375 4.28125 -3.296875 L 4.28125 -3.984375 C 4.28125 -4.140625 4.28125 -4.390625 3.984375 -4.390625 C 3.734375 -4.390625 3.703125 -4.25 3.671875 -4.171875 C 3.234375 -4.390625 2.796875 -4.390625 2.609375 -4.390625 C 0.953125 -4.390625 0.71875 -3.5625 0.71875 -3.203125 C 0.71875 -2.296875 1.765625 -2.125 2.6875 -1.984375 C 3.171875 -1.90625 3.96875 -1.78125 3.96875 -1.25 C 3.96875 -0.875 3.59375 -0.546875 2.6875 -0.546875 C 2.21875 -0.546875 1.671875 -0.65625 1.421875 -1.4375 C 1.359375 -1.609375 1.328125 -1.71875 1.0625 -1.71875 C 0.71875 -1.71875 0.71875 -1.515625 0.71875 -1.3125 L 0.71875 -0.34375 C 0.71875 -0.1875 0.71875 0.0625 1.015625 0.0625 C 1.109375 0.0625 1.265625 0.046875 1.390625 -0.3125 C 1.875 0.046875 2.40625 0.0625 2.6875 0.0625 C 4.25 0.0625 4.578125 -0.765625 4.578125 -1.25 C 4.578125 -2.28125 3.296875 -2.5 2.96875 -2.546875 Z M 2.96875 -2.546875 \" style=\"stroke:none;\"/>\n",
       "</symbol>\n",
       "<symbol id=\"glyph0-5\" overflow=\"visible\">\n",
       "<path d=\"M 2.953125 -2.734375 C 3.234375 -2.671875 4.0625 -2.46875 4.0625 -1.609375 C 4.0625 -1.09375 3.625 -0.5 2.84375 -0.5 C 2.5625 -0.5 2.078125 -0.53125 1.671875 -0.8125 C 1.25 -1.078125 1.21875 -1.5 1.203125 -1.671875 C 1.203125 -1.84375 1.1875 -2.03125 0.875 -2.03125 C 0.515625 -2.03125 0.515625 -1.8125 0.515625 -1.609375 L 0.515625 -0.296875 C 0.515625 -0.140625 0.515625 0.109375 0.8125 0.109375 C 1.03125 0.109375 1.09375 -0.03125 1.1875 -0.34375 C 1.578125 -0.046875 2.1875 0.109375 2.828125 0.109375 C 3.984375 0.109375 4.703125 -0.765625 4.703125 -1.65625 C 4.703125 -2.296875 4.34375 -2.71875 4.234375 -2.84375 C 3.8125 -3.234375 3.546875 -3.3125 2.765625 -3.484375 L 1.96875 -3.671875 C 1.546875 -3.78125 1.171875 -4.140625 1.171875 -4.609375 C 1.171875 -5.109375 1.65625 -5.59375 2.359375 -5.59375 C 3.53125 -5.59375 3.6875 -4.65625 3.75 -4.34375 C 3.78125 -4.125 3.890625 -4.0625 4.09375 -4.0625 C 4.4375 -4.0625 4.4375 -4.28125 4.4375 -4.46875 L 4.4375 -5.796875 C 4.4375 -5.953125 4.4375 -6.203125 4.140625 -6.203125 C 3.890625 -6.203125 3.84375 -6.03125 3.765625 -5.734375 C 3.359375 -6.078125 2.828125 -6.203125 2.375 -6.203125 C 1.265625 -6.203125 0.515625 -5.40625 0.515625 -4.5625 C 0.515625 -3.890625 0.984375 -3.234375 1.796875 -3 C 1.84375 -2.984375 2.8125 -2.765625 2.953125 -2.734375 Z M 2.953125 -2.734375 \" style=\"stroke:none;\"/>\n",
       "</symbol>\n",
       "<symbol id=\"glyph0-6\" overflow=\"visible\">\n",
       "<path d=\"M 4.25 -2.921875 C 4.25 -3.921875 3.75 -4.359375 2.953125 -4.359375 C 2.296875 -4.359375 1.84375 -4.015625 1.65625 -3.828125 L 1.65625 -5.6875 C 1.65625 -5.984375 1.59375 -6.09375 1.25 -6.09375 L 0.53125 -6.09375 C 0.375 -6.09375 0.125 -6.09375 0.125 -5.78125 C 0.125 -5.484375 0.375 -5.484375 0.515625 -5.484375 L 0.96875 -5.484375 L 0.96875 -0.609375 L 0.53125 -0.609375 C 0.375 -0.609375 0.125 -0.609375 0.125 -0.296875 C 0.125 0 0.375 0 0.515625 0 L 2.109375 0 C 2.25 0 2.5 0 2.5 -0.296875 C 2.5 -0.609375 2.25 -0.609375 2.09375 -0.609375 L 1.65625 -0.609375 L 1.65625 -2.375 C 1.65625 -3.375 2.390625 -3.75 2.90625 -3.75 C 3.421875 -3.75 3.5625 -3.46875 3.5625 -2.875 L 3.5625 -0.609375 L 3.1875 -0.609375 C 3.015625 -0.609375 2.765625 -0.609375 2.765625 -0.296875 C 2.765625 0 3.046875 0 3.1875 0 L 4.703125 0 C 4.84375 0 5.109375 0 5.109375 -0.296875 C 5.109375 -0.609375 4.859375 -0.609375 4.6875 -0.609375 L 4.25 -0.609375 Z M 4.25 -2.921875 \" style=\"stroke:none;\"/>\n",
       "</symbol>\n",
       "<symbol id=\"glyph0-7\" overflow=\"visible\">\n",
       "<path d=\"M 1.65625 -2.625 C 1.65625 -3.21875 2.234375 -3.75 2.859375 -3.75 C 3.59375 -3.75 4.171875 -3.015625 4.171875 -2.15625 C 4.171875 -1.203125 3.484375 -0.546875 2.78125 -0.546875 C 2 -0.546875 1.65625 -1.421875 1.65625 -1.90625 Z M 1.65625 -0.453125 C 2.0625 -0.03125 2.5 0.0625 2.8125 0.0625 C 3.890625 0.0625 4.859375 -0.890625 4.859375 -2.15625 C 4.859375 -3.375 3.984375 -4.359375 2.921875 -4.359375 C 2.4375 -4.359375 2 -4.171875 1.65625 -3.875 C 1.65625 -4.15625 1.640625 -4.296875 1.25 -4.296875 L 0.53125 -4.296875 C 0.375 -4.296875 0.125 -4.296875 0.125 -3.984375 C 0.125 -3.6875 0.375 -3.6875 0.515625 -3.6875 L 0.96875 -3.6875 L 0.96875 1.609375 L 0.53125 1.609375 C 0.375 1.609375 0.125 1.609375 0.125 1.90625 C 0.125 2.21875 0.375 2.21875 0.515625 2.21875 L 2.109375 2.21875 C 2.25 2.21875 2.5 2.21875 2.5 1.90625 C 2.5 1.609375 2.25 1.609375 2.09375 1.609375 L 1.65625 1.609375 Z M 1.65625 -0.453125 \" style=\"stroke:none;\"/>\n",
       "</symbol>\n",
       "<symbol id=\"glyph0-8\" overflow=\"visible\">\n",
       "<path d=\"M 4.234375 -1.90625 C 4.4375 -1.90625 4.625 -1.90625 4.625 -2.265625 C 4.625 -3.40625 3.984375 -4.390625 2.6875 -4.390625 C 1.5 -4.390625 0.546875 -3.390625 0.546875 -2.15625 C 0.546875 -0.953125 1.5625 0.0625 2.84375 0.0625 C 4.15625 0.0625 4.625 -0.84375 4.625 -1.09375 C 4.625 -1.359375 4.34375 -1.359375 4.28125 -1.359375 C 4.09375 -1.359375 4.015625 -1.328125 3.953125 -1.140625 C 3.734375 -0.640625 3.1875 -0.546875 2.90625 -0.546875 C 2.15625 -0.546875 1.421875 -1.046875 1.25 -1.90625 Z M 1.265625 -2.5 C 1.40625 -3.234375 2 -3.78125 2.6875 -3.78125 C 3.203125 -3.78125 3.828125 -3.53125 3.921875 -2.5 Z M 1.265625 -2.5 \" style=\"stroke:none;\"/>\n",
       "</symbol>\n",
       "<symbol id=\"glyph0-9\" overflow=\"visible\">\n",
       "<path d=\"M 1.5625 -5.484375 L 2.265625 -5.484375 C 3.1875 -5.484375 3.625 -4.890625 3.625 -4.421875 C 3.625 -3.921875 3.1875 -3.34375 2.265625 -3.34375 L 1.5625 -3.34375 Z M 3.46875 -3.03125 C 4.125 -3.40625 4.3125 -4 4.3125 -4.421875 C 4.3125 -5.28125 3.5625 -6.09375 2.375 -6.09375 L 0.625 -6.09375 C 0.453125 -6.09375 0.21875 -6.09375 0.21875 -5.78125 C 0.21875 -5.484375 0.46875 -5.484375 0.625 -5.484375 L 0.875 -5.484375 L 0.875 -0.609375 L 0.625 -0.609375 C 0.453125 -0.609375 0.21875 -0.609375 0.21875 -0.296875 C 0.21875 0 0.46875 0 0.625 0 L 1.796875 0 C 1.953125 0 2.203125 0 2.203125 -0.296875 C 2.203125 -0.609375 1.96875 -0.609375 1.796875 -0.609375 L 1.5625 -0.609375 L 1.5625 -2.734375 L 2.328125 -2.734375 C 2.515625 -2.734375 2.828125 -2.734375 3.140625 -2.46875 C 3.359375 -2.25 3.359375 -2.03125 3.359375 -1.609375 C 3.359375 -0.96875 3.359375 -0.671875 3.546875 -0.34375 C 3.71875 -0.046875 4 0.109375 4.34375 0.109375 C 4.96875 0.109375 5.203125 -0.546875 5.203125 -0.921875 C 5.203125 -1.25 4.96875 -1.25 4.859375 -1.25 C 4.75 -1.25 4.53125 -1.25 4.515625 -0.953125 C 4.515625 -0.875 4.5 -0.5 4.328125 -0.5 C 4.046875 -0.5 4.046875 -0.953125 4.046875 -1.484375 C 4.046875 -2.109375 4.046875 -2.1875 3.953125 -2.421875 C 3.84375 -2.71875 3.609375 -2.921875 3.46875 -3.03125 Z M 3.46875 -3.03125 \" style=\"stroke:none;\"/>\n",
       "</symbol>\n",
       "<symbol id=\"glyph0-10\" overflow=\"visible\">\n",
       "<path d=\"M 2.21875 -3.6875 L 3.84375 -3.6875 C 4 -3.6875 4.25 -3.6875 4.25 -3.984375 C 4.25 -4.296875 4 -4.296875 3.84375 -4.296875 L 2.21875 -4.296875 L 2.21875 -5.109375 C 2.21875 -5.296875 2.21875 -5.515625 1.875 -5.515625 C 1.53125 -5.515625 1.53125 -5.3125 1.53125 -5.109375 L 1.53125 -4.296875 L 0.65625 -4.296875 C 0.5 -4.296875 0.25 -4.296875 0.25 -3.984375 C 0.25 -3.6875 0.5 -3.6875 0.640625 -3.6875 L 1.53125 -3.6875 L 1.53125 -1.25 C 1.53125 -0.296875 2.203125 0.0625 2.9375 0.0625 C 3.671875 0.0625 4.46875 -0.375 4.46875 -1.25 C 4.46875 -1.4375 4.46875 -1.640625 4.125 -1.640625 C 3.796875 -1.640625 3.78125 -1.4375 3.78125 -1.265625 C 3.78125 -0.640625 3.203125 -0.546875 2.984375 -0.546875 C 2.21875 -0.546875 2.21875 -1.0625 2.21875 -1.3125 Z M 2.21875 -3.6875 \" style=\"stroke:none;\"/>\n",
       "</symbol>\n",
       "<symbol id=\"glyph0-11\" overflow=\"visible\">\n",
       "<path d=\"M 1.65625 -3.828125 C 1.65625 -4.140625 1.65625 -4.296875 1.25 -4.296875 L 0.53125 -4.296875 C 0.375 -4.296875 0.125 -4.296875 0.125 -3.984375 C 0.125 -3.6875 0.375 -3.6875 0.515625 -3.6875 L 0.96875 -3.6875 L 0.96875 -0.609375 L 0.53125 -0.609375 C 0.375 -0.609375 0.125 -0.609375 0.125 -0.296875 C 0.125 0 0.375 0 0.515625 0 L 2.109375 0 C 2.25 0 2.5 0 2.5 -0.296875 C 2.5 -0.609375 2.25 -0.609375 2.09375 -0.609375 L 1.65625 -0.609375 L 1.65625 -2.375 C 1.65625 -3.375 2.390625 -3.75 2.90625 -3.75 C 3.421875 -3.75 3.5625 -3.46875 3.5625 -2.875 L 3.5625 -0.609375 L 3.1875 -0.609375 C 3.015625 -0.609375 2.765625 -0.609375 2.765625 -0.296875 C 2.765625 0 3.046875 0 3.1875 0 L 4.703125 0 C 4.84375 0 5.109375 0 5.109375 -0.296875 C 5.109375 -0.609375 4.859375 -0.609375 4.6875 -0.609375 L 4.25 -0.609375 L 4.25 -2.921875 C 4.25 -3.921875 3.75 -4.359375 2.953125 -4.359375 C 2.296875 -4.359375 1.84375 -4.015625 1.65625 -3.828125 Z M 1.65625 -3.828125 \" style=\"stroke:none;\"/>\n",
       "</symbol>\n",
       "<symbol id=\"glyph0-12\" overflow=\"visible\">\n",
       "<path d=\"M 2.328125 -1.75 C 1.78125 -1.75 1.359375 -2.21875 1.359375 -2.75 C 1.359375 -3.3125 1.796875 -3.765625 2.328125 -3.765625 C 2.859375 -3.765625 3.28125 -3.296875 3.28125 -2.765625 C 3.28125 -2.1875 2.84375 -1.75 2.328125 -1.75 Z M 1.421875 -1.40625 C 1.453125 -1.390625 1.828125 -1.15625 2.328125 -1.15625 C 3.234375 -1.15625 3.96875 -1.875 3.96875 -2.765625 C 3.96875 -3.0625 3.875 -3.34375 3.703125 -3.625 C 3.921875 -3.75 4.15625 -3.78125 4.28125 -3.796875 C 4.34375 -3.53125 4.578125 -3.453125 4.671875 -3.453125 C 4.84375 -3.453125 5.078125 -3.578125 5.078125 -3.875 C 5.078125 -4.09375 4.890625 -4.40625 4.34375 -4.40625 C 4.234375 -4.40625 3.75 -4.390625 3.296875 -4.0625 C 3.125 -4.171875 2.78125 -4.359375 2.328125 -4.359375 C 1.390625 -4.359375 0.671875 -3.609375 0.671875 -2.765625 C 0.671875 -2.328125 0.84375 -2 1 -1.8125 C 0.890625 -1.65625 0.796875 -1.4375 0.796875 -1.140625 C 0.796875 -0.78125 0.9375 -0.53125 1.03125 -0.421875 C 0.296875 0.03125 0.296875 0.703125 0.296875 0.8125 C 0.296875 1.671875 1.328125 2.28125 2.609375 2.28125 C 3.890625 2.28125 4.9375 1.671875 4.9375 0.8125 C 4.9375 0.453125 4.75 -0.046875 4.25 -0.3125 C 4.109375 -0.390625 3.703125 -0.609375 2.796875 -0.609375 L 2.109375 -0.609375 C 2.03125 -0.609375 1.890625 -0.609375 1.8125 -0.625 C 1.671875 -0.625 1.609375 -0.625 1.484375 -0.765625 C 1.375 -0.90625 1.359375 -1.109375 1.359375 -1.125 C 1.359375 -1.171875 1.390625 -1.3125 1.421875 -1.40625 Z M 2.609375 1.6875 C 1.609375 1.6875 0.875 1.25 0.875 0.8125 C 0.875 0.640625 0.953125 0.3125 1.28125 0.125 C 1.53125 -0.046875 1.609375 -0.046875 2.34375 -0.046875 C 3.234375 -0.046875 4.359375 -0.046875 4.359375 0.8125 C 4.359375 1.25 3.609375 1.6875 2.609375 1.6875 Z M 2.609375 1.6875 \" style=\"stroke:none;\"/>\n",
       "</symbol>\n",
       "<symbol id=\"glyph0-13\" overflow=\"visible\">\n",
       "<path d=\"M 4.828125 -5.796875 C 4.828125 -5.953125 4.828125 -6.203125 4.53125 -6.203125 C 4.34375 -6.203125 4.296875 -6.09375 4.25 -6.03125 C 4.234375 -5.984375 4.234375 -5.96875 4.09375 -5.71875 C 3.765625 -6 3.3125 -6.203125 2.796875 -6.203125 C 1.515625 -6.203125 0.40625 -4.859375 0.40625 -3.046875 C 0.40625 -1.21875 1.515625 0.109375 2.8125 0.109375 C 3.96875 0.109375 4.828125 -0.78125 4.828125 -1.671875 C 4.828125 -2 4.578125 -2 4.46875 -2 C 4.390625 -2 4.15625 -2 4.140625 -1.71875 C 4.0625 -0.734375 3.265625 -0.5 2.84375 -0.5 C 1.9375 -0.5 1.09375 -1.5625 1.09375 -3.046875 C 1.09375 -4.53125 1.953125 -5.59375 2.84375 -5.59375 C 3.4375 -5.59375 3.984375 -5.140625 4.125 -4.328125 C 4.15625 -4.15625 4.171875 -4 4.46875 -4 C 4.828125 -4 4.828125 -4.203125 4.828125 -4.40625 Z M 4.828125 -5.796875 \" style=\"stroke:none;\"/>\n",
       "</symbol>\n",
       "<symbol id=\"glyph0-14\" overflow=\"visible\">\n",
       "<path d=\"M 3.078125 -3.890625 C 3.078125 -4.203125 3.015625 -4.296875 2.6875 -4.296875 L 1.265625 -4.296875 C 1.109375 -4.296875 0.859375 -4.296875 0.859375 -4 C 0.859375 -3.6875 1.109375 -3.6875 1.265625 -3.6875 L 2.390625 -3.6875 L 2.390625 -0.609375 L 1.1875 -0.609375 C 1.03125 -0.609375 0.78125 -0.609375 0.78125 -0.296875 C 0.78125 0 1.03125 0 1.1875 0 L 4.125 0 C 4.28125 0 4.53125 0 4.53125 -0.296875 C 4.53125 -0.609375 4.28125 -0.609375 4.125 -0.609375 L 3.078125 -0.609375 Z M 3.078125 -5.609375 C 3.078125 -5.875 2.859375 -6.09375 2.578125 -6.09375 C 2.296875 -6.09375 2.078125 -5.875 2.078125 -5.609375 C 2.078125 -5.328125 2.296875 -5.109375 2.578125 -5.109375 C 2.859375 -5.109375 3.078125 -5.328125 3.078125 -5.609375 Z M 3.078125 -5.609375 \" style=\"stroke:none;\"/>\n",
       "</symbol>\n",
       "<symbol id=\"glyph0-15\" overflow=\"visible\">\n",
       "<path d=\"M 2.21875 -1.859375 C 2.21875 -2.796875 2.796875 -3.75 4 -3.75 C 4.015625 -3.515625 4.1875 -3.3125 4.4375 -3.3125 C 4.65625 -3.3125 4.859375 -3.46875 4.859375 -3.734375 C 4.859375 -3.9375 4.734375 -4.359375 3.90625 -4.359375 C 3.40625 -4.359375 2.765625 -4.171875 2.21875 -3.546875 L 2.21875 -3.890625 C 2.21875 -4.203125 2.15625 -4.296875 1.8125 -4.296875 L 0.71875 -4.296875 C 0.5625 -4.296875 0.3125 -4.296875 0.3125 -4 C 0.3125 -3.6875 0.5625 -3.6875 0.71875 -3.6875 L 1.53125 -3.6875 L 1.53125 -0.609375 L 0.71875 -0.609375 C 0.5625 -0.609375 0.3125 -0.609375 0.3125 -0.3125 C 0.3125 0 0.5625 0 0.71875 0 L 3.3125 0 C 3.46875 0 3.734375 0 3.734375 -0.296875 C 3.734375 -0.609375 3.46875 -0.609375 3.3125 -0.609375 L 2.21875 -0.609375 Z M 2.21875 -1.859375 \" style=\"stroke:none;\"/>\n",
       "</symbol>\n",
       "<symbol id=\"glyph0-16\" overflow=\"visible\">\n",
       "<path d=\"M 0.96875 -0.609375 L 0.671875 -0.609375 C 0.515625 -0.609375 0.265625 -0.609375 0.265625 -0.296875 C 0.265625 0 0.515625 0 0.671875 0 L 4.609375 0 C 4.9375 0 5 -0.09375 5 -0.40625 L 5 -1.296875 C 5 -1.484375 5 -1.703125 4.671875 -1.703125 C 4.3125 -1.703125 4.3125 -1.5 4.3125 -1.296875 L 4.3125 -0.609375 L 1.65625 -0.609375 L 1.65625 -2.84375 L 2.953125 -2.84375 C 2.953125 -2.4375 2.953125 -2.28125 3.3125 -2.28125 C 3.65625 -2.28125 3.65625 -2.5 3.65625 -2.6875 L 3.65625 -3.625 C 3.65625 -3.8125 3.65625 -4.03125 3.3125 -4.03125 C 2.953125 -4.03125 2.953125 -3.875 2.953125 -3.453125 L 1.65625 -3.453125 L 1.65625 -5.484375 L 4.09375 -5.484375 L 4.09375 -4.953125 C 4.09375 -4.765625 4.09375 -4.546875 4.4375 -4.546875 C 4.78125 -4.546875 4.78125 -4.75 4.78125 -4.953125 L 4.78125 -5.6875 C 4.78125 -5.984375 4.71875 -6.09375 4.390625 -6.09375 L 0.671875 -6.09375 C 0.515625 -6.09375 0.265625 -6.09375 0.265625 -5.796875 C 0.265625 -5.484375 0.515625 -5.484375 0.671875 -5.484375 L 0.96875 -5.484375 Z M 0.96875 -0.609375 \" style=\"stroke:none;\"/>\n",
       "</symbol>\n",
       "</g>\n",
       "<clipPath id=\"clip1\">\n",
       "  <path d=\"M 0 56 L 86 56 L 86 72.035156 L 0 72.035156 Z M 0 56 \"/>\n",
       "</clipPath>\n",
       "<clipPath id=\"clip2\">\n",
       "  <path d=\"M 232 56 L 307.035156 56 L 307.035156 72.035156 L 232 72.035156 Z M 232 56 \"/>\n",
       "</clipPath>\n",
       "</defs>\n",
       "<g id=\"surface1\">\n",
       "<path d=\"M -56.693906 0.00071875 L 56.692812 0.00071875 M -56.693906 28.348375 L 56.692812 28.348375 M -56.693906 56.684312 L 56.692812 56.684312 M -56.693906 0.00071875 L -56.693906 56.692125 M -28.34625 0.00071875 L -28.34625 56.692125 M 0.00140625 0.00071875 L 0.00140625 56.692125 M 28.345156 0.00071875 L 28.345156 56.692125 M 56.685 0.00071875 L 56.685 56.692125 \" style=\"fill:none;stroke-width:0.19925;stroke-linecap:butt;stroke-linejoin:miter;stroke:rgb(50%,50%,50%);stroke-opacity:1;stroke-miterlimit:10;\" transform=\"matrix(1,0,0,-1,99.44,64.364)\"/>\n",
       "<path d=\"M 100.4375 64.363281 C 100.4375 63.8125 99.988281 63.367188 99.441406 63.367188 C 98.890625 63.367188 98.445312 63.8125 98.445312 64.363281 C 98.445312 64.914062 98.890625 65.359375 99.441406 65.359375 C 99.988281 65.359375 100.4375 64.914062 100.4375 64.363281 Z M 100.4375 64.363281 \" style=\" stroke:none;fill-rule:nonzero;fill:rgb(0%,0%,0%);fill-opacity:1;\"/>\n",
       "<path d=\"M -32.088438 49.223375 L 32.087344 49.223375 L 32.087344 64.164781 L -32.088438 64.164781 Z M -32.088438 49.223375 \" style=\"fill:none;stroke-width:0.3985;stroke-linecap:butt;stroke-linejoin:miter;stroke:rgb(0%,0%,0%);stroke-opacity:1;stroke-miterlimit:10;\" transform=\"matrix(1,0,0,-1,99.44,64.364)\"/>\n",
       "<g style=\"fill:rgb(0%,0%,0%);fill-opacity:1;\">\n",
       "  <use x=\"70.673\" xlink:href=\"#glyph0-1\" y=\"9.608\"/>\n",
       "  <use x=\"75.903365\" xlink:href=\"#glyph0-2\" y=\"9.608\"/>\n",
       "  <use x=\"81.13373\" xlink:href=\"#glyph0-3\" y=\"9.608\"/>\n",
       "  <use x=\"86.364095\" xlink:href=\"#glyph0-4\" y=\"9.608\"/>\n",
       "  <use x=\"91.59446\" xlink:href=\"#glyph0-4\" y=\"9.608\"/>\n",
       "</g>\n",
       "<g style=\"fill:rgb(0%,0%,0%);fill-opacity:1;\">\n",
       "  <use x=\"102.05519\" xlink:href=\"#glyph0-5\" y=\"9.608\"/>\n",
       "  <use x=\"107.285555\" xlink:href=\"#glyph0-6\" y=\"9.608\"/>\n",
       "  <use x=\"112.51592\" xlink:href=\"#glyph0-3\" y=\"9.608\"/>\n",
       "  <use x=\"117.746285\" xlink:href=\"#glyph0-7\" y=\"9.608\"/>\n",
       "  <use x=\"122.97665\" xlink:href=\"#glyph0-8\" y=\"9.608\"/>\n",
       "</g>\n",
       "<g clip-path=\"url(#clip1)\" clip-rule=\"nonzero\">\n",
       "<path d=\"M -99.240781 -7.471938 L -14.143125 -7.471938 L -14.143125 7.473375 L -99.240781 7.473375 Z M -99.240781 -7.471938 \" style=\"fill:none;stroke-width:0.3985;stroke-linecap:butt;stroke-linejoin:miter;stroke:rgb(0%,0%,0%);stroke-opacity:1;stroke-miterlimit:10;\" transform=\"matrix(1,0,0,-1,99.44,64.364)\"/>\n",
       "</g>\n",
       "<g style=\"fill:rgb(0%,0%,0%);fill-opacity:1;\">\n",
       "  <use x=\"3.52\" xlink:href=\"#glyph0-1\" y=\"66.301\"/>\n",
       "  <use x=\"8.750365\" xlink:href=\"#glyph0-2\" y=\"66.301\"/>\n",
       "  <use x=\"13.98073\" xlink:href=\"#glyph0-3\" y=\"66.301\"/>\n",
       "  <use x=\"19.211095\" xlink:href=\"#glyph0-4\" y=\"66.301\"/>\n",
       "  <use x=\"24.44146\" xlink:href=\"#glyph0-4\" y=\"66.301\"/>\n",
       "</g>\n",
       "<g style=\"fill:rgb(0%,0%,0%);fill-opacity:1;\">\n",
       "  <use x=\"34.90219\" xlink:href=\"#glyph0-9\" y=\"66.301\"/>\n",
       "  <use x=\"40.132555\" xlink:href=\"#glyph0-8\" y=\"66.301\"/>\n",
       "  <use x=\"45.36292\" xlink:href=\"#glyph0-1\" y=\"66.301\"/>\n",
       "  <use x=\"50.593285\" xlink:href=\"#glyph0-10\" y=\"66.301\"/>\n",
       "  <use x=\"55.82365\" xlink:href=\"#glyph0-3\" y=\"66.301\"/>\n",
       "  <use x=\"61.054015\" xlink:href=\"#glyph0-11\" y=\"66.301\"/>\n",
       "  <use x=\"66.28438\" xlink:href=\"#glyph0-12\" y=\"66.301\"/>\n",
       "  <use x=\"71.514745\" xlink:href=\"#glyph0-2\" y=\"66.301\"/>\n",
       "  <use x=\"76.74511\" xlink:href=\"#glyph0-8\" y=\"66.301\"/>\n",
       "</g>\n",
       "<path d=\"M 21.989687 -6.366469 L 91.395937 -6.366469 L 91.395937 6.364 L 21.989687 6.364 Z M 21.989687 -6.366469 \" style=\"fill:none;stroke-width:0.3985;stroke-linecap:butt;stroke-linejoin:miter;stroke:rgb(0%,0%,0%);stroke-opacity:1;stroke-miterlimit:10;\" transform=\"matrix(1,0,0,-1,99.44,64.364)\"/>\n",
       "<g style=\"fill:rgb(0%,0%,0%);fill-opacity:1;\">\n",
       "  <use x=\"124.751\" xlink:href=\"#glyph0-1\" y=\"67.408\"/>\n",
       "  <use x=\"129.981365\" xlink:href=\"#glyph0-2\" y=\"67.408\"/>\n",
       "  <use x=\"135.21173\" xlink:href=\"#glyph0-3\" y=\"67.408\"/>\n",
       "  <use x=\"140.442095\" xlink:href=\"#glyph0-4\" y=\"67.408\"/>\n",
       "  <use x=\"145.67246\" xlink:href=\"#glyph0-4\" y=\"67.408\"/>\n",
       "</g>\n",
       "<g style=\"fill:rgb(0%,0%,0%);fill-opacity:1;\">\n",
       "  <use x=\"156.13319\" xlink:href=\"#glyph0-13\" y=\"67.408\"/>\n",
       "  <use x=\"161.363555\" xlink:href=\"#glyph0-14\" y=\"67.408\"/>\n",
       "  <use x=\"166.59392\" xlink:href=\"#glyph0-15\" y=\"67.408\"/>\n",
       "  <use x=\"171.824285\" xlink:href=\"#glyph0-1\" y=\"67.408\"/>\n",
       "  <use x=\"177.05465\" xlink:href=\"#glyph0-2\" y=\"67.408\"/>\n",
       "  <use x=\"182.285015\" xlink:href=\"#glyph0-8\" y=\"67.408\"/>\n",
       "</g>\n",
       "<g clip-path=\"url(#clip2)\" clip-rule=\"nonzero\">\n",
       "<path d=\"M 132.763125 -7.471938 L 207.399844 -7.471938 L 207.399844 7.473375 L 132.763125 7.473375 Z M 132.763125 -7.471938 \" style=\"fill:none;stroke-width:0.3985;stroke-linecap:butt;stroke-linejoin:miter;stroke:rgb(0%,0%,0%);stroke-opacity:1;stroke-miterlimit:10;\" transform=\"matrix(1,0,0,-1,99.44,64.364)\"/>\n",
       "</g>\n",
       "<g style=\"fill:rgb(0%,0%,0%);fill-opacity:1;\">\n",
       "  <use x=\"235.522\" xlink:href=\"#glyph0-1\" y=\"66.301\"/>\n",
       "  <use x=\"240.752365\" xlink:href=\"#glyph0-2\" y=\"66.301\"/>\n",
       "  <use x=\"245.98273\" xlink:href=\"#glyph0-3\" y=\"66.301\"/>\n",
       "  <use x=\"251.213095\" xlink:href=\"#glyph0-4\" y=\"66.301\"/>\n",
       "  <use x=\"256.44346\" xlink:href=\"#glyph0-4\" y=\"66.301\"/>\n",
       "</g>\n",
       "<g style=\"fill:rgb(0%,0%,0%);fill-opacity:1;\">\n",
       "  <use x=\"266.90419\" xlink:href=\"#glyph0-16\" y=\"66.301\"/>\n",
       "  <use x=\"272.134555\" xlink:href=\"#glyph0-2\" y=\"66.301\"/>\n",
       "  <use x=\"277.36492\" xlink:href=\"#glyph0-2\" y=\"66.301\"/>\n",
       "  <use x=\"282.595285\" xlink:href=\"#glyph0-14\" y=\"66.301\"/>\n",
       "  <use x=\"287.82565\" xlink:href=\"#glyph0-7\" y=\"66.301\"/>\n",
       "  <use x=\"293.056015\" xlink:href=\"#glyph0-4\" y=\"66.301\"/>\n",
       "  <use x=\"298.28638\" xlink:href=\"#glyph0-8\" y=\"66.301\"/>\n",
       "</g>\n",
       "<path d=\"M 56.692812 6.563219 L 56.692812 28.348375 L 0.00140625 28.348375 \" style=\"fill:none;stroke-width:0.3985;stroke-linecap:butt;stroke-linejoin:miter;stroke:rgb(0%,0%,0%);stroke-opacity:1;stroke-miterlimit:10;\" transform=\"matrix(1,0,0,-1,99.44,64.364)\"/>\n",
       "<path d=\"M 170.079531 7.672594 L 170.079531 28.348375 L 56.692812 28.348375 \" style=\"fill:none;stroke-width:0.3985;stroke-linecap:butt;stroke-linejoin:miter;stroke:rgb(0%,0%,0%);stroke-opacity:1;stroke-miterlimit:10;\" transform=\"matrix(1,0,0,-1,99.44,64.364)\"/>\n",
       "<path d=\"M -56.693906 7.672594 L -56.693906 28.348375 L 0.00140625 28.348375 L 0.00140625 48.563219 \" style=\"fill:none;stroke-width:0.3985;stroke-linecap:butt;stroke-linejoin:miter;stroke:rgb(0%,0%,0%);stroke-opacity:1;stroke-miterlimit:10;\" transform=\"matrix(1,0,0,-1,99.44,64.364)\"/>\n",
       "<path d=\"M -1.196454 1.592344 C -1.094891 0.994688 -0.00114125 0.100156 0.29964 -0.00140625 C -0.00114125 -0.0990625 -1.094891 -0.9975 -1.196454 -1.595156 \" style=\"fill:none;stroke-width:0.31879;stroke-linecap:round;stroke-linejoin:round;stroke:rgb(0%,0%,0%);stroke-opacity:1;stroke-miterlimit:10;\" transform=\"matrix(0,-1,-1,0,99.44,15.79964)\"/>\n",
       "</g>\n",
       "</svg>"
      ]
     },
     "metadata": {
      "isolated": "true"
     },
     "output_type": "display_data"
    }
   ],
   "source": [
    "%%tikz -f svg --size 600,300\n",
    "\n",
    "\\draw[help lines] (-2,0) grid (2,2);\n",
    "\n",
    "\\fill (0,0) circle (1pt);\n",
    "\n",
    "\\node (shape) at (0,2) [draw] {\\verb|class Shape|};\n",
    "\\node (rect) at (-2,0) [draw] {\\verb|class Rectangle|};\n",
    "\\node (circle) at (2,0) [draw] {\\verb|class Circle|};\n",
    "\\node (ellipse) at (6,0) [draw] {\\verb|class Ellipse|};\n",
    "\n",
    "\\draw (node cs:name=circle,anchor=north) |- (0,1);\n",
    "\\draw (node cs:name=ellipse,anchor=north) |- (2,1); % avoid two lines\n",
    "\\draw [->]\n",
    "(node cs:name=rect,anchor=north) |- (0,1) -| (node cs:name=shape,anchor=south);"
   ]
  },
  {
   "cell_type": "markdown",
   "metadata": {},
   "source": [
    "## Using angle"
   ]
  },
  {
   "cell_type": "markdown",
   "metadata": {},
   "source": [
    "Don't forget to load tikzlibrary"
   ]
  },
  {
   "cell_type": "code",
   "execution_count": 99,
   "metadata": {},
   "outputs": [
    {
     "data": {
      "image/svg+xml": [
       "<svg height=\"240px\" version=\"1.1\" viewBox=\"0 0 90.5 75.548\" width=\"400px\" xmlns=\"http://www.w3.org/2000/svg\" xmlns:xlink=\"http://www.w3.org/1999/xlink\">\n",
       "<defs>\n",
       "<g>\n",
       "<symbol id=\"glyph0-0\" overflow=\"visible\">\n",
       "<path d=\"\" style=\"stroke:none;\"/>\n",
       "</symbol>\n",
       "<symbol id=\"glyph0-1\" overflow=\"visible\">\n",
       "<path d=\"M 2.078125 -1.9375 C 2.296875 -1.890625 3.109375 -1.734375 3.109375 -1.015625 C 3.109375 -0.515625 2.765625 -0.109375 1.984375 -0.109375 C 1.140625 -0.109375 0.78125 -0.671875 0.59375 -1.53125 C 0.5625 -1.65625 0.5625 -1.6875 0.453125 -1.6875 C 0.328125 -1.6875 0.328125 -1.625 0.328125 -1.453125 L 0.328125 -0.125 C 0.328125 0.046875 0.328125 0.109375 0.4375 0.109375 C 0.484375 0.109375 0.5 0.09375 0.6875 -0.09375 C 0.703125 -0.109375 0.703125 -0.125 0.890625 -0.3125 C 1.328125 0.09375 1.78125 0.109375 1.984375 0.109375 C 3.125 0.109375 3.59375 -0.5625 3.59375 -1.28125 C 3.59375 -1.796875 3.296875 -2.109375 3.171875 -2.21875 C 2.84375 -2.546875 2.453125 -2.625 2.03125 -2.703125 C 1.46875 -2.8125 0.8125 -2.9375 0.8125 -3.515625 C 0.8125 -3.875 1.0625 -4.28125 1.921875 -4.28125 C 3.015625 -4.28125 3.078125 -3.375 3.09375 -3.078125 C 3.09375 -2.984375 3.1875 -2.984375 3.203125 -2.984375 C 3.34375 -2.984375 3.34375 -3.03125 3.34375 -3.21875 L 3.34375 -4.234375 C 3.34375 -4.390625 3.34375 -4.46875 3.234375 -4.46875 C 3.1875 -4.46875 3.15625 -4.46875 3.03125 -4.34375 C 3 -4.3125 2.90625 -4.21875 2.859375 -4.1875 C 2.484375 -4.46875 2.078125 -4.46875 1.921875 -4.46875 C 0.703125 -4.46875 0.328125 -3.796875 0.328125 -3.234375 C 0.328125 -2.890625 0.484375 -2.609375 0.75 -2.390625 C 1.078125 -2.140625 1.359375 -2.078125 2.078125 -1.9375 Z M 2.078125 -1.9375 \" style=\"stroke:none;\"/>\n",
       "</symbol>\n",
       "<symbol id=\"glyph0-2\" overflow=\"visible\">\n",
       "<path d=\"M 1.71875 -3.984375 L 3.15625 -3.984375 L 3.15625 -4.296875 L 1.71875 -4.296875 L 1.71875 -6.125 L 1.46875 -6.125 C 1.46875 -5.3125 1.171875 -4.25 0.1875 -4.203125 L 0.1875 -3.984375 L 1.03125 -3.984375 L 1.03125 -1.234375 C 1.03125 -0.015625 1.96875 0.109375 2.328125 0.109375 C 3.03125 0.109375 3.3125 -0.59375 3.3125 -1.234375 L 3.3125 -1.796875 L 3.0625 -1.796875 L 3.0625 -1.25 C 3.0625 -0.515625 2.765625 -0.140625 2.390625 -0.140625 C 1.71875 -0.140625 1.71875 -1.046875 1.71875 -1.21875 Z M 1.71875 -3.984375 \" style=\"stroke:none;\"/>\n",
       "</symbol>\n",
       "<symbol id=\"glyph0-3\" overflow=\"visible\">\n",
       "<path d=\"M 3.3125 -0.75 C 3.359375 -0.359375 3.625 0.0625 4.09375 0.0625 C 4.3125 0.0625 4.921875 -0.078125 4.921875 -0.890625 L 4.921875 -1.453125 L 4.671875 -1.453125 L 4.671875 -0.890625 C 4.671875 -0.3125 4.421875 -0.25 4.3125 -0.25 C 3.984375 -0.25 3.9375 -0.703125 3.9375 -0.75 L 3.9375 -2.734375 C 3.9375 -3.15625 3.9375 -3.546875 3.578125 -3.921875 C 3.1875 -4.3125 2.6875 -4.46875 2.21875 -4.46875 C 1.390625 -4.46875 0.703125 -4 0.703125 -3.34375 C 0.703125 -3.046875 0.90625 -2.875 1.171875 -2.875 C 1.453125 -2.875 1.625 -3.078125 1.625 -3.328125 C 1.625 -3.453125 1.578125 -3.78125 1.109375 -3.78125 C 1.390625 -4.140625 1.875 -4.25 2.1875 -4.25 C 2.6875 -4.25 3.25 -3.859375 3.25 -2.96875 L 3.25 -2.609375 C 2.734375 -2.578125 2.046875 -2.546875 1.421875 -2.25 C 0.671875 -1.90625 0.421875 -1.390625 0.421875 -0.953125 C 0.421875 -0.140625 1.390625 0.109375 2.015625 0.109375 C 2.671875 0.109375 3.125 -0.296875 3.3125 -0.75 Z M 3.25 -2.390625 L 3.25 -1.390625 C 3.25 -0.453125 2.53125 -0.109375 2.078125 -0.109375 C 1.59375 -0.109375 1.1875 -0.453125 1.1875 -0.953125 C 1.1875 -1.5 1.609375 -2.328125 3.25 -2.390625 Z M 3.25 -2.390625 \" style=\"stroke:none;\"/>\n",
       "</symbol>\n",
       "<symbol id=\"glyph0-4\" overflow=\"visible\">\n",
       "<path d=\"M 1.671875 -3.3125 L 1.671875 -4.40625 L 0.28125 -4.296875 L 0.28125 -3.984375 C 0.984375 -3.984375 1.0625 -3.921875 1.0625 -3.421875 L 1.0625 -0.75 C 1.0625 -0.3125 0.953125 -0.3125 0.28125 -0.3125 L 0.28125 0 C 0.671875 -0.015625 1.140625 -0.03125 1.421875 -0.03125 C 1.8125 -0.03125 2.28125 -0.03125 2.6875 0 L 2.6875 -0.3125 L 2.46875 -0.3125 C 1.734375 -0.3125 1.71875 -0.421875 1.71875 -0.78125 L 1.71875 -2.3125 C 1.71875 -3.296875 2.140625 -4.1875 2.890625 -4.1875 C 2.953125 -4.1875 2.984375 -4.1875 3 -4.171875 C 2.96875 -4.171875 2.765625 -4.046875 2.765625 -3.78125 C 2.765625 -3.515625 2.984375 -3.359375 3.203125 -3.359375 C 3.375 -3.359375 3.625 -3.484375 3.625 -3.796875 C 3.625 -4.109375 3.3125 -4.40625 2.890625 -4.40625 C 2.15625 -4.40625 1.796875 -3.734375 1.671875 -3.3125 Z M 1.671875 -3.3125 \" style=\"stroke:none;\"/>\n",
       "</symbol>\n",
       "</g>\n",
       "<clipPath id=\"clip1\">\n",
       "  <path d=\"M 13 32 L 90.5 32 L 90.5 64 L 13 64 Z M 13 32 \"/>\n",
       "</clipPath>\n",
       "<clipPath id=\"clip2\">\n",
       "  <path d=\"M 15 32 L 90.5 32 L 90.5 64 L 15 64 Z M 15 32 \"/>\n",
       "</clipPath>\n",
       "<clipPath id=\"clip3\">\n",
       "  <path d=\"M 15 12 L 90.5 12 L 90.5 44 L 15 44 Z M 15 12 \"/>\n",
       "</clipPath>\n",
       "<clipPath id=\"clip4\">\n",
       "  <path d=\"M 13 12 L 90.5 12 L 90.5 44 L 13 44 Z M 13 12 \"/>\n",
       "</clipPath>\n",
       "</defs>\n",
       "<g id=\"surface1\">\n",
       "<path d=\"M 19.236875 0.0005625 C 19.236875 4.984938 10.623594 9.027906 -0.00140625 9.027906 C -10.6225 9.027906 -19.235781 4.984938 -19.235781 0.0005625 C -19.235781 -4.987719 -10.6225 -9.030687 -0.00140625 -9.030687 C 10.623594 -9.030687 19.236875 -4.987719 19.236875 0.0005625 Z M 19.236875 0.0005625 \" style=\"fill:none;stroke-width:0.3985;stroke-linecap:butt;stroke-linejoin:miter;stroke:rgb(0%,0%,0%);stroke-opacity:1;stroke-miterlimit:10;\" transform=\"matrix(1,0,0,-1,19.435,37.774)\"/>\n",
       "<g style=\"fill:rgb(0%,0%,0%);fill-opacity:1;\">\n",
       "  <use x=\"9.154\" xlink:href=\"#glyph0-1\" y=\"40.838\"/>\n",
       "  <use x=\"13.083249\" xlink:href=\"#glyph0-2\" y=\"40.838\"/>\n",
       "  <use x=\"16.957705\" xlink:href=\"#glyph0-3\" y=\"40.838\"/>\n",
       "  <use x=\"21.939005\" xlink:href=\"#glyph0-4\" y=\"40.838\"/>\n",
       "  <use x=\"25.841355\" xlink:href=\"#glyph0-2\" y=\"40.838\"/>\n",
       "</g>\n",
       "<g clip-path=\"url(#clip1)\" clip-rule=\"nonzero\">\n",
       "<path d=\"M -0.00140625 -9.229906 C -0.00140625 -37.573656 42.522031 0.0005625 70.865781 0.0005625 \" style=\"fill:none;stroke-width:0.3985;stroke-linecap:butt;stroke-linejoin:miter;stroke:rgb(0%,0%,0%);stroke-opacity:1;stroke-miterlimit:10;\" transform=\"matrix(1,0,0,-1,19.435,37.774)\"/>\n",
       "</g>\n",
       "<g clip-path=\"url(#clip2)\" clip-rule=\"nonzero\">\n",
       "<path d=\"M 1.619688 -9.198656 C 6.545469 -37.116625 42.522031 0.0005625 70.865781 0.0005625 \" style=\"fill:none;stroke-width:0.3985;stroke-linecap:butt;stroke-linejoin:miter;stroke:rgb(0%,0%,100%);stroke-opacity:1;stroke-miterlimit:10;\" transform=\"matrix(1,0,0,-1,19.435,37.774)\"/>\n",
       "</g>\n",
       "<g clip-path=\"url(#clip3)\" clip-rule=\"nonzero\">\n",
       "<path d=\"M 1.619688 9.199781 C 6.545469 37.113844 42.522031 0.0005625 70.865781 0.0005625 \" style=\"fill:none;stroke-width:0.3985;stroke-linecap:butt;stroke-linejoin:miter;stroke:rgb(0%,0%,0%);stroke-opacity:1;stroke-miterlimit:10;\" transform=\"matrix(1,0,0,-1,19.435,37.774)\"/>\n",
       "</g>\n",
       "<g clip-path=\"url(#clip4)\" clip-rule=\"nonzero\">\n",
       "<path d=\"M -0.00140625 9.227125 C -0.00140625 37.574781 42.522031 0.0005625 70.865781 0.0005625 \" style=\"fill:none;stroke-width:0.3985;stroke-linecap:butt;stroke-linejoin:miter;stroke:rgb(0%,0%,100%);stroke-opacity:1;stroke-miterlimit:10;\" transform=\"matrix(1,0,0,-1,19.435,37.774)\"/>\n",
       "</g>\n",
       "</g>\n",
       "</svg>"
      ]
     },
     "metadata": {
      "isolated": "true"
     },
     "output_type": "display_data"
    }
   ],
   "source": [
    "%%tikz -f svg -l shapes.geometric\n",
    "\n",
    "\\node (start) [draw,shape=ellipse] {start};\n",
    "\\draw (node cs:name=start,angle=-90) .. controls +(-90:1cm) and +(-1,0) .. (2.5,0);\n",
    "\\draw[blue] (node cs:name=start,angle=-80) .. controls +(-80:1cm) and +(-1,0) .. (2.5,0);\n",
    "\n",
    "\\draw (node cs:name=start,angle=80) .. controls +(80:1cm) and +(-1,0) .. (2.5,0);\n",
    "\\draw[blue] (node cs:name=start,angle=90) .. controls +(90:1cm) and +(-1,0) .. (2.5,0);"
   ]
  },
  {
   "cell_type": "markdown",
   "metadata": {},
   "source": [
    "It is possible to provide neither the `anchor=` option nor the `angle=` option. In this case, TikZ will calculate an appropriate border position for you. Here is an example:"
   ]
  },
  {
   "cell_type": "code",
   "execution_count": 103,
   "metadata": {},
   "outputs": [
    {
     "data": {
      "image/svg+xml": [
       "<svg height=\"240px\" version=\"1.1\" viewBox=\"0 0 142.087 63.964\" width=\"400px\" xmlns=\"http://www.w3.org/2000/svg\" xmlns:xlink=\"http://www.w3.org/1999/xlink\">\n",
       "<defs>\n",
       "<g>\n",
       "<symbol id=\"glyph0-0\" overflow=\"visible\">\n",
       "<path d=\"\" style=\"stroke:none;\"/>\n",
       "</symbol>\n",
       "<symbol id=\"glyph0-1\" overflow=\"visible\">\n",
       "<path d=\"M 2.703125 -7.515625 C 2.640625 -7.640625 2.59375 -7.703125 2.4375 -7.6875 C 2.296875 -7.65625 2.265625 -7.578125 2.25 -7.4375 L 1.25 -1.21875 C 1.15625 -0.6875 0.796875 -0.46875 0.265625 -0.359375 L 0.3125 -0.046875 C 0.53125 -0.109375 0.96875 -0.203125 1.3125 -0.265625 C 1.609375 -0.3125 2.125 -0.390625 2.453125 -0.4375 L 2.40625 -0.75 C 1.90625 -0.65625 1.609375 -0.84375 1.5625 -1.09375 C 1.5625 -1.125 1.546875 -1.234375 1.546875 -1.25 L 1.796875 -2.625 L 4.203125 -3.046875 L 5 -1.640625 C 5.015625 -1.59375 5.046875 -1.53125 5.046875 -1.5 C 5.109375 -1.21875 4.546875 -1.125 4.296875 -1.078125 L 4.34375 -0.765625 C 4.6875 -0.859375 5.390625 -0.984375 5.75 -1.046875 C 6.171875 -1.125 6.625 -1.1875 7.03125 -1.234375 L 6.984375 -1.546875 L 6.8125 -1.515625 C 6.234375 -1.421875 6.078125 -1.453125 5.90625 -1.75 Z M 2.375 -6.328125 L 4.046875 -3.328125 L 1.84375 -2.9375 Z M 2.375 -6.328125 \" style=\"stroke:none;\"/>\n",
       "</symbol>\n",
       "<symbol id=\"glyph0-2\" overflow=\"visible\">\n",
       "<path d=\"M 0.484375 -3.5625 L 0.953125 -0.921875 C 1.03125 -0.5 0.921875 -0.484375 0.265625 -0.359375 L 0.3125 -0.046875 C 0.65625 -0.125 1.15625 -0.234375 1.4375 -0.28125 C 1.671875 -0.328125 2.1875 -0.40625 2.53125 -0.4375 L 2.484375 -0.75 C 1.8125 -0.640625 1.703125 -0.625 1.625 -1.046875 L 1.296875 -2.859375 C 1.125 -3.875 1.734375 -4.5625 2.34375 -4.671875 C 2.96875 -4.78125 3.171875 -4.265625 3.28125 -3.703125 L 3.6875 -1.40625 C 3.765625 -0.984375 3.65625 -0.96875 3 -0.84375 L 3.046875 -0.53125 C 3.390625 -0.609375 3.890625 -0.71875 4.15625 -0.765625 C 4.40625 -0.8125 4.921875 -0.890625 5.25 -0.921875 L 5.203125 -1.234375 C 4.6875 -1.140625 4.453125 -1.109375 4.390625 -1.390625 L 4.0625 -3.28125 C 3.90625 -4.125 3.859375 -4.40625 3.484375 -4.703125 C 3.3125 -4.859375 2.953125 -5 2.390625 -4.90625 C 1.671875 -4.765625 1.28125 -4.265625 1.109375 -3.609375 L 0.921875 -4.640625 L -0.4375 -4.28125 L -0.375 -3.96875 C 0.3125 -4.09375 0.390625 -4.046875 0.484375 -3.5625 Z M 0.484375 -3.5625 \" style=\"stroke:none;\"/>\n",
       "</symbol>\n",
       "<symbol id=\"glyph0-3\" overflow=\"visible\">\n",
       "<path d=\"M 0.65625 -2.671875 C 0.46875 -4.140625 1.25 -4.53125 1.59375 -4.59375 C 2.59375 -4.78125 2.9375 -3.46875 3 -3.09375 Z M 0.6875 -2.453125 L 3.421875 -2.9375 C 3.640625 -2.984375 3.671875 -2.984375 3.640625 -3.203125 C 3.46875 -4.171875 2.765625 -5.03125 1.546875 -4.8125 C 0.40625 -4.609375 -0.3125 -3.4375 -0.09375 -2.203125 C 0.125 -0.890625 1.328125 -0.125 2.453125 -0.3125 C 3.640625 -0.53125 3.90625 -1.703125 3.875 -1.890625 C 3.859375 -1.984375 3.765625 -2 3.703125 -1.984375 C 3.625 -1.984375 3.609375 -1.90625 3.609375 -1.828125 C 3.453125 -0.75 2.546875 -0.59375 2.46875 -0.578125 C 1.96875 -0.5 1.53125 -0.71875 1.25 -1.046875 C 0.875 -1.453125 0.75 -2.09375 0.6875 -2.453125 Z M 0.6875 -2.453125 \" style=\"stroke:none;\"/>\n",
       "</symbol>\n",
       "<symbol id=\"glyph0-4\" overflow=\"visible\">\n",
       "<path d=\"M 0.53125 -7.125 L -0.859375 -6.765625 L -0.796875 -6.46875 C -0.109375 -6.578125 -0.03125 -6.53125 0.0625 -6.03125 L 0.96875 -0.921875 C 1.046875 -0.5 0.9375 -0.484375 0.28125 -0.375 L 0.328125 -0.0625 C 0.640625 -0.125 1.171875 -0.234375 1.421875 -0.28125 C 1.65625 -0.328125 2.140625 -0.390625 2.515625 -0.4375 L 2.46875 -0.75 C 1.796875 -0.640625 1.6875 -0.625 1.609375 -1.046875 Z M 0.53125 -7.125 \" style=\"stroke:none;\"/>\n",
       "</symbol>\n",
       "<symbol id=\"glyph0-5\" overflow=\"visible\">\n",
       "<path d=\"M 0.96875 -4.65625 L -0.375 -4.296875 L -0.3125 -3.984375 C 0.3125 -4.09375 0.40625 -4.046875 0.5 -3.578125 L 0.96875 -0.921875 C 1.046875 -0.5 0.9375 -0.484375 0.28125 -0.375 L 0.328125 -0.0625 C 0.625 -0.125 1.171875 -0.234375 1.40625 -0.28125 C 1.75 -0.34375 2.09375 -0.390625 2.4375 -0.421875 L 2.390625 -0.734375 C 1.71875 -0.625 1.671875 -0.671875 1.609375 -1.046875 Z M 0.703125 -6.359375 C 0.640625 -6.671875 0.375 -6.84375 0.109375 -6.796875 C -0.203125 -6.75 -0.375 -6.4375 -0.328125 -6.171875 C -0.28125 -5.90625 -0.015625 -5.703125 0.296875 -5.75 C 0.5625 -5.796875 0.75 -6.046875 0.703125 -6.359375 Z M 0.703125 -6.359375 \" style=\"stroke:none;\"/>\n",
       "</symbol>\n",
       "<symbol id=\"glyph0-6\" overflow=\"visible\">\n",
       "<path d=\"M 1.03125 -3.984375 L 0.921875 -4.640625 L -0.46875 -4.28125 L -0.40625 -3.96875 C 0.28125 -4.09375 0.359375 -4.046875 0.4375 -3.625 L 1.25 0.96875 C 1.328125 1.40625 1.21875 1.421875 0.5625 1.546875 L 0.625 1.859375 C 0.9375 1.78125 1.453125 1.671875 1.703125 1.640625 C 1.96875 1.578125 2.46875 1.515625 2.828125 1.46875 L 2.765625 1.15625 C 2.109375 1.265625 2 1.296875 1.921875 0.859375 L 1.625 -0.796875 L 1.609375 -0.875 C 1.6875 -0.734375 2.203125 -0.28125 2.9375 -0.40625 C 4.109375 -0.609375 4.953125 -1.765625 4.734375 -3.03125 C 4.515625 -4.28125 3.40625 -5.078125 2.296875 -4.890625 C 1.53125 -4.75 1.1875 -4.234375 1.03125 -3.984375 Z M 1.515625 -1.421875 L 1.140625 -3.609375 C 1.328125 -4.171875 1.765625 -4.53125 2.265625 -4.625 C 2.984375 -4.75 3.734375 -3.984375 3.921875 -2.875 C 4.125 -1.6875 3.59375 -0.75 2.875 -0.625 C 2.484375 -0.546875 2.078125 -0.6875 1.734375 -1.03125 C 1.5625 -1.203125 1.5625 -1.21875 1.515625 -1.421875 Z M 1.515625 -1.421875 \" style=\"stroke:none;\"/>\n",
       "</symbol>\n",
       "<symbol id=\"glyph0-7\" overflow=\"visible\">\n",
       "<path d=\"M 1.703125 -2.265625 C 1.9375 -2.265625 2.765625 -2.25 2.890625 -1.546875 C 2.96875 -1.046875 2.703125 -0.59375 1.9375 -0.453125 C 1.109375 -0.3125 0.65625 -0.796875 0.3125 -1.625 C 0.265625 -1.71875 0.25 -1.75 0.15625 -1.734375 C 0.03125 -1.71875 0.046875 -1.65625 0.078125 -1.5 L 0.3125 -0.1875 C 0.34375 -0.015625 0.34375 0.046875 0.453125 0.03125 C 0.5 0.03125 0.515625 0 0.65625 -0.21875 C 0.671875 -0.234375 0.671875 -0.25 0.828125 -0.46875 C 1.328125 -0.140625 1.765625 -0.203125 1.96875 -0.234375 C 3.09375 -0.4375 3.453125 -1.171875 3.328125 -1.890625 C 3.234375 -2.390625 2.890625 -2.65625 2.734375 -2.734375 C 2.359375 -3.015625 1.96875 -3 1.53125 -3.015625 C 0.96875 -3.015625 0.28125 -3.03125 0.1875 -3.609375 C 0.125 -3.953125 0.296875 -4.40625 1.140625 -4.546875 C 2.21875 -4.75 2.4375 -3.859375 2.515625 -3.5625 C 2.53125 -3.46875 2.625 -3.484375 2.640625 -3.5 C 2.78125 -3.515625 2.765625 -3.5625 2.734375 -3.75 L 2.5625 -4.75 C 2.53125 -4.90625 2.515625 -4.984375 2.40625 -4.96875 C 2.359375 -4.953125 2.328125 -4.953125 2.234375 -4.8125 C 2.203125 -4.765625 2.125 -4.65625 2.078125 -4.625 C 1.671875 -4.84375 1.265625 -4.765625 1.109375 -4.734375 C -0.09375 -4.53125 -0.328125 -3.796875 -0.234375 -3.25 C -0.171875 -2.90625 0.03125 -2.640625 0.3125 -2.484375 C 0.6875 -2.296875 0.984375 -2.28125 1.703125 -2.265625 Z M 1.703125 -2.265625 \" style=\"stroke:none;\"/>\n",
       "</symbol>\n",
       "<symbol id=\"glyph1-0\" overflow=\"visible\">\n",
       "<path d=\"\" style=\"stroke:none;\"/>\n",
       "</symbol>\n",
       "<symbol id=\"glyph1-1\" overflow=\"visible\">\n",
       "<path d=\"M 3.96875 -6.9375 C 3.921875 -7.0625 3.890625 -7.140625 3.734375 -7.140625 C 3.578125 -7.140625 3.546875 -7.078125 3.5 -6.9375 L 1.4375 -0.984375 C 1.25 -0.46875 0.859375 -0.3125 0.3125 -0.3125 L 0.3125 0 C 0.546875 -0.015625 0.984375 -0.03125 1.328125 -0.03125 C 1.640625 -0.03125 2.15625 -0.015625 2.484375 0 L 2.484375 -0.3125 C 1.984375 -0.3125 1.734375 -0.5625 1.734375 -0.8125 C 1.734375 -0.84375 1.75 -0.953125 1.75 -0.96875 L 2.21875 -2.265625 L 4.671875 -2.265625 L 5.203125 -0.75 C 5.21875 -0.703125 5.234375 -0.640625 5.234375 -0.609375 C 5.234375 -0.3125 4.671875 -0.3125 4.40625 -0.3125 L 4.40625 0 C 4.765625 -0.03125 5.46875 -0.03125 5.84375 -0.03125 C 6.265625 -0.03125 6.734375 -0.015625 7.140625 0 L 7.140625 -0.3125 L 6.96875 -0.3125 C 6.375 -0.3125 6.234375 -0.375 6.125 -0.703125 Z M 3.4375 -5.828125 L 4.5625 -2.578125 L 2.328125 -2.578125 Z M 3.4375 -5.828125 \" style=\"stroke:none;\"/>\n",
       "</symbol>\n",
       "<symbol id=\"glyph1-2\" overflow=\"visible\">\n",
       "<path d=\"M 1.171875 -2.171875 C 1.171875 -3.796875 1.984375 -4.21875 2.515625 -4.21875 C 2.609375 -4.21875 3.234375 -4.203125 3.578125 -3.84375 C 3.171875 -3.8125 3.109375 -3.515625 3.109375 -3.390625 C 3.109375 -3.125 3.296875 -2.9375 3.5625 -2.9375 C 3.828125 -2.9375 4.03125 -3.09375 4.03125 -3.40625 C 4.03125 -4.078125 3.265625 -4.46875 2.5 -4.46875 C 1.25 -4.46875 0.34375 -3.390625 0.34375 -2.15625 C 0.34375 -0.875 1.328125 0.109375 2.484375 0.109375 C 3.8125 0.109375 4.140625 -1.09375 4.140625 -1.1875 C 4.140625 -1.28125 4.03125 -1.28125 4 -1.28125 C 3.921875 -1.28125 3.890625 -1.25 3.875 -1.1875 C 3.59375 -0.265625 2.9375 -0.140625 2.578125 -0.140625 C 2.046875 -0.140625 1.171875 -0.5625 1.171875 -2.171875 Z M 1.171875 -2.171875 \" style=\"stroke:none;\"/>\n",
       "</symbol>\n",
       "<symbol id=\"glyph1-3\" overflow=\"visible\">\n",
       "<path d=\"M 1.765625 -4.40625 L 0.375 -4.296875 L 0.375 -3.984375 C 1.015625 -3.984375 1.109375 -3.921875 1.109375 -3.4375 L 1.109375 -0.75 C 1.109375 -0.3125 1 -0.3125 0.328125 -0.3125 L 0.328125 0 C 0.640625 -0.015625 1.1875 -0.03125 1.421875 -0.03125 C 1.78125 -0.03125 2.125 -0.015625 2.46875 0 L 2.46875 -0.3125 C 1.796875 -0.3125 1.765625 -0.359375 1.765625 -0.75 Z M 1.796875 -6.140625 C 1.796875 -6.453125 1.5625 -6.671875 1.28125 -6.671875 C 0.96875 -6.671875 0.75 -6.40625 0.75 -6.140625 C 0.75 -5.875 0.96875 -5.609375 1.28125 -5.609375 C 1.5625 -5.609375 1.796875 -5.828125 1.796875 -6.140625 Z M 1.796875 -6.140625 \" style=\"stroke:none;\"/>\n",
       "</symbol>\n",
       "<symbol id=\"glyph1-4\" overflow=\"visible\">\n",
       "<path d=\"M 1.671875 -3.3125 L 1.671875 -4.40625 L 0.28125 -4.296875 L 0.28125 -3.984375 C 0.984375 -3.984375 1.0625 -3.921875 1.0625 -3.421875 L 1.0625 -0.75 C 1.0625 -0.3125 0.953125 -0.3125 0.28125 -0.3125 L 0.28125 0 C 0.671875 -0.015625 1.140625 -0.03125 1.421875 -0.03125 C 1.8125 -0.03125 2.28125 -0.03125 2.6875 0 L 2.6875 -0.3125 L 2.46875 -0.3125 C 1.734375 -0.3125 1.71875 -0.421875 1.71875 -0.78125 L 1.71875 -2.3125 C 1.71875 -3.296875 2.140625 -4.1875 2.890625 -4.1875 C 2.953125 -4.1875 2.984375 -4.1875 3 -4.171875 C 2.96875 -4.171875 2.765625 -4.046875 2.765625 -3.78125 C 2.765625 -3.515625 2.984375 -3.359375 3.203125 -3.359375 C 3.375 -3.359375 3.625 -3.484375 3.625 -3.796875 C 3.625 -4.109375 3.3125 -4.40625 2.890625 -4.40625 C 2.15625 -4.40625 1.796875 -3.734375 1.671875 -3.3125 Z M 1.671875 -3.3125 \" style=\"stroke:none;\"/>\n",
       "</symbol>\n",
       "<symbol id=\"glyph1-5\" overflow=\"visible\">\n",
       "<path d=\"M 1.765625 -6.921875 L 0.328125 -6.8125 L 0.328125 -6.5 C 1.03125 -6.5 1.109375 -6.4375 1.109375 -5.9375 L 1.109375 -0.75 C 1.109375 -0.3125 1 -0.3125 0.328125 -0.3125 L 0.328125 0 C 0.65625 -0.015625 1.1875 -0.03125 1.4375 -0.03125 C 1.6875 -0.03125 2.171875 -0.015625 2.546875 0 L 2.546875 -0.3125 C 1.875 -0.3125 1.765625 -0.3125 1.765625 -0.75 Z M 1.765625 -6.921875 \" style=\"stroke:none;\"/>\n",
       "</symbol>\n",
       "<symbol id=\"glyph1-6\" overflow=\"visible\">\n",
       "<path d=\"M 1.109375 -2.515625 C 1.171875 -4 2.015625 -4.25 2.359375 -4.25 C 3.375 -4.25 3.484375 -2.90625 3.484375 -2.515625 Z M 1.109375 -2.296875 L 3.890625 -2.296875 C 4.109375 -2.296875 4.140625 -2.296875 4.140625 -2.515625 C 4.140625 -3.5 3.59375 -4.46875 2.359375 -4.46875 C 1.203125 -4.46875 0.28125 -3.4375 0.28125 -2.1875 C 0.28125 -0.859375 1.328125 0.109375 2.46875 0.109375 C 3.6875 0.109375 4.140625 -1 4.140625 -1.1875 C 4.140625 -1.28125 4.0625 -1.3125 4 -1.3125 C 3.921875 -1.3125 3.890625 -1.25 3.875 -1.171875 C 3.53125 -0.140625 2.625 -0.140625 2.53125 -0.140625 C 2.03125 -0.140625 1.640625 -0.4375 1.40625 -0.8125 C 1.109375 -1.28125 1.109375 -1.9375 1.109375 -2.296875 Z M 1.109375 -2.296875 \" style=\"stroke:none;\"/>\n",
       "</symbol>\n",
       "</g>\n",
       "<clipPath id=\"clip1\">\n",
       "  <path d=\"M 94 16 L 142.085938 16 L 142.085938 63.964844 L 94 63.964844 Z M 94 16 \"/>\n",
       "</clipPath>\n",
       "</defs>\n",
       "<g id=\"surface1\">\n",
       "<path d=\"M 34.532406 6.088375 C 33.481625 12.049312 17.169125 14.154781 -1.901187 10.7915 C -20.975406 7.428219 -35.584781 -0.130375 -34.534 -6.087406 C -33.483219 -12.048344 -17.170719 -14.153813 1.9035 -10.790531 C 20.977719 -7.42725 35.587094 0.127437 34.532406 6.088375 Z M 34.532406 6.088375 \" style=\"fill:none;stroke-width:0.3985;stroke-linecap:butt;stroke-linejoin:miter;stroke:rgb(0%,0%,0%);stroke-opacity:1;stroke-miterlimit:10;\" transform=\"matrix(1,0,0,-1,35.784,14.354)\"/>\n",
       "<g style=\"fill:rgb(0%,0%,0%);fill-opacity:1;\">\n",
       "  <use x=\"15.067\" xlink:href=\"#glyph0-1\" y=\"20.536\"/>\n",
       "  <use x=\"22.425526\" xlink:href=\"#glyph0-2\" y=\"19.238496\"/>\n",
       "</g>\n",
       "<g style=\"fill:rgb(0%,0%,0%);fill-opacity:1;\">\n",
       "  <use x=\"31.143907\" xlink:href=\"#glyph0-3\" y=\"17.701213\"/>\n",
       "  <use x=\"35.504079\" xlink:href=\"#glyph0-4\" y=\"16.932399\"/>\n",
       "  <use x=\"38.229677\" xlink:href=\"#glyph0-4\" y=\"16.451803\"/>\n",
       "  <use x=\"40.955275\" xlink:href=\"#glyph0-5\" y=\"15.971208\"/>\n",
       "  <use x=\"43.680873\" xlink:href=\"#glyph0-6\" y=\"15.490612\"/>\n",
       "  <use x=\"49.132069\" xlink:href=\"#glyph0-7\" y=\"14.529421\"/>\n",
       "  <use x=\"53.001672\" xlink:href=\"#glyph0-3\" y=\"13.847107\"/>\n",
       "</g>\n",
       "<g clip-path=\"url(#clip1)\" clip-rule=\"nonzero\">\n",
       "<path d=\"M 106.106625 -28.345219 C 106.106625 -16.712406 96.673031 -7.282719 85.040219 -7.282719 C 73.407406 -7.282719 63.977719 -16.712406 63.977719 -28.345219 C 63.977719 -39.981938 73.407406 -49.411625 85.040219 -49.411625 C 96.673031 -49.411625 106.106625 -39.981938 106.106625 -28.345219 Z M 106.106625 -28.345219 \" style=\"fill:none;stroke-width:0.3985;stroke-linecap:butt;stroke-linejoin:miter;stroke:rgb(0%,0%,0%);stroke-opacity:1;stroke-miterlimit:10;\" transform=\"matrix(1,0,0,-1,35.784,14.354)\"/>\n",
       "</g>\n",
       "<g style=\"fill:rgb(0%,0%,0%);fill-opacity:1;\">\n",
       "  <use x=\"104.067\" xlink:href=\"#glyph1-1\" y=\"46.16\"/>\n",
       "</g>\n",
       "<g style=\"fill:rgb(0%,0%,0%);fill-opacity:1;\">\n",
       "  <use x=\"114.856496\" xlink:href=\"#glyph1-2\" y=\"46.16\"/>\n",
       "  <use x=\"119.283875\" xlink:href=\"#glyph1-3\" y=\"46.16\"/>\n",
       "  <use x=\"122.051486\" xlink:href=\"#glyph1-4\" y=\"46.16\"/>\n",
       "  <use x=\"125.953836\" xlink:href=\"#glyph1-2\" y=\"46.16\"/>\n",
       "  <use x=\"130.381215\" xlink:href=\"#glyph1-5\" y=\"46.16\"/>\n",
       "  <use x=\"133.148826\" xlink:href=\"#glyph1-6\" y=\"46.16\"/>\n",
       "</g>\n",
       "<path d=\"M 19.231625 -6.411625 L 64.848813 -21.61475 \" style=\"fill:none;stroke-width:0.79701;stroke-linecap:butt;stroke-linejoin:miter;stroke:rgb(0%,0%,0%);stroke-opacity:1;stroke-miterlimit:10;\" transform=\"matrix(1,0,0,-1,35.784,14.354)\"/>\n",
       "</g>\n",
       "</svg>"
      ]
     },
     "metadata": {
      "isolated": "true"
     },
     "output_type": "display_data"
    }
   ],
   "source": [
    "%%tikz -f svg -l shapes.geometric\n",
    "\n",
    "\\path (0,0) node (a) [ellipse,rotate=10,draw] {An ellipse};\n",
    "\n",
    "\\path (3,-1) node (b) [circle,draw] {A circle};\n",
    "\n",
    "\\draw[thick] (node cs:name=a) -- (node cs:name=b);"
   ]
  },
  {
   "cell_type": "code",
   "execution_count": 105,
   "metadata": {},
   "outputs": [
    {
     "data": {
      "image/svg+xml": [
       "<svg height=\"240px\" version=\"1.1\" viewBox=\"0 0 142.087 64.362\" width=\"400px\" xmlns=\"http://www.w3.org/2000/svg\" xmlns:xlink=\"http://www.w3.org/1999/xlink\">\n",
       "<defs>\n",
       "<g>\n",
       "<symbol id=\"glyph0-0\" overflow=\"visible\">\n",
       "<path d=\"\" style=\"stroke:none;\"/>\n",
       "</symbol>\n",
       "<symbol id=\"glyph0-1\" overflow=\"visible\">\n",
       "<path d=\"M 2.703125 -7.515625 C 2.640625 -7.640625 2.59375 -7.703125 2.4375 -7.6875 C 2.296875 -7.65625 2.265625 -7.578125 2.25 -7.4375 L 1.25 -1.21875 C 1.15625 -0.6875 0.796875 -0.46875 0.265625 -0.359375 L 0.3125 -0.046875 C 0.53125 -0.109375 0.96875 -0.203125 1.3125 -0.265625 C 1.609375 -0.3125 2.125 -0.390625 2.453125 -0.4375 L 2.40625 -0.75 C 1.90625 -0.65625 1.609375 -0.84375 1.5625 -1.09375 C 1.5625 -1.125 1.546875 -1.234375 1.546875 -1.25 L 1.796875 -2.625 L 4.203125 -3.046875 L 5 -1.640625 C 5.015625 -1.59375 5.046875 -1.53125 5.046875 -1.5 C 5.109375 -1.21875 4.546875 -1.125 4.296875 -1.078125 L 4.34375 -0.765625 C 4.6875 -0.859375 5.390625 -0.984375 5.75 -1.046875 C 6.171875 -1.125 6.625 -1.1875 7.03125 -1.234375 L 6.984375 -1.546875 L 6.8125 -1.515625 C 6.234375 -1.421875 6.078125 -1.453125 5.90625 -1.75 Z M 2.375 -6.328125 L 4.046875 -3.328125 L 1.84375 -2.9375 Z M 2.375 -6.328125 \" style=\"stroke:none;\"/>\n",
       "</symbol>\n",
       "<symbol id=\"glyph0-2\" overflow=\"visible\">\n",
       "<path d=\"M 0.484375 -3.5625 L 0.953125 -0.921875 C 1.03125 -0.5 0.921875 -0.484375 0.265625 -0.359375 L 0.3125 -0.046875 C 0.65625 -0.125 1.15625 -0.234375 1.4375 -0.28125 C 1.671875 -0.328125 2.1875 -0.40625 2.53125 -0.4375 L 2.484375 -0.75 C 1.8125 -0.640625 1.703125 -0.625 1.625 -1.046875 L 1.296875 -2.859375 C 1.125 -3.875 1.734375 -4.5625 2.34375 -4.671875 C 2.96875 -4.78125 3.171875 -4.265625 3.28125 -3.703125 L 3.6875 -1.40625 C 3.765625 -0.984375 3.65625 -0.96875 3 -0.84375 L 3.046875 -0.53125 C 3.390625 -0.609375 3.890625 -0.71875 4.15625 -0.765625 C 4.40625 -0.8125 4.921875 -0.890625 5.25 -0.921875 L 5.203125 -1.234375 C 4.6875 -1.140625 4.453125 -1.109375 4.390625 -1.390625 L 4.0625 -3.28125 C 3.90625 -4.125 3.859375 -4.40625 3.484375 -4.703125 C 3.3125 -4.859375 2.953125 -5 2.390625 -4.90625 C 1.671875 -4.765625 1.28125 -4.265625 1.109375 -3.609375 L 0.921875 -4.640625 L -0.4375 -4.28125 L -0.375 -3.96875 C 0.3125 -4.09375 0.390625 -4.046875 0.484375 -3.5625 Z M 0.484375 -3.5625 \" style=\"stroke:none;\"/>\n",
       "</symbol>\n",
       "<symbol id=\"glyph0-3\" overflow=\"visible\">\n",
       "<path d=\"M 0.65625 -2.671875 C 0.46875 -4.140625 1.25 -4.53125 1.59375 -4.59375 C 2.59375 -4.78125 2.9375 -3.46875 3 -3.09375 Z M 0.6875 -2.453125 L 3.421875 -2.9375 C 3.640625 -2.984375 3.671875 -2.984375 3.640625 -3.203125 C 3.46875 -4.171875 2.765625 -5.03125 1.546875 -4.8125 C 0.40625 -4.609375 -0.3125 -3.4375 -0.09375 -2.203125 C 0.125 -0.890625 1.328125 -0.125 2.453125 -0.3125 C 3.640625 -0.53125 3.90625 -1.703125 3.875 -1.890625 C 3.859375 -1.984375 3.765625 -2 3.703125 -1.984375 C 3.625 -1.984375 3.609375 -1.90625 3.609375 -1.828125 C 3.453125 -0.75 2.546875 -0.59375 2.46875 -0.578125 C 1.96875 -0.5 1.53125 -0.71875 1.25 -1.046875 C 0.875 -1.453125 0.75 -2.09375 0.6875 -2.453125 Z M 0.6875 -2.453125 \" style=\"stroke:none;\"/>\n",
       "</symbol>\n",
       "<symbol id=\"glyph0-4\" overflow=\"visible\">\n",
       "<path d=\"M 0.53125 -7.125 L -0.859375 -6.765625 L -0.796875 -6.46875 C -0.109375 -6.578125 -0.03125 -6.53125 0.0625 -6.03125 L 0.96875 -0.921875 C 1.046875 -0.5 0.9375 -0.484375 0.28125 -0.375 L 0.328125 -0.0625 C 0.640625 -0.125 1.171875 -0.234375 1.421875 -0.28125 C 1.65625 -0.328125 2.140625 -0.390625 2.515625 -0.4375 L 2.46875 -0.75 C 1.796875 -0.640625 1.6875 -0.625 1.609375 -1.046875 Z M 0.53125 -7.125 \" style=\"stroke:none;\"/>\n",
       "</symbol>\n",
       "<symbol id=\"glyph0-5\" overflow=\"visible\">\n",
       "<path d=\"M 0.96875 -4.65625 L -0.375 -4.296875 L -0.3125 -3.984375 C 0.3125 -4.09375 0.40625 -4.046875 0.5 -3.578125 L 0.96875 -0.921875 C 1.046875 -0.5 0.9375 -0.484375 0.28125 -0.375 L 0.328125 -0.0625 C 0.625 -0.125 1.171875 -0.234375 1.40625 -0.28125 C 1.75 -0.34375 2.09375 -0.390625 2.4375 -0.421875 L 2.390625 -0.734375 C 1.71875 -0.625 1.671875 -0.671875 1.609375 -1.046875 Z M 0.703125 -6.359375 C 0.640625 -6.671875 0.375 -6.84375 0.109375 -6.796875 C -0.203125 -6.75 -0.375 -6.4375 -0.328125 -6.171875 C -0.28125 -5.90625 -0.015625 -5.703125 0.296875 -5.75 C 0.5625 -5.796875 0.75 -6.046875 0.703125 -6.359375 Z M 0.703125 -6.359375 \" style=\"stroke:none;\"/>\n",
       "</symbol>\n",
       "<symbol id=\"glyph0-6\" overflow=\"visible\">\n",
       "<path d=\"M 1.03125 -3.984375 L 0.921875 -4.640625 L -0.46875 -4.28125 L -0.40625 -3.96875 C 0.28125 -4.09375 0.359375 -4.046875 0.4375 -3.625 L 1.25 0.96875 C 1.328125 1.40625 1.21875 1.421875 0.5625 1.546875 L 0.625 1.859375 C 0.9375 1.78125 1.453125 1.671875 1.703125 1.640625 C 1.96875 1.578125 2.46875 1.515625 2.828125 1.46875 L 2.765625 1.15625 C 2.109375 1.265625 2 1.296875 1.921875 0.859375 L 1.625 -0.796875 L 1.609375 -0.875 C 1.6875 -0.734375 2.203125 -0.28125 2.9375 -0.40625 C 4.109375 -0.609375 4.953125 -1.765625 4.734375 -3.03125 C 4.515625 -4.28125 3.40625 -5.078125 2.296875 -4.890625 C 1.53125 -4.75 1.1875 -4.234375 1.03125 -3.984375 Z M 1.515625 -1.421875 L 1.140625 -3.609375 C 1.328125 -4.171875 1.765625 -4.53125 2.265625 -4.625 C 2.984375 -4.75 3.734375 -3.984375 3.921875 -2.875 C 4.125 -1.6875 3.59375 -0.75 2.875 -0.625 C 2.484375 -0.546875 2.078125 -0.6875 1.734375 -1.03125 C 1.5625 -1.203125 1.5625 -1.21875 1.515625 -1.421875 Z M 1.515625 -1.421875 \" style=\"stroke:none;\"/>\n",
       "</symbol>\n",
       "<symbol id=\"glyph0-7\" overflow=\"visible\">\n",
       "<path d=\"M 1.703125 -2.265625 C 1.9375 -2.265625 2.765625 -2.25 2.890625 -1.546875 C 2.96875 -1.046875 2.703125 -0.59375 1.9375 -0.453125 C 1.109375 -0.3125 0.65625 -0.796875 0.3125 -1.625 C 0.265625 -1.71875 0.25 -1.75 0.15625 -1.734375 C 0.03125 -1.71875 0.046875 -1.65625 0.078125 -1.5 L 0.3125 -0.1875 C 0.34375 -0.015625 0.34375 0.046875 0.453125 0.03125 C 0.5 0.03125 0.515625 0 0.65625 -0.21875 C 0.671875 -0.234375 0.671875 -0.25 0.828125 -0.46875 C 1.328125 -0.140625 1.765625 -0.203125 1.96875 -0.234375 C 3.09375 -0.4375 3.453125 -1.171875 3.328125 -1.890625 C 3.234375 -2.390625 2.890625 -2.65625 2.734375 -2.734375 C 2.359375 -3.015625 1.96875 -3 1.53125 -3.015625 C 0.96875 -3.015625 0.28125 -3.03125 0.1875 -3.609375 C 0.125 -3.953125 0.296875 -4.40625 1.140625 -4.546875 C 2.21875 -4.75 2.4375 -3.859375 2.515625 -3.5625 C 2.53125 -3.46875 2.625 -3.484375 2.640625 -3.5 C 2.78125 -3.515625 2.765625 -3.5625 2.734375 -3.75 L 2.5625 -4.75 C 2.53125 -4.90625 2.515625 -4.984375 2.40625 -4.96875 C 2.359375 -4.953125 2.328125 -4.953125 2.234375 -4.8125 C 2.203125 -4.765625 2.125 -4.65625 2.078125 -4.625 C 1.671875 -4.84375 1.265625 -4.765625 1.109375 -4.734375 C -0.09375 -4.53125 -0.328125 -3.796875 -0.234375 -3.25 C -0.171875 -2.90625 0.03125 -2.640625 0.3125 -2.484375 C 0.6875 -2.296875 0.984375 -2.28125 1.703125 -2.265625 Z M 1.703125 -2.265625 \" style=\"stroke:none;\"/>\n",
       "</symbol>\n",
       "<symbol id=\"glyph1-0\" overflow=\"visible\">\n",
       "<path d=\"\" style=\"stroke:none;\"/>\n",
       "</symbol>\n",
       "<symbol id=\"glyph1-1\" overflow=\"visible\">\n",
       "<path d=\"M 3.96875 -6.9375 C 3.921875 -7.0625 3.890625 -7.140625 3.734375 -7.140625 C 3.578125 -7.140625 3.546875 -7.078125 3.5 -6.9375 L 1.4375 -0.984375 C 1.25 -0.46875 0.859375 -0.3125 0.3125 -0.3125 L 0.3125 0 C 0.546875 -0.015625 0.984375 -0.03125 1.328125 -0.03125 C 1.640625 -0.03125 2.15625 -0.015625 2.484375 0 L 2.484375 -0.3125 C 1.984375 -0.3125 1.734375 -0.5625 1.734375 -0.8125 C 1.734375 -0.84375 1.75 -0.953125 1.75 -0.96875 L 2.21875 -2.265625 L 4.671875 -2.265625 L 5.203125 -0.75 C 5.21875 -0.703125 5.234375 -0.640625 5.234375 -0.609375 C 5.234375 -0.3125 4.671875 -0.3125 4.40625 -0.3125 L 4.40625 0 C 4.765625 -0.03125 5.46875 -0.03125 5.84375 -0.03125 C 6.265625 -0.03125 6.734375 -0.015625 7.140625 0 L 7.140625 -0.3125 L 6.96875 -0.3125 C 6.375 -0.3125 6.234375 -0.375 6.125 -0.703125 Z M 3.4375 -5.828125 L 4.5625 -2.578125 L 2.328125 -2.578125 Z M 3.4375 -5.828125 \" style=\"stroke:none;\"/>\n",
       "</symbol>\n",
       "<symbol id=\"glyph1-2\" overflow=\"visible\">\n",
       "<path d=\"M 1.171875 -2.171875 C 1.171875 -3.796875 1.984375 -4.21875 2.515625 -4.21875 C 2.609375 -4.21875 3.234375 -4.203125 3.578125 -3.84375 C 3.171875 -3.8125 3.109375 -3.515625 3.109375 -3.390625 C 3.109375 -3.125 3.296875 -2.9375 3.5625 -2.9375 C 3.828125 -2.9375 4.03125 -3.09375 4.03125 -3.40625 C 4.03125 -4.078125 3.265625 -4.46875 2.5 -4.46875 C 1.25 -4.46875 0.34375 -3.390625 0.34375 -2.15625 C 0.34375 -0.875 1.328125 0.109375 2.484375 0.109375 C 3.8125 0.109375 4.140625 -1.09375 4.140625 -1.1875 C 4.140625 -1.28125 4.03125 -1.28125 4 -1.28125 C 3.921875 -1.28125 3.890625 -1.25 3.875 -1.1875 C 3.59375 -0.265625 2.9375 -0.140625 2.578125 -0.140625 C 2.046875 -0.140625 1.171875 -0.5625 1.171875 -2.171875 Z M 1.171875 -2.171875 \" style=\"stroke:none;\"/>\n",
       "</symbol>\n",
       "<symbol id=\"glyph1-3\" overflow=\"visible\">\n",
       "<path d=\"M 1.765625 -4.40625 L 0.375 -4.296875 L 0.375 -3.984375 C 1.015625 -3.984375 1.109375 -3.921875 1.109375 -3.4375 L 1.109375 -0.75 C 1.109375 -0.3125 1 -0.3125 0.328125 -0.3125 L 0.328125 0 C 0.640625 -0.015625 1.1875 -0.03125 1.421875 -0.03125 C 1.78125 -0.03125 2.125 -0.015625 2.46875 0 L 2.46875 -0.3125 C 1.796875 -0.3125 1.765625 -0.359375 1.765625 -0.75 Z M 1.796875 -6.140625 C 1.796875 -6.453125 1.5625 -6.671875 1.28125 -6.671875 C 0.96875 -6.671875 0.75 -6.40625 0.75 -6.140625 C 0.75 -5.875 0.96875 -5.609375 1.28125 -5.609375 C 1.5625 -5.609375 1.796875 -5.828125 1.796875 -6.140625 Z M 1.796875 -6.140625 \" style=\"stroke:none;\"/>\n",
       "</symbol>\n",
       "<symbol id=\"glyph1-4\" overflow=\"visible\">\n",
       "<path d=\"M 1.671875 -3.3125 L 1.671875 -4.40625 L 0.28125 -4.296875 L 0.28125 -3.984375 C 0.984375 -3.984375 1.0625 -3.921875 1.0625 -3.421875 L 1.0625 -0.75 C 1.0625 -0.3125 0.953125 -0.3125 0.28125 -0.3125 L 0.28125 0 C 0.671875 -0.015625 1.140625 -0.03125 1.421875 -0.03125 C 1.8125 -0.03125 2.28125 -0.03125 2.6875 0 L 2.6875 -0.3125 L 2.46875 -0.3125 C 1.734375 -0.3125 1.71875 -0.421875 1.71875 -0.78125 L 1.71875 -2.3125 C 1.71875 -3.296875 2.140625 -4.1875 2.890625 -4.1875 C 2.953125 -4.1875 2.984375 -4.1875 3 -4.171875 C 2.96875 -4.171875 2.765625 -4.046875 2.765625 -3.78125 C 2.765625 -3.515625 2.984375 -3.359375 3.203125 -3.359375 C 3.375 -3.359375 3.625 -3.484375 3.625 -3.796875 C 3.625 -4.109375 3.3125 -4.40625 2.890625 -4.40625 C 2.15625 -4.40625 1.796875 -3.734375 1.671875 -3.3125 Z M 1.671875 -3.3125 \" style=\"stroke:none;\"/>\n",
       "</symbol>\n",
       "<symbol id=\"glyph1-5\" overflow=\"visible\">\n",
       "<path d=\"M 1.765625 -6.921875 L 0.328125 -6.8125 L 0.328125 -6.5 C 1.03125 -6.5 1.109375 -6.4375 1.109375 -5.9375 L 1.109375 -0.75 C 1.109375 -0.3125 1 -0.3125 0.328125 -0.3125 L 0.328125 0 C 0.65625 -0.015625 1.1875 -0.03125 1.4375 -0.03125 C 1.6875 -0.03125 2.171875 -0.015625 2.546875 0 L 2.546875 -0.3125 C 1.875 -0.3125 1.765625 -0.3125 1.765625 -0.75 Z M 1.765625 -6.921875 \" style=\"stroke:none;\"/>\n",
       "</symbol>\n",
       "<symbol id=\"glyph1-6\" overflow=\"visible\">\n",
       "<path d=\"M 1.109375 -2.515625 C 1.171875 -4 2.015625 -4.25 2.359375 -4.25 C 3.375 -4.25 3.484375 -2.90625 3.484375 -2.515625 Z M 1.109375 -2.296875 L 3.890625 -2.296875 C 4.109375 -2.296875 4.140625 -2.296875 4.140625 -2.515625 C 4.140625 -3.5 3.59375 -4.46875 2.359375 -4.46875 C 1.203125 -4.46875 0.28125 -3.4375 0.28125 -2.1875 C 0.28125 -0.859375 1.328125 0.109375 2.46875 0.109375 C 3.6875 0.109375 4.140625 -1 4.140625 -1.1875 C 4.140625 -1.28125 4.0625 -1.3125 4 -1.3125 C 3.921875 -1.3125 3.890625 -1.25 3.875 -1.171875 C 3.53125 -0.140625 2.625 -0.140625 2.53125 -0.140625 C 2.03125 -0.140625 1.640625 -0.4375 1.40625 -0.8125 C 1.109375 -1.28125 1.109375 -1.9375 1.109375 -2.296875 Z M 1.109375 -2.296875 \" style=\"stroke:none;\"/>\n",
       "</symbol>\n",
       "</g>\n",
       "<clipPath id=\"clip1\">\n",
       "  <path d=\"M 94 16 L 142.085938 16 L 142.085938 64.363281 L 94 64.363281 Z M 94 16 \"/>\n",
       "</clipPath>\n",
       "<clipPath id=\"clip2\">\n",
       "  <path d=\"M 38 11 L 133 11 L 133 64.363281 L 38 64.363281 Z M 38 11 \"/>\n",
       "</clipPath>\n",
       "</defs>\n",
       "<g id=\"surface1\">\n",
       "<path d=\"M 34.532406 6.087375 C 33.481625 12.048312 17.169125 14.153781 -1.901187 10.7905 C -20.975406 7.427219 -35.584781 -0.127469 -34.534 -6.088406 C -33.483219 -12.049344 -17.170719 -14.154813 1.9035 -10.791531 C 20.977719 -7.42825 35.587094 0.130344 34.532406 6.087375 Z M 34.532406 6.087375 \" style=\"fill:none;stroke-width:0.3985;stroke-linecap:butt;stroke-linejoin:miter;stroke:rgb(0%,0%,0%);stroke-opacity:1;stroke-miterlimit:10;\" transform=\"matrix(1,0,0,-1,35.784,14.353)\"/>\n",
       "<g style=\"fill:rgb(0%,0%,0%);fill-opacity:1;\">\n",
       "  <use x=\"15.067\" xlink:href=\"#glyph0-1\" y=\"20.535\"/>\n",
       "  <use x=\"22.425526\" xlink:href=\"#glyph0-2\" y=\"19.237496\"/>\n",
       "</g>\n",
       "<g style=\"fill:rgb(0%,0%,0%);fill-opacity:1;\">\n",
       "  <use x=\"31.143907\" xlink:href=\"#glyph0-3\" y=\"17.700213\"/>\n",
       "  <use x=\"35.504079\" xlink:href=\"#glyph0-4\" y=\"16.931399\"/>\n",
       "  <use x=\"38.229677\" xlink:href=\"#glyph0-4\" y=\"16.450803\"/>\n",
       "  <use x=\"40.955275\" xlink:href=\"#glyph0-5\" y=\"15.970208\"/>\n",
       "  <use x=\"43.680873\" xlink:href=\"#glyph0-6\" y=\"15.489612\"/>\n",
       "  <use x=\"49.132069\" xlink:href=\"#glyph0-7\" y=\"14.528421\"/>\n",
       "  <use x=\"53.001672\" xlink:href=\"#glyph0-3\" y=\"13.846107\"/>\n",
       "</g>\n",
       "<g clip-path=\"url(#clip1)\" clip-rule=\"nonzero\">\n",
       "<path d=\"M 106.106625 -28.346219 C 106.106625 -16.713406 96.673031 -7.283719 85.040219 -7.283719 C 73.407406 -7.283719 63.977719 -16.713406 63.977719 -28.346219 C 63.977719 -39.979031 73.407406 -49.412625 85.040219 -49.412625 C 96.673031 -49.412625 106.106625 -39.979031 106.106625 -28.346219 Z M 106.106625 -28.346219 \" style=\"fill:none;stroke-width:0.3985;stroke-linecap:butt;stroke-linejoin:miter;stroke:rgb(0%,0%,0%);stroke-opacity:1;stroke-miterlimit:10;\" transform=\"matrix(1,0,0,-1,35.784,14.353)\"/>\n",
       "</g>\n",
       "<g style=\"fill:rgb(0%,0%,0%);fill-opacity:1;\">\n",
       "  <use x=\"104.067\" xlink:href=\"#glyph1-1\" y=\"46.159\"/>\n",
       "</g>\n",
       "<g style=\"fill:rgb(0%,0%,0%);fill-opacity:1;\">\n",
       "  <use x=\"114.856496\" xlink:href=\"#glyph1-2\" y=\"46.159\"/>\n",
       "  <use x=\"119.283875\" xlink:href=\"#glyph1-3\" y=\"46.159\"/>\n",
       "  <use x=\"122.051486\" xlink:href=\"#glyph1-4\" y=\"46.159\"/>\n",
       "  <use x=\"125.953836\" xlink:href=\"#glyph1-2\" y=\"46.159\"/>\n",
       "  <use x=\"130.381215\" xlink:href=\"#glyph1-5\" y=\"46.159\"/>\n",
       "  <use x=\"133.148826\" xlink:href=\"#glyph1-6\" y=\"46.159\"/>\n",
       "</g>\n",
       "<g clip-path=\"url(#clip2)\" clip-rule=\"nonzero\">\n",
       "<path d=\"M 13.989438 -8.158719 L 85.040219 -49.611844 \" style=\"fill:none;stroke-width:0.79701;stroke-linecap:butt;stroke-linejoin:miter;stroke:rgb(0%,0%,0%);stroke-opacity:1;stroke-miterlimit:10;\" transform=\"matrix(1,0,0,-1,35.784,14.353)\"/>\n",
       "</g>\n",
       "</g>\n",
       "</svg>"
      ]
     },
     "metadata": {
      "isolated": "true"
     },
     "output_type": "display_data"
    }
   ],
   "source": [
    "%%tikz -f svg -l shapes.geometric\n",
    "\n",
    "\\path (0,0) node (a) [ellipse,rotate=10,draw] {An ellipse};\n",
    "\n",
    "\\path (3,-1) node (b) [circle,draw] {A circle};\n",
    "\n",
    "\\draw[thick] (node cs:name=a) -- (node cs:name=b,anchor=south);"
   ]
  },
  {
   "cell_type": "code",
   "execution_count": 106,
   "metadata": {},
   "outputs": [
    {
     "data": {
      "image/svg+xml": [
       "<svg height=\"240px\" version=\"1.1\" viewBox=\"0 0 142.087 63.964\" width=\"400px\" xmlns=\"http://www.w3.org/2000/svg\" xmlns:xlink=\"http://www.w3.org/1999/xlink\">\n",
       "<defs>\n",
       "<g>\n",
       "<symbol id=\"glyph0-0\" overflow=\"visible\">\n",
       "<path d=\"\" style=\"stroke:none;\"/>\n",
       "</symbol>\n",
       "<symbol id=\"glyph0-1\" overflow=\"visible\">\n",
       "<path d=\"M 2.703125 -7.515625 C 2.640625 -7.640625 2.59375 -7.703125 2.4375 -7.6875 C 2.296875 -7.65625 2.265625 -7.578125 2.25 -7.4375 L 1.25 -1.21875 C 1.15625 -0.6875 0.796875 -0.46875 0.265625 -0.359375 L 0.3125 -0.046875 C 0.53125 -0.109375 0.96875 -0.203125 1.3125 -0.265625 C 1.609375 -0.3125 2.125 -0.390625 2.453125 -0.4375 L 2.40625 -0.75 C 1.90625 -0.65625 1.609375 -0.84375 1.5625 -1.09375 C 1.5625 -1.125 1.546875 -1.234375 1.546875 -1.25 L 1.796875 -2.625 L 4.203125 -3.046875 L 5 -1.640625 C 5.015625 -1.59375 5.046875 -1.53125 5.046875 -1.5 C 5.109375 -1.21875 4.546875 -1.125 4.296875 -1.078125 L 4.34375 -0.765625 C 4.6875 -0.859375 5.390625 -0.984375 5.75 -1.046875 C 6.171875 -1.125 6.625 -1.1875 7.03125 -1.234375 L 6.984375 -1.546875 L 6.8125 -1.515625 C 6.234375 -1.421875 6.078125 -1.453125 5.90625 -1.75 Z M 2.375 -6.328125 L 4.046875 -3.328125 L 1.84375 -2.9375 Z M 2.375 -6.328125 \" style=\"stroke:none;\"/>\n",
       "</symbol>\n",
       "<symbol id=\"glyph0-2\" overflow=\"visible\">\n",
       "<path d=\"M 0.484375 -3.5625 L 0.953125 -0.921875 C 1.03125 -0.5 0.921875 -0.484375 0.265625 -0.359375 L 0.3125 -0.046875 C 0.65625 -0.125 1.15625 -0.234375 1.4375 -0.28125 C 1.671875 -0.328125 2.1875 -0.40625 2.53125 -0.4375 L 2.484375 -0.75 C 1.8125 -0.640625 1.703125 -0.625 1.625 -1.046875 L 1.296875 -2.859375 C 1.125 -3.875 1.734375 -4.5625 2.34375 -4.671875 C 2.96875 -4.78125 3.171875 -4.265625 3.28125 -3.703125 L 3.6875 -1.40625 C 3.765625 -0.984375 3.65625 -0.96875 3 -0.84375 L 3.046875 -0.53125 C 3.390625 -0.609375 3.890625 -0.71875 4.15625 -0.765625 C 4.40625 -0.8125 4.921875 -0.890625 5.25 -0.921875 L 5.203125 -1.234375 C 4.6875 -1.140625 4.453125 -1.109375 4.390625 -1.390625 L 4.0625 -3.28125 C 3.90625 -4.125 3.859375 -4.40625 3.484375 -4.703125 C 3.3125 -4.859375 2.953125 -5 2.390625 -4.90625 C 1.671875 -4.765625 1.28125 -4.265625 1.109375 -3.609375 L 0.921875 -4.640625 L -0.4375 -4.28125 L -0.375 -3.96875 C 0.3125 -4.09375 0.390625 -4.046875 0.484375 -3.5625 Z M 0.484375 -3.5625 \" style=\"stroke:none;\"/>\n",
       "</symbol>\n",
       "<symbol id=\"glyph0-3\" overflow=\"visible\">\n",
       "<path d=\"M 0.65625 -2.671875 C 0.46875 -4.140625 1.25 -4.53125 1.59375 -4.59375 C 2.59375 -4.78125 2.9375 -3.46875 3 -3.09375 Z M 0.6875 -2.453125 L 3.421875 -2.9375 C 3.640625 -2.984375 3.671875 -2.984375 3.640625 -3.203125 C 3.46875 -4.171875 2.765625 -5.03125 1.546875 -4.8125 C 0.40625 -4.609375 -0.3125 -3.4375 -0.09375 -2.203125 C 0.125 -0.890625 1.328125 -0.125 2.453125 -0.3125 C 3.640625 -0.53125 3.90625 -1.703125 3.875 -1.890625 C 3.859375 -1.984375 3.765625 -2 3.703125 -1.984375 C 3.625 -1.984375 3.609375 -1.90625 3.609375 -1.828125 C 3.453125 -0.75 2.546875 -0.59375 2.46875 -0.578125 C 1.96875 -0.5 1.53125 -0.71875 1.25 -1.046875 C 0.875 -1.453125 0.75 -2.09375 0.6875 -2.453125 Z M 0.6875 -2.453125 \" style=\"stroke:none;\"/>\n",
       "</symbol>\n",
       "<symbol id=\"glyph0-4\" overflow=\"visible\">\n",
       "<path d=\"M 0.53125 -7.125 L -0.859375 -6.765625 L -0.796875 -6.46875 C -0.109375 -6.578125 -0.03125 -6.53125 0.0625 -6.03125 L 0.96875 -0.921875 C 1.046875 -0.5 0.9375 -0.484375 0.28125 -0.375 L 0.328125 -0.0625 C 0.640625 -0.125 1.171875 -0.234375 1.421875 -0.28125 C 1.65625 -0.328125 2.140625 -0.390625 2.515625 -0.4375 L 2.46875 -0.75 C 1.796875 -0.640625 1.6875 -0.625 1.609375 -1.046875 Z M 0.53125 -7.125 \" style=\"stroke:none;\"/>\n",
       "</symbol>\n",
       "<symbol id=\"glyph0-5\" overflow=\"visible\">\n",
       "<path d=\"M 0.96875 -4.65625 L -0.375 -4.296875 L -0.3125 -3.984375 C 0.3125 -4.09375 0.40625 -4.046875 0.5 -3.578125 L 0.96875 -0.921875 C 1.046875 -0.5 0.9375 -0.484375 0.28125 -0.375 L 0.328125 -0.0625 C 0.625 -0.125 1.171875 -0.234375 1.40625 -0.28125 C 1.75 -0.34375 2.09375 -0.390625 2.4375 -0.421875 L 2.390625 -0.734375 C 1.71875 -0.625 1.671875 -0.671875 1.609375 -1.046875 Z M 0.703125 -6.359375 C 0.640625 -6.671875 0.375 -6.84375 0.109375 -6.796875 C -0.203125 -6.75 -0.375 -6.4375 -0.328125 -6.171875 C -0.28125 -5.90625 -0.015625 -5.703125 0.296875 -5.75 C 0.5625 -5.796875 0.75 -6.046875 0.703125 -6.359375 Z M 0.703125 -6.359375 \" style=\"stroke:none;\"/>\n",
       "</symbol>\n",
       "<symbol id=\"glyph0-6\" overflow=\"visible\">\n",
       "<path d=\"M 1.03125 -3.984375 L 0.921875 -4.640625 L -0.46875 -4.28125 L -0.40625 -3.96875 C 0.28125 -4.09375 0.359375 -4.046875 0.4375 -3.625 L 1.25 0.96875 C 1.328125 1.40625 1.21875 1.421875 0.5625 1.546875 L 0.625 1.859375 C 0.9375 1.78125 1.453125 1.671875 1.703125 1.640625 C 1.96875 1.578125 2.46875 1.515625 2.828125 1.46875 L 2.765625 1.15625 C 2.109375 1.265625 2 1.296875 1.921875 0.859375 L 1.625 -0.796875 L 1.609375 -0.875 C 1.6875 -0.734375 2.203125 -0.28125 2.9375 -0.40625 C 4.109375 -0.609375 4.953125 -1.765625 4.734375 -3.03125 C 4.515625 -4.28125 3.40625 -5.078125 2.296875 -4.890625 C 1.53125 -4.75 1.1875 -4.234375 1.03125 -3.984375 Z M 1.515625 -1.421875 L 1.140625 -3.609375 C 1.328125 -4.171875 1.765625 -4.53125 2.265625 -4.625 C 2.984375 -4.75 3.734375 -3.984375 3.921875 -2.875 C 4.125 -1.6875 3.59375 -0.75 2.875 -0.625 C 2.484375 -0.546875 2.078125 -0.6875 1.734375 -1.03125 C 1.5625 -1.203125 1.5625 -1.21875 1.515625 -1.421875 Z M 1.515625 -1.421875 \" style=\"stroke:none;\"/>\n",
       "</symbol>\n",
       "<symbol id=\"glyph0-7\" overflow=\"visible\">\n",
       "<path d=\"M 1.703125 -2.265625 C 1.9375 -2.265625 2.765625 -2.25 2.890625 -1.546875 C 2.96875 -1.046875 2.703125 -0.59375 1.9375 -0.453125 C 1.109375 -0.3125 0.65625 -0.796875 0.3125 -1.625 C 0.265625 -1.71875 0.25 -1.75 0.15625 -1.734375 C 0.03125 -1.71875 0.046875 -1.65625 0.078125 -1.5 L 0.3125 -0.1875 C 0.34375 -0.015625 0.34375 0.046875 0.453125 0.03125 C 0.5 0.03125 0.515625 0 0.65625 -0.21875 C 0.671875 -0.234375 0.671875 -0.25 0.828125 -0.46875 C 1.328125 -0.140625 1.765625 -0.203125 1.96875 -0.234375 C 3.09375 -0.4375 3.453125 -1.171875 3.328125 -1.890625 C 3.234375 -2.390625 2.890625 -2.65625 2.734375 -2.734375 C 2.359375 -3.015625 1.96875 -3 1.53125 -3.015625 C 0.96875 -3.015625 0.28125 -3.03125 0.1875 -3.609375 C 0.125 -3.953125 0.296875 -4.40625 1.140625 -4.546875 C 2.21875 -4.75 2.4375 -3.859375 2.515625 -3.5625 C 2.53125 -3.46875 2.625 -3.484375 2.640625 -3.5 C 2.78125 -3.515625 2.765625 -3.5625 2.734375 -3.75 L 2.5625 -4.75 C 2.53125 -4.90625 2.515625 -4.984375 2.40625 -4.96875 C 2.359375 -4.953125 2.328125 -4.953125 2.234375 -4.8125 C 2.203125 -4.765625 2.125 -4.65625 2.078125 -4.625 C 1.671875 -4.84375 1.265625 -4.765625 1.109375 -4.734375 C -0.09375 -4.53125 -0.328125 -3.796875 -0.234375 -3.25 C -0.171875 -2.90625 0.03125 -2.640625 0.3125 -2.484375 C 0.6875 -2.296875 0.984375 -2.28125 1.703125 -2.265625 Z M 1.703125 -2.265625 \" style=\"stroke:none;\"/>\n",
       "</symbol>\n",
       "<symbol id=\"glyph1-0\" overflow=\"visible\">\n",
       "<path d=\"\" style=\"stroke:none;\"/>\n",
       "</symbol>\n",
       "<symbol id=\"glyph1-1\" overflow=\"visible\">\n",
       "<path d=\"M 3.96875 -6.9375 C 3.921875 -7.0625 3.890625 -7.140625 3.734375 -7.140625 C 3.578125 -7.140625 3.546875 -7.078125 3.5 -6.9375 L 1.4375 -0.984375 C 1.25 -0.46875 0.859375 -0.3125 0.3125 -0.3125 L 0.3125 0 C 0.546875 -0.015625 0.984375 -0.03125 1.328125 -0.03125 C 1.640625 -0.03125 2.15625 -0.015625 2.484375 0 L 2.484375 -0.3125 C 1.984375 -0.3125 1.734375 -0.5625 1.734375 -0.8125 C 1.734375 -0.84375 1.75 -0.953125 1.75 -0.96875 L 2.21875 -2.265625 L 4.671875 -2.265625 L 5.203125 -0.75 C 5.21875 -0.703125 5.234375 -0.640625 5.234375 -0.609375 C 5.234375 -0.3125 4.671875 -0.3125 4.40625 -0.3125 L 4.40625 0 C 4.765625 -0.03125 5.46875 -0.03125 5.84375 -0.03125 C 6.265625 -0.03125 6.734375 -0.015625 7.140625 0 L 7.140625 -0.3125 L 6.96875 -0.3125 C 6.375 -0.3125 6.234375 -0.375 6.125 -0.703125 Z M 3.4375 -5.828125 L 4.5625 -2.578125 L 2.328125 -2.578125 Z M 3.4375 -5.828125 \" style=\"stroke:none;\"/>\n",
       "</symbol>\n",
       "<symbol id=\"glyph1-2\" overflow=\"visible\">\n",
       "<path d=\"M 1.171875 -2.171875 C 1.171875 -3.796875 1.984375 -4.21875 2.515625 -4.21875 C 2.609375 -4.21875 3.234375 -4.203125 3.578125 -3.84375 C 3.171875 -3.8125 3.109375 -3.515625 3.109375 -3.390625 C 3.109375 -3.125 3.296875 -2.9375 3.5625 -2.9375 C 3.828125 -2.9375 4.03125 -3.09375 4.03125 -3.40625 C 4.03125 -4.078125 3.265625 -4.46875 2.5 -4.46875 C 1.25 -4.46875 0.34375 -3.390625 0.34375 -2.15625 C 0.34375 -0.875 1.328125 0.109375 2.484375 0.109375 C 3.8125 0.109375 4.140625 -1.09375 4.140625 -1.1875 C 4.140625 -1.28125 4.03125 -1.28125 4 -1.28125 C 3.921875 -1.28125 3.890625 -1.25 3.875 -1.1875 C 3.59375 -0.265625 2.9375 -0.140625 2.578125 -0.140625 C 2.046875 -0.140625 1.171875 -0.5625 1.171875 -2.171875 Z M 1.171875 -2.171875 \" style=\"stroke:none;\"/>\n",
       "</symbol>\n",
       "<symbol id=\"glyph1-3\" overflow=\"visible\">\n",
       "<path d=\"M 1.765625 -4.40625 L 0.375 -4.296875 L 0.375 -3.984375 C 1.015625 -3.984375 1.109375 -3.921875 1.109375 -3.4375 L 1.109375 -0.75 C 1.109375 -0.3125 1 -0.3125 0.328125 -0.3125 L 0.328125 0 C 0.640625 -0.015625 1.1875 -0.03125 1.421875 -0.03125 C 1.78125 -0.03125 2.125 -0.015625 2.46875 0 L 2.46875 -0.3125 C 1.796875 -0.3125 1.765625 -0.359375 1.765625 -0.75 Z M 1.796875 -6.140625 C 1.796875 -6.453125 1.5625 -6.671875 1.28125 -6.671875 C 0.96875 -6.671875 0.75 -6.40625 0.75 -6.140625 C 0.75 -5.875 0.96875 -5.609375 1.28125 -5.609375 C 1.5625 -5.609375 1.796875 -5.828125 1.796875 -6.140625 Z M 1.796875 -6.140625 \" style=\"stroke:none;\"/>\n",
       "</symbol>\n",
       "<symbol id=\"glyph1-4\" overflow=\"visible\">\n",
       "<path d=\"M 1.671875 -3.3125 L 1.671875 -4.40625 L 0.28125 -4.296875 L 0.28125 -3.984375 C 0.984375 -3.984375 1.0625 -3.921875 1.0625 -3.421875 L 1.0625 -0.75 C 1.0625 -0.3125 0.953125 -0.3125 0.28125 -0.3125 L 0.28125 0 C 0.671875 -0.015625 1.140625 -0.03125 1.421875 -0.03125 C 1.8125 -0.03125 2.28125 -0.03125 2.6875 0 L 2.6875 -0.3125 L 2.46875 -0.3125 C 1.734375 -0.3125 1.71875 -0.421875 1.71875 -0.78125 L 1.71875 -2.3125 C 1.71875 -3.296875 2.140625 -4.1875 2.890625 -4.1875 C 2.953125 -4.1875 2.984375 -4.1875 3 -4.171875 C 2.96875 -4.171875 2.765625 -4.046875 2.765625 -3.78125 C 2.765625 -3.515625 2.984375 -3.359375 3.203125 -3.359375 C 3.375 -3.359375 3.625 -3.484375 3.625 -3.796875 C 3.625 -4.109375 3.3125 -4.40625 2.890625 -4.40625 C 2.15625 -4.40625 1.796875 -3.734375 1.671875 -3.3125 Z M 1.671875 -3.3125 \" style=\"stroke:none;\"/>\n",
       "</symbol>\n",
       "<symbol id=\"glyph1-5\" overflow=\"visible\">\n",
       "<path d=\"M 1.765625 -6.921875 L 0.328125 -6.8125 L 0.328125 -6.5 C 1.03125 -6.5 1.109375 -6.4375 1.109375 -5.9375 L 1.109375 -0.75 C 1.109375 -0.3125 1 -0.3125 0.328125 -0.3125 L 0.328125 0 C 0.65625 -0.015625 1.1875 -0.03125 1.4375 -0.03125 C 1.6875 -0.03125 2.171875 -0.015625 2.546875 0 L 2.546875 -0.3125 C 1.875 -0.3125 1.765625 -0.3125 1.765625 -0.75 Z M 1.765625 -6.921875 \" style=\"stroke:none;\"/>\n",
       "</symbol>\n",
       "<symbol id=\"glyph1-6\" overflow=\"visible\">\n",
       "<path d=\"M 1.109375 -2.515625 C 1.171875 -4 2.015625 -4.25 2.359375 -4.25 C 3.375 -4.25 3.484375 -2.90625 3.484375 -2.515625 Z M 1.109375 -2.296875 L 3.890625 -2.296875 C 4.109375 -2.296875 4.140625 -2.296875 4.140625 -2.515625 C 4.140625 -3.5 3.59375 -4.46875 2.359375 -4.46875 C 1.203125 -4.46875 0.28125 -3.4375 0.28125 -2.1875 C 0.28125 -0.859375 1.328125 0.109375 2.46875 0.109375 C 3.6875 0.109375 4.140625 -1 4.140625 -1.1875 C 4.140625 -1.28125 4.0625 -1.3125 4 -1.3125 C 3.921875 -1.3125 3.890625 -1.25 3.875 -1.171875 C 3.53125 -0.140625 2.625 -0.140625 2.53125 -0.140625 C 2.03125 -0.140625 1.640625 -0.4375 1.40625 -0.8125 C 1.109375 -1.28125 1.109375 -1.9375 1.109375 -2.296875 Z M 1.109375 -2.296875 \" style=\"stroke:none;\"/>\n",
       "</symbol>\n",
       "</g>\n",
       "<clipPath id=\"clip1\">\n",
       "  <path d=\"M 94 16 L 142.085938 16 L 142.085938 63.964844 L 94 63.964844 Z M 94 16 \"/>\n",
       "</clipPath>\n",
       "</defs>\n",
       "<g id=\"surface1\">\n",
       "<path d=\"M 34.532406 6.088375 C 33.481625 12.049312 17.169125 14.154781 -1.901187 10.7915 C -20.975406 7.428219 -35.584781 -0.130375 -34.534 -6.087406 C -33.483219 -12.048344 -17.170719 -14.153813 1.9035 -10.790531 C 20.977719 -7.42725 35.587094 0.127437 34.532406 6.088375 Z M 34.532406 6.088375 \" style=\"fill:none;stroke-width:0.3985;stroke-linecap:butt;stroke-linejoin:miter;stroke:rgb(0%,0%,0%);stroke-opacity:1;stroke-miterlimit:10;\" transform=\"matrix(1,0,0,-1,35.784,14.354)\"/>\n",
       "<g style=\"fill:rgb(0%,0%,0%);fill-opacity:1;\">\n",
       "  <use x=\"15.067\" xlink:href=\"#glyph0-1\" y=\"20.536\"/>\n",
       "  <use x=\"22.425526\" xlink:href=\"#glyph0-2\" y=\"19.238496\"/>\n",
       "</g>\n",
       "<g style=\"fill:rgb(0%,0%,0%);fill-opacity:1;\">\n",
       "  <use x=\"31.143907\" xlink:href=\"#glyph0-3\" y=\"17.701213\"/>\n",
       "  <use x=\"35.504079\" xlink:href=\"#glyph0-4\" y=\"16.932399\"/>\n",
       "  <use x=\"38.229677\" xlink:href=\"#glyph0-4\" y=\"16.451803\"/>\n",
       "  <use x=\"40.955275\" xlink:href=\"#glyph0-5\" y=\"15.971208\"/>\n",
       "  <use x=\"43.680873\" xlink:href=\"#glyph0-6\" y=\"15.490612\"/>\n",
       "  <use x=\"49.132069\" xlink:href=\"#glyph0-7\" y=\"14.529421\"/>\n",
       "  <use x=\"53.001672\" xlink:href=\"#glyph0-3\" y=\"13.847107\"/>\n",
       "</g>\n",
       "<g clip-path=\"url(#clip1)\" clip-rule=\"nonzero\">\n",
       "<path d=\"M 106.106625 -28.345219 C 106.106625 -16.712406 96.673031 -7.282719 85.040219 -7.282719 C 73.407406 -7.282719 63.977719 -16.712406 63.977719 -28.345219 C 63.977719 -39.981938 73.407406 -49.411625 85.040219 -49.411625 C 96.673031 -49.411625 106.106625 -39.981938 106.106625 -28.345219 Z M 106.106625 -28.345219 \" style=\"fill:none;stroke-width:0.3985;stroke-linecap:butt;stroke-linejoin:miter;stroke:rgb(0%,0%,0%);stroke-opacity:1;stroke-miterlimit:10;\" transform=\"matrix(1,0,0,-1,35.784,14.354)\"/>\n",
       "</g>\n",
       "<g style=\"fill:rgb(0%,0%,0%);fill-opacity:1;\">\n",
       "  <use x=\"104.067\" xlink:href=\"#glyph1-1\" y=\"46.16\"/>\n",
       "</g>\n",
       "<g style=\"fill:rgb(0%,0%,0%);fill-opacity:1;\">\n",
       "  <use x=\"114.856496\" xlink:href=\"#glyph1-2\" y=\"46.16\"/>\n",
       "  <use x=\"119.283875\" xlink:href=\"#glyph1-3\" y=\"46.16\"/>\n",
       "  <use x=\"122.051486\" xlink:href=\"#glyph1-4\" y=\"46.16\"/>\n",
       "  <use x=\"125.953836\" xlink:href=\"#glyph1-2\" y=\"46.16\"/>\n",
       "  <use x=\"130.381215\" xlink:href=\"#glyph1-5\" y=\"46.16\"/>\n",
       "  <use x=\"133.148826\" xlink:href=\"#glyph1-6\" y=\"46.16\"/>\n",
       "</g>\n",
       "<path d=\"M 14.575375 -7.985844 L 65.032406 -35.626469 \" style=\"fill:none;stroke-width:0.79701;stroke-linecap:butt;stroke-linejoin:miter;stroke:rgb(0%,0%,0%);stroke-opacity:1;stroke-miterlimit:10;\" transform=\"matrix(1,0,0,-1,35.784,14.354)\"/>\n",
       "</g>\n",
       "</svg>"
      ]
     },
     "metadata": {
      "isolated": "true"
     },
     "output_type": "display_data"
    }
   ],
   "source": [
    "%%tikz -f svg -l shapes.geometric\n",
    "\n",
    "\\path (0,0) node (a) [ellipse,rotate=10,draw] {An ellipse};\n",
    "\n",
    "\\path (3,-1) node (b) [circle,draw] {A circle};\n",
    "\n",
    "\\draw[thick] (node cs:name=a) -- (node cs:name=b,angle=200);"
   ]
  },
  {
   "cell_type": "code",
   "execution_count": null,
   "metadata": {},
   "outputs": [],
   "source": []
  },
  {
   "cell_type": "code",
   "execution_count": null,
   "metadata": {},
   "outputs": [],
   "source": []
  },
  {
   "cell_type": "markdown",
   "metadata": {},
   "source": [
    "# Others"
   ]
  },
  {
   "cell_type": "code",
   "execution_count": null,
   "metadata": {},
   "outputs": [],
   "source": []
  },
  {
   "cell_type": "code",
   "execution_count": null,
   "metadata": {},
   "outputs": [],
   "source": []
  },
  {
   "cell_type": "code",
   "execution_count": null,
   "metadata": {},
   "outputs": [],
   "source": []
  }
 ],
 "metadata": {
  "kernelspec": {
   "display_name": "Python 3",
   "language": "python",
   "name": "python3"
  },
  "language_info": {
   "codemirror_mode": {
    "name": "ipython",
    "version": 3
   },
   "file_extension": ".py",
   "mimetype": "text/x-python",
   "name": "python",
   "nbconvert_exporter": "python",
   "pygments_lexer": "ipython3",
   "version": "3.7.3"
  }
 },
 "nbformat": 4,
 "nbformat_minor": 2
}
