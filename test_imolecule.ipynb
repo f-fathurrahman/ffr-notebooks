{
 "cells": [
  {
   "cell_type": "code",
   "execution_count": 1,
   "metadata": {
    "collapsed": true
   },
   "outputs": [],
   "source": [
    "import imolecule"
   ]
  },
  {
   "cell_type": "code",
   "execution_count": 2,
   "metadata": {},
   "outputs": [
    {
     "data": {
      "text/html": [
       "<div id=\"molecule_d4336bbf-eb33-496c-850b-0081a227ab6c\"></div>\n",
       "           <script type=\"text/javascript\">\n",
       "           require.config({baseUrl: '/',\n",
       "                           paths: {imolecule: ['nbextensions/imolecule.min', 'https://rawgit.com/patrickfuller/imolecule/master/imolecule/js/build/imolecule.min']}});\n",
       "           require(['imolecule'], function () {\n",
       "               var $d = $('#molecule_d4336bbf-eb33-496c-850b-0081a227ab6c');\n",
       "               $d.width(400); $d.height(300);\n",
       "               $d.imolecule = jQuery.extend({}, imolecule);\n",
       "               $d.imolecule.create($d, {drawingType: 'ball and stick',\n",
       "                                        cameraType: 'perspective',\n",
       "                                        shader: 'lambert',\n",
       "                                        showSave: false});\n",
       "               $d.imolecule.addElements({});\n",
       "               $d.imolecule.draw({\"atoms\":[{\"charge\":-0.04838381491321876,\"element\":\"C\",\"location\":[-4.75376690560514,-1.430701533486285,0.16145722346492689]},{\"charge\":0.04172345738758953,\"element\":\"C\",\"location\":[-3.251537895870091,-1.4547729952439534,0.08863473165373734]},{\"charge\":0.1379384204469923,\"element\":\"C\",\"location\":[-2.5596287830698725,-2.62559993771991,-0.6346176546094625]},{\"charge\":-0.2708097736309692,\"element\":\"N\",\"location\":[-1.1693224385129444,-2.069895155020346,-0.6714001077837102]},{\"charge\":0.10052032882400233,\"element\":\"C\",\"location\":[-1.042327611024782,-0.5629241163003199,-0.6238549259612916]},{\"charge\":-0.12728782996070637,\"element\":\"S\",\"location\":[-2.7126867770829493,-0.02526848300085094,-0.9875720330886073]},{\"charge\":0.12769987187470583,\"element\":\"C\",\"location\":[0.13234960379276473,-0.7296186185326337,-1.558036620634395]},{\"charge\":0.24021278278197988,\"element\":\"C\",\"location\":[-0.3391584619721941,-2.156940028796245,-1.7636273861378389]},{\"charge\":-0.2734116875413079,\"element\":\"O\",\"location\":[-0.004246831632917392,-3.0205887366524866,-2.5137380084527]},{\"charge\":-0.3014924747130517,\"element\":\"N\",\"location\":[1.4448278603677034,-0.7021798835515137,-0.8155877617738473]},{\"charge\":0.2180002548828587,\"element\":\"C\",\"location\":[1.8413204002581782,0.5213466851462605,-0.3757999069937948]},{\"charge\":-0.2754427107599145,\"element\":\"O\",\"location\":[1.1370270898497346,1.4692928391466578,-0.718221362012726]},{\"charge\":0.049104709278323576,\"element\":\"C\",\"location\":[3.1040941694472775,0.5917401190528282,0.4783079598545651]},{\"charge\":-0.03862522447000171,\"element\":\"C\",\"location\":[3.5022729779201462,2.007136264264529,0.8534103277743523]},{\"charge\":-0.05811413319183139,\"element\":\"C\",\"location\":[2.5843024273325703,3.0671440815022466,0.7873179772363039]},{\"charge\":-0.06148988130871437,\"element\":\"C\",\"location\":[2.9858296409326,4.389608122775236,0.8060821990622379]},{\"charge\":-0.06174145560613123,\"element\":\"C\",\"location\":[4.281712348811183,4.684040223782866,1.1741005386309933]},{\"charge\":-0.06148988130871437,\"element\":\"C\",\"location\":[5.160394989217863,3.646799553556759,1.4913999985224147]},{\"charge\":-0.05811413319183139,\"element\":\"C\",\"location\":[4.8026307425878265,2.3128155707555393,1.259138241503614]},{\"charge\":0.3268518793885859,\"element\":\"C\",\"location\":[-3.1282507598644362,-3.0238391340557955,-2.052583779788736]},{\"charge\":-0.2488544877838376,\"element\":\"O\",\"location\":[-2.440903910658441,-3.3289127715889086,-3.01566412329713]},{\"charge\":-0.47929013723932284,\"element\":\"O\",\"location\":[-4.458559888196905,-3.1442733288786933,-2.2148282363131746]},{\"charge\":-0.04838381491321876,\"element\":\"C\",\"location\":[-2.668785648398267,-1.3227491688804986,1.5439210367826315]},{\"charge\":0.024360331224503266,\"element\":\"H\",\"location\":[-5.206582724597456,-1.3569746386608876,-0.8272095254750765]},{\"charge\":0.024360331224503266,\"element\":\"H\",\"location\":[-5.094350023974699,-0.5425005596806335,0.6995309726530894]},{\"charge\":0.024360331224503266,\"element\":\"H\",\"location\":[-5.121632955928636,-2.3231982972595713,0.6763345529087246]},{\"charge\":0.06305705424528205,\"element\":\"H\",\"location\":[-2.573896879576137,-3.529244511754513,-0.00659419528311541]},{\"charge\":0.0640312017668003,\"element\":\"H\",\"location\":[-0.7447370119593257,-0.0652380190938997,0.3063198500319404]},{\"charge\":0.06221823580453644,\"element\":\"H\",\"location\":[0.1094089898542423,-0.08484255892997461,-2.435816736742444]},{\"charge\":0.14954092345286216,\"element\":\"H\",\"location\":[1.8384714049637951,-1.5567707123300074,-0.43415618316945853]},{\"charge\":0.04069228728378299,\"element\":\"H\",\"location\":[3.900332836385404,0.13937152404371322,-0.13053919430865327]},{\"charge\":0.04069228728378299,\"element\":\"H\",\"location\":[2.988953776453341,-0.015867596362675318,1.3843636148186211]},{\"charge\":0.06204030583492675,\"element\":\"H\",\"location\":[1.5192894399824146,2.909107885352756,0.6641649475929239]},{\"charge\":0.06176657008891916,\"element\":\"H\",\"location\":[2.2664171276417875,5.160860840036397,0.5482197438595755]},{\"charge\":0.061758356421325905,\"element\":\"H\",\"location\":[4.5871477680644706,5.721868987383755,1.2401069282469463]},{\"charge\":0.06176657008891916,\"element\":\"H\",\"location\":[6.136031021563971,3.8871129172447914,1.9010425263822983]},{\"charge\":0.06204030583492675,\"element\":\"H\",\"location\":[5.546497481251452,1.531232820100025,1.3960263333497271]},{\"charge\":0.2951136502146499,\"element\":\"H\",\"location\":[-5.075212371880264,-3.068795619314887,-1.4754061103925646]},{\"charge\":0.024360331224503266,\"element\":\"H\",\"location\":[-2.986225317745031,-2.160326545606166,2.172182563090256]},{\"charge\":0.024360331224503266,\"element\":\"H\",\"location\":[-2.965741938895525,-0.37809219204606714,2.007438121639868]},{\"charge\":0.024360331224503266,\"element\":\"H\",\"location\":[-1.571756960232698,-1.3593632913966425,1.6157534631589798]}],\"bonds\":[{\"atoms\":[0,1],\"order\":1},{\"atoms\":[1,2],\"order\":1},{\"atoms\":[2,3],\"order\":1},{\"atoms\":[3,4],\"order\":1},{\"atoms\":[4,5],\"order\":1},{\"atoms\":[1,5],\"order\":1},{\"atoms\":[4,6],\"order\":1},{\"atoms\":[6,7],\"order\":1},{\"atoms\":[3,7],\"order\":1},{\"atoms\":[7,8],\"order\":2},{\"atoms\":[6,9],\"order\":1},{\"atoms\":[9,10],\"order\":1},{\"atoms\":[10,11],\"order\":2},{\"atoms\":[10,12],\"order\":1},{\"atoms\":[12,13],\"order\":1},{\"atoms\":[13,14],\"order\":2},{\"atoms\":[14,15],\"order\":1},{\"atoms\":[15,16],\"order\":2},{\"atoms\":[16,17],\"order\":1},{\"atoms\":[17,18],\"order\":2},{\"atoms\":[13,18],\"order\":1},{\"atoms\":[2,19],\"order\":1},{\"atoms\":[19,20],\"order\":2},{\"atoms\":[19,21],\"order\":1},{\"atoms\":[1,22],\"order\":1},{\"atoms\":[0,23],\"order\":1},{\"atoms\":[0,24],\"order\":1},{\"atoms\":[0,25],\"order\":1},{\"atoms\":[2,26],\"order\":1},{\"atoms\":[4,27],\"order\":1},{\"atoms\":[6,28],\"order\":1},{\"atoms\":[9,29],\"order\":1},{\"atoms\":[12,30],\"order\":1},{\"atoms\":[12,31],\"order\":1},{\"atoms\":[14,32],\"order\":1},{\"atoms\":[15,33],\"order\":1},{\"atoms\":[16,34],\"order\":1},{\"atoms\":[17,35],\"order\":1},{\"atoms\":[18,36],\"order\":1},{\"atoms\":[21,37],\"order\":1},{\"atoms\":[22,38],\"order\":1},{\"atoms\":[22,39],\"order\":1},{\"atoms\":[22,40],\"order\":1}],\"formula\":\"C16H18N2O4S\",\"molecular_weight\":334.3901200000002,\"units\":{\"molecular_weight\":\"g / mol\"}});\n",
       "\n",
       "               $d.resizable({\n",
       "                   aspectRatio: 400 / 300,\n",
       "                   resize: function (evt, ui) {\n",
       "                       $d.imolecule.renderer.setSize(ui.size.width,\n",
       "                                                     ui.size.height);\n",
       "                   }\n",
       "               });\n",
       "           });\n",
       "           </script>"
      ],
      "text/plain": [
       "<IPython.core.display.HTML object>"
      ]
     },
     "metadata": {},
     "output_type": "display_data"
    }
   ],
   "source": [
    "imolecule.draw(\"CC1(C(N2C(S1)C(C2=O)NC(=O)CC3=CC=CC=C3)C(=O)O)C\")"
   ]
  },
  {
   "cell_type": "code",
   "execution_count": 5,
   "metadata": {},
   "outputs": [
    {
     "data": {
      "text/plain": [
       "NoneType"
      ]
     },
     "execution_count": 5,
     "metadata": {},
     "output_type": "execute_result"
    }
   ],
   "source": [
    "type(obj1)"
   ]
  },
  {
   "cell_type": "code",
   "execution_count": null,
   "metadata": {
    "collapsed": true
   },
   "outputs": [],
   "source": []
  }
 ],
 "metadata": {
  "kernelspec": {
   "display_name": "Python 3",
   "language": "python",
   "name": "python3"
  },
  "language_info": {
   "codemirror_mode": {
    "name": "ipython",
    "version": 3
   },
   "file_extension": ".py",
   "mimetype": "text/x-python",
   "name": "python",
   "nbconvert_exporter": "python",
   "pygments_lexer": "ipython3",
   "version": "3.6.1"
  }
 },
 "nbformat": 4,
 "nbformat_minor": 2
}
