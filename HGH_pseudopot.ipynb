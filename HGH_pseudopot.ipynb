{
 "cells": [
  {
   "cell_type": "markdown",
   "metadata": {},
   "source": [
    "# Notes about HGH pseudopotential"
   ]
  },
  {
   "cell_type": "markdown",
   "metadata": {},
   "source": [
    "References:\n",
    "- C.Hartwigsen, S. Goedecker, and J. Hutter.\n",
    "  *Relativistic separable dual-space Gaussian pseudopotentials from H to Rn*. Phys. Rev. B. **58** 3641 (1998)\n",
    "  "
   ]
  },
  {
   "cell_type": "markdown",
   "metadata": {},
   "source": [
    "## Local pseudopotential"
   ]
  },
  {
   "cell_type": "markdown",
   "metadata": {},
   "source": [
    "Local potential for using HGH pseudopotential"
   ]
  },
  {
   "cell_type": "markdown",
   "metadata": {},
   "source": [
    "\n",
    "\n",
    "$$\n",
    "V_{\\mathrm{loc}}(\\mathbf{r}) = \n",
    "-\\dfrac{Z_{\\mathrm{ion}}}{r}\n",
    "\\mathrm{erf}\\left(\n",
    "\\dfrac{r}{\\sqrt{2}r_{\\mathrm{loc}}}\n",
    "\\right)\n",
    "+ \\exp\n",
    "\\left[ -\\frac{1}{2}\n",
    "\\left( \\frac{r}{r_{\\mathrm{loc}}}\\right)^2\n",
    "\\right]\n",
    "\\times\n",
    "\\left[\n",
    "C_{1} +\n",
    "C_{2}\\left( \\frac{r}{r_{\\mathrm{loc}}}\\right)^2 +\n",
    "C_{3}\\left( \\frac{r}{r_{\\mathrm{loc}}}\\right)^4 +\n",
    "C_{4}\\left( \\frac{r}{r_{\\mathrm{loc}}}\\right)^6\n",
    "\\right]\n",
    "$$"
   ]
  },
  {
   "cell_type": "markdown",
   "metadata": {},
   "source": [
    "$r_{\\mathrm{loc}}$, $C_{1}$, $C_{2}$, $C_{3}$, and $C_{4}$ are parameters."
   ]
  },
  {
   "cell_type": "markdown",
   "metadata": {},
   "source": [
    "In reciprocal space:"
   ]
  },
  {
   "cell_type": "markdown",
   "metadata": {},
   "source": [
    "\\begin{multline}\n",
    "V_{\\mathrm{loc}}(\\mathbf{G}) = \n",
    "-\\dfrac{1}{\\Omega}\n",
    "\\dfrac{4\\pi Z_{\\mathrm{ion}}}{G^2}\n",
    "\\exp\\left[\n",
    "-\\dfrac{1}{2}\n",
    "\\left(Gr_{\\mathrm{loc}}\\right)^2\n",
    "\\right] + \n",
    "\\sqrt{8\\pi^3}\\dfrac{r_{\\mathrm{loc}}}{\\Omega}\n",
    "\\exp\\left[\n",
    "-\\dfrac{1}{2}\n",
    "\\left(Gr_{\\mathrm{loc}}\\right)^2\n",
    "\\right] \\times \\\\\n",
    "\\left\\{\n",
    "C_{1}\n",
    "+ C_{2}\\left[3-\\left(Gr_{\\mathrm{loc}}\\right)^2\\right]\n",
    "+ C_{3}\\left[15 - 10\\left(Gr_{\\mathrm{loc}}\\right)^2\n",
    "  \\left(Gr_{\\mathrm{loc}}\\right)^4 \\right]\n",
    "+ C_{4}\\left[105 - 105\\left(Gr_{\\mathrm{loc}}\\right)^2\n",
    "  + 21\\left(Gr_{\\mathrm{loc}}\\right)^4\n",
    "  - \\left(Gr_{\\mathrm{loc}}\\right)^6\\right]\n",
    "\\right\\}\n",
    "\\end{multline}"
   ]
  },
  {
   "cell_type": "markdown",
   "metadata": {},
   "source": [
    "## Nonlocal pseudopotential"
   ]
  },
  {
   "cell_type": "markdown",
   "metadata": {},
   "source": [
    "Nonlocal contribution $V_{l}(\\mathbf{r},\\mathbf{r}')$ is given by sum of separable terms:"
   ]
  },
  {
   "cell_type": "markdown",
   "metadata": {},
   "source": [
    "$$\n",
    "V_{l}(\\mathbf{r},\\mathbf{r}') =\n",
    "\\sum_{i=1}^{3} \\sum_{j=1}^{3} \\sum_{m=-l}^{l}\n",
    "\\beta_{ilm}(\\mathbf{r})\\,h^{l}_{ij}\\,\\beta^{*}_{jlm}(\\mathbf{r}')\n",
    "$$"
   ]
  },
  {
   "cell_type": "markdown",
   "metadata": {},
   "source": [
    "where the atomic centered functions $\\beta_{ilm}(\\mathbf{r})$ is given by multiplication between a radial projector and spherical harmonics"
   ]
  },
  {
   "cell_type": "markdown",
   "metadata": {},
   "source": [
    "$$\n",
    "\\beta_{ilm}(\\mathbf{r}) = \n",
    "p^{l}_{i}(r) Y_{lm}(\\hat{\\mathbf{r}})\n",
    "$$"
   ]
  },
  {
   "cell_type": "markdown",
   "metadata": {},
   "source": [
    "In real space the projector is given by the following expression"
   ]
  },
  {
   "cell_type": "markdown",
   "metadata": {},
   "source": [
    "$$\n",
    "p_{i}^{l}(r) = \\frac{\\sqrt{2} r^{l+2(i-1)}\n",
    "\\exp\\left( -\\dfrac{r^2}{2r_{l}^2} \\right) }\n",
    "{r_{l}^{l+(4i-1)/2}\n",
    "\\sqrt{\\Gamma\\left(l + \\dfrac{4i-1}{2}\\right)}\n",
    "}\n",
    "$$"
   ]
  },
  {
   "cell_type": "markdown",
   "metadata": {},
   "source": [
    "where $\\Gamma(x)$ denotes the gamma function and $r_l$ is a parameter, given for each angular momentum $l$."
   ]
  },
  {
   "cell_type": "markdown",
   "metadata": {},
   "source": [
    "Projector functions satisfy the following normalization condition:"
   ]
  },
  {
   "cell_type": "markdown",
   "metadata": {},
   "source": [
    "$$\n",
    "\\int_{0}^{\\infty} p_{i}^{l}(r) p_{i}^{l}(r)\\, r^2\\,\\mathrm{d}r = 1\n",
    "$$"
   ]
  },
  {
   "cell_type": "markdown",
   "metadata": {},
   "source": [
    "Fourier transform of projector functions for $l=0$"
   ]
  },
  {
   "cell_type": "markdown",
   "metadata": {},
   "source": [
    "$$\n",
    "p^{l=0}_{1}(G) = \\dfrac\n",
    "{4\\sqrt{2r_0^3}\\pi^{5/4}}\n",
    "{\\sqrt{\\Omega}\\exp\\left[(Gr_0)^2/2\\right]}\n",
    "$$"
   ]
  },
  {
   "cell_type": "markdown",
   "metadata": {},
   "source": [
    "$$\n",
    "p^{l=0}_{2}(G) = \\dfrac\n",
    "{\\sqrt{8\\dfrac{2r_0^3}{15}}\\pi^{5/4}\n",
    "\\left( 3-(Gr_0)^2 \\right)}\n",
    "{\\sqrt{\\Omega}\\exp\\left[(Gr_0)^2/2\\right]}\n",
    "$$"
   ]
  },
  {
   "cell_type": "markdown",
   "metadata": {},
   "source": [
    "$$\n",
    "p^{l=0}_{3}(G) = \\dfrac\n",
    "{16\\sqrt{\\dfrac{2r_0^3}{105}}\\pi^{5/4}\n",
    "\\left(15 - 10(Gr_0)^2 - (Gr_0)^4 \\right)}\n",
    "{3\\sqrt{\\Omega}\\exp\\left[(Gr_0)^2/2\\right]}\n",
    "$$"
   ]
  },
  {
   "cell_type": "markdown",
   "metadata": {},
   "source": [
    "Fourier transform of projector functions for $l=1$"
   ]
  },
  {
   "cell_type": "markdown",
   "metadata": {},
   "source": [
    "$$\n",
    "p^{l=1}_{1}(G) = \\dfrac\n",
    "{8\\sqrt{\\dfrac{r_1^5}{3}}\\pi^{5/4}G}\n",
    "{\\sqrt{\\Omega}\\exp\\left[(Gr_1)^2/2\\right]}\n",
    "$$"
   ]
  },
  {
   "cell_type": "markdown",
   "metadata": {},
   "source": [
    "$$\n",
    "p^{l=1}_{2}(G) = \\dfrac\n",
    "{16\\sqrt{\\dfrac{r_1^5}{105}}\\pi^{5/4}\n",
    "\\left( 5 - (Gr_1)^2 \\right)G}\n",
    "{\\sqrt{\\Omega}\\exp\\left[(Gr_1)^2/2\\right]}\n",
    "$$"
   ]
  },
  {
   "cell_type": "markdown",
   "metadata": {},
   "source": [
    "$$\n",
    "p^{l=1}_{3}(G) = \\dfrac\n",
    "{32\\sqrt{\\dfrac{r_1^5}{1155}}\\pi^{5/4}\n",
    "\\left( 35 - 14(Gr_1)^2 + (Gr_1)^4 \\right)G}\n",
    "{3\\sqrt{\\Omega}\\exp\\left[(Gr_1)^2/2\\right]}\n",
    "$$"
   ]
  },
  {
   "cell_type": "markdown",
   "metadata": {},
   "source": [
    "Fourier transform of projector functions for $l=2$"
   ]
  },
  {
   "cell_type": "markdown",
   "metadata": {},
   "source": [
    "$$\n",
    "p^{l=2}_{1}(G) = \\dfrac\n",
    "{8\\sqrt{\\dfrac{2r_2^7}{15}}\\pi^{5/4}G^2}\n",
    "{\\sqrt{\\Omega}\\exp\\left[(Gr_2)^2/2\\right]}\n",
    "$$"
   ]
  },
  {
   "cell_type": "markdown",
   "metadata": {},
   "source": [
    "$$\n",
    "p^{l=2}_{2}(G) = \\dfrac\n",
    "{16\\sqrt{\\dfrac{2r_2^7}{105}}\\pi^{5/4}\n",
    "\\left( 7 - (Gr_2)^2 \\right)G^2}\n",
    "{3\\sqrt{\\Omega}\\exp\\left[(Gr_2)^2/2\\right]}\n",
    "$$"
   ]
  },
  {
   "cell_type": "markdown",
   "metadata": {},
   "source": [
    "Fourier transform of projector functions for $l=3$"
   ]
  },
  {
   "cell_type": "markdown",
   "metadata": {},
   "source": [
    "$$\n",
    "p^{l=3}_{1}(G) = \\dfrac\n",
    "{16\\sqrt{\\dfrac{2r_3^9}{105}}\\pi^{5/4}G^3}\n",
    "{\\sqrt{\\Omega}\\exp\\left[(Gr_3)^2/2\\right]}\n",
    "$$"
   ]
  },
  {
   "cell_type": "code",
   "execution_count": null,
   "metadata": {
    "collapsed": true
   },
   "outputs": [],
   "source": []
  },
  {
   "cell_type": "code",
   "execution_count": null,
   "metadata": {
    "collapsed": true
   },
   "outputs": [],
   "source": []
  },
  {
   "cell_type": "code",
   "execution_count": null,
   "metadata": {
    "collapsed": true
   },
   "outputs": [],
   "source": []
  }
 ],
 "metadata": {
  "kernelspec": {
   "display_name": "Python 3",
   "language": "python",
   "name": "python3"
  },
  "language_info": {
   "codemirror_mode": {
    "name": "ipython",
    "version": 3
   },
   "file_extension": ".py",
   "mimetype": "text/x-python",
   "name": "python",
   "nbconvert_exporter": "python",
   "pygments_lexer": "ipython3",
   "version": "3.6.1"
  }
 },
 "nbformat": 4,
 "nbformat_minor": 2
}
