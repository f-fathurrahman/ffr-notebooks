{
 "cells": [
  {
   "cell_type": "markdown",
   "metadata": {},
   "source": [
    "# Notes about HGH pseudopotential"
   ]
  },
  {
   "cell_type": "markdown",
   "metadata": {},
   "source": [
    "References:\n",
    "- C.Hartwigsen, S. Goedecker, and J. Hutter.\n",
    "  *Relativistic separable dual-space Gaussian pseudopotentials from H to Rn*. Phys. Rev. B. **58** 3641 (1998)\n",
    "  "
   ]
  },
  {
   "cell_type": "markdown",
   "metadata": {},
   "source": [
    "## Local pseudopotential"
   ]
  },
  {
   "cell_type": "markdown",
   "metadata": {},
   "source": [
    "Local potential for using HGH pseudopotential"
   ]
  },
  {
   "cell_type": "markdown",
   "metadata": {},
   "source": [
    "\n",
    "\n",
    "$$\n",
    "V_{\\mathrm{loc}}(\\mathbf{r}) = \n",
    "-\\dfrac{Z_{\\mathrm{ion}}}{r}\n",
    "\\mathrm{erf}\\left(\n",
    "\\dfrac{r}{\\sqrt{2}r_{\\mathrm{loc}}}\n",
    "\\right)\n",
    "+ \\exp\n",
    "\\left[ -\\frac{1}{2}\n",
    "\\left( \\frac{r}{r_{\\mathrm{loc}}}\\right)^2\n",
    "\\right]\n",
    "\\times\n",
    "\\left[\n",
    "C_{1} +\n",
    "C_{2}\\left( \\frac{r}{r_{\\mathrm{loc}}}\\right)^2 +\n",
    "C_{3}\\left( \\frac{r}{r_{\\mathrm{loc}}}\\right)^4 +\n",
    "C_{4}\\left( \\frac{r}{r_{\\mathrm{loc}}}\\right)^6\n",
    "\\right]\n",
    "$$"
   ]
  },
  {
   "cell_type": "markdown",
   "metadata": {},
   "source": [
    "$r_{\\mathrm{loc}}$, $C_{1}$, $C_{2}$, $C_{3}$, and $C_{4}$ are parameters."
   ]
  },
  {
   "cell_type": "markdown",
   "metadata": {},
   "source": [
    "## Nonlocal pseudopotential"
   ]
  },
  {
   "cell_type": "markdown",
   "metadata": {},
   "source": [
    "Nonlocal contribution $V_{l}(\\mathbf{r},\\mathbf{r}')$ is given by sum of separable terms:"
   ]
  },
  {
   "cell_type": "markdown",
   "metadata": {},
   "source": [
    "$$\n",
    "V_{l}(\\mathbf{r},\\mathbf{r}') =\n",
    "\\sum_{i=1}^{3} \\sum_{j=1}^{3} \\sum_{m=-l}^{l}\n",
    "\\beta_{ilm}(\\mathbf{r})\\,h^{l}_{ij}\\,\\beta^{*}_{jlm}(\\mathbf{r}')\n",
    "$$"
   ]
  },
  {
   "cell_type": "markdown",
   "metadata": {},
   "source": [
    "where the atomic centered functions $\\beta_{ilm}(\\mathbf{r})$ is given by multiplication between a radial projector and spherical harmonics"
   ]
  },
  {
   "cell_type": "markdown",
   "metadata": {},
   "source": [
    "$$\n",
    "\\beta_{ilm}(\\mathbf{r}) = \n",
    "p^{l}_{i}(r) Y_{lm}(\\hat{\\mathbf{r}})\n",
    "$$"
   ]
  },
  {
   "cell_type": "markdown",
   "metadata": {},
   "source": [
    "In real space the projector is given by the following expression"
   ]
  },
  {
   "cell_type": "markdown",
   "metadata": {},
   "source": [
    "$$\n",
    "p_{i}^{l}(r) = \\frac{\\sqrt{2} r^{l+2(i-1)}\n",
    "\\exp\\left( -\\dfrac{r^2}{2r_{l}^2} \\right) }\n",
    "{r_{l}^{l+(4i-1)/2}\n",
    "\\sqrt{\\Gamma\\left(l + \\dfrac{4i-1}{2}\\right)}\n",
    "}\n",
    "$$"
   ]
  },
  {
   "cell_type": "markdown",
   "metadata": {},
   "source": [
    "where $\\Gamma(x)$ denotes the gamma function and $r_l$ is a parameter, given for each angular momentum $l$."
   ]
  },
  {
   "cell_type": "markdown",
   "metadata": {},
   "source": [
    "Normalization for projector:"
   ]
  },
  {
   "cell_type": "markdown",
   "metadata": {},
   "source": [
    "$$\n",
    "\\int_{0}^{\\infty} p_{i}^{l}(r) p_{i}^{l}(r)\\, r^2\\,\\mathrm{d}r = 1\n",
    "$$"
   ]
  },
  {
   "cell_type": "markdown",
   "metadata": {},
   "source": []
  },
  {
   "cell_type": "markdown",
   "metadata": {},
   "source": []
  },
  {
   "cell_type": "markdown",
   "metadata": {},
   "source": []
  },
  {
   "cell_type": "markdown",
   "metadata": {},
   "source": []
  },
  {
   "cell_type": "markdown",
   "metadata": {},
   "source": []
  },
  {
   "cell_type": "markdown",
   "metadata": {},
   "source": []
  },
  {
   "cell_type": "markdown",
   "metadata": {},
   "source": []
  },
  {
   "cell_type": "markdown",
   "metadata": {},
   "source": []
  },
  {
   "cell_type": "markdown",
   "metadata": {},
   "source": []
  },
  {
   "cell_type": "markdown",
   "metadata": {},
   "source": []
  }
 ],
 "metadata": {
  "kernelspec": {
   "display_name": "Python 3",
   "language": "python",
   "name": "python3"
  },
  "language_info": {
   "codemirror_mode": {
    "name": "ipython",
    "version": 3
   },
   "file_extension": ".py",
   "mimetype": "text/x-python",
   "name": "python",
   "nbconvert_exporter": "python",
   "pygments_lexer": "ipython3",
   "version": "3.6.1"
  }
 },
 "nbformat": 4,
 "nbformat_minor": 2
}
