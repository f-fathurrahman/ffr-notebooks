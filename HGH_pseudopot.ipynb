{
 "cells": [
  {
   "cell_type": "markdown",
   "metadata": {},
   "source": [
    "References:\n",
    "- C.Hartwigsen, S. Goedecker, and J. Hutter.\n",
    "  *Relativistic separable dual-space Gaussian pseudopotentials from H to Rn*. Phys. Rev. B. **58** 3641 (1998)\n",
    "  "
   ]
  },
  {
   "cell_type": "markdown",
   "metadata": {},
   "source": [
    "Local potential for using HGH pseudopotential"
   ]
  },
  {
   "cell_type": "markdown",
   "metadata": {},
   "source": [
    "\n",
    "\n",
    "\\begin{equation}\n",
    "V_{\\mathrm{loc}}(\\mathbf{r}) = \n",
    "-\\frac{Z_{\\mathrm{ion}}}{r} \\mathrm{erf}\n",
    "+ \\exp\n",
    "\\left[ -\\frac{1}{2}\n",
    "\\left( \\frac{r}{r_{\\mathrm{loc}}}\\right)^2\n",
    "\\right]\n",
    "\\times\n",
    "\\left[\n",
    "C_{1} +\n",
    "C_{2}\\left( \\frac{r}{r_{\\mathrm{loc}}}\\right)^2 +\n",
    "C_{3}\\left( \\frac{r}{r_{\\mathrm{loc}}}\\right)^4 +\n",
    "C_{4}\\left( \\frac{r}{r_{\\mathrm{loc}}}\\right)^6\n",
    "\\right]\n",
    "\\end{equation}"
   ]
  },
  {
   "cell_type": "markdown",
   "metadata": {},
   "source": [
    "Projector in real space"
   ]
  },
  {
   "cell_type": "markdown",
   "metadata": {},
   "source": [
    "$$\n",
    "p_{i}^{l}(r) = \\frac{\\sqrt{2} r^{l+2(i-1)}\n",
    "\\exp\\left( -\\dfrac{r^2}{2r_{l}^2} \\right) }\n",
    "{r_{l}^{l+(4i-1)/2}\n",
    "\\sqrt{\\Gamma\\left(l + \\dfrac{4i-1}{2}\\right)}\n",
    "}\n",
    "$$"
   ]
  },
  {
   "cell_type": "markdown",
   "metadata": {},
   "source": [
    "Normalization for projector:"
   ]
  },
  {
   "cell_type": "markdown",
   "metadata": {},
   "source": [
    "$$\n",
    "\\int_{0}^{\\infty} p_{i}^{l}(r) p_{i}^{l}(r)\\, r^2\\,\\mathrm{d}r = 1\n",
    "$$"
   ]
  },
  {
   "cell_type": "markdown",
   "metadata": {},
   "source": []
  },
  {
   "cell_type": "markdown",
   "metadata": {},
   "source": []
  },
  {
   "cell_type": "markdown",
   "metadata": {},
   "source": []
  },
  {
   "cell_type": "markdown",
   "metadata": {},
   "source": []
  },
  {
   "cell_type": "markdown",
   "metadata": {},
   "source": []
  },
  {
   "cell_type": "markdown",
   "metadata": {},
   "source": []
  },
  {
   "cell_type": "markdown",
   "metadata": {},
   "source": []
  },
  {
   "cell_type": "markdown",
   "metadata": {},
   "source": []
  },
  {
   "cell_type": "markdown",
   "metadata": {},
   "source": []
  },
  {
   "cell_type": "markdown",
   "metadata": {},
   "source": []
  }
 ],
 "metadata": {
  "kernelspec": {
   "display_name": "Python 3",
   "language": "python",
   "name": "python3"
  },
  "language_info": {
   "codemirror_mode": {
    "name": "ipython",
    "version": 3
   },
   "file_extension": ".py",
   "mimetype": "text/x-python",
   "name": "python",
   "nbconvert_exporter": "python",
   "pygments_lexer": "ipython3",
   "version": "3.6.1"
  }
 },
 "nbformat": 4,
 "nbformat_minor": 2
}
