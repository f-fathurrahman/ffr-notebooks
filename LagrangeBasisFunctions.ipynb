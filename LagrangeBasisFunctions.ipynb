{
 "cells": [
  {
   "cell_type": "markdown",
   "metadata": {},
   "source": [
    "# Periodic Lagrange Basis Functions"
   ]
  },
  {
   "cell_type": "markdown",
   "metadata": {},
   "source": [
    "Periodic DVR:"
   ]
  },
  {
   "cell_type": "markdown",
   "metadata": {},
   "source": [
    "$$\n",
    "L_{\\alpha}(x) =\n",
    "\\sqrt{\\dfrac{1}{NL}}\n",
    "\\sum_{n=1}^{N}\n",
    "\\cos\n",
    "\\left[\n",
    "k_{\\alpha}(x-x_{n})\n",
    "\\right]\n",
    "$$"
   ]
  },
  {
   "cell_type": "markdown",
   "metadata": {},
   "source": [
    "with:\n",
    "$k_{\\alpha} = 2\\pi(\\alpha-N'-1)$\n",
    "and\n",
    "$N' = (N-1)/2$\n",
    "and\n",
    "$\\alpha = 1,\\ldots,N$"
   ]
  },
  {
   "cell_type": "markdown",
   "metadata": {},
   "source": []
  },
  {
   "cell_type": "markdown",
   "metadata": {},
   "source": [
    "# Ab initio molecular dynamics with discrete variable representation basis sets: techniques and application to liquid water"
   ]
  },
  {
   "cell_type": "markdown",
   "metadata": {},
   "source": [
    "Hee Seung Lee and Mark E. Tuckerman, *J. Phys. Chem. A* **110** 5549-5560 (2008)"
   ]
  },
  {
   "cell_type": "markdown",
   "metadata": {},
   "source": [
    "Specification of a set of functions $\\left\\{C_{l}(x)\\right\\}$ that satisfy an orthogonality relation with respect to an appropriate weight function $\\omega(x)$:"
   ]
  },
  {
   "cell_type": "markdown",
   "metadata": {},
   "source": [
    "$$\n",
    "\\begin{equation}\n",
    "\\int_{a}^{b}\\omega(x)C_{l}^{*}(x)C_{m}(x)\\,\\mathrm{d}x\n",
    "= \\delta_{lm}\n",
    "\\end{equation}\n",
    "$$"
   ]
  },
  {
   "cell_type": "markdown",
   "metadata": {},
   "source": [
    "If we define our basis functions (often referred to as FBR: finite basis representation} as\n",
    "$$\n",
    "\\begin{equation}\n",
    "\\phi_{l}(x) = \\sqrt{\\omega(x)}C_{l}(x)\n",
    "\\end{equation}\n",
    "$$\n",
    "the overlap integral can be evaluated exactly with $N$-point Gaussian quadrature for $0 \\leq l$, $m \\leq N-1$:"
   ]
  },
  {
   "cell_type": "markdown",
   "metadata": {},
   "source": [
    "$$\n",
    "\\begin{align}\n",
    "\\int_{a}^{b} \\phi_{l}^{*}(x)\\phi_{m}(x)\\,\\mathrm{d}x\n",
    "& = \\sum_{\\alpha=1}^{N}\n",
    "\\dfrac{\\omega_{\\alpha}}{\\omega(x_{\\alpha})}\n",
    "\\phi_{l}^{*}(x_{\\alpha})\\phi_{m}(x_{\\alpha})\n",
    "\\\\\n",
    "& = \\sum_{\\alpha=1}^{N}\\omega_{\\alpha}\n",
    "C_{l}^{*}(x_{\\alpha}) C_{m}(x_{\\alpha})\n",
    "\\\\\n",
    "& = \\delta_{lm}\n",
    "\\end{align}\n",
    "$$"
   ]
  },
  {
   "cell_type": "markdown",
   "metadata": {},
   "source": [
    "where $\\{x_{\\alpha}\\}$ is a set of Gaussian quadrature points and $\\{\\omega_{\\alpha}\\}$ are the corresponding quadrature weight."
   ]
  },
  {
   "cell_type": "markdown",
   "metadata": {},
   "source": [
    "Note that $\\omega(x_{\\alpha})$ is different from $\\omega_{\\alpha}$."
   ]
  },
  {
   "cell_type": "markdown",
   "metadata": {},
   "source": [
    "Because $N$-point Gaussian quadrature is exact for integrands up to order $2N-1$, the coordinate matrix for basis function $\\{\\phi_{l}(x)\\}$ can be evaluated exactly with the same quadrature:"
   ]
  },
  {
   "cell_type": "markdown",
   "metadata": {},
   "source": [
    "$$\n",
    "\\begin{align}\n",
    "\\mathbf{X}_{lm}\n",
    "& = \\int_{a}^{b} \\phi_{l}^{*}(x)\\, x \\, \\phi_{m}(x)\\,\\mathrm{d}x\n",
    "\\\\\n",
    "& = \\sum_{\\alpha=1}^{N}\n",
    "\\dfrac{\\omega_{\\alpha}}{\\omega(x_{\\alpha})}\n",
    "\\phi_{l}^{*}(x)\\, x \\, \\phi_{m}(x)\n",
    "\\end{align}\n",
    "$$"
   ]
  },
  {
   "cell_type": "markdown",
   "metadata": {},
   "source": [
    "From the last equation, the elements of the \"transformation matrix\" is defined as"
   ]
  },
  {
   "cell_type": "markdown",
   "metadata": {},
   "source": [
    "$$\n",
    "\\begin{equation}\n",
    "\\mathbf{T}_{\\alpha l} =\n",
    "\\sqrt{\\frac{\\omega_{\\alpha}}{\\omega(x_{\\alpha})}}\n",
    "\\phi_{l}(x_{\\alpha})\n",
    "\\end{equation}\n",
    "$$"
   ]
  },
  {
   "cell_type": "markdown",
   "metadata": {},
   "source": [
    "and the coordinate matrix in a DVR is formally defined through the transformation matrix as:\n",
    "$$\n",
    "\\begin{equation}\n",
    "\\mathbf{X} = \\mathbf{T}^{\\dagger}\\mathbf{X}^{\\mathrm{DVR}}\n",
    "\\mathbf{T}\n",
    "\\end{equation}\n",
    "$$"
   ]
  },
  {
   "cell_type": "markdown",
   "metadata": {},
   "source": [
    "where $\\mathbf{X}^{\\mathrm{DVR}}$ is a diagonal matrix whose elements are the \"DVR points\" $\\{x_{\\alpha}\\}$"
   ]
  },
  {
   "cell_type": "markdown",
   "metadata": {},
   "source": [
    "Note that the matrix $\\mathbf{T}$ is unitary due to orthogonality of basis function."
   ]
  },
  {
   "cell_type": "markdown",
   "metadata": {},
   "source": [
    "DVR basis function $\\{u_{\\alpha}(x)\\}$ corresponding to the DVR points $\\{x_{\\alpha}\\}$\n",
    "can be obtained using the transformation matrix:\n",
    "$$\n",
    "\\begin{equation}\n",
    "u_{\\alpha}(x) = \\sum_{l=1}^{N}\n",
    "\\mathbf{T}^{\\dagger}_{l\\alpha}\n",
    "\\phi_{l}(x)\n",
    "\\end{equation}\n",
    "$$\n"
   ]
  },
  {
   "cell_type": "markdown",
   "metadata": {},
   "source": [
    "DVR functions are continuous and defined everywhere in space. One of the most important properties of a DVR functions is that the values of $u_{\\alpha}(x)$ are zero at all DVR points except $x_{\\alpha}$:\n",
    "$$\n",
    "\\begin{align}\n",
    "u_{\\alpha}(x_{\\beta}) & = \n",
    "\\sum_{l=1}^{N}\n",
    "\\mathbf{T}^{\\dagger}_{l\\alpha}\\phi_{l}(x_{\\beta})\n",
    "\\\\\n",
    "& = \\sqrt{\\frac{\\omega(x_{\\beta})}{\\omega_{\\beta}}}\n",
    "\\delta_{\\alpha\\beta}\n",
    "\\end{align}\n",
    "$$"
   ]
  },
  {
   "cell_type": "markdown",
   "metadata": {},
   "source": [
    "1D FBR functions $\\{\\phi_{l}(x)\\}$ can be defined in $[-L/2,L/2]$ as\n",
    "\n",
    "$$\n",
    "\\begin{equation}\n",
    "\\phi_{l}(x) = \\frac{1}{\\sqrt{L}}\\exp\\left[\n",
    "\\frac{2\\pi\\imath k_{l} x}{L}\n",
    "\\right]\n",
    "\\end{equation}\n",
    "$$\n",
    "\n",
    "$L$ is the box length and number of basis functions is $2N+1$.\n",
    "\n",
    "$l = 1,2,\\ldots,2N+1$\n",
    "\n",
    "$k_l = -N, -N+1, \\ldots, N$\n",
    "\n",
    "The DVR points are given by:\n",
    "\n",
    "$$\n",
    "\\begin{equation}\n",
    "x_{\\alpha} = \\frac{L}{2N+1}(\\alpha - N - 1)\n",
    "\\end{equation}\n",
    "$$\n",
    "\n",
    "$\\alpha = 1,2,\\ldots,2N+1$\n"
   ]
  },
  {
   "cell_type": "markdown",
   "metadata": {},
   "source": [
    "Transformation matrix:\n",
    "$$\n",
    "\\begin{equation}\n",
    "\\mathbf{T}_{\\alpha l} = \\frac{1}{\\sqrt{2N+1}}\n",
    "\\exp\\left[\n",
    "\\frac{2\\pi\\imath k_{l} x_{\\alpha}}{L}\n",
    "\\right]\n",
    "\\end{equation}\n",
    "$$"
   ]
  },
  {
   "cell_type": "code",
   "execution_count": null,
   "metadata": {
    "collapsed": true
   },
   "outputs": [],
   "source": []
  },
  {
   "cell_type": "code",
   "execution_count": null,
   "metadata": {
    "collapsed": true
   },
   "outputs": [],
   "source": []
  },
  {
   "cell_type": "code",
   "execution_count": null,
   "metadata": {
    "collapsed": true
   },
   "outputs": [],
   "source": []
  }
 ],
 "metadata": {
  "kernelspec": {
   "display_name": "Julia 0.6.0",
   "language": "julia",
   "name": "julia-0.6"
  },
  "language_info": {
   "file_extension": ".jl",
   "mimetype": "application/julia",
   "name": "julia",
   "version": "0.6.0"
  }
 },
 "nbformat": 4,
 "nbformat_minor": 2
}
