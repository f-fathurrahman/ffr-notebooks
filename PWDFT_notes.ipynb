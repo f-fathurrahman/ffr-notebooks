{
 "cells": [
  {
   "cell_type": "code",
   "execution_count": 2,
   "metadata": {},
   "outputs": [],
   "source": [
    "using LinearAlgebra\n",
    "using Printf\n",
    "using Random"
   ]
  },
  {
   "cell_type": "markdown",
   "metadata": {},
   "source": [
    "## Periodic cell"
   ]
  },
  {
   "cell_type": "markdown",
   "metadata": {},
   "source": [
    "Unit cell is described by three lattice vectors:\n",
    "$$\n",
    "\\mathbf{a}_1, \\mathbf{a}_2, \\mathbf{a}_3\n",
    "$$\n",
    "which are arranged into $3\\times3$ matrix $\\mathbf{h}$, with first column of $\\mathbf{h}$\n",
    "is $\\mathbf{a}_1$, the second column is $\\mathbf{a}_2$, and the third column is $\\mathbf{a}_3$.\n",
    "\n",
    "The volume of the unit cell can be obtained as the determinant of $\\mathbf{h}$\n",
    "$$\n",
    "\\begin{equation}\n",
    "\\Omega = \\mathrm{det}\\,\\mathbf{h}\n",
    "\\end{equation}\n",
    "$$"
   ]
  },
  {
   "cell_type": "code",
   "execution_count": 1,
   "metadata": {},
   "outputs": [
    {
     "data": {
      "text/plain": [
       "3×3 Array{Float64,2}:\n",
       " 1.0  0.0  0.0\n",
       " 0.0  1.0  0.5\n",
       " 0.0  0.0  0.5"
      ]
     },
     "execution_count": 1,
     "metadata": {},
     "output_type": "execute_result"
    }
   ],
   "source": [
    "a1 = [1.0, 0.0, 0.0];\n",
    "a2 = [0.0, 1.0, 0.0];\n",
    "a3 = [0.0, 0.5, 0.5];\n",
    "h = hcat(a1,a2,a3)"
   ]
  },
  {
   "cell_type": "code",
   "execution_count": 4,
   "metadata": {},
   "outputs": [
    {
     "data": {
      "text/plain": [
       "0.5"
      ]
     },
     "execution_count": 4,
     "metadata": {},
     "output_type": "execute_result"
    }
   ],
   "source": [
    "Ω = det(h)"
   ]
  },
  {
   "cell_type": "markdown",
   "metadata": {},
   "source": [
    "Reciprocal lattice vectors $\\mathbf{b}_{i}$ are defined as\n",
    "$$\n",
    "\\begin{equation}\n",
    "\\mathbf{a}_{i}\\cdot\\mathbf{a}_{j} = 2\\pi\\delta_{ij}\n",
    "\\end{equation}\n",
    "$$\n",
    "with $i,j = 1,2,3$. They also can be arranged into $3\\times3$ matrix\n",
    "$$\n",
    "\\begin{equation}\n",
    "\\left[\n",
    "\\mathbf{b}_1, \\mathbf{b}_2, \\mathbf{b}_3\n",
    "\\right] = 2\\pi\\left(\\mathbf{h}^{T}\\right)^{-1}\n",
    "\\end{equation}\n",
    "$$"
   ]
  },
  {
   "cell_type": "markdown",
   "metadata": {},
   "source": [
    "A plane wave basis function is defined as\n",
    "$$\n",
    "\\begin{equation}\n",
    "f^{\\mathrm{PW}}_{\\mathbf{G}}(\\mathbf{r}) =\n",
    "\\frac{1}{\\sqrt{\\Omega}}\n",
    "\\exp\\left[\\mathrm{i}\\mathbf{G}\\cdot\\mathbf{r}\\right]\n",
    "\\end{equation}\n",
    "$$\n",
    "where $\\mathbf{G}$ is a reciprocal space vector:\n",
    "$$\n",
    "\\begin{equation}\n",
    "\\mathbf{G} = i\\mathbf{b}_{1} + j\\mathbf{b}_{2} + k\\mathbf{b}_{3}\n",
    "\\end{equation}\n",
    "$$\n",
    "and $i,j,k$ is a triple of integer values."
   ]
  },
  {
   "cell_type": "markdown",
   "metadata": {},
   "source": [
    "The $i$-th Kohn-Sham orbital for a periodic system can be written in the following Bloch form:\n",
    "$$\n",
    "\\begin{equation}\n",
    "\\phi_{i,\\mathbf{k}}(\\mathbf{r}) = \\exp\\left[\\mathrm{i}\\mathbf{k}\\cdot\\mathbf{r}\\right]\n",
    "u_{i,\\mathbf{k}}(\\mathbf{r})\n",
    "\\end{equation}\n",
    "$$\n",
    "where $\\mathbf{k}$ is the quantum number associated with the crystal momentum and is restricted to first Brillouin zone. The function $u_{i,\\mathbf{}k}(\\mathbf{r})$ has the same\n",
    "periodicity with the direct lattice and can be expanded in the plane wave basis set as\n",
    "$$\n",
    "\\begin{equation}\n",
    "u_{i,\\mathbf{k}}(\\mathbf{r}) = \\frac{1}{\\sqrt{\\Omega}}\n",
    "\\sum_{\\mathbf{G}} c_{i,\\mathbf{k}}\n",
    "\\exp\\left[\\mathrm{i}\\mathbf{G}\\cdot\\mathbf{r}\\right]\n",
    "\\end{equation}\n",
    "$$\n",
    "so that the Kohn-Sham orbital can be written as:\n",
    "$$\n",
    "\\begin{equation}\n",
    "\\phi_{i,\\mathbf{k}}(\\mathbf{r}) = \\frac{1}{\\sqrt{\\Omega}}\n",
    "\\sum_{\\mathbf{G}} c_{i,\\mathbf{k}}\n",
    "\\exp\\left[\\mathrm{i}(\\mathbf{G}+\\mathbf{k})\\cdot\\mathbf{r}\\right]\n",
    "\\end{equation}\n",
    "$$"
   ]
  },
  {
   "cell_type": "markdown",
   "metadata": {},
   "source": [
    "Charge density:\n",
    "$$\n",
    "\\begin{equation}\n",
    "\\rho(\\mathbf{r}) = \\sum_{\\mathbf{k}}w_{k}\n",
    "\\sum_{i}f_{i}\n",
    "\\phi^{*}_{i,\\mathbf{k}}(\\mathbf{r})\n",
    "\\phi_{i,\\mathbf{k}}(\\mathbf{r})\n",
    "\\end{equation}\n",
    "$$"
   ]
  },
  {
   "cell_type": "markdown",
   "metadata": {},
   "source": [
    "Cutoff energy for Kohn-Sham orbitals expansion:\n",
    "$$\n",
    "\\begin{equation}\n",
    "\\frac{1}{2}\\left|\\mathbf{G} + \\mathbf{k}\\right|^2 \\leq E_{\\mathrm{cut}}\n",
    "\\end{equation}\n",
    "$$"
   ]
  },
  {
   "cell_type": "markdown",
   "metadata": {},
   "source": [
    "An antom centered function\n",
    "$$\n",
    "\\begin{equation}\n",
    "\\varphi_{I}(\\mathbf{r}) = \\varphi\\left(\\left|r-\\mathbf{R}_{I}\\right|\\right)\n",
    "Y_{lm}\\left(\\theta_{\\mathbf{R}_{I}},\\phi_{\\mathbf{R}_{I}}\\right)\n",
    "\\end{equation}\n",
    "$$\n",
    "can be expanded in plane waves\n",
    "$$\n",
    "\\begin{equation}\n",
    "\\varphi_{I}(\\mathbf{r}) = \\sum_{\\mathbf{G}}\n",
    "\\varphi(G)\\exp\\left[\\mathrm{i}\\mathbf{G}\\cdot\\mathbf{r}\\right]\n",
    "\\exp\\left[-\\mathrm{i}\\mathbf{G}\\cdot\\mathbf{R}_{I}\\right]\n",
    "Y_{lm}\\left(\\theta_{\\mathbf{G}},\\phi_{\\mathbf{G}}\\right)\n",
    "\\end{equation}\n",
    "$$\n",
    "The quantity\n",
    "$$\n",
    "\\begin{equation}\n",
    "S_{I}(\\mathbf{G}) = \\exp\\left[-\\mathrm{i}\\mathbf{G}\\cdot\\mathbf{R}_{I}\\right]\n",
    "\\end{equation}\n",
    "$$\n",
    "is also known as the structure factor."
   ]
  },
  {
   "cell_type": "markdown",
   "metadata": {},
   "source": [
    "The function $\\varphi(G)$ are calculated from Bessel transform of radial part $\\varphi(r)$\n",
    "$$\n",
    "\\begin{equation}\n",
    "\\varphi(G) = 4\\pi\\,\\mathrm{i}^{l}\n",
    "\\int_{0}^{\\infty}\n",
    "r^2 \\varphi(r) j_{l}(Gr)\\,\\mathrm{d}r\n",
    "\\end{equation}\n",
    "$$\n",
    "For local potential\n",
    "$$\n",
    "\\begin{equation}\n",
    "V_{\\mathrm{loc}}(\\mathbf{G}) = \\frac{4\\pi}{\\Omega}\n",
    "\\end{equation}\n",
    "$$\n",
    "\n",
    "For $l$-dependent projector:\n",
    "$$\n",
    "\\begin{equation}\n",
    "P_{l}(\\mathbf{G}) = \\frac{4\\pi}{\\sqrt{\\Omega}}\n",
    "\\mathrm{i}^{l}\n",
    "\\int_{0}^{\\infty}\n",
    "r^2 \\, P_{l}(r) \\, j_{l} \\, Y_{lm}\\left(\\theta_{\\mathbf{G}},\\phi_{\\mathbf{G}}\\right)\n",
    "\\end{equation}\n",
    "$$"
   ]
  },
  {
   "cell_type": "code",
   "execution_count": null,
   "metadata": {},
   "outputs": [],
   "source": []
  },
  {
   "cell_type": "code",
   "execution_count": null,
   "metadata": {},
   "outputs": [],
   "source": []
  },
  {
   "cell_type": "code",
   "execution_count": null,
   "metadata": {},
   "outputs": [],
   "source": []
  }
 ],
 "metadata": {
  "kernelspec": {
   "display_name": "Julia 1.0.0",
   "language": "julia",
   "name": "julia-1.0"
  },
  "language_info": {
   "file_extension": ".jl",
   "mimetype": "application/julia",
   "name": "julia",
   "version": "1.0.1"
  }
 },
 "nbformat": 4,
 "nbformat_minor": 2
}
